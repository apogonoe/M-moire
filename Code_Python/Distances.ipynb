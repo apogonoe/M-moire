{
 "cells": [
  {
   "cell_type": "code",
   "execution_count": 1,
   "id": "4e7d1a04",
   "metadata": {},
   "outputs": [],
   "source": [
    "from scipy.spatial import distance\n",
    "import numpy as np\n",
    "import matplotlib.pyplot as plt\n",
    "import pandas as pd\n",
    "import distance\n",
    "from collections import Counter\n",
    "import math\n",
    "\n",
    "%matplotlib inline"
   ]
  },
  {
   "cell_type": "code",
   "execution_count": 3,
   "id": "29740510",
   "metadata": {},
   "outputs": [],
   "source": [
    "def cosine_sim(path1,path2):\n",
    "    \n",
    "    df = pd.read_csv(path1)\n",
    "    df = df.drop('Unnamed: 0', axis=1)\n",
    "    df2 = pd.read_csv(path2)\n",
    "    df2 = df2.drop('Unnamed: 0', axis=1)\n",
    "    \n",
    "    for i in range(len(df2)):\n",
    "        df2['Occurrences'][i] = df2['Occurrences'][i]/df2['Occurrences'].sum()\n",
    "    for i in range(len(df)):\n",
    "        df['Occurrences'][i] = df['Occurrences'][i]/df['Occurrences'].sum()\n",
    "\n",
    "    num = 0\n",
    "    for i in range(len(df)):\n",
    "        for j in range(len(df2)):\n",
    "            if df['lemma'][i] == df2['lemma'][j]:\n",
    "                num = num + (df['Occurrences'][i]*df2['Occurrences'][j])\n",
    "                \n",
    "    df2['carré'] = df2['Occurrences']**2\n",
    "    df['carré'] = df['Occurrences'] **2\n",
    "    denom = (math.sqrt(df2['carré'].sum())) * (math.sqrt(df['carré'].sum()))\n",
    "    final = num/denom\n",
    "    \n",
    "    return(final)"
   ]
  },
  {
   "cell_type": "code",
   "execution_count": 2,
   "id": "b23fecef",
   "metadata": {},
   "outputs": [],
   "source": [
    "def Dice_indice(path1,path2):\n",
    "    \n",
    "    df = pd.read_csv(path1)\n",
    "    df = df.drop('Unnamed: 0', axis=1)\n",
    "    df2 = pd.read_csv(path2)\n",
    "    df2 = df2.drop('Unnamed: 0', axis=1)\n",
    "    \n",
    "    liste = []\n",
    "    for i in range(len(df)):\n",
    "        for j in range(len(df2)):\n",
    "            if df['lemma'][i] == df2['lemma'][j]:\n",
    "                liste.append(df['lemma'][i])\n",
    "    \n",
    "    num = 2 * len(liste)\n",
    "    denum = len(df) + len(df2)\n",
    "    \n",
    "    result = num/denum\n",
    "    \n",
    "    return(result)"
   ]
  },
  {
   "cell_type": "code",
   "execution_count": 5,
   "id": "6d174dfe",
   "metadata": {},
   "outputs": [],
   "source": [
    "def csv_tojaccard(path1,path2):\n",
    "    \n",
    "    df = pd.read_csv(path1, sep=\",\", header = 0)\n",
    "    #df.columns = ['lemme','occurrence','apparitions_totales','2','3','4']\n",
    "    df['lemma']\n",
    "    liste1 = list(df[\"lemma\"])\n",
    "    \n",
    "    df2 = pd.read_csv(path2, sep=\",\", header = 0)\n",
    "    #df2.columns = ['index','lemme','occurrence']\n",
    "    df2['lemma']\n",
    "    liste2 = list(df2[\"lemma\"])\n",
    "    \n",
    "    jaccard = distance.jaccard(liste1,liste2)\n",
    "    \n",
    "    return 1 - jaccard"
   ]
  },
  {
   "cell_type": "code",
   "execution_count": 7,
   "id": "ecb0cdbe",
   "metadata": {},
   "outputs": [],
   "source": [
    "def csv_todice(path1,path2):\n",
    "    \n",
    "    df = pd.read_csv(path1, sep=',', header = 0, encoding=\"UTF-8\")\n",
    "    df2 = pd.read_csv(path2, sep=',', header = 0, encoding=\"UTF-8\")\n",
    "\n",
    "    liste = df['lemma'].to_list()\n",
    "    liste2 = df2['lemma'].tolist()\n",
    "\n",
    "    x = 0\n",
    "    for i in liste:\n",
    "        for j in liste2:\n",
    "            if i == j:\n",
    "                x += 1\n",
    "\n",
    "    return(2*x/(len(liste)+len(liste2)))"
   ]
  },
  {
   "cell_type": "code",
   "execution_count": 27,
   "id": "e04efc89",
   "metadata": {},
   "outputs": [],
   "source": [
    "def pearson_sim(path1,path2):\n",
    "    \n",
    "    df = pd.read_csv(path1)\n",
    "    df = df.drop('Unnamed: 0', axis=1)\n",
    "    df2 = pd.read_csv(path2)\n",
    "    df2 = df2.drop('Unnamed: 0', axis=1)\n",
    "    \n",
    "    for i in range(len(df2)):\n",
    "        df2['Occurrences'][i] = df2['Occurrences'][i]/df2['Occurrences'].sum()\n",
    "    for i in range(len(df)):\n",
    "        df['Occurrences'][i] = df['Occurrences'][i]/df['Occurrences'].sum()   \n",
    "        \n",
    "    num = 0\n",
    "    for i in range(len(df)):\n",
    "        for j in range(len(df2)):\n",
    "            if df['lemma'][i] == df2['lemma'][j]:\n",
    "                num = num + ((df['Occurrences'][i] - df['Occurrences'].mean()) * (df2['Occurrences'][j] - df2['Occurrences'].mean()))\n",
    "                \n",
    "    df2['carré'] = (df2['Occurrences'] - df2['Occurrences'].mean()) ** 2\n",
    "    df['carré'] = (df['Occurrences'] - df['Occurrences'].mean()) **2\n",
    "    denom = (math.sqrt(df2['carré'].sum())) * (math.sqrt(df['carré'].sum()))\n",
    "    final = num/denom\n",
    "    \n",
    "    return(final)"
   ]
  },
  {
   "cell_type": "code",
   "execution_count": 33,
   "id": "1fafd487",
   "metadata": {},
   "outputs": [],
   "source": [
    "def indice_similarite(path1, path2):\n",
    "    \n",
    "    df = pd.read_csv(path1)\n",
    "    df = df.drop('Unnamed: 0', axis=1)\n",
    "    df = df[['lemma','Occurrences']]\n",
    "    df2 = pd.read_csv(path2)\n",
    "    df2 = df2.drop('Unnamed: 0', axis=1)\n",
    "    df2 = df2[['lemma','Occurrences']]\n",
    "    \n",
    "        \n",
    "    dic1 = dict(df.values)\n",
    "    dic1 = {k: v for k, v in dic1.items()}\n",
    "    dic2 = dict(df2.values)\n",
    "    dic2 = {k: v for k, v in dic2.items()}\n",
    "    \n",
    "    for mot in dic1: \n",
    "        if mot not in dic2:\n",
    "            dic2[mot] = 0\n",
    "    for mot in dic2:\n",
    "        if mot not in dic1:\n",
    "            dic1[mot] = 0\n",
    "    differences_occurences = 0\n",
    "    for mot in dic1:\n",
    "        differences_occurences += abs(dic1[mot] - dic2[mot])\n",
    "    min_somme = 0\n",
    "    max_somme = sum(list(dic1.values())) + sum(list(dic2.values()))\n",
    "    differences_occurences /= max_somme\n",
    "\n",
    "    \n",
    "    return 1 - differences_occurences"
   ]
  },
  {
   "cell_type": "code",
   "execution_count": 15,
   "id": "1793a02c",
   "metadata": {},
   "outputs": [],
   "source": [
    "def jaccard(path1,path2):\n",
    "    \n",
    "    df = pd.read_csv(path1)\n",
    "    df = df.drop('Unnamed: 0', axis=1)\n",
    "    df2 = pd.read_csv(path2)\n",
    "    df2 = df2.drop('Unnamed: 0', axis=1)\n",
    "    \n",
    "    for i in range(len(df2)):\n",
    "        df2['Occurrences'][i] = df2['Occurrences'][i]/df2['Occurrences'].sum()\n",
    "    for i in range(len(df)):\n",
    "        df['Occurrences'][i] = df['Occurrences'][i]/df['Occurrences'].sum()\n",
    "\n",
    "    num = 0\n",
    "    for i in range(len(df)):\n",
    "        for j in range(len(df2)):\n",
    "            if df['lemma'][i] == df2['lemma'][j]:\n",
    "                num = num + (df['Occurrences'][i]*df2['Occurrences'][j])\n",
    "                \n",
    "    df2['carré'] = df2['Occurrences']**2\n",
    "    df['carré'] = df['Occurrences'] **2\n",
    "    denom = (math.sqrt(df2['carré'].sum())) * (math.sqrt(df['carré'].sum()))\n",
    "    final = num/(denom - num)\n",
    "    \n",
    "    return(final)"
   ]
  },
  {
   "cell_type": "code",
   "execution_count": 39,
   "id": "30e07c02",
   "metadata": {
    "scrolled": false
   },
   "outputs": [
    {
     "data": {
      "image/png": "[encoded data removed]",
      "text/plain": [
       "<Figure size 1440x1080 with 1 Axes>"
      ]
     },
     "metadata": {
      "needs_background": "light"
     },
     "output_type": "display_data"
    }
   ],
   "source": [
    "liste_dates = [\"800 – 849\",\"850 – 899\",\"900 – 949\",\"950 – 999\",\"1000 – 1049\",\"1050 – 1099\",\"1100 – 1149\",\"1150 – 1199\",\"1200 – 1249\",\n",
    "               \"1250 – 1299\"]\n",
    "\n",
    "path = \"/home/noe/Documents/Master_2/Mémoire/SketchEngineExport/lemmes_servitude/f\"{lemme}\"\n",
    "\n",
    "samples = [\"Ancilla\",\"Mancipium\",\"Serua\",\"Molina\",\"Famulus\"]\n",
    "sample = \"Seruus\"\n",
    "\n",
    "grammar = [\"QLF\",\"SUB\",\"VBE\"]\n",
    "\n",
    "Mancipium = []\n",
    "Ancilla = []\n",
    "Serua = []\n",
    "Molina = []\n",
    "Famulus = []\n",
    "\n",
    "liste_QLF_Ancilla = []\n",
    "liste_SUB_Ancilla = []\n",
    "liste_VBE_Ancilla = []\n",
    "\n",
    "liste_QLF_Mancipium = []\n",
    "liste_SUB_Mancipium = []\n",
    "liste_VBE_Mancipium = []\n",
    "\n",
    "liste_QLF_Serua = []\n",
    "liste_SUB_Serua = []\n",
    "liste_VBE_Serua = []\n",
    "\n",
    "liste_QLF_Molina = []\n",
    "liste_SUB_Molina = []\n",
    "liste_VBE_Molina = []\n",
    "\n",
    "liste_QLF_Famulus = []\n",
    "liste_SUB_Famulus = []\n",
    "liste_VBE_Famulus = []\n",
    "\n",
    "liste = []\n",
    "\n",
    "files = [\"800-849\",\"850-899\",\"900-949\",\"950-999\",\"1000-1049\",\"1050-1099\",\"1100-1149\",\"1150-1199\",\"1200-1249\",\"1250-1299\"]\n",
    "\n",
    "for sample_ij in samples:\n",
    "    for gram in grammar:\n",
    "        for file in files:\n",
    "            path_ij = path + sample_ij + \"/Cooccurrences/\" + gram + \"/\" + file + \".csv\"\n",
    "            path_seruus = path + sample + \"/Cooccurrences/\" + gram + \"/\" + file + \".csv\"\n",
    "            liste.append(Dice_indice(path_seruus,path_ij))\n",
    "            \n",
    "Ancilla.extend(liste[:30])\n",
    "del liste[:30]\n",
    "Mancipium.extend(liste[:30])\n",
    "del liste[:30]\n",
    "Serua.extend(liste[:30])\n",
    "del liste[:30]\n",
    "Molina.extend(liste[:30])\n",
    "del liste[:30]\n",
    "Famulus.extend(liste[:30])\n",
    "del liste[:30]\n",
    "\n",
    "liste_QLF_Ancilla.extend(Ancilla[:10])\n",
    "del Ancilla[:10]\n",
    "liste_SUB_Ancilla.extend(Ancilla[:10])\n",
    "del Ancilla[:10]\n",
    "liste_VBE_Ancilla.extend(Ancilla[:10])\n",
    "del Ancilla[:10]\n",
    "\n",
    "liste_QLF_Mancipium.extend(Mancipium[:10])\n",
    "del Mancipium[:10]\n",
    "liste_SUB_Mancipium.extend(Mancipium[:10])\n",
    "del Mancipium[:10]\n",
    "liste_VBE_Mancipium.extend(Mancipium[:10])\n",
    "del Mancipium[:10]\n",
    "\n",
    "liste_QLF_Serua.extend(Serua[:10])\n",
    "del Serua[:10]\n",
    "liste_SUB_Serua.extend(Serua[:10])\n",
    "del Serua[:10]\n",
    "liste_VBE_Serua.extend(Serua[:10])\n",
    "del Serua[:10]\n",
    "\n",
    "liste_QLF_Molina.extend(Molina[:10])\n",
    "del Molina[:10]\n",
    "liste_SUB_Molina.extend(Molina[:10])\n",
    "del Molina[:10]\n",
    "liste_VBE_Molina.extend(Molina[:10])\n",
    "del Molina[:10]\n",
    "\n",
    "liste_QLF_Famulus.extend(Famulus[:10])\n",
    "del Famulus[:10]\n",
    "liste_SUB_Famulus.extend(Famulus[:10])\n",
    "del Famulus[:10]\n",
    "liste_VBE_Famulus.extend(Famulus[:10])\n",
    "del Famulus[:10]\n",
    "\n",
    "\n",
    "w = 0.15\n",
    "c = '#b1f2a8'\n",
    "c2 = '#77db6a'\n",
    "c3 = '#3cb32d'\n",
    "c4 = \"#157209\"\n",
    "c5 = \"#073302\"\n",
    "\n",
    "plt.figure(figsize=(20,15))\n",
    "\n",
    "Ancilla_bar = np.arange(len(liste_dates), dtype=int)\n",
    "Mancipium_bar = [i + w for i in Ancilla_bar]\n",
    "Famulus_bar = [i + 2*w for i in Ancilla_bar]\n",
    "Serua_bar = [i + 3*w for i in Ancilla_bar]\n",
    "Molina_bar = [i + 4*w for i in Ancilla_bar]\n",
    "\n",
    "\n",
    "\n",
    "plt.bar(Ancilla_bar,liste_QLF_Ancilla, width=w, label=\"Ancilla\", color=c, edgecolor='black')\n",
    "plt.bar(Mancipium_bar, liste_QLF_Mancipium, width=w,label=\"Mancipium\", color = c2,edgecolor='black')\n",
    "plt.bar(Famulus_bar,liste_QLF_Famulus, width=w, label=\"Famulus\", color = c3,edgecolor='black')\n",
    "plt.bar(Serua_bar, liste_QLF_Serua, width=w, label=\"Serua\", color = c4,edgecolor='black')\n",
    "plt.bar(Molina_bar, liste_QLF_Molina, width=w, label=\"Molina\", color = c5,edgecolor='black')\n",
    "\n",
    "plt.yticks(fontsize=16)\n",
    "plt.xticks(fontsize=16)\n",
    "#plt.xticks(QLF_bar,liste_dates, ha = \"left\")\n",
    "\n",
    "QLF_bar_2 = [Qi+0.3 for Qi in Ancilla_bar]\n",
    "\n",
    "plt.xticks(QLF_bar_2,liste_dates, ha = \"center\")\n",
    "\n",
    "plt.title(\"Similarité cosinus avec seruus entre le 9e et le 13e siècle (QLF)\", fontsize=30)\n",
    "plt.legend(fontsize=16)\n",
    "plt.savefig('/home/noe/Documents/Master_2/Mémoire/SketchEngineExport/lemmes_servitude/Indices/Perso/Indice de similarité personnel avec seruus entre le 9e et le 13e siècle (SUB).png', dpi= 300)\n",
    "plt.show()"
   ]
  },
  {
   "cell_type": "code",
   "execution_count": 42,
   "id": "a439d324",
   "metadata": {},
   "outputs": [
    {
     "data": {
      "text/plain": [
       "1.0867397917204173"
      ]
     },
     "execution_count": 42,
     "metadata": {},
     "output_type": "execute_result"
    }
   ],
   "source": [
    "0.40227030862007807 + 0.026347235857512148 + 0.26718119968857484 + 0.36459381169674027 +0.026347235857512148"
   ]
  },
  {
   "cell_type": "code",
   "execution_count": 41,
   "id": "19694f4a",
   "metadata": {},
   "outputs": [
    {
     "data": {
      "text/plain": [
       "1.2807433477389618"
      ]
     },
     "execution_count": 41,
     "metadata": {},
     "output_type": "execute_result"
    }
   ],
   "source": [
    "0.18796992481203012 + 0.2608695652173913 + 0.267579825051285 + 0.36533650246598043 + 0.19898753019227505"
   ]
  },
  {
   "cell_type": "code",
   "execution_count": 40,
   "id": "690a2bb7",
   "metadata": {},
   "outputs": [
    {
     "data": {
      "text/plain": [
       "1.1092230125331153"
      ]
     },
     "execution_count": 40,
     "metadata": {},
     "output_type": "execute_result"
    }
   ],
   "source": [
    "0.10978956999085088 + 0.2838709677419355 + 0.2305234508574119 + 0.29958476462249495 + 0.1854542593204221"
   ]
  },
  {
   "cell_type": "code",
   "execution_count": 85,
   "id": "5d13f6e0",
   "metadata": {},
   "outputs": [],
   "source": [
    "Ancilla = [150,43.291603646057574,33.22069470714151,47.66540595854954,30.789663383555855,39.38760109301379]\n",
    "Mancipium = [43.291603646057574,150,23.680435907183963,41.627803662299065,32.26840906776946,32.602106641698654]\n",
    "Famulus = [33.22069470714151,23.680435907183963,150,29.22029704234456,25.181399137915196,36.19213281947696]\n",
    "Serua = [47.66540595854954,41.627803662299065,29.22029704234456,150,32.442336803480835,39.556390672636006]\n",
    "Molina = [30.789663383555855,32.26840906776946,25.18139913791519632,44.2336803480835,150,26.128376278023197]\n",
    "Seruus = [39.38760109301379,32.602106641698654,36.19213281947696,39.556390672636006,26.128376278023197,150]"
   ]
  },
  {
   "cell_type": "code",
   "execution_count": 86,
   "id": "45dc2190",
   "metadata": {},
   "outputs": [],
   "source": [
    "df = pd.DataFrame(Ancilla)\n",
    "df['Mancipium'] = Mancipium\n",
    "df['Famulus'] = Famulus\n",
    "df['Serua'] = Serua\n",
    "df['Molina'] = Molina\n",
    "df['Seruus'] = Seruus\n",
    "df.columns = [\"Ancilla\",\"Mancipium\",\"Famulus\",\"Serua\",\"Molina\",\"Seruus\"]"
   ]
  },
  {
   "cell_type": "code",
   "execution_count": 70,
   "id": "ad403417",
   "metadata": {},
   "outputs": [
    {
     "data": {
      "text/html": [
       "<div>\n",
       "<style scoped>\n",
       "    .dataframe tbody tr th:only-of-type {\n",
       "        vertical-align: middle;\n",
       "    }\n",
       "\n",
       "    .dataframe tbody tr th {\n",
       "        vertical-align: top;\n",
       "    }\n",
       "\n",
       "    .dataframe thead th {\n",
       "        text-align: right;\n",
       "    }\n",
       "</style>\n",
       "<table border=\"1\" class=\"dataframe\">\n",
       "  <thead>\n",
       "    <tr style=\"text-align: right;\">\n",
       "      <th></th>\n",
       "      <th>Ancilla</th>\n",
       "      <th>Mancipium</th>\n",
       "      <th>Famulus</th>\n",
       "      <th>Serua</th>\n",
       "      <th>Molina</th>\n",
       "      <th>Seruus</th>\n",
       "    </tr>\n",
       "  </thead>\n",
       "  <tbody>\n",
       "    <tr>\n",
       "      <th>0</th>\n",
       "      <td>150.000000</td>\n",
       "      <td>43.291604</td>\n",
       "      <td>33.220695</td>\n",
       "      <td>47.665406</td>\n",
       "      <td>3.078966e+01</td>\n",
       "      <td>26.128376</td>\n",
       "    </tr>\n",
       "    <tr>\n",
       "      <th>1</th>\n",
       "      <td>43.291604</td>\n",
       "      <td>150.000000</td>\n",
       "      <td>3.680436</td>\n",
       "      <td>41.627804</td>\n",
       "      <td>3.226841e+01</td>\n",
       "      <td>32.602107</td>\n",
       "    </tr>\n",
       "    <tr>\n",
       "      <th>2</th>\n",
       "      <td>33.220695</td>\n",
       "      <td>23.680436</td>\n",
       "      <td>150.000000</td>\n",
       "      <td>29.220297</td>\n",
       "      <td>2.518140e+01</td>\n",
       "      <td>36.192133</td>\n",
       "    </tr>\n",
       "    <tr>\n",
       "      <th>3</th>\n",
       "      <td>47.665406</td>\n",
       "      <td>41.627804</td>\n",
       "      <td>29.220297</td>\n",
       "      <td>150.000000</td>\n",
       "      <td>4.423368e+14</td>\n",
       "      <td>39.556391</td>\n",
       "    </tr>\n",
       "    <tr>\n",
       "      <th>4</th>\n",
       "      <td>30.789663</td>\n",
       "      <td>32.268409</td>\n",
       "      <td>25.181399</td>\n",
       "      <td>32.442337</td>\n",
       "      <td>1.500000e+02</td>\n",
       "      <td>26.128376</td>\n",
       "    </tr>\n",
       "    <tr>\n",
       "      <th>5</th>\n",
       "      <td>39.387601</td>\n",
       "      <td>32.602107</td>\n",
       "      <td>36.192133</td>\n",
       "      <td>39.556391</td>\n",
       "      <td>2.612838e+01</td>\n",
       "      <td>150.000000</td>\n",
       "    </tr>\n",
       "  </tbody>\n",
       "</table>\n",
       "</div>"
      ],
      "text/plain": [
       "      Ancilla   Mancipium     Famulus       Serua        Molina      Seruus\n",
       "0  150.000000   43.291604   33.220695   47.665406  3.078966e+01   26.128376\n",
       "1   43.291604  150.000000    3.680436   41.627804  3.226841e+01   32.602107\n",
       "2   33.220695   23.680436  150.000000   29.220297  2.518140e+01   36.192133\n",
       "3   47.665406   41.627804   29.220297  150.000000  4.423368e+14   39.556391\n",
       "4   30.789663   32.268409   25.181399   32.442337  1.500000e+02   26.128376\n",
       "5   39.387601   32.602107   36.192133   39.556391  2.612838e+01  150.000000"
      ]
     },
     "execution_count": 70,
     "metadata": {},
     "output_type": "execute_result"
    }
   ],
   "source": [
    "df"
   ]
  },
  {
   "cell_type": "code",
   "execution_count": 96,
   "id": "98b71103",
   "metadata": {},
   "outputs": [
    {
     "ename": "SyntaxError",
     "evalue": "keyword argument repeated: cmap (1512965456.py, line 13)",
     "output_type": "error",
     "traceback": [
      "\u001b[0;36m  Input \u001b[0;32mIn [96]\u001b[0;36m\u001b[0m\n\u001b[0;31m    ax = sns.heatmap(corr,mask=mask,vmin = 20, vmax = 50,annot=True,\u001b[0m\n\u001b[0m                                                                    \n^\u001b[0m\n\u001b[0;31mSyntaxError\u001b[0m\u001b[0;31m:\u001b[0m keyword argument repeated: cmap\n"
     ]
    },
    {
     "data": {
      "text/plain": [
       "<Figure size 720x576 with 0 Axes>"
      ]
     },
     "metadata": {},
     "output_type": "display_data"
    }
   ],
   "source": [
    "import numpy as np\n",
    "import seaborn as sns\n",
    "\n",
    "\n",
    "corr =  df.corr()\n",
    "mask = np.triu(np.ones_like(corr, dtype=bool))\n",
    "cmap = sns.diverging_palette(100, 7, s=75, l=40,\n",
    "                            n=5, center=\"light\", as_cmap=True)\n",
    "\n",
    "plt.figure(figsize=(10,8))\n",
    "\n",
    "y_axis_label = [\"Ancilla\",\"Mancipium\",\"Famulus\",\"Serua\",\"Molina\",\"Seruus\"]\n",
    "ax = sns.heatmap(corr,mask=mask,vmin = 20, vmax = 50,annot=True,\n",
    "                 cmap='Greens',yticklabels=y_axis_label,square=True,cmap = cmap)\n",
    "\n",
    "\n",
    "results_path = 'sim.png'\n",
    "plt.savefig(results_path, dpi=400)"
   ]
  },
  {
   "cell_type": "code",
   "execution_count": null,
   "id": "592d02af",
   "metadata": {},
   "outputs": [],
   "source": []
  },
  {
   "cell_type": "code",
   "execution_count": null,
   "id": "200e712f",
   "metadata": {},
   "outputs": [],
   "source": []
  },
  {
   "cell_type": "code",
   "execution_count": null,
   "id": "f477f09d",
   "metadata": {},
   "outputs": [],
   "source": []
  },
  {
   "cell_type": "code",
   "execution_count": null,
   "id": "19fe030f",
   "metadata": {},
   "outputs": [],
   "source": []
  },
  {
   "cell_type": "code",
   "execution_count": null,
   "id": "bede702d",
   "metadata": {},
   "outputs": [],
   "source": []
  },
  {
   "cell_type": "code",
   "execution_count": null,
   "id": "c0aa9945",
   "metadata": {},
   "outputs": [],
   "source": []
  }
 ],
 "metadata": {
  "kernelspec": {
   "display_name": "Python 3 (ipykernel)",
   "language": "python",
   "name": "python3"
  },
  "language_info": {
   "codemirror_mode": {
    "name": "ipython",
    "version": 3
   },
   "file_extension": ".py",
   "mimetype": "text/x-python",
   "name": "python",
   "nbconvert_exporter": "python",
   "pygments_lexer": "ipython3",
   "version": "3.9.7"
  }
 },
 "nbformat": 4,
 "nbformat_minor": 5
}
