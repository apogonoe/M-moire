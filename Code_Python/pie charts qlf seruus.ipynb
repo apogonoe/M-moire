{
 "cells": [
  {
   "cell_type": "code",
   "execution_count": 133,
   "id": "9be8609a",
   "metadata": {},
   "outputs": [],
   "source": [
    "import pandas as pd\n",
    "import numpy as np\n",
    "import math\n",
    "import distance\n",
    "import matplotlib.pyplot as plt\n",
    "import seaborn as sns\n",
    "import locale\n",
    "from collections import Counter\n",
    "%matplotlib inline"
   ]
  },
  {
   "cell_type": "code",
   "execution_count": 2,
   "id": "b6655770",
   "metadata": {},
   "outputs": [],
   "source": [
    "colnames = ['indice','pre','word','post']\n",
    "df = pd.read_csv('/home/noe/Documents/Master_2/Mémoire/SketchEngineExport/lemmes_servitude/Seruus/Word_tags/800-849.csv', header = 4, names=colnames)\n",
    "df = df[['pre','word','post']]\n",
    "df['new'] = df['pre'] + (' ') + df['word']+ (' ') + df['post']\n",
    "df['new'] = df['new'].str.lower()\n",
    "df['drop'] = df['new'].str.find('seruus/sub  seruorum/sub  dei/sub ')\n",
    "df = df[df['drop'] == -1]\n",
    "df = df.reset_index()\n",
    "df.pop('index')\n",
    "df.pop('drop')\n",
    "df.pop('new')\n",
    "liste_1 = df['pre'].str.split(('  ')).tolist()\n",
    "for i in range(len(liste_1)):\n",
    "    liste_1[i] = liste_1[i][-5:]\n",
    "    \n",
    "liste_2 = df['post'].str.split(('  ')).tolist()\n",
    "for i in range(len(liste_2)):\n",
    "    liste_2[i] = liste_2[i][:5]\n",
    "liste = []\n",
    "for i in range(len(liste_1)):\n",
    "    liste.append(liste_1[i] + liste_2[i])\n"
   ]
  },
  {
   "cell_type": "code",
   "execution_count": 7,
   "id": "e5fe8099",
   "metadata": {},
   "outputs": [
    {
     "data": {
      "text/plain": [
       "[[],\n",
       " [],\n",
       " ['Iustis/QLF', 'Diuini/QLF'],\n",
       " [],\n",
       " ['Iustis/QLF', 'Diuini/QLF'],\n",
       " ['Iustis/QLF'],\n",
       " ['Iustis/QLF', 'Iustis/QLF', 'Diuini/QLF'],\n",
       " ['Diuini/QLF'],\n",
       " ['Iustis/QLF', 'Diuini/QLF'],\n",
       " ['Diuinis/QLF'],\n",
       " ['Iustis/QLF', 'Diuini/QLF'],\n",
       " ['Iustis/QLF', 'Diuini/QLF'],\n",
       " ['Iustis/QLF'],\n",
       " [],\n",
       " ['Diuina/QLF'],\n",
       " [],\n",
       " ['Iustis/QLF', 'Diuini/QLF'],\n",
       " ['sanctis/QLF'],\n",
       " ['Iustis/QLF'],\n",
       " ['Suis/QLF'],\n",
       " ['Iustis/QLF', 'Diuini/QLF'],\n",
       " [],\n",
       " [],\n",
       " ['nostre/QLF'],\n",
       " ['Iustis/QLF', 'diuini/QLF'],\n",
       " ['Serenissimi/QLF', 'Sancte/QLF'],\n",
       " ['Iustis/QLF'],\n",
       " ['Iustis/QLF', 'Diuini/QLF'],\n",
       " ['Diuini/QLF'],\n",
       " ['Suis/QLF'],\n",
       " [],\n",
       " [' bone/QLF', 'fidelis/QLF'],\n",
       " [],\n",
       " ['tali/QLF', 'manentes/QLF'],\n",
       " ['sancti/QLF'],\n",
       " [' sancti/QLF'],\n",
       " [],\n",
       " [],\n",
       " ['reliqui/QLF'],\n",
       " ['suas/QLF'],\n",
       " ['nostram/QLF', 'uestris/QLF', 'sancti/QLF'],\n",
       " ['diuerse/QLF', 'liberi/QLF'],\n",
       " ['nostro/QLF', 'tui/QLF', ' indigni/QLF', 'uestro/QLF'],\n",
       " [],\n",
       " ['seruili/QLF'],\n",
       " [],\n",
       " [],\n",
       " [],\n",
       " ['sui/QLF', 'serui/SUB </s><s> Luutra/QLF'],\n",
       " ['sui/QLF', '</s><s> Luutra/QLF'],\n",
       " ['serui/SUB </s><s> Luutra/QLF', '</s><s> Thiotricheshus/QLF'],\n",
       " [' nostri/QLF', 'nostro/QLF'],\n",
       " ['nostri/QLF', 'iniuste/QLF'],\n",
       " [],\n",
       " [],\n",
       " [],\n",
       " [],\n",
       " [],\n",
       " [],\n",
       " [],\n",
       " [],\n",
       " [],\n",
       " [],\n",
       " [],\n",
       " ['remobitione/VBE </s><s> Alia/QLF', 'omnes/QLF', ' mei/QLF'],\n",
       " [],\n",
       " ['Sancti/QLF'],\n",
       " ['piissimi/QLF', ' sui/QLF', 'cunctorum/QLF'],\n",
       " [' sui/QLF'],\n",
       " [],\n",
       " [],\n",
       " [],\n",
       " ['iniuste/QLF'],\n",
       " ['concambmm/QLF'],\n",
       " ['iniuste/QLF'],\n",
       " ['liberi/QLF'],\n",
       " ['iuste/QLF'],\n",
       " ['mee/QLF'],\n",
       " ['hanc/QLF'],\n",
       " [],\n",
       " ['suarum/QLF', 'omnes/QLF', 'omni/QLF'],\n",
       " ['hanc/QLF'],\n",
       " [],\n",
       " [' mei/QLF'],\n",
       " [],\n",
       " [],\n",
       " [' sua/QLF'],\n",
       " [],\n",
       " [],\n",
       " [' sua/QLF'],\n",
       " [],\n",
       " [],\n",
       " ['singulos/QLF'],\n",
       " [],\n",
       " [],\n",
       " [],\n",
       " [],\n",
       " [],\n",
       " ['uenerabili/QLF', 'Sancti/QLF', 'mee/QLF'],\n",
       " [],\n",
       " [],\n",
       " [],\n",
       " ['totum/QLF'],\n",
       " ['totum/QLF'],\n",
       " [],\n",
       " ['queque/QLF', 'omnia/QLF'],\n",
       " [],\n",
       " ['imisso/QLF', 'queque/QLF', 'omnia/QLF'],\n",
       " [],\n",
       " [],\n",
       " [],\n",
       " ['integro/QLF', 'pratas/QLF'],\n",
       " ['omnibus/QLF', 'suis/QLF'],\n",
       " ['omnibus/QLF', 'suis/QLF'],\n",
       " ['omni/QLF', 'peculiare/QLF'],\n",
       " ['uenerabilis/QLF'],\n",
       " ['omni/QLF'],\n",
       " [],\n",
       " ['uestito/QLF'],\n",
       " ['tradat/VBE </s><s> ecclesiastico/QLF', 'fiscalino/QLF', 'beneficiario/QLF'],\n",
       " [],\n",
       " ['uestito/QLF'],\n",
       " [],\n",
       " [],\n",
       " [],\n",
       " [],\n",
       " ['cuidam/QLF', ' regio/QLF', 'kario/QLF </s><s> Hanc/QLF'],\n",
       " ['cuidam/QLF', ' regio/QLF', 'Antkario/NAM </s><s> Hanc/QLF'],\n",
       " ['cuidam/QLF', ' nostro/QLF', 'quodam/QLF'],\n",
       " ['nostro/QLF', 'quodam/QLF', ' nostro/QLF'],\n",
       " ['cuidam/QLF', ' nostro/QLF', 'quodam/QLF'],\n",
       " ['nostro/QLF', 'quodam/QLF', ' nostro/QLF'],\n",
       " [' iuste/QLF'],\n",
       " ['fauorabili/QLF', ' iuste/QLF', 'hos/QLF', 'nostre/QLF'],\n",
       " [' iuste/QLF'],\n",
       " ['uenerabilium/QLF'],\n",
       " [],\n",
       " ['inmeliorate/QLF'],\n",
       " ['nostris/QLF'],\n",
       " ['iustas/QLF', 'rationabiles/QLF'],\n",
       " ['nostris/QLF'],\n",
       " ['iustis/QLF', 'rationabilibus/QLF'],\n",
       " ['imperatoria/QLF'],\n",
       " [],\n",
       " [],\n",
       " ['nostris/QLF'],\n",
       " ['nostris/QLF'],\n",
       " ['nostris/QLF'],\n",
       " ['nostris/QLF'],\n",
       " [],\n",
       " ['sanctee/QLF', 'animee/QLF', 'nostree/QLF'],\n",
       " ['predicto/QLF'],\n",
       " ['predicto/QLF'],\n",
       " [],\n",
       " ['alias/QLF'],\n",
       " [],\n",
       " ['diuinum/QLF'],\n",
       " [],\n",
       " ['diuina/QLF', 'iustis/QLF', 'rationabilibus/QLF', 'diuini/QLF'],\n",
       " [],\n",
       " ['pauperum/QLF'],\n",
       " ['ecclesiasticas/QLF', 'nostro/QLF'],\n",
       " ['sancta/QLF', 'uenerabilia/QLF'],\n",
       " ['iustis/QLF', 'rationabilibus/QLF', 'diuini/QLF'],\n",
       " ['sui/QLF'],\n",
       " [],\n",
       " ['pauperum/QLF'],\n",
       " ['ceterorum/QLF', 'nostrorum/QLF', 'fidelium/QLF'],\n",
       " ['iustis/QLF', 'rationabilibus/QLF', 'diuini/QLF'],\n",
       " ['iustis/QLF', 'rationabilibus/QLF', 'diuini/QLF'],\n",
       " ['pauperum/QLF', 'perennibus/QLF'],\n",
       " ['iustis/QLF'],\n",
       " [],\n",
       " ['iustis/QLF', 'rationabilibus/QLF', 'diuini/QLF'],\n",
       " ['iustis/QLF', 'rationalibus/QLF', 'diuini/QLF'],\n",
       " [],\n",
       " [],\n",
       " [],\n",
       " ['augustus/QLF', 'iustis/QLF', 'rationabilibus/QLF', 'diuini/QLF'],\n",
       " ['pauperum/QLF', 'perhennibus/QLF'],\n",
       " ['pauperum/QLF'],\n",
       " ['iustis/QLF', 'rationabilibus/QLF', 'diuini/QLF'],\n",
       " ['suis/QLF', 'propriis/QLF', ' suorum/QLF </s><s> Simili/QLF'],\n",
       " ['ecclesiasticis/QLF'],\n",
       " ['ecclesiasticis/QLF'],\n",
       " ['iustis/QLF', 'rationabilibus/QLF', 'diuino/QLF'],\n",
       " ['iustis/QLF', 'etc./QLF'],\n",
       " ['iustis/QLF', 'rationabilibus/QLF'],\n",
       " ['diuina/QLF', 'iustis/QLF', 'rationabilibus/QLF', 'diuini/QLF'],\n",
       " ['iustis/QLF', 'rationabilibus/QLF', 'diuini/QLF'],\n",
       " [],\n",
       " [],\n",
       " ['suis/QLF', 'propriis/QLF', ' suorum/QLF', 'bonis/QLF </s><s> Simili/QLF'],\n",
       " [],\n",
       " ['ecclesiasticis/QLF'],\n",
       " [],\n",
       " ['cetera/QLF', 'queque/QLF'],\n",
       " [],\n",
       " ['iustis/QLF'],\n",
       " ['iustis/QLF'],\n",
       " ['autographo/QLF'],\n",
       " ['paucis/QLF'],\n",
       " ['iustis/QLF', 'rationabilibus/QLF', 'diuini/QLF'],\n",
       " ['iustis/QLF', 'rationabilibus/QLF', 'diuini/QLF'],\n",
       " ['iustis/QLF', 'nostris/QLF'],\n",
       " [],\n",
       " ['iustis/QLF', 'rationabilibus/QLF', 'diuini/QLF'],\n",
       " ['iustis/QLF', 'rationalibus/QLF', 'diuini/QLF'],\n",
       " ['iustis/QLF', 'rationabilibus/QLF', 'diuini/QLF'],\n",
       " [],\n",
       " ['reuerentissimi/QLF', 'aliorum/QLF', 'cuidam/QLF'],\n",
       " ['suis/QLF'],\n",
       " ['pauperum/QLF'],\n",
       " ['iustis/QLF', 'nostris/QLF'],\n",
       " ['iustis/QLF', 'nostris/QLF'],\n",
       " ['iustis/QLF', 'rationabilibus/QLF', 'diuini/QLF'],\n",
       " ['diuini/QLF'],\n",
       " ['ecclesiasticis/QLF'],\n",
       " [' lib./QLF'],\n",
       " ['ceteris/QLF', 'mortalibus/QLF', 'iustis/QLF', 'rationabilibus/QLF'],\n",
       " ['iustis/QLF', 'rationabilibus/QLF'],\n",
       " ['iustis/QLF', 'rationabilibus/QLF'],\n",
       " ['plurimorum/QLF'],\n",
       " ['plurimorum/QLF'],\n",
       " ['ecclesiasticas/QLF', 'nostro/QLF'],\n",
       " ['prelatorum/QLF'],\n",
       " ['nostri/QLF', 'nostre/QLF'],\n",
       " ['feliciter/ADV </s><s> Eugenius/QLF', 'sancte/QLF'],\n",
       " ['feliciter/ADV </s><s> Eugenius/QLF', 'sancte/QLF'],\n",
       " [' meorum/QLF'],\n",
       " ['pauperum/QLF', 'perennis/QLF'],\n",
       " ['pauperum/QLF'],\n",
       " ['nostre/QLF'],\n",
       " ['augusti/QLF', 'iustis/QLF', 'rationabilibus/QLF', 'diuini/QLF'],\n",
       " [],\n",
       " [],\n",
       " ['diuini/QLF'],\n",
       " ['pauperum/QLF'],\n",
       " ['iustis/QLF', 'rationabilibus/QLF', 'diuini/QLF'],\n",
       " ['omni/QLF'],\n",
       " ['uniuersorum/QLF', 'iustis/QLF'],\n",
       " ['uniuersorum/QLF', 'iustis/QLF'],\n",
       " ['iustis/QLF', 'rationabilibus/QLF', 'diuini/QLF'],\n",
       " [' suorum/QLF'],\n",
       " ['omni/QLF'],\n",
       " [' suorum/QLF'],\n",
       " ['nostris/QLF'],\n",
       " ['predictorum/QLF'],\n",
       " ['omnes/QLF', 'singulis/QLF'],\n",
       " ['tributis/QLF'],\n",
       " ['perpetue/QLF'],\n",
       " ['plene/QLF'],\n",
       " ['ex/PRE </s><s> lum/QLF'],\n",
       " ['iustis/QLF'],\n",
       " ['iustis/QLF', 'nostris/QLF'],\n",
       " ['diuino/QLF', 'consistencium/QLF', 'congrua/QLF'],\n",
       " ['iustis/QLF'],\n",
       " ['serenissimi/QLF', 'augusti/QLF', 'minimus/QLF', 'sancte/QLF'],\n",
       " ['iustis/QLF', 'rationabilibus/QLF', 'diuini/QLF'],\n",
       " ['iustis/QLF', 'rationabilibus/QLF', 'diuini/QLF'],\n",
       " ['nostris/QLF'],\n",
       " ['nostra/QLF'],\n",
       " ['nostris/QLF'],\n",
       " ['nostra/QLF'],\n",
       " ['iustis/QLF', 'rationabilibus/QLF', 'diuini/QLF'],\n",
       " ['iustis/QLF', 'fidelium/QLF', 'nostrorum/QLF'],\n",
       " ['nostre/QLF'],\n",
       " ['diuina/QLF', 'iustis/QLF', 'rationabilibus/QLF'],\n",
       " ['deuotissima/QLF'],\n",
       " ['iustis/QLF', 'rationabilibus/QLF', 'diuini/QLF'],\n",
       " ['iustis/QLF', 'rationabilibus/QLF'],\n",
       " ['iustis/QLF', 'rationabilibus/QLF', 'diuini/QLF'],\n",
       " ['iustis/QLF', 'rationabilibus/QLF'],\n",
       " ['ecclesiasticas/QLF', 'nostro/QLF'],\n",
       " ['iustis/QLF', 'rationabilibus/QLF', 'nostre/QLF'],\n",
       " ['quorundam/QLF', 'nostri/QLF'],\n",
       " ['pauperum/QLF'],\n",
       " ['augustus/QLF </s><s> Dignum/QLF', 'imperialis/QLF', 'effectuosa/QLF'],\n",
       " ['pauperum/QLF'],\n",
       " ['nostris/QLF'],\n",
       " ['iustis/QLF', 'benignum/QLF'],\n",
       " ['augustus/QLF', 'nostris/QLF'],\n",
       " ['diuina/QLF', 'iustas/QLF', 'rationabiles/QLF'],\n",
       " [],\n",
       " ['iustis/QLF', 'nabilibus/QLF'],\n",
       " ['nostris/QLF'],\n",
       " ['nostri/QLF', 'nostre/QLF'],\n",
       " ['presentibus/QLF'],\n",
       " ['congruis/QLF', 'oportunis/QLF', 'suis/QLF'],\n",
       " ['iustis/QLF', 'rationabilibus/QLF', 'diuini/QLF'],\n",
       " ['iustis/QLF', 'rationabilibus/QLF', 'diuini/QLF'],\n",
       " ['nostri/QLF', 'nostre/QLF'],\n",
       " [],\n",
       " ['indiuidue/QLF', 'iustis/QLF', 'rationabilibus/QLF'],\n",
       " [],\n",
       " ['diuini/QLF'],\n",
       " ['nostre/QLF'],\n",
       " ['prefata/QLF'],\n",
       " ['iustis/QLF', 'rationabilibus/QLF'],\n",
       " ['iustis/QLF', 'rationabilibus/QLF'],\n",
       " ['iustis/QLF', 'rationabilibus/QLF', 'diuini/QLF'],\n",
       " ['iustis/QLF', 'rationabilibus/QLF', 'diuini/QLF'],\n",
       " ['tanto/QLF'],\n",
       " ['prefata/QLF'],\n",
       " [],\n",
       " ['iustis/QLF', 'rationabilibus/QLF'],\n",
       " ['pauperum/QLF'],\n",
       " ['ecclesiasticas/QLF', 'nostro/QLF'],\n",
       " ['iustis/QLF', 'rationabilibus/QLF', 'benignum/QLF'],\n",
       " ['rationabilibus/QLF', 'nostre/QLF'],\n",
       " ['ceteris/QLF', 'mortalibus/QLF', 'iustis/QLF', 'racionabilibus/QLF'],\n",
       " ['eternam/QLF'],\n",
       " [],\n",
       " ['suis/QLF'],\n",
       " ['indiuidue/QLF'],\n",
       " ['indiuidue/QLF', 'iustis/QLF', 'rationabilibus/QLF'],\n",
       " ['iustis/QLF', 'nostris/QLF'],\n",
       " ['uniuersis/QLF',\n",
       "  'catholicis/QLF',\n",
       "  'iustis/QLF',\n",
       "  'rationabilibus/QLF',\n",
       "  'benignum/QLF'],\n",
       " [],\n",
       " ['nostre/QLF'],\n",
       " ['pretiosissimi/QLF', 'nostri/QLF', 'amplior/QLF'],\n",
       " ['omnes/QLF'],\n",
       " [],\n",
       " ['pauperum/QLF'],\n",
       " ['diuinis/QLF'],\n",
       " ['iustis/QLF', 'rationabilibus/QLF'],\n",
       " ['ecclesiasticis/QLF'],\n",
       " ['iustis/QLF', 'nabilibus/QLF'],\n",
       " ['diuinis/QLF'],\n",
       " ['pretiosissimi/QLF', 'nostri/QLF', 'amplior/QLF', 'iamdicti/QLF'],\n",
       " ['nostre/QLF'],\n",
       " ['pretiosissimi/QLF', 'nostri/QLF', 'amplior/QLF', 'iamdicti/QLF'],\n",
       " ['indiuidue/QLF'],\n",
       " ['nostrum/QLF', 'rationabilibus/QLF'],\n",
       " ['suis/QLF'],\n",
       " ['diuini/QLF'],\n",
       " ['iustis/QLF'],\n",
       " ['iustis/QLF', 'rationabilibus/QLF', 'diuini/QLF'],\n",
       " ['sancta/QLF'],\n",
       " ['domesticis/QLF'],\n",
       " [],\n",
       " ['nostre/QLF', 'iustissimi/QLF'],\n",
       " ['iustis/QLF', 'rationabilibus/QLF', 'monasticus/QLF'],\n",
       " ['pauperum/QLF'],\n",
       " [],\n",
       " ['iustis/QLF', 'rationabilibus/QLF', 'monasticus/QLF'],\n",
       " ['pauperum/QLF'],\n",
       " ['iustis/QLF', 'rationabilibus/QLF', 'diuini/QLF'],\n",
       " ['sancta/QLF'],\n",
       " ['domesticis/QLF'],\n",
       " [],\n",
       " ['nostre/QLF', 'iustissimi/QLF'],\n",
       " ['iustis/QLF'],\n",
       " [],\n",
       " [],\n",
       " [],\n",
       " ['indiuidue/QLF'],\n",
       " ['diuina/QLF', 'iuste/QLF'],\n",
       " ['pauperum/QLF'],\n",
       " ['pauperum/QLF'],\n",
       " ['iustis/QLF', 'rationabilibus/QLF', 'diuini/QLF'],\n",
       " [],\n",
       " ['iustis/QLF', 'rationabilibus/QLF', 'diuini/QLF'],\n",
       " [],\n",
       " ['indiuidue/QLF', 'benignum/QLF'],\n",
       " [],\n",
       " ['iustis/QLF', 'rationabilibus/QLF', 'diuini/QLF'],\n",
       " [],\n",
       " ['iustis/QLF', 'rationabilibus/QLF', 'diuini/QLF'],\n",
       " ['iustis/QLF', 'omnibus/QLF', 'fidelium/QLF'],\n",
       " ['iustis/QLF', 'rationabilibus/QLF', 'diuini/QLF'],\n",
       " ['sancto/QLF'],\n",
       " ['diuina/QLF', 'iustis/QLF', 'rationabilibus/QLF', 'diuini/QLF'],\n",
       " ['diuina/QLF', 'iustis/QLF', 'rationabilibus/QLF'],\n",
       " ['iustis/QLF'],\n",
       " ['omni/QLF'],\n",
       " [],\n",
       " [],\n",
       " ['suos/QLF'],\n",
       " ['colonos/QLF', 'colonas/QLF'],\n",
       " ['quesitum/QLF', 'colonus/QLF', 'colonas/QLF'],\n",
       " ['alteros/QLF'],\n",
       " [' uniuersos/QLF', 'mee/QLF'],\n",
       " [' uniuersos/QLF', 'mee/QLF'],\n",
       " ['sancte/QLF', 'ingenuos/QLF'],\n",
       " ['nostram/QLF'],\n",
       " [],\n",
       " ['nominatos/QLF'],\n",
       " [],\n",
       " ['propriam/QLF'],\n",
       " ['alias/QLF', 'omnes/QLF', 'tributales/QLF'],\n",
       " ['ingenuos/QLF', 'quamque/QLF'],\n",
       " ['ingenuos/QLF'],\n",
       " ['ingenuos/QLF', 'quamque/QLF'],\n",
       " ['ingenuos/QLF', ' iniuste/QLF', 'ullas/QLF'],\n",
       " ['ingenuos/QLF', 'quamque/QLF'],\n",
       " ['ingenuos/QLF'],\n",
       " ['ingenuos/QLF', 'quamque/QLF', 'ullas/QLF'],\n",
       " [],\n",
       " ['ingenuos/QLF'],\n",
       " ['ingenuos/QLF'],\n",
       " ['ingenuos/QLF', 'iniuste/QLF'],\n",
       " [],\n",
       " ['ingenuos/QLF'],\n",
       " ['ingenuos/QLF'],\n",
       " [],\n",
       " ['ingenuos/QLF', ' iniuste/QLF', 'ullas/QLF'],\n",
       " ['ingenuos/QLF'],\n",
       " [],\n",
       " ['ingenuos/QLF', 'iniuste/QLF'],\n",
       " [],\n",
       " ['ingenuos/QLF'],\n",
       " [],\n",
       " ['ingenuos/QLF', 'iniuste/QLF'],\n",
       " ['ingenuos/QLF', 'quamque/QLF', 'iniuste/QLF'],\n",
       " ['ingenuos/QLF', 'quamque/QLF'],\n",
       " ['ingenuos/QLF', 'quamque/QLF'],\n",
       " [],\n",
       " [],\n",
       " ['inienuos/QLF'],\n",
       " [],\n",
       " ['ingenuos/QLF', 'iniuste/QLF'],\n",
       " [],\n",
       " ['ingenuos/QLF', 'iniuste/QLF'],\n",
       " ['ingenuos/QLF', 'iniuste/QLF'],\n",
       " [],\n",
       " ['ingenuos/QLF'],\n",
       " [],\n",
       " ['ingenuos/QLF'],\n",
       " ['ingenuos/QLF', 'ullum/QLF'],\n",
       " ['ingenuos/QLF', 'iniuste/QLF'],\n",
       " ['ingenuos/QLF'],\n",
       " ['ingenuos/QLF'],\n",
       " ['ingenuos/QLF'],\n",
       " ['ingenuos/QLF'],\n",
       " [],\n",
       " ['ingenuos/QLF', 'iniuste/QLF'],\n",
       " ['ingenuos/QLF'],\n",
       " [],\n",
       " ['ingenuos/QLF'],\n",
       " [],\n",
       " ['ingenuos/QLF', 'iniuste/QLF'],\n",
       " ['perhennibus/QLF'],\n",
       " ['ingenuos/QLF', 'ullas/QLF'],\n",
       " ['ingenuos/QLF', 'ullas/QLF'],\n",
       " ['ingenuos/QLF'],\n",
       " ['ingenuos/QLF', 'ullas/QLF'],\n",
       " ['ingenuos/QLF'],\n",
       " ['ingenuos/QLF'],\n",
       " ['ingenuos/QLF'],\n",
       " ['ingenuos/QLF'],\n",
       " [],\n",
       " ['ingenuos/QLF'],\n",
       " ['ingenuos/QLF'],\n",
       " ['ingenuos/QLF'],\n",
       " ['colonos/QLF',\n",
       "  'partiarios/QLF',\n",
       "  ' subiacentes/QLF',\n",
       "  'sancte/QLF',\n",
       "  'uestre/QLF'],\n",
       " ['ingenuos/QLF', ' iniuste/QLF', 'ullas/QLF'],\n",
       " ['nostri/QLF'],\n",
       " ['reliquas/QLF', 'omnia/QLF'],\n",
       " ['ipsa/QLF'],\n",
       " [],\n",
       " [],\n",
       " ['ingenuos/QLF'],\n",
       " [],\n",
       " ['ingenuos/QLF', 'manentes/QLF', 'iniuste/QLF'],\n",
       " ['ingenuos/QLF'],\n",
       " [],\n",
       " ['minori/QLF', 'omnes/QLF', 'meas/QLF'],\n",
       " ['ingenuos/QLF', 'iniuste/QLF'],\n",
       " [],\n",
       " ['ingenuos/QLF', 'sua/QLF'],\n",
       " [],\n",
       " ['ingenuos/QLF', 'iniuste/QLF'],\n",
       " [],\n",
       " ['ingenuos/QLF', 'iniuste/QLF'],\n",
       " ['ingenuos/QLF', 'ullas/QLF'],\n",
       " [],\n",
       " [],\n",
       " [],\n",
       " ['ingenuos/QLF', 'iniuste/QLF'],\n",
       " [],\n",
       " ['quales/QLF'],\n",
       " ['ingenuos/QLF'],\n",
       " ['ingenuos/QLF'],\n",
       " ['ingenuos/QLF', 'iniuste/QLF'],\n",
       " [],\n",
       " ['ingenuos/QLF'],\n",
       " ['ingenuos/QLF', 'iniuste/QLF'],\n",
       " ['ingenuos/QLF'],\n",
       " ['ingenuos/QLF', 'iniuste/QLF'],\n",
       " ['ingenuos/QLF'],\n",
       " ['ingenuos/QLF', ' ullo/QLF'],\n",
       " [],\n",
       " [],\n",
       " ['ingenuos/QLF'],\n",
       " ['ceteris/QLF', 'colonos/QLF'],\n",
       " [],\n",
       " ['ingenuos/QLF', 'quamque/QLF'],\n",
       " ['ingenuos/QLF', 'iniuste/QLF'],\n",
       " ['ingenuos/QLF'],\n",
       " ['ingenuos/QLF'],\n",
       " ['ingenuos/QLF', 'quamque/QLF'],\n",
       " ['ingenuos/QLF', 'quamque/QLF'],\n",
       " ['consistentes/QLF'],\n",
       " ['ingenuos/QLF', 'quamque/QLF'],\n",
       " ['ingenuos/QLF', 'quamque/QLF'],\n",
       " ['ingenuos/QLF'],\n",
       " ['omnibus/QLF', 'diuino/QLF'],\n",
       " [],\n",
       " ['omnibus/QLF', 'diuino/QLF'],\n",
       " ['nostras/QLF', 'germanos/QLF', 'nostros/QLF'],\n",
       " ['ingenuos/QLF'],\n",
       " ['pauperum/QLF', 'prefatis/QLF'],\n",
       " ['ingenuos/QLF'],\n",
       " [],\n",
       " ['pauperum/QLF', 'prefatis/QLF'],\n",
       " ['ingenuos/QLF', ' ullo/QLF'],\n",
       " [],\n",
       " ['ingenuos/QLF', 'iniuste/QLF'],\n",
       " ['ingenuos/QLF'],\n",
       " [],\n",
       " ['ingenuos/QLF'],\n",
       " ['ingenuos/QLF'],\n",
       " [],\n",
       " [],\n",
       " ['ingenuos/QLF'],\n",
       " ['ingenuos/QLF'],\n",
       " [],\n",
       " ['ingenuos/QLF'],\n",
       " ['predictos/QLF'],\n",
       " ['ingenuos/QLF'],\n",
       " ['ingenuos/QLF'],\n",
       " ['predictos/QLF'],\n",
       " ['ingenuos/QLF', ' iniuste/QLF', 'ullo/QLF'],\n",
       " ['ingenuos/QLF', 'iniuste/QLF'],\n",
       " ['ingenuos/QLF', ' iniuste/QLF', 'ullo/QLF'],\n",
       " ['ingenuos/QLF', 'iniuste/QLF'],\n",
       " ['ingenuos/QLF'],\n",
       " ['ingenuos/QLF'],\n",
       " ['ingenuos/QLF'],\n",
       " ['suos/QLF', ' orte/QLF', 'graui/QLF'],\n",
       " ['meis/QLF', 'mobile/QLF'],\n",
       " ['ingenuos/QLF'],\n",
       " ['ingenuos/QLF'],\n",
       " ['ingenuos/QLF'],\n",
       " ['ingenuos/QLF'],\n",
       " ['ingenuos/QLF'],\n",
       " [],\n",
       " ['cenobiorum/QLF', 'ingenuos/QLF'],\n",
       " [],\n",
       " ['ingenuos/QLF', 'quamque/QLF', 'ullas/QLF'],\n",
       " [],\n",
       " ['ingenuos/QLF'],\n",
       " [],\n",
       " ['ingenuos/QLF', 'iniuste/QLF'],\n",
       " ['ingenuos/QLF'],\n",
       " ['ingenuos/QLF'],\n",
       " ['ingenuos/QLF', 'ullas/QLF'],\n",
       " ['ingenuos/QLF', 'iniuste/QLF'],\n",
       " [],\n",
       " ['ingenuos/QLF', ' iniuste/QLF', 'ullas/QLF'],\n",
       " [],\n",
       " ['ingenuos/QLF', 'predicti/QLF'],\n",
       " ['ingenuos/QLF', 'iniuste/QLF'],\n",
       " ['perhennibus/QLF'],\n",
       " ['iudiciaria/QLF', 'francos/QLF'],\n",
       " ['ingenuos/QLF', 'iniuste/QLF'],\n",
       " ['perhennibus/QLF'],\n",
       " ['nostre/QLF'],\n",
       " ['ingenuos/QLF'],\n",
       " ['ingenuos/QLF'],\n",
       " ['perhennibus/QLF'],\n",
       " ['ingenuos/QLF'],\n",
       " [],\n",
       " ['ingenuos/QLF'],\n",
       " ['ingenuos/QLF'],\n",
       " ['ingenuos/QLF'],\n",
       " ['ingenuos/QLF'],\n",
       " ['ingenuos/QLF'],\n",
       " ['ingenuos/QLF'],\n",
       " ['ingenuos/QLF'],\n",
       " ['ingenuos/QLF'],\n",
       " ['ingenuos/QLF'],\n",
       " ['ingenuos/QLF', 'iniuste/QLF'],\n",
       " ['ingenuos/QLF', ' iniuste/QLF', 'ullas/QLF'],\n",
       " [' meum/QLF'],\n",
       " [' suum/QLF', 'sua/QLF'],\n",
       " ['predictum/QLF', 'hanc/QLF', 'nostram/QLF'],\n",
       " [' nostrum/QLF', 'omnibus/QLF', 'utensilibus/QLF', 'suis/QLF'],\n",
       " [' nostrum/QLF', 'omnibus/QLF', 'utensilibus/QLF', 'suis/QLF'],\n",
       " ['</s><s> Liberam/QLF', 'omnibus/QLF'],\n",
       " ['liberum/QLF'],\n",
       " ['meas/QLF', ' meum/QLF', 'liberum/QLF'],\n",
       " ['proprium/QLF', ' suum/QLF'],\n",
       " ['suprascripta/QLF', 'sua/QLF'],\n",
       " ['superscripta/QLF'],\n",
       " ['incultis/QLF'],\n",
       " ['nostrorum/QLF', ' nostrum/QLF', 'propria/QLF'],\n",
       " [' noster/QLF'],\n",
       " [' noster/QLF'],\n",
       " [' noster/QLF'],\n",
       " ['noster/QLF'],\n",
       " [' noster/QLF'],\n",
       " [' noster/QLF'],\n",
       " [' noster/QLF'],\n",
       " ['noster/QLF'],\n",
       " [],\n",
       " ['paruulus/QLF'],\n",
       " [' noster/QLF'],\n",
       " ['ullo/QLF'],\n",
       " [' dominicus/QLF', 'resedebat/VBE </s><s> Christi/QLF'],\n",
       " ['precariam/QLF', ' dominicus/QLF', 'uenerabili/QLF'],\n",
       " ['cetero/QLF'],\n",
       " ['suo/QLF'],\n",
       " ['suo/QLF'],\n",
       " ['quidam/QLF', ' noster/QLF'],\n",
       " [' noster/QLF', 'talem/QLF'],\n",
       " ['uestra/QLF', 'uester/QLF'],\n",
       " ['suo/QLF'],\n",
       " ['suum/QLF'],\n",
       " ['proprius/QLF', 'feruentis/QLF'],\n",
       " ['altera/QLF', 'liberi/QLF'],\n",
       " ['suo/QLF'],\n",
       " ['suum/QLF'],\n",
       " [],\n",
       " [],\n",
       " ['alio/QLF'],\n",
       " ['ingenuus/QLF'],\n",
       " ['alio/QLF'],\n",
       " [],\n",
       " [],\n",
       " [],\n",
       " ['feliciter/ADV </s><s> Eugenius/QLF', 'sancte/QLF'],\n",
       " [' uester/QLF'],\n",
       " ['suprascriptam/QLF']]"
      ]
     },
     "execution_count": 7,
     "metadata": {},
     "output_type": "execute_result"
    }
   ],
   "source": [
    "for i in liste:\n",
    "    for j in i:\n",
    "        if j[-3:] != 'QLF':\n",
    "            i.remove(j)\n",
    "liste"
   ]
  },
  {
   "cell_type": "code",
   "execution_count": 8,
   "id": "24956525",
   "metadata": {},
   "outputs": [],
   "source": [
    "df['qlf'] = liste  \n",
    "df['word'] = df['word'].str.split('/').str[0]\n",
    "df['word'] = df['word'].str.lower()\n",
    "df['cas_seruus'] = \"\"\n",
    "df['cas_qlf']= \"\"\n",
    "for i in range(len(df['qlf'])):\n",
    "    for j in range(len(df['qlf'][i])):\n",
    "        df['qlf'][i][j] = df['qlf'][i][j].split('/')[0].lower()\n",
    "\n",
    "df['qlf_1'] = \"\"\n",
    "df['qlf_2'] = \"\"\n",
    "df['qlf_3'] = \"\"\n",
    "df['qlf_4'] = \"\"\n",
    "df['qlf_5'] = \"\"\n",
    "for i in range(len(liste)):\n",
    "    for cas in range(len(liste[i])):\n",
    "        if cas == 0:\n",
    "            df['qlf_1'][i] = liste[i][cas]\n",
    "        if cas == 1:\n",
    "            df['qlf_2'][i] = liste[i][cas]\n",
    "        if cas == 2:\n",
    "            df['qlf_3'][i] = liste[i][cas]\n",
    "        if cas == 3:\n",
    "            df['qlf_4'][i] = liste[i][cas]\n",
    "        if cas == 4:\n",
    "            df['qlf_5'][i] = liste[i][cas]\n",
    "            \n",
    "for i in range(len(df)):\n",
    "    if df['word'][i] == ' seruus':\n",
    "        df['cas_seruus'][i] = 'nom_sg'\n",
    "    if df['word'][i] == ' seruorum':\n",
    "        df['cas_seruus'][i] = 'gen_pl'\n",
    "    if df['word'][i] == ' seruos':\n",
    "        df['cas_seruus'][i] = 'acc_pl'\n",
    "    if df['word'][i] == ' seruo':\n",
    "        df['cas_seruus'][i] = 'dat_sg | abl_sg'\n",
    "    if df['word'][i] == ' serui':\n",
    "        df['cas_seruus'][i] = 'gen_sg | nom pl'\n",
    "    if df['word'][i] == ' seruum':\n",
    "        df['cas_seruus'][i] = 'acc_sg'\n",
    "    if df['word'][i] == ' seruis':\n",
    "        df['cas_seruus'][i] = 'dat_pl | abl_pl'\n",
    "        \n",
    "df['cas_qlf_1'] = \"\"\n",
    "df['cas_qlf_2'] = \"\"\n",
    "df['cas_qlf_3'] = \"\"\n",
    "df['cas_qlf_4'] = \"\"\n",
    "df['cas_qlf_5'] = \"\"\n",
    "\n",
    "for i in range(len(df)):\n",
    "    if df['qlf_1'][i].endswith(('us','er')):\n",
    "        df['cas_qlf_1'][i] = ['nom_sg']\n",
    "    elif df['qlf_1'][i].endswith('is'):\n",
    "        df['cas_qlf_1'][i] = ['nom_sg','gen_sg','dat_pl','abl_pl']\n",
    "    elif df['qlf_1'][i].endswith('um'):\n",
    "        df['cas_qlf_1'][i] = ['acc_sg','gen_pl'] \n",
    "    elif df['qlf_1'][i].endswith('e'):\n",
    "        df['cas_qlf_1'][i] = ['abl_sg'] \n",
    "    elif df['qlf_1'][i].endswith('i'):\n",
    "        df['cas_qlf_1'][i] = ['gen_sg','dat_sg','nom_pl']\n",
    "    elif df['qlf_1'][i].endswith('is'):\n",
    "        df['cas_qlf_1'][i] = ['dat_pl','abl_pl','gen_sg ']\n",
    "    elif df['qlf_1'][i].endswith('os'):\n",
    "        df['cas_qlf_1'][i] = ['acc_pl']\n",
    "    elif df['qlf_1'][i].endswith('orum'):\n",
    "        df['cas_qlf_1'][i] = ['gen_pl']\n",
    "    elif df['qlf_1'][i].endswith('es'):\n",
    "        df['cas_qlf_1'][i] = ['nom_pl','acc_pl']\n",
    "    elif df['qlf_1'][i].endswith('ibus'):\n",
    "        df['cas_qlf_1'][i] = ['dat_pl','abl_pl']\n",
    "    elif df['qlf_1'][i].endswith('o'):\n",
    "        df['cas_qlf_1'][i] = ['dat_sg','abl_sg']\n",
    "    else:\n",
    "        df['cas_qlf_1'][i] = [\"\"]\n",
    "\n",
    "for i in range(len(df)):\n",
    "    if df['qlf_2'][i].endswith(('us','er')):\n",
    "        df['cas_qlf_2'][i] = ['nom_sg']\n",
    "    elif df['qlf_2'][i].endswith('is'):\n",
    "        df['cas_qlf_2'][i] = ['nom_sg','gen_sg','dat_pl','abl_pl']\n",
    "    elif df['qlf_2'][i].endswith('um'):\n",
    "        df['cas_qlf_2'][i] = ['acc_sg','gen_pl'] \n",
    "    elif df['qlf_2'][i].endswith('e'):\n",
    "        df['cas_qlf_2'][i] = ['abl_sg']\n",
    "    elif df['qlf_2'][i].endswith('i'):\n",
    "        df['cas_qlf_2'][i] = ['gen_sg','dat_sg','nom_pl']\n",
    "    elif df['qlf_2'][i].endswith('is'):\n",
    "        df['cas_qlf_2'][i] = ['dat_pl','abl_pl','gen_sg ']\n",
    "    elif df['qlf_2'][i].endswith('os'):\n",
    "        df['cas_qlf_2'][i] = ['acc_pl']\n",
    "    elif df['qlf_2'][i].endswith('orum'):\n",
    "        df['cas_qlf_2'][i] = ['gen_pl'] \n",
    "    elif df['qlf_2'][i].endswith('es'):\n",
    "        df['cas_qlf_2'][i] = ['nom_pl','acc_pl']\n",
    "    elif df['qlf_2'][i].endswith('ibus'):\n",
    "        df['cas_qlf_2'][i] = ['dat_pl','abl_pl']\n",
    "    elif df['qlf_2'][i].endswith('o'):\n",
    "        df['cas_qlf_2'][i] = ['dat_sg','abl_sg']\n",
    "    else:\n",
    "        df['cas_qlf_2'][i] = [\"\"]\n",
    "        \n",
    "for i in range(len(df)):\n",
    "    if df['qlf_3'][i].endswith(('us','er')):\n",
    "        df['cas_qlf_3'][i] = ['nom_sg']\n",
    "    elif df['qlf_3'][i].endswith('is'):\n",
    "        df['cas_qlf_3'][i] = ['nom_sg','gen_sg','dat_pl','abl_pl']\n",
    "    elif df['qlf_3'][i].endswith('um'):\n",
    "        df['cas_qlf_3'][i] = ['acc_sg','gen_pl'] \n",
    "    elif df['qlf_3'][i].endswith('e'):\n",
    "        df['cas_qlf_3'][i] = ['abl_sg'] \n",
    "    elif df['qlf_3'][i].endswith('i'):\n",
    "        df['cas_qlf_3'][i] = ['gen_sg','dat_sg','nom_pl']\n",
    "    elif df['qlf_3'][i].endswith('is'):\n",
    "        df['cas_qlf_3'][i] = ['dat_pl','abl_pl','gen_sg ']\n",
    "    elif df['qlf_3'][i].endswith('os'):\n",
    "        df['cas_qlf_3'][i] = ['acc_pl']\n",
    "    elif df['qlf_3'][i].endswith('orum'):\n",
    "        df['cas_qlf_3'][i] = ['gen_pl'] \n",
    "    elif df['qlf_3'][i].endswith('es'):\n",
    "        df['cas_qlf_3'][i] = ['nom_pl','acc_pl']\n",
    "    elif df['qlf_3'][i].endswith('ibus'):\n",
    "        df['cas_qlf_3'][i] = ['dat_pl','abl_pl']\n",
    "    elif df['qlf_3'][i].endswith('o'):\n",
    "        df['cas_qlf_3'][i] = ['dat_sg','abl_sg']\n",
    "    else:\n",
    "        df['cas_qlf_3'][i] = [\"\"]\n",
    "\n",
    "for i in range(len(df)):\n",
    "    if df['qlf_4'][i].endswith(('us','er')):\n",
    "        df['cas_qlf_4'][i] = ['nom_sg']\n",
    "    elif df['qlf_4'][i].endswith('is'):\n",
    "        df['cas_qlf_4'][i] = ['nom_sg','gen_sg','dat_pl','abl_pl']\n",
    "    elif df['qlf_4'][i].endswith('um'):\n",
    "        df['cas_qlf_4'][i] = ['acc_sg','gen_pl'] \n",
    "    elif df['qlf_4'][i].endswith('e'):\n",
    "        df['cas_qlf_4'][i] = ['abl_sg'] \n",
    "    elif df['qlf_4'][i].endswith('i'):\n",
    "        df['cas_qlf_4'][i] = ['gen_sg','dat_sg','nom_pl']\n",
    "    elif df['qlf_4'][i].endswith('is'):\n",
    "        df['cas_qlf_4'][i] = ['dat_pl','abl_pl','gen_sg ']\n",
    "    elif df['qlf_4'][i].endswith('os'):\n",
    "        df['cas_qlf_4'][i] = ['acc_pl'] \n",
    "    elif df['qlf_4'][i].endswith('orum'):\n",
    "        df['cas_qlf_4'][i] = ['gen_pl'] \n",
    "    elif df['qlf_4'][i].endswith('es'):\n",
    "        df['cas_qlf_4'][i] = ['nom_pl','acc_pl']\n",
    "    elif df['qlf_4'][i].endswith('ibus'):\n",
    "        df['cas_qlf_4'][i] = ['dat_pl','abl_pl']\n",
    "    elif df['qlf_4'][i].endswith('o'):\n",
    "        df['cas_qlf_4'][i] = ['dat_sg','abl_sg']\n",
    "    else:\n",
    "        df['cas_qlf_4'][i] = [\"\"]\n",
    "\n",
    "for i in range(len(df)):\n",
    "    if df['qlf_5'][i].endswith(('us','er')):\n",
    "        df['cas_qlf_5'][i] = ['nom_sg']\n",
    "    elif df['qlf_5'][i].endswith('is'):\n",
    "        df['cas_qlf_5'][i] = ['nom_sg','gen_sg','dat_pl','abl_pl']\n",
    "    elif df['qlf_5'][i].endswith('um'):\n",
    "        df['cas_qlf_5'][i] = ['acc_sg','gen_pl'] \n",
    "    elif df['qlf_5'][i].endswith('e'):\n",
    "        df['cas_qlf_5'][i] = ['abl_sg'] \n",
    "    elif df['qlf_5'][i].endswith('i'):\n",
    "        df['cas_qlf_5'][i] = ['gen_sg','dat_sg','nom_pl']\n",
    "    elif df['qlf_5'][i].endswith('is'):\n",
    "        df['cas_qlf_5'][i] = ['dat_pl','abl_pl','gen_sg ']\n",
    "    elif df['qlf_5'][i].endswith('os'):\n",
    "        df['cas_qlf_5'][i] = ['acc_pl']\n",
    "    elif df['qlf_5'][i].endswith('orum'):\n",
    "        df['cas_qlf_5'][i] = ['gen_pl']\n",
    "    elif df['qlf_5'][i].endswith('es'):\n",
    "        df['cas_qlf_5'][i] = ['nom_pl','acc_pl']\n",
    "    elif df['qlf_5'][i].endswith('ibus'):\n",
    "        df['cas_qlf_5'][i] = ['dat_pl','abl_pl']\n",
    "    elif df['qlf_5'][i].endswith('o'):\n",
    "        df['cas_qlf_5'][i] = ['dat_sg','abl_sg']\n",
    "    else:\n",
    "        df['cas_qlf_5'][i] = [\"\"]\n",
    "\n",
    "liste_res = []\n",
    "liste_cas = []\n",
    "\n",
    "\n",
    "for i in range(len(df)):\n",
    "    for j in range(len(df['cas_qlf_1'][i])):\n",
    "        if df['cas_qlf_1'][i][j] == df['cas_seruus'][i]:\n",
    "            liste_res.append(df['qlf_1'][i])\n",
    "            liste_cas.append(df['cas_qlf_1'][i][j])\n",
    "for i in range(len(df)):\n",
    "    for j in range(len(df['cas_qlf_2'][i])):\n",
    "        if df['cas_qlf_2'][i][j] == df['cas_seruus'][i]:\n",
    "            liste_res.append(df['qlf_2'][i])\n",
    "            liste_cas.append(df['cas_qlf_2'][i][j])\n",
    "for i in range(len(df)):\n",
    "    for j in range(len(df['cas_qlf_3'][i])):\n",
    "        if df['cas_qlf_3'][i][j] == df['cas_seruus'][i]:\n",
    "            liste_res.append(df['qlf_3'][i])\n",
    "            liste_cas.append(df['cas_qlf_3'][i][j])\n",
    "for i in range(len(df)):\n",
    "    for j in range(len(df['cas_qlf_4'][i])):\n",
    "        if df['cas_qlf_4'][i][j] == df['cas_seruus'][i]:\n",
    "            liste_res.append(df['qlf_4'][i])\n",
    "            liste_cas.append(df['cas_qlf_4'][i][j])\n",
    "for i in range(len(df)):\n",
    "    for j in range(len(df['cas_qlf_5'][i])):\n",
    "        if df['cas_qlf_5'][i][j] == df['cas_seruus'][i]:\n",
    "            liste_res.append(df['qlf_5'][i])\n",
    "            liste_cas.append(df['cas_qlf_5'][i][j])\n",
    "            \n",
    "list_tuples_QLF = Counter(liste_res).most_common()\n",
    "    \n",
    "dictionnaire_vide = dict(list_tuples_QLF)\n",
    "    \n",
    "dict_items = dictionnaire_vide.items()\n",
    "    \n",
    "first_hundred = list(dict_items)#[:100]\n",
    "    \n",
    "dico_final = dict(first_hundred)\n",
    "    \n",
    "b = list(dico_final.keys())\n",
    "a = list(dico_final.values())\n",
    "\n",
    "df_final_800 = pd.DataFrame(a,b)\n",
    "df_final_800.reset_index(inplace=True)\n",
    "df_final_800.columns = [\"Words\",\"Occ\"]\n",
    "\n",
    "list_tuples_QLF_cas = Counter(liste_cas).most_common()\n",
    "    \n",
    "dictionnaire_vide = dict(list_tuples_QLF_cas)\n",
    "    \n",
    "dict_items = dictionnaire_vide.items()\n",
    "    \n",
    "first_hundred = list(dict_items)#[:100]\n",
    "    \n",
    "dico_final = dict(first_hundred)\n",
    "    \n",
    "a = list(dico_final.values())\n",
    "b = list(dico_final.keys())\n",
    "\n",
    "df_final_cas_800 = pd.DataFrame(a,b)\n",
    "df_final_cas_800.reset_index(inplace=True)\n",
    "df_final_cas_800.columns = [\"Cas\",\"Occ\"]"
   ]
  },
  {
   "cell_type": "code",
   "execution_count": 9,
   "id": "efb6481e",
   "metadata": {},
   "outputs": [],
   "source": [
    "colnames = ['indice','pre','word','post']\n",
    "df = pd.read_csv('/home/noe/Documents/Master_2/Mémoire/SketchEngineExport/lemmes_servitude/Seruus/Word_tags/850-899.csv', header = 4, names=colnames)\n",
    "df = df[['pre','word','post']]\n",
    "df['new'] = df['pre'] + (' ') + df['word']+ (' ') + df['post']\n",
    "df['new'] = df['new'].str.lower()\n",
    "df['drop'] = df['new'].str.find('seruus/sub  seruorum/sub  dei/sub ')\n",
    "df = df[df['drop'] == -1]\n",
    "df = df.reset_index()\n",
    "df.pop('index')\n",
    "df.pop('drop')\n",
    "df.pop('new')\n",
    "liste_1 = df['pre'].str.split(('  ')).tolist()\n",
    "for i in range(len(liste_1)):\n",
    "    liste_1[i] = liste_1[i][-5:]\n",
    "    \n",
    "liste_2 = df['post'].str.split(('  ')).tolist()\n",
    "for i in range(len(liste_2)):\n",
    "    liste_2[i] = liste_2[i][:5]\n",
    "liste = []\n",
    "for i in range(len(liste_1)):\n",
    "    liste.append(liste_1[i] + liste_2[i])\n"
   ]
  },
  {
   "cell_type": "code",
   "execution_count": 15,
   "id": "20d8480a",
   "metadata": {},
   "outputs": [
    {
     "data": {
      "text/plain": [
       "[['ingenuos/QLF'],\n",
       " ['ceteras/QLF', 'presentium/QLF', 'futurorum/QLF'],\n",
       " ['indiuidue/QLF', 'inrationabilibus/QLF', 'benignum/QLF'],\n",
       " [],\n",
       " ['indiuidue/QLF', 'nostrorum/QLF', 'fidelium/QLF', 'iustis/QLF'],\n",
       " ['omnipotentis/QLF'],\n",
       " ['ingenuos/QLF'],\n",
       " [],\n",
       " ['indiuidue/QLF', 'iustis/QLF', 'rationabilibus/QLF'],\n",
       " ['colonos/QLF', 'ingenuos/QLF'],\n",
       " ['iustis/QLF', 'rationabilibus/QLF', 'diuini/QLF'],\n",
       " ['ingenuos/QLF'],\n",
       " ['diuina/QLF', 'iuste/QLF'],\n",
       " ['rationabilibus/QLF', 'nostre/QLF'],\n",
       " ['uarie/QLF'],\n",
       " ['iustis/QLF', 'rationalibus/QLF'],\n",
       " ['colonos/QLF', 'ingenuos/QLF'],\n",
       " ['indiuidue/QLF'],\n",
       " [],\n",
       " ['indiuidue/QLF', 'nostrorum/QLF', 'fidelium/QLF'],\n",
       " [],\n",
       " [],\n",
       " [],\n",
       " [],\n",
       " ['ingenuos/QLF', 'ullas/QLF'],\n",
       " ['fugitiuis/QLF', 'pari/QLF'],\n",
       " ['uestra/QLF'],\n",
       " [' uestros/QLF', 'uestram/QLF'],\n",
       " ['necesse/QLF', 'dictos/QLF', ' uestros/QLF', 'suorum/QLF'],\n",
       " ['fugitiuis/QLF', 'pari/QLF'],\n",
       " ['uestra/QLF'],\n",
       " [' uestros/QLF', 'uestram/QLF'],\n",
       " ['necesse/QLF', 'dictos/QLF', ' uestros/QLF', 'suorum/QLF'],\n",
       " [' nostri/QLF'],\n",
       " ['predicto/QLF', ' nostro/QLF', 'nostram/QLF'],\n",
       " ['iuste/QLF'],\n",
       " [],\n",
       " [],\n",
       " [],\n",
       " [],\n",
       " [],\n",
       " ['ingenuos/QLF', 'ullas/QLF'],\n",
       " ['profuturum/QLF'],\n",
       " ['ingenuos/QLF', 'quamque/QLF'],\n",
       " ['profuturum/QLF'],\n",
       " ['deuotissima/QLF'],\n",
       " ['profuturum/QLF'],\n",
       " ['quasdam/QLF', 'sue/QLF'],\n",
       " ['ingenuos/QLF', 'quamque/QLF'],\n",
       " ['quasdam/QLF', 'sue/QLF'],\n",
       " ['suo/QLF'],\n",
       " ['ingenuos/QLF', 'iniuste/QLF'],\n",
       " [],\n",
       " ['ingenuos/QLF'],\n",
       " ['mobilia/QLF', 'immobilia/QLF', 'omnia/QLF'],\n",
       " ['Deuotissima/QLF'],\n",
       " ['serenissimi/QLF', 'minimus/QLF', 'sancte/QLF'],\n",
       " ['suis/QLF'],\n",
       " [],\n",
       " [' omni/QLF'],\n",
       " [' omni/QLF'],\n",
       " ['ingenuos/QLF'],\n",
       " ['diuina/QLF', 'iustas/QLF', 'rationabiles/QLF'],\n",
       " ['quamque/QLF', 'liberi/QLF'],\n",
       " ['nostris/QLF'],\n",
       " ['colonos/QLF'],\n",
       " [],\n",
       " ['diuina/QLF', 'iustas/QLF', 'racionabiles/QLF'],\n",
       " ['diuina/QLF', 'iustas/QLF', 'rationabiles/QLF'],\n",
       " ['quamque/QLF', 'liberi/QLF'],\n",
       " ['iustas/QLF', 'rationabiles/QLF'],\n",
       " ['quamque/QLF', 'liberi/QLF'],\n",
       " [' omni/QLF'],\n",
       " ['suis/QLF'],\n",
       " [],\n",
       " [' omni/QLF'],\n",
       " ['nostree/QLF'],\n",
       " ['iustis/QLF', 'rationabilibus/QLF', 'diuini/QLF'],\n",
       " ['ingenuos/QLF', 'iniuste/QLF'],\n",
       " ['ecclesiasticis/QLF'],\n",
       " ['colonos/QLF', 'ingenuos/QLF'],\n",
       " ['ingenuos/QLF', 'iniuste/QLF'],\n",
       " ['ingenuos/QLF'],\n",
       " [],\n",
       " [],\n",
       " ['ingenuos/QLF', 'ullas/QLF'],\n",
       " ['Iustis/QLF', 'Diuini/QLF'],\n",
       " ['ingenuos/QLF', 'iniuste/QLF'],\n",
       " ['ingenuos/QLF'],\n",
       " ['perhennibus/QLF'],\n",
       " ['ingenuos/QLF'],\n",
       " ['nostree/QLF'],\n",
       " ['gratiea/QLF', 'nostre/QLF'],\n",
       " ['profuturum/QLF'],\n",
       " ['regie/QLF'],\n",
       " ['regie/QLF'],\n",
       " ['indiuidue/QLF'],\n",
       " ['iustis/QLF', 'rationabilibus/QLF', 'benignum/QLF'],\n",
       " ['ingenuos/QLF', 'sancti/QLF'],\n",
       " ['sancti/QLF'],\n",
       " [],\n",
       " ['apostolica/QLF', 'sancti/QLF'],\n",
       " ['posteriores/QLF', 'ceteris/QLF'],\n",
       " [],\n",
       " [],\n",
       " ['prefatum/QLF'],\n",
       " ['pauperum/QLF', 'secularis/QLF'],\n",
       " [],\n",
       " [],\n",
       " ['iustis/QLF', 'rationabilibus/QLF', 'diuini/QLF'],\n",
       " ['ingenuos/QLF', 'ullas/QLF'],\n",
       " ['publicis/QLF'],\n",
       " [],\n",
       " [],\n",
       " [],\n",
       " ['profuturum/QLF'],\n",
       " [],\n",
       " ['suo/QLF'],\n",
       " ['indiuidue/QLF', 'iustis/QLF', 'rationabilibus/QLF'],\n",
       " [],\n",
       " [],\n",
       " ['ingenuos/QLF', 'iniuste/QLF'],\n",
       " ['ingenuos/QLF', 'iniuste/QLF'],\n",
       " ['diuina/QLF', 'benigno/QLF'],\n",
       " ['ingenuos/QLF', 'iniuste/QLF'],\n",
       " ['pauperum/QLF', 'perennis/QLF'],\n",
       " [],\n",
       " ['ingenuos/QLF', 'iniuste/QLF'],\n",
       " ['pauperum/QLF', 'perennis/QLF'],\n",
       " [],\n",
       " ['apostolica/QLF', 'sancti/QLF'],\n",
       " ['posteriores/QLF', 'ceteris/QLF'],\n",
       " [],\n",
       " ['sue/QLF'],\n",
       " ['reum/QLF'],\n",
       " ['prefatum/QLF'],\n",
       " ['pauperum/QLF', 'secularis/QLF'],\n",
       " [],\n",
       " ['omnes/QLF', 'liberi/QLF'],\n",
       " ['ingenuos/QLF', 'iniuste/QLF'],\n",
       " ['profuturum/QLF'],\n",
       " ['iamdicto/QLF', 'sua/QLF'],\n",
       " ['pauperes/QLF'],\n",
       " ['iustis/QLF', 'rationabilibus/QLF'],\n",
       " ['ueram/QLF', 'uenerabilium/QLF', 'iustis/QLF', 'rationabilibus/QLF'],\n",
       " ['ecclesiastica/QLF', 'prefato/QLF'],\n",
       " [],\n",
       " ['ingenuos/QLF', 'iniuste/QLF'],\n",
       " [],\n",
       " ['prefatam/QLF'],\n",
       " [],\n",
       " ['temerario/QLF'],\n",
       " [],\n",
       " ['suus/QLF', ' noster/QLF'],\n",
       " ['suus/QLF', ' noster/QLF', 'nostro/QLF'],\n",
       " ['iustis/QLF', 'rationabilibus/QLF'],\n",
       " ['uenerabil/QLF', 'iustis/QLF', 'rationabilibus/QLF'],\n",
       " ['pauperes/QLF'],\n",
       " [' meus/QLF'],\n",
       " [' iustis/QLF', 'rationabilibus/QLF'],\n",
       " ['iniuste/QLF'],\n",
       " ['presignati/QLF', 'nostra/QLF', 'liberali/QLF'],\n",
       " ['diuina/QLF', 'diuini/QLF'],\n",
       " [' iustis/QLF', 'rationabilibus/QLF'],\n",
       " ['diuina/QLF', 'diuini/QLF'],\n",
       " ['iustis/QLF', 'racionabilibus/QLF', 'diuini/QLF'],\n",
       " ['ingenuos/QLF'],\n",
       " ['inclyti/QLF', 'deuotissima/QLF'],\n",
       " ['ingenuos/QLF'],\n",
       " ['integrum/QLF', 'sancte/QLF', 'meum/QLF'],\n",
       " ['iustis/QLF', 'rationabilibus/QLF', 'diuini/QLF'],\n",
       " ['ingenuos/QLF'],\n",
       " ['iustis/QLF', 'rationabilibus/QLF', 'diuini/QLF'],\n",
       " ['ingenuos/QLF'],\n",
       " ['omnium/QLF', 'exilis/QLF', 'indignus/QLF'],\n",
       " ['omnium/QLF', 'exilis/QLF', 'indignus/QLF', 'episcopali/QLF'],\n",
       " ['dicte/QLF', 'sancte/QLF'],\n",
       " [],\n",
       " ['ecclesiasticorum/QLF', 'nostri/QLF'],\n",
       " [],\n",
       " ['ingenuos/QLF', 'commendatos/QLF', 'ullas/QLF'],\n",
       " ['noster/QLF'],\n",
       " [],\n",
       " ['ulla/QLF', 'sancto/QLF'],\n",
       " ['nostris/QLF'],\n",
       " [],\n",
       " [],\n",
       " ['solus/QLF', 'catholicorum/QLF'],\n",
       " ['solus/QLF', 'catholicorum/QLF'],\n",
       " ['suprascripti/QLF', 'imfreriorem/QLF'],\n",
       " ['unumquis/QLF', 'sepedictus/QLF', 'inferiorem/QLF'],\n",
       " [],\n",
       " [],\n",
       " ['ingenuos/QLF', 'ullas/QLF'],\n",
       " ['pauperum/QLF'],\n",
       " ['pauperum/QLF', 'inperpetuo/QLF'],\n",
       " ['plenam/QLF'],\n",
       " ['mee/QLF'],\n",
       " ['presentes/QLF', 'suam/QLF', 'contempta/QLF'],\n",
       " [],\n",
       " ['suprascripti/QLF', 'imfreriorem/QLF', 'iamdicta/QLF'],\n",
       " ['unumquis/QLF', 'sepedictus/QLF', 'inferiorem/QLF'],\n",
       " ['sancti/QLF'],\n",
       " [],\n",
       " ['dignum/QLF'],\n",
       " ['suo/QLF'],\n",
       " ['diuino/QLF'],\n",
       " ['ingenuos/QLF'],\n",
       " ['ecclesiasticis/QLF'],\n",
       " ['sancta/QLF'],\n",
       " ['nostris/QLF'],\n",
       " ['regalis/QLF', 'tanto/QLF'],\n",
       " ['regalis/QLF', 'sue/QLF'],\n",
       " ['omnibus/QLF', 'predicto/QLF', 'sancti/QLF'],\n",
       " [],\n",
       " ['suum/QLF'],\n",
       " ['pastoralis/QLF', 'commodis/QLF'],\n",
       " ['piam/QLF', 'pernecessariam/QLF'],\n",
       " [],\n",
       " ['terrena/QLF'],\n",
       " [' bone/QLF', 'fidelis/QLF'],\n",
       " ['fidelem/QLF', 'prudentem/QLF', 'summi/QLF'],\n",
       " ['multa/QLF', 'immania/QLF'],\n",
       " [],\n",
       " [],\n",
       " [],\n",
       " ['precipue/QLF', 'confractos/QLF', 'debiles/QLF'],\n",
       " [],\n",
       " ['noster/QLF'],\n",
       " [],\n",
       " [],\n",
       " ['nostra/QLF'],\n",
       " [' meo/QLF'],\n",
       " ['nostris/QLF'],\n",
       " ['suarum/QLF', 'omnes/QLF', 'omni/QLF'],\n",
       " ['nostre/QLF'],\n",
       " ['futurorum/QLF', 'quidam/QLF', 'sancti/QLF'],\n",
       " [],\n",
       " ['benignum/QLF', 'regie/QLF'],\n",
       " ['ingenuos/QLF', 'quamque/QLF'],\n",
       " ['ullam/QLF'],\n",
       " ['ulla/QLF'],\n",
       " ['compendiosam/QLF'],\n",
       " [],\n",
       " ['ingenuos/QLF', 'quamque/QLF'],\n",
       " ['conuenienti/QLF'],\n",
       " ['regulari/QLF'],\n",
       " ['inconuulsum/QLF', 'uenerabilia/QLF'],\n",
       " ['legitimo/QLF', 'perfecto/QLF', 'prefatis/QLF'],\n",
       " ['potentiorum/QLF', 'alius/QLF'],\n",
       " ['inconuulsum/QLF', 'uenerabilia/QLF'],\n",
       " ['legitimo/QLF', 'perfecto/QLF', 'prefatis/QLF'],\n",
       " ['potentiorum/QLF', 'alius/QLF'],\n",
       " ['benignum/QLF', 'regie/QLF'],\n",
       " ['apto/QLF', 'competenti/QLF'],\n",
       " ['benignum/QLF', 'regie/QLF'],\n",
       " ['nostra/QLF'],\n",
       " ['iustis/QLF'],\n",
       " ['nostre/QLF'],\n",
       " ['suis/QLF'],\n",
       " [],\n",
       " [],\n",
       " ['iustis/QLF', 'rationabilibus/QLF', 'diuini/QLF'],\n",
       " [],\n",
       " ['manentes/QLF'],\n",
       " [],\n",
       " ['iustis/QLF'],\n",
       " ['nostre/QLF'],\n",
       " ['nostra/QLF'],\n",
       " ['suis/QLF'],\n",
       " [],\n",
       " [],\n",
       " ['nostram/QLF'],\n",
       " ['nostris/QLF'],\n",
       " ['ingenuos/QLF', 'iniuste/QLF'],\n",
       " [],\n",
       " ['quidam/QLF'],\n",
       " ['predicto/QLF', 'totum/QLF'],\n",
       " [],\n",
       " [],\n",
       " [],\n",
       " ['nostris/QLF', 'futuris/QLF'],\n",
       " ['ingenuos/QLF'],\n",
       " [],\n",
       " [],\n",
       " ['deuotis/QLF'],\n",
       " ['sui/QLF', 'sui/QLF', 'franci/QLF'],\n",
       " [],\n",
       " ['iustis/QLF', 'rationabilibus/QLF', 'diuini/QLF'],\n",
       " ['nostris/QLF'],\n",
       " ['ecclesiasticas/QLF', 'nostro/QLF'],\n",
       " ['ingenuos/QLF', 'iniuste/QLF'],\n",
       " ['quendam/QLF'],\n",
       " ['diuino/QLF'],\n",
       " ['feminee/QLF', 'piam/QLF', 'rationabilem/QLF', 'nullo/QLF'],\n",
       " ['diuina/QLF'],\n",
       " ['predicti/QLF'],\n",
       " [],\n",
       " [],\n",
       " ['predicti/QLF'],\n",
       " ['quendam/QLF'],\n",
       " [],\n",
       " ['nostro/QLF'],\n",
       " ['ingenuos/QLF', 'iniuste/QLF'],\n",
       " ['profuturum/QLF'],\n",
       " ['nostris/QLF', 'futuris/QLF'],\n",
       " ['ecclesiasticas/QLF', 'nostro/QLF'],\n",
       " ['ingenuos/QLF', 'iniuste/QLF'],\n",
       " ['indiuidue/QLF'],\n",
       " ['ecclesiasticas/QLF', 'nostro/QLF'],\n",
       " ['ingenuos/QLF'],\n",
       " ['nostris/QLF'],\n",
       " ['cartulatos/QLF'],\n",
       " ['cartulatis/QLF'],\n",
       " ['nostris/QLF'],\n",
       " [],\n",
       " ['cartulatos/QLF'],\n",
       " ['cartulatis/QLF', 'liberos/QLF'],\n",
       " ['nostris/QLF'],\n",
       " [' perpetua/QLF'],\n",
       " [],\n",
       " [],\n",
       " ['ingenuos/QLF'],\n",
       " [' noster/QLF'],\n",
       " ['ingenuos/QLF', 'iniuste/QLF'],\n",
       " [],\n",
       " ['hanc/QLF', ' Sancti/QLF'],\n",
       " [],\n",
       " ['suum/QLF'],\n",
       " [],\n",
       " ['hanc/QLF', ' sancti/QLF'],\n",
       " [' nostro/QLF'],\n",
       " ['uester/QLF', 'nostri/QLF'],\n",
       " ['nostri/QLF'],\n",
       " [' meus/QLF'],\n",
       " ['ingenuos/QLF', 'iniuste/QLF'],\n",
       " ['sacrosanctis/QLF', 'oportuna/QLF'],\n",
       " [],\n",
       " ['fidelium/QLF', 'nostrorum/QLF'],\n",
       " ['indiuidue/QLF', 'iustis/QLF', 'racionabilibus/QLF'],\n",
       " ['salica/QLF', 'omnia/QLF', 'supradicta/QLF'],\n",
       " ['Sacrosanctis/QLF'],\n",
       " ['fidelium/QLF', 'nostrorum/QLF'],\n",
       " ['ceca/QLF', 'nostram/QLF'],\n",
       " [],\n",
       " [],\n",
       " [' uester/QLF'],\n",
       " ['sancti/QLF'],\n",
       " ['alios/QLF', 'simili/QLF'],\n",
       " ['iustis/QLF', 'congruentibus/QLF'],\n",
       " ['indiuidue/QLF', 'iustis/QLF'],\n",
       " ['ingenuos/QLF'],\n",
       " ['iustis/QLF', 'rationabilibus/QLF', 'diuini/QLF'],\n",
       " ['pauperum/QLF', 'perhennibus/QLF'],\n",
       " [],\n",
       " ['Iustis/QLF'],\n",
       " ['nostre/QLF'],\n",
       " [],\n",
       " ['ingenuos/QLF'],\n",
       " [],\n",
       " ['liberi/QLF', 'nullus/QLF'],\n",
       " ['iustis/QLF', 'rationabilibus/QLF', 'diuini/QLF'],\n",
       " ['pauperum/QLF', 'perhennibus/QLF'],\n",
       " [],\n",
       " ['uester/QLF', 'nostri/QLF'],\n",
       " ['nostri/QLF'],\n",
       " [' meus/QLF'],\n",
       " [],\n",
       " ['nostre/QLF'],\n",
       " ['indiuidue/QLF'],\n",
       " ['indiuidue/QLF', 'iustis/QLF', 'racionabilibus/QLF'],\n",
       " ['uenerabilis/QLF', 'nostri/QLF'],\n",
       " ['monastica/QLF', 'regali/QLF'],\n",
       " ['inimicissimos/QLF', 'certo/QLF'],\n",
       " ['nostris/QLF'],\n",
       " ['opportunum/QLF', 'fera/QLF'],\n",
       " ['prefate/QLF'],\n",
       " ['colonos/QLF', ' quosque/QLF'],\n",
       " ['diuino/QLF', 'proficuum/QLF'],\n",
       " ['sacer/QLF', 'nostris/QLF'],\n",
       " ['nobiles/QLF', 'colonos/QLF'],\n",
       " [],\n",
       " ['fidelium/QLF', 'quidam/QLF', 'suarum/QLF'],\n",
       " [' sancti/QLF'],\n",
       " [' sancti/QLF'],\n",
       " [],\n",
       " [],\n",
       " ['iudiciaria/QLF'],\n",
       " ['profuturum/QLF'],\n",
       " [],\n",
       " ['imperatori/SUB </s><s> Quidam/QLF', 'sancti/QLF'],\n",
       " [' multis/QLF'],\n",
       " ['diuino/QLF', 'proficuum/QLF'],\n",
       " ['sacer/QLF', 'nostris/QLF'],\n",
       " ['regalem/QLF'],\n",
       " ['ingenuos/QLF', 'quamque/QLF', ' iniuste/QLF', 'ullas/QLF'],\n",
       " ['consistentes/QLF'],\n",
       " ['nostri/QLF'],\n",
       " ['nostri/QLF'],\n",
       " ['diuina/QLF', 'iustis/QLF', 'rationabilibus/QLF', 'diuini/QLF'],\n",
       " [' fiscalinos/QLF', 'tabellarios/QLF'],\n",
       " ['iustis/QLF'],\n",
       " ['regalem/QLF'],\n",
       " ['ingenuos/QLF', 'quamque/QLF', ' iniuste/QLF', 'ullas/QLF'],\n",
       " ['iustis/QLF', 'rationabilibus/QLF', 'diuini/QLF'],\n",
       " ['ingenuos/QLF', 'ullas/QLF'],\n",
       " [],\n",
       " ['iustis/QLF', 'racionabilibus/QLF', 'diuini/QLF'],\n",
       " ['mea/QLF'],\n",
       " [],\n",
       " ['necessarium/QLF'],\n",
       " ['necessarium/QLF'],\n",
       " ['necessarium/QLF'],\n",
       " ['superne/QLF'],\n",
       " [],\n",
       " ['passionalia/QLF', 'officiale/QLF'],\n",
       " ['quendam/QLF', 'dominicalem/QLF', 'prefatus/QLF'],\n",
       " ['sanctum/QLF'],\n",
       " ['omnipotentis/QLF'],\n",
       " ['diuinis/QLF', 'regie/QLF'],\n",
       " ['iuste/QLF'],\n",
       " ['specialem/QLF'],\n",
       " ['omnipotentis/QLF'],\n",
       " ['omnipotentis/QLF', 'iustis/QLF', 'rationabilibus/QLF', 'diuini/QLF'],\n",
       " ['ingenuos/QLF', ' libellarios/QLF', 'cartulatos/QLF'],\n",
       " [],\n",
       " [],\n",
       " ['iniuste/QLF'],\n",
       " ['ingenuos/QLF', 'ullas/QLF'],\n",
       " ['Sancti/QLF', ' nostros/QLF'],\n",
       " ['ingenuos/QLF', 'ullas/QLF'],\n",
       " ['Diuinis/QLF'],\n",
       " ['diuinis/QLF', 'regie/QLF'],\n",
       " ['exilis/QLF', 'omnium/QLF'],\n",
       " ['ingenuos/QLF', 'ullas/QLF'],\n",
       " ['iustis/QLF'],\n",
       " ['nostre/QLF'],\n",
       " ['sancti/QLF'],\n",
       " ['ingenuos/QLF'],\n",
       " ['omnipotentis/QLF', 'nostre/QLF'],\n",
       " ['sublimes/QLF', 'prouidentes/QLF'],\n",
       " [],\n",
       " ['nostris/QLF'],\n",
       " [],\n",
       " ['sancti/QLF'],\n",
       " ['ingenuos/QLF'],\n",
       " ['sancti/QLF'],\n",
       " ['ingenuos/QLF'],\n",
       " [],\n",
       " ['incultis/QLF'],\n",
       " ['cultis/QLF'],\n",
       " ['sancti/QLF', 'tota/QLF'],\n",
       " ['iustis/QLF'],\n",
       " ['omnipotentis/QLF', 'iustis/QLF', 'rationabilibus/QLF'],\n",
       " ['omnibus/QLF'],\n",
       " ['ingenuos/QLF', 'quamque/QLF'],\n",
       " ['omnipotentis/QLF', 'iustis/QLF', 'nostre/QLF'],\n",
       " ['imperialis/QLF'],\n",
       " ['profuturum/QLF'],\n",
       " ['augustus/QLF', 'profuturum/QLF'],\n",
       " ['diuinis/QLF'],\n",
       " ['diuinis/QLF'],\n",
       " ['colonos/QLF'],\n",
       " ['ingenuos/QLF'],\n",
       " ['imperialis/QLF'],\n",
       " ['ingenuos/QLF'],\n",
       " ['imperialis/QLF'],\n",
       " ['ingenuos/QLF', 'quamque/QLF'],\n",
       " ['Iustis/QLF'],\n",
       " ['omnipotentis/QLF', 'iustis/QLF', 'rationabilibus/QLF'],\n",
       " ['indiuidue/QLF', 'iustis/QLF', 'nostre/QLF'],\n",
       " [],\n",
       " ['quendam/QLF', 'proprii/QLF', 'sui/QLF', 'nostre/QLF'],\n",
       " ['ingenuos/QLF'],\n",
       " ['ingenuos/QLF'],\n",
       " ['superne/QLF'],\n",
       " ['nostro/QLF'],\n",
       " ['ingenuos/QLF', 'libellarios/QLF', 'quamque/QLF'],\n",
       " ['diuina/QLF', 'nostre/QLF'],\n",
       " ['liberi/QLF', 'iudiciaria/QLF'],\n",
       " ['ingenuos/QLF'],\n",
       " ['liberi/QLF', ' nulla/QLF', 'iudiciaria/QLF', 'pote/QLF'],\n",
       " ['pie/QLF'],\n",
       " [],\n",
       " [],\n",
       " [],\n",
       " ['populari/QLF'],\n",
       " ['sui/QLF'],\n",
       " ['sue/QLF'],\n",
       " ['alios/QLF'],\n",
       " ['populari/QLF'],\n",
       " ['summi/QLF', ' bone/QLF', 'fidelis/QLF'],\n",
       " [' suos/QLF'],\n",
       " [],\n",
       " ['ingenuos/QLF'],\n",
       " ['colonos/QLF'],\n",
       " ['iustis/QLF', 'nostre/QLF'],\n",
       " ['omnipotentis/QLF', 'iustis/QLF', 'nostre/QLF'],\n",
       " ['nostre/QLF'],\n",
       " ['nostri/QLF', 'sancti/QLF', 'amplior/QLF'],\n",
       " ['ingenuos/QLF'],\n",
       " ['pauperum/QLF'],\n",
       " ['ecclesiasticis/QLF'],\n",
       " ['ingenuos/QLF'],\n",
       " ['ingenuos/QLF'],\n",
       " ['absa/QLF'],\n",
       " ['uenerabilis/QLF', 'sancte/QLF', 'nostram/QLF'],\n",
       " ['diuinis/QLF', 'regie/QLF'],\n",
       " ['ingenuos/QLF'],\n",
       " ['iustis/QLF', 'benignum/QLF'],\n",
       " [],\n",
       " ['absa/QLF'],\n",
       " ['ingenuos/QLF'],\n",
       " [],\n",
       " ['diuina/QLF', 'iustis/QLF', 'rationabilibus/QLF'],\n",
       " ['pauperam/QLF'],\n",
       " ['ingenuos/QLF'],\n",
       " ['populari/QLF'],\n",
       " [],\n",
       " ['infantis/QLF'],\n",
       " [],\n",
       " ['sanctum/QLF'],\n",
       " [],\n",
       " ['sepememorato/QLF', 'sue/QLF'],\n",
       " ['alios/QLF'],\n",
       " ['diuinis/QLF', 'regie/QLF'],\n",
       " ['populari/QLF'],\n",
       " ['diuini/QLF'],\n",
       " ['populari/QLF'],\n",
       " [],\n",
       " ['proprium/QLF'],\n",
       " ['piis/QLF'],\n",
       " ['iniuste/QLF', 'iniuste/QLF'],\n",
       " [],\n",
       " [],\n",
       " ['ecclesiasticas/QLF', 'nostro/QLF'],\n",
       " ['ingenuos/QLF'],\n",
       " ['iniuste/QLF', 'iniuste/QLF'],\n",
       " ['piis/QLF'],\n",
       " ['subnixa/QLF </s><s> Simili/QLF', ' proprie/QLF', 'mei/QLF'],\n",
       " [],\n",
       " ['liberi/QLF'],\n",
       " [],\n",
       " [],\n",
       " ['omnes/QLF', 'uniuersis/QLF', 'sancti/QLF'],\n",
       " [],\n",
       " ['sua/QLF'],\n",
       " [],\n",
       " ['suus/QLF', 'predicto/QLF'],\n",
       " ['predicto/QLF'],\n",
       " [' sancti/QLF', 'prefato/QLF'],\n",
       " [],\n",
       " ['suus/QLF', ' prefati/QLF', 'sancti/QLF'],\n",
       " [],\n",
       " [' sancti/QLF'],\n",
       " ['suorum/QLF', 'sancti/QLF'],\n",
       " ['omnes/QLF', 'uniuersis/QLF', 'sancti/QLF'],\n",
       " ['diuina/QLF', 'iuste/QLF'],\n",
       " ['sua/QLF'],\n",
       " [],\n",
       " ['suus/QLF', 'predicto/QLF'],\n",
       " ['predicto/QLF'],\n",
       " [' sancti/QLF', 'prefato/QLF'],\n",
       " [],\n",
       " ['suus/QLF', ' prefati/QLF', 'sancti/QLF'],\n",
       " [],\n",
       " [' sancti/QLF'],\n",
       " ['sancti/QLF'],\n",
       " ['uniuersis/QLF', 'reliqua/QLF', 'omnia/QLF'],\n",
       " ['integrum/QLF', ' noster/QLF'],\n",
       " ['supradicto/QLF', 'alium/QLF', 'integrum/QLF'],\n",
       " ['alius/QLF', 'Archambaldus/NAM </s><s> Hos/QLF'],\n",
       " [],\n",
       " ['ingenuos/QLF', 'ullo/QLF'],\n",
       " ['diuinis/QLF'],\n",
       " [],\n",
       " ['ingenuos/QLF', 'ullas/QLF'],\n",
       " ['profuturum/QLF'],\n",
       " ['nostris/QLF', 'futuris/QLF'],\n",
       " ['ingenuos/QLF'],\n",
       " [],\n",
       " ['diuinis/QLF'],\n",
       " ['diuinis/QLF'],\n",
       " ['nostris/QLF'],\n",
       " ['liberi/QLF', 'nostro/QLF'],\n",
       " ['plebeios/QLF', 'ingenuos/QLF'],\n",
       " ['ingenuos/QLF', 'quamque/QLF', 'inlicitas/QLF'],\n",
       " [],\n",
       " ['ingenuos/QLF'],\n",
       " ['ingenuos/QLF', ' libellarios/QLF'],\n",
       " [],\n",
       " [],\n",
       " [],\n",
       " ['francos/QLF'],\n",
       " ['profuturum/QLF'],\n",
       " ['nostris/QLF', 'futuris/QLF'],\n",
       " ['ingenuos/QLF'],\n",
       " [],\n",
       " ['diuinis/QLF'],\n",
       " ['ecclesiasticas/QLF'],\n",
       " ['colonos/QLF', ' quosque/QLF'],\n",
       " ['ecclesiasticas/QLF'],\n",
       " ['colonos/QLF', ' quosque/QLF'],\n",
       " ['ecclesiasticas/QLF'],\n",
       " ['colonos/QLF', ' quosque/QLF'],\n",
       " [],\n",
       " ['colonos/QLF', ' quosque/QLF'],\n",
       " ['ecclesiasticas/QLF'],\n",
       " [' quosque/QLF'],\n",
       " ['massarias/QLF', 'ecclesiasticas/QLF'],\n",
       " ['colonos/QLF', ' quosque/QLF'],\n",
       " [' sancti/QLF'],\n",
       " ['cuncta/QLF'],\n",
       " ['colonos/QLF'],\n",
       " ['ecclesiasticas/QLF'],\n",
       " ['colonos/QLF', ' quosque/QLF'],\n",
       " [],\n",
       " ['colonos/QLF', ' quosque/QLF'],\n",
       " ['ecclesiasticas/QLF'],\n",
       " ['colonos/QLF', ' quosque/QLF'],\n",
       " ['ecclesiasticas/QLF'],\n",
       " ['colonos/QLF', ' quosque/QLF'],\n",
       " ['iustis/QLF', 'rationabilibus/QLF'],\n",
       " ['ecclesiasticas/QLF'],\n",
       " ['colonos/QLF'],\n",
       " ['iustis/QLF', 'rationabilibus/QLF', 'diuini/QLF'],\n",
       " ['imperialis/QLF', 'tanto/QLF'],\n",
       " [],\n",
       " ['omnium/QLF'],\n",
       " ['nostre/QLF'],\n",
       " ['ecclesiasticis/QLF'],\n",
       " ['ingenuos/QLF', 'beati/QLF'],\n",
       " ['indiuidue/QLF', 'iustis/QLF', 'nostre/QLF'],\n",
       " ['publica/QLF', 'Sancti/QLF'],\n",
       " ['ingenuos/QLF'],\n",
       " ['ingenuos/QLF'],\n",
       " ['indiuidue/QLF', 'oportuna/QLF'],\n",
       " ['oportuna/QLF'],\n",
       " ['libellarios/QLF', 'beati/QLF'],\n",
       " [],\n",
       " ['iuges/QLF', 'libere/QLF'],\n",
       " ['predictos/QLF', 'nominatum/QLF'],\n",
       " ['suis/QLF', 'utiliorem/QLF'],\n",
       " ['omnes/QLF', 'liberi/QLF', ' libellarii/QLF'],\n",
       " [],\n",
       " ['ingenuos/QLF', 'libellarios/QLF', 'quamque/QLF'],\n",
       " ['suis/QLF', 'mobilibus/QLF', 'immobilibus/QLF', 'sui/QLF'],\n",
       " ['nostrorum/QLF', 'nostris/QLF'],\n",
       " [],\n",
       " ['nostre/QLF'],\n",
       " ['oportuna/QLF'],\n",
       " ['prefatus/QLF'],\n",
       " [],\n",
       " [],\n",
       " ['ingenuos/QLF', 'ullo/QLF'],\n",
       " ['ingenuos/QLF'],\n",
       " ['ingenuos/QLF', 'ullas/QLF'],\n",
       " ['ingenuos/QLF'],\n",
       " ['suis/QLF'],\n",
       " [],\n",
       " [],\n",
       " ['ingenuos/QLF'],\n",
       " ['diuinis/QLF'],\n",
       " ['nostrorum/QLF', 'nostro/QLF'],\n",
       " ['suos/QLF', 'manentes/QLF'],\n",
       " ['indignissimus/QLF', ' sancti/QLF'],\n",
       " ['Diuinis/QLF'],\n",
       " ['suis/QLF'],\n",
       " [],\n",
       " [],\n",
       " ['ingenuos/QLF'],\n",
       " ['iustis/QLF', 'nostre/QLF'],\n",
       " [],\n",
       " [],\n",
       " ['operarios/QLF'],\n",
       " ['operarios/QLF'],\n",
       " [],\n",
       " ['ingenuos/QLF'],\n",
       " ['diuina/QLF', 'iustis/QLF', 'nostre/QLF'],\n",
       " [],\n",
       " ['uenerabili/QLF', 'quendam/QLF', 'proprio/QLF'],\n",
       " [],\n",
       " ['indignissimus/QLF', ' sancti/QLF'],\n",
       " ['omnipotentis/QLF', 'nostrorum/QLF', 'fidelium/QLF', 'imperialis/QLF'],\n",
       " ['nostro/QLF'],\n",
       " ['ingenuos/QLF', 'iniuste/QLF'],\n",
       " ['ecclesiasticas/QLF', 'nostro/QLF'],\n",
       " ['imperialis/QLF'],\n",
       " ['ingenuos/QLF'],\n",
       " ['omni/QLF',\n",
       "  'potentis/QLF',\n",
       "  'nostrorum/QLF',\n",
       "  'fidelium/QLF',\n",
       "  'imperialis/QLF'],\n",
       " ['suis/QLF'],\n",
       " ['prefatorum/QLF', 'pertinencium/QLF'],\n",
       " ['ingenuos/QLF'],\n",
       " ['imperialis/QLF'],\n",
       " ['ingenuos/QLF'],\n",
       " ['ingenuos/QLF', 'franchos/QLF'],\n",
       " ['iustis/QLF', 'rationabilibus/QLF', 'diuini/QLF'],\n",
       " ['Iustis/QLF', 'Diuini/QLF'],\n",
       " ['suis/QLF'],\n",
       " ['prefatorum/QLF'],\n",
       " ['ingenuos/QLF'],\n",
       " ['sua/QLF'],\n",
       " ['ingenuos/QLF'],\n",
       " ['diuina/QLF'],\n",
       " ['ingenuos/QLF'],\n",
       " [],\n",
       " ['nostrorum/QLF', 'fidelium/QLF'],\n",
       " ['diuina/QLF', 'ecclesiastica/QLF'],\n",
       " ['ingenuos/QLF', 'nostri/QLF'],\n",
       " [],\n",
       " ['ecclesiasticas/QLF', 'nostro/QLF'],\n",
       " ['ipsins/QLF', 'ingenuos/QLF', 'iniuste/QLF'],\n",
       " ['ingenuos/QLF'],\n",
       " ['ingenuos/QLF', 'curtis/QLF'],\n",
       " [' tutis/QLF', 'cuidam/QLF', 'nostre/QLF'],\n",
       " ['tales/QLF', 'quales/QLF'],\n",
       " ['diuina/QLF'],\n",
       " ['ingenuos/QLF', 'iniuste/QLF'],\n",
       " ['eternum/QLF', 'ullius/QLF'],\n",
       " ['ingenuos/QLF'],\n",
       " ['salutare/QLF', 'suarum/QLF'],\n",
       " ['ingenuos/QLF', 'ullas/QLF'],\n",
       " ['diuina/QLF'],\n",
       " ['liberi/QLF'],\n",
       " ['ingenuos/QLF', 'curtis/QLF'],\n",
       " ['tales/QLF', 'quales/QLF'],\n",
       " ['diuina/QLF'],\n",
       " ['ingenuos/QLF', 'iniuste/QLF'],\n",
       " ['eternum/QLF', 'ullius/QLF'],\n",
       " ['ingenuos/QLF'],\n",
       " ['salutare/QLF', 'suarum/QLF'],\n",
       " ['ingenuos/QLF', 'ullas/QLF'],\n",
       " ['diuina/QLF', 'peticionibusc/QLF'],\n",
       " ['ingenuos/QLF', 'curtis/QLF'],\n",
       " ['iustis/QLF', 'nostre/QLF'],\n",
       " ['suam/QLF'],\n",
       " [],\n",
       " ['purissime/QLF', 'ecclesiastica/QLF'],\n",
       " ['deitatis/SUB </s><s> Tuam/QLF'],\n",
       " ['exiguus/QLF'],\n",
       " ['exiguus/QLF', 'omni/QLF'],\n",
       " ['religioso/QLF'],\n",
       " ['religioso/QLF', 'uenerabilis/QLF'],\n",
       " [],\n",
       " ['sanctum/QLF', 'suum/QLF', 'proprium/QLF', 'arabilis/QLF'],\n",
       " ['arabilis/QLF'],\n",
       " [' sancti/QLF', 'proprium/QLF'],\n",
       " ['eternum/QLF', 'ullius/QLF'],\n",
       " ['ingenuos/QLF'],\n",
       " ['iustis/QLF', 'rationabilibus/QLF', 'diuini/QLF'],\n",
       " ['ingenuos/QLF', 'iniuste/QLF'],\n",
       " ['nostrorum/QLF', 'fidelium/QLF', 'iustis/QLF'],\n",
       " ['ingenuos/QLF'],\n",
       " ['prompta/QLF'],\n",
       " ['prompta/QLF'],\n",
       " ['diuinis/QLF'],\n",
       " ['iamdicti/QLF', 'ingenuos/QLF', 'ullas/QLF'],\n",
       " ['ingenuos/QLF'],\n",
       " ['indiuidue/QLF', 'iustis/QLF', 'nostree/QLF'],\n",
       " ['suis/QLF'],\n",
       " ['prefatorum/QLF', 'pertinencium/QLF'],\n",
       " ['ingenuos/QLF'],\n",
       " ['suis/QLF'],\n",
       " ['inauditam/QLF'],\n",
       " [' suorum/QLF', 'fidelium/QLF'],\n",
       " ['ingenuos/QLF'],\n",
       " ['nostri/QLF'],\n",
       " ['ingenuos/QLF'],\n",
       " ['ingenuos/QLF'],\n",
       " [],\n",
       " ['dignum/QLF', 'iustum/QLF'],\n",
       " ['diuina/QLF', 'ecclesiasticis/QLF'],\n",
       " ['ceteros/QLF'],\n",
       " [],\n",
       " ['dignum/QLF', 'iustum/QLF'],\n",
       " ['diuina/QLF', 'ecclesiasticis/QLF'],\n",
       " ['ceteros/QLF'],\n",
       " ['nostrorum/QLF', 'fidelium/QLF', 'iustis/QLF'],\n",
       " [],\n",
       " ['dignum/QLF', 'iustum/QLF'],\n",
       " ['suis/QLF'],\n",
       " ['suis/QLF'],\n",
       " ['inauditam/QLF'],\n",
       " ['ingenuos/QLF'],\n",
       " ['nostri/QLF'],\n",
       " [],\n",
       " ['nostris/QLF'],\n",
       " ['ingenuos/QLF', 'alias/QLF'],\n",
       " [],\n",
       " [],\n",
       " [],\n",
       " ['ingenuos/QLF'],\n",
       " [],\n",
       " [],\n",
       " ['nostree/QLF', ' nostri/QLF'],\n",
       " ['diuina/QLF', 'elementia/QLF'],\n",
       " ['nostree/QLF', ' nostri/QLF'],\n",
       " ['diuina/QLF', 'elementia/QLF', 'ecclesiarumc/QLF'],\n",
       " ['operarios/QLF'],\n",
       " ['sanctum/QLF'],\n",
       " [],\n",
       " ['diuinis/QLF'],\n",
       " ['futurorum/QLF'],\n",
       " ['nostris/QLF', 'uenerabilis/QLF'],\n",
       " ['ingenuos/QLF', 'quamque/QLF'],\n",
       " ['humilis/QLF'],\n",
       " ['diuinis/QLF'],\n",
       " [],\n",
       " [],\n",
       " [],\n",
       " [],\n",
       " ['alia/QLF'],\n",
       " [],\n",
       " [],\n",
       " [],\n",
       " [],\n",
       " [],\n",
       " ['integra/QLF'],\n",
       " [],\n",
       " [],\n",
       " ['toti/QLF'],\n",
       " [],\n",
       " [],\n",
       " [],\n",
       " [],\n",
       " ['tantumodo/QLF', 'manentes/QLF', 'commendatos/QLF'],\n",
       " ['absentes/QLF'],\n",
       " ['nostre/QLF'],\n",
       " [],\n",
       " ['ingenuos/QLF'],\n",
       " ['ingenuos/QLF'],\n",
       " ['diuina/QLF'],\n",
       " ['nostre/QLF'],\n",
       " ['iustas/QLF', 'benigne/QLF'],\n",
       " ['ingenuos/QLF'],\n",
       " ['diuina/QLF'],\n",
       " ['nostre/QLF'],\n",
       " ['iustas/QLF', 'benigne/QLF'],\n",
       " ['predicta/QLF'],\n",
       " [],\n",
       " ['omnia/QLF'],\n",
       " [],\n",
       " ['nostre/QLF'],\n",
       " [],\n",
       " [],\n",
       " ['primogenito/QLF', 'alio/QLF', 'omnia/QLF'],\n",
       " ['diuina/QLF'],\n",
       " ['diuina/QLF', 'pie/QLF'],\n",
       " ['diuina/QLF'],\n",
       " [],\n",
       " ['diuina/QLF'],\n",
       " ['diuina/QLF', 'pie/QLF'],\n",
       " ['diuina/QLF'],\n",
       " [],\n",
       " ['nostre/QLF'],\n",
       " ['temporali/QLF', ' boni/QLF', 'uestre/QLF'],\n",
       " ['fiscaline/QLF'],\n",
       " ['prefate/QLF', 'Deidonum/QLF'],\n",
       " [],\n",
       " ['dicte/QLF', 'uenerabilis/QLF'],\n",
       " [],\n",
       " ['sua/QLF', ' sancte/QLF'],\n",
       " [],\n",
       " ['sua/QLF'],\n",
       " ['Iustis/QLF', 'Diuini/QLF'],\n",
       " ['ingenuos/QLF'],\n",
       " ['ingenuos/QLF', 'libellarios/QLF', 'quamque/QLF'],\n",
       " ['diuina/QLF', 'iustis/QLF', 'rationabilibus/QLF', 'diuini/QLF'],\n",
       " ['ingenuos/QLF'],\n",
       " ['ingenuos/QLF', 'libellarios/QLF', 'quamque/QLF'],\n",
       " ['diuina/QLF', 'iustis/QLF', 'rationabilibus/QLF', 'diuini/QLF'],\n",
       " ['ingenuos/QLF'],\n",
       " ['uenerabilis/QLF'],\n",
       " ['dictis/QLF', 'liberi/QLF'],\n",
       " [],\n",
       " ['omnipotentis/QLF', 'ecclesiasticis/QLF'],\n",
       " ['ingenuos/QLF'],\n",
       " ['diuina/QLF'],\n",
       " ['ingenuos/QLF'],\n",
       " ['omni/QLF'],\n",
       " ['diuina/QLF'],\n",
       " ['ingenuos/QLF'],\n",
       " ['litose/QLF', 'omni/QLF'],\n",
       " ['diuino/QLF', 'serenissimus/QLF', 'iustis/QLF', 'nostre/QLF'],\n",
       " ['nostre/QLF'],\n",
       " ['populari/QLF'],\n",
       " ['nostre/QLF'],\n",
       " ['sancti/QLF'],\n",
       " [' sancti/QLF'],\n",
       " ['diuina/QLF'],\n",
       " ['ingenuos/QLF'],\n",
       " ['omnipotentis/QLF', 'sancto/QLF'],\n",
       " [' noster/QLF'],\n",
       " [],\n",
       " ['nostros/QLF', 'fiscalinos/QLF', 'regie/QLF', 'parafridos/QLF'],\n",
       " ['consocii/QLF', 'regali/QLF'],\n",
       " [' noster/QLF'],\n",
       " [],\n",
       " ['nostros/QLF', 'fiscalinos/QLF', 'regie/QLF', 'parafridos/QLF'],\n",
       " ['consocii/QLF', 'regali/QLF'],\n",
       " ['dicte/QLF', 'uenerabilis/QLF'],\n",
       " ['populari/QLF'],\n",
       " [' suorum/QLF'],\n",
       " ['sanctis/QLF'],\n",
       " ['ullius/QLF'],\n",
       " ['diuinis/QLF'],\n",
       " ['ingenuos/QLF', 'ullas/QLF'],\n",
       " ['ecclesiasticas/QLF', 'nostro/QLF'],\n",
       " ['ingenuos/QLF', 'ullo/QLF'],\n",
       " ['nostri/QLF',\n",
       "  'quendam/QLF',\n",
       "  'proprii/QLF',\n",
       "  'nostri/QLF',\n",
       "  'nuncupatum/QLF',\n",
       "  'liberum/QLF'],\n",
       " ['ecclesiasticas/QLF', 'nostro/QLF'],\n",
       " ['ingenuos/QLF', 'ullo/QLF'],\n",
       " ['nostri/QLF',\n",
       "  'quendam/QLF',\n",
       "  'proprii/QLF',\n",
       "  'nostri/QLF',\n",
       "  'nuncupatum/QLF',\n",
       "  'liberum/QLF'],\n",
       " ['inuiolatum/QLF', 'prouida/QLF'],\n",
       " ['quiddam/QLF'],\n",
       " ['ecclesiasticas/QLF', 'nostro/QLF'],\n",
       " ['ingenuos/QLF', 'ullo/QLF'],\n",
       " [],\n",
       " [],\n",
       " ['Sanctis/QLF'],\n",
       " ['ullius/QLF'],\n",
       " [],\n",
       " [],\n",
       " ['omnia/QLF', 'omnibus/QLF'],\n",
       " ['omnes/QLF'],\n",
       " ['uenerabilis/QLF', 'sancte/QLF', 'nostram/QLF'],\n",
       " ['ingenuos/QLF'],\n",
       " ['diuina/QLF'],\n",
       " ['diuinis/QLF'],\n",
       " ['ingenuos/QLF', 'ullas/QLF'],\n",
       " ['diuinis/QLF'],\n",
       " [],\n",
       " ['ingenuos/QLF', 'ullas/QLF'],\n",
       " [],\n",
       " ['diuina/QLF'],\n",
       " ['diuina/QLF'],\n",
       " ['serenissimus/QLF', 'iustis/QLF', 'nostram/QLF'],\n",
       " ['comodidatem/QLF', 'diuina/QLF'],\n",
       " ['nullus/QLF', 'nulla/QLF'],\n",
       " ['nostri/QLF', 'ecclesiasticis/QLF'],\n",
       " ['sue/QLF']]"
      ]
     },
     "execution_count": 15,
     "metadata": {},
     "output_type": "execute_result"
    }
   ],
   "source": [
    "for i in liste:\n",
    "    for j in i:\n",
    "        if j[-3:] != 'QLF':\n",
    "            i.remove(j)\n",
    "liste"
   ]
  },
  {
   "cell_type": "code",
   "execution_count": 16,
   "id": "f0a517ad",
   "metadata": {},
   "outputs": [],
   "source": [
    "df['qlf'] = liste  \n",
    "df['word'] = df['word'].str.split('/').str[0]\n",
    "df['word'] = df['word'].str.lower()\n",
    "df['cas_seruus'] = \"\"\n",
    "df['cas_qlf']= \"\"\n",
    "for i in range(len(df['qlf'])):\n",
    "    for j in range(len(df['qlf'][i])):\n",
    "        df['qlf'][i][j] = df['qlf'][i][j].split('/')[0].lower()\n",
    "\n",
    "df['qlf_1'] = \"\"\n",
    "df['qlf_2'] = \"\"\n",
    "df['qlf_3'] = \"\"\n",
    "df['qlf_4'] = \"\"\n",
    "df['qlf_5'] = \"\"\n",
    "for i in range(len(liste)):\n",
    "    for cas in range(len(liste[i])):\n",
    "        if cas == 0:\n",
    "            df['qlf_1'][i] = liste[i][cas]\n",
    "        if cas == 1:\n",
    "            df['qlf_2'][i] = liste[i][cas]\n",
    "        if cas == 2:\n",
    "            df['qlf_3'][i] = liste[i][cas]\n",
    "        if cas == 3:\n",
    "            df['qlf_4'][i] = liste[i][cas]\n",
    "        if cas == 4:\n",
    "            df['qlf_5'][i] = liste[i][cas]\n",
    "            \n",
    "for i in range(len(df)):\n",
    "    if df['word'][i] == ' seruus':\n",
    "        df['cas_seruus'][i] = 'nom_sg'\n",
    "    if df['word'][i] == ' seruorum':\n",
    "        df['cas_seruus'][i] = 'gen_pl'\n",
    "    if df['word'][i] == ' seruos':\n",
    "        df['cas_seruus'][i] = 'acc_pl'\n",
    "    if df['word'][i] == ' seruo':\n",
    "        df['cas_seruus'][i] = 'dat_sg | abl_sg'\n",
    "    if df['word'][i] == ' serui':\n",
    "        df['cas_seruus'][i] = 'gen_sg | nom pl'\n",
    "    if df['word'][i] == ' seruum':\n",
    "        df['cas_seruus'][i] = 'acc_sg'\n",
    "    if df['word'][i] == ' seruis':\n",
    "        df['cas_seruus'][i] = 'dat_pl | abl_pl'\n",
    "        \n",
    "df['cas_qlf_1'] = \"\"\n",
    "df['cas_qlf_2'] = \"\"\n",
    "df['cas_qlf_3'] = \"\"\n",
    "df['cas_qlf_4'] = \"\"\n",
    "df['cas_qlf_5'] = \"\"\n",
    "\n",
    "for i in range(len(df)):\n",
    "    if df['qlf_1'][i].endswith(('us','er')):\n",
    "        df['cas_qlf_1'][i] = ['nom_sg']\n",
    "    elif df['qlf_1'][i].endswith('is'):\n",
    "        df['cas_qlf_1'][i] = ['nom_sg','gen_sg','dat_pl','abl_pl']\n",
    "    elif df['qlf_1'][i].endswith('um'):\n",
    "        df['cas_qlf_1'][i] = ['acc_sg','gen_pl'] \n",
    "    elif df['qlf_1'][i].endswith('e'):\n",
    "        df['cas_qlf_1'][i] = ['abl_sg'] \n",
    "    elif df['qlf_1'][i].endswith('i'):\n",
    "        df['cas_qlf_1'][i] = ['gen_sg','dat_sg','nom_pl']\n",
    "    elif df['qlf_1'][i].endswith('is'):\n",
    "        df['cas_qlf_1'][i] = ['dat_pl','abl_pl','gen_sg ']\n",
    "    elif df['qlf_1'][i].endswith('os'):\n",
    "        df['cas_qlf_1'][i] = ['acc_pl']\n",
    "    elif df['qlf_1'][i].endswith('orum'):\n",
    "        df['cas_qlf_1'][i] = ['gen_pl']\n",
    "    elif df['qlf_1'][i].endswith('es'):\n",
    "        df['cas_qlf_1'][i] = ['nom_pl','acc_pl']\n",
    "    elif df['qlf_1'][i].endswith('ibus'):\n",
    "        df['cas_qlf_1'][i] = ['dat_pl','abl_pl']\n",
    "    elif df['qlf_1'][i].endswith('o'):\n",
    "        df['cas_qlf_1'][i] = ['dat_sg','abl_sg']\n",
    "    else:\n",
    "        df['cas_qlf_1'][i] = [\"\"]\n",
    "\n",
    "for i in range(len(df)):\n",
    "    if df['qlf_2'][i].endswith(('us','er')):\n",
    "        df['cas_qlf_2'][i] = ['nom_sg']\n",
    "    elif df['qlf_2'][i].endswith('is'):\n",
    "        df['cas_qlf_2'][i] = ['nom_sg','gen_sg','dat_pl','abl_pl']\n",
    "    elif df['qlf_2'][i].endswith('um'):\n",
    "        df['cas_qlf_2'][i] = ['acc_sg','gen_pl'] \n",
    "    elif df['qlf_2'][i].endswith('e'):\n",
    "        df['cas_qlf_2'][i] = ['abl_sg']\n",
    "    elif df['qlf_2'][i].endswith('i'):\n",
    "        df['cas_qlf_2'][i] = ['gen_sg','dat_sg','nom_pl']\n",
    "    elif df['qlf_2'][i].endswith('is'):\n",
    "        df['cas_qlf_2'][i] = ['dat_pl','abl_pl','gen_sg ']\n",
    "    elif df['qlf_2'][i].endswith('os'):\n",
    "        df['cas_qlf_2'][i] = ['acc_pl']\n",
    "    elif df['qlf_2'][i].endswith('orum'):\n",
    "        df['cas_qlf_2'][i] = ['gen_pl'] \n",
    "    elif df['qlf_2'][i].endswith('es'):\n",
    "        df['cas_qlf_2'][i] = ['nom_pl','acc_pl']\n",
    "    elif df['qlf_2'][i].endswith('ibus'):\n",
    "        df['cas_qlf_2'][i] = ['dat_pl','abl_pl']\n",
    "    elif df['qlf_2'][i].endswith('o'):\n",
    "        df['cas_qlf_2'][i] = ['dat_sg','abl_sg']\n",
    "    else:\n",
    "        df['cas_qlf_2'][i] = [\"\"]\n",
    "        \n",
    "for i in range(len(df)):\n",
    "    if df['qlf_3'][i].endswith(('us','er')):\n",
    "        df['cas_qlf_3'][i] = ['nom_sg']\n",
    "    elif df['qlf_3'][i].endswith('is'):\n",
    "        df['cas_qlf_3'][i] = ['nom_sg','gen_sg','dat_pl','abl_pl']\n",
    "    elif df['qlf_3'][i].endswith('um'):\n",
    "        df['cas_qlf_3'][i] = ['acc_sg','gen_pl'] \n",
    "    elif df['qlf_3'][i].endswith('e'):\n",
    "        df['cas_qlf_3'][i] = ['abl_sg'] \n",
    "    elif df['qlf_3'][i].endswith('i'):\n",
    "        df['cas_qlf_3'][i] = ['gen_sg','dat_sg','nom_pl']\n",
    "    elif df['qlf_3'][i].endswith('is'):\n",
    "        df['cas_qlf_3'][i] = ['dat_pl','abl_pl','gen_sg ']\n",
    "    elif df['qlf_3'][i].endswith('os'):\n",
    "        df['cas_qlf_3'][i] = ['acc_pl']\n",
    "    elif df['qlf_3'][i].endswith('orum'):\n",
    "        df['cas_qlf_3'][i] = ['gen_pl'] \n",
    "    elif df['qlf_3'][i].endswith('es'):\n",
    "        df['cas_qlf_3'][i] = ['nom_pl','acc_pl']\n",
    "    elif df['qlf_3'][i].endswith('ibus'):\n",
    "        df['cas_qlf_3'][i] = ['dat_pl','abl_pl']\n",
    "    elif df['qlf_3'][i].endswith('o'):\n",
    "        df['cas_qlf_3'][i] = ['dat_sg','abl_sg']\n",
    "    else:\n",
    "        df['cas_qlf_3'][i] = [\"\"]\n",
    "\n",
    "for i in range(len(df)):\n",
    "    if df['qlf_4'][i].endswith(('us','er')):\n",
    "        df['cas_qlf_4'][i] = ['nom_sg']\n",
    "    elif df['qlf_4'][i].endswith('is'):\n",
    "        df['cas_qlf_4'][i] = ['nom_sg','gen_sg','dat_pl','abl_pl']\n",
    "    elif df['qlf_4'][i].endswith('um'):\n",
    "        df['cas_qlf_4'][i] = ['acc_sg','gen_pl'] \n",
    "    elif df['qlf_4'][i].endswith('e'):\n",
    "        df['cas_qlf_4'][i] = ['abl_sg'] \n",
    "    elif df['qlf_4'][i].endswith('i'):\n",
    "        df['cas_qlf_4'][i] = ['gen_sg','dat_sg','nom_pl']\n",
    "    elif df['qlf_4'][i].endswith('is'):\n",
    "        df['cas_qlf_4'][i] = ['dat_pl','abl_pl','gen_sg ']\n",
    "    elif df['qlf_4'][i].endswith('os'):\n",
    "        df['cas_qlf_4'][i] = ['acc_pl'] \n",
    "    elif df['qlf_4'][i].endswith('orum'):\n",
    "        df['cas_qlf_4'][i] = ['gen_pl'] \n",
    "    elif df['qlf_4'][i].endswith('es'):\n",
    "        df['cas_qlf_4'][i] = ['nom_pl','acc_pl']\n",
    "    elif df['qlf_4'][i].endswith('ibus'):\n",
    "        df['cas_qlf_4'][i] = ['dat_pl','abl_pl']\n",
    "    elif df['qlf_4'][i].endswith('o'):\n",
    "        df['cas_qlf_4'][i] = ['dat_sg','abl_sg']\n",
    "    else:\n",
    "        df['cas_qlf_4'][i] = [\"\"]\n",
    "\n",
    "for i in range(len(df)):\n",
    "    if df['qlf_5'][i].endswith(('us','er')):\n",
    "        df['cas_qlf_5'][i] = ['nom_sg']\n",
    "    elif df['qlf_5'][i].endswith('is'):\n",
    "        df['cas_qlf_5'][i] = ['nom_sg','gen_sg','dat_pl','abl_pl']\n",
    "    elif df['qlf_5'][i].endswith('um'):\n",
    "        df['cas_qlf_5'][i] = ['acc_sg','gen_pl'] \n",
    "    elif df['qlf_5'][i].endswith('e'):\n",
    "        df['cas_qlf_5'][i] = ['abl_sg'] \n",
    "    elif df['qlf_5'][i].endswith('i'):\n",
    "        df['cas_qlf_5'][i] = ['gen_sg','dat_sg','nom_pl']\n",
    "    elif df['qlf_5'][i].endswith('is'):\n",
    "        df['cas_qlf_5'][i] = ['dat_pl','abl_pl','gen_sg ']\n",
    "    elif df['qlf_5'][i].endswith('os'):\n",
    "        df['cas_qlf_5'][i] = ['acc_pl']\n",
    "    elif df['qlf_5'][i].endswith('orum'):\n",
    "        df['cas_qlf_5'][i] = ['gen_pl']\n",
    "    elif df['qlf_5'][i].endswith('es'):\n",
    "        df['cas_qlf_5'][i] = ['nom_pl','acc_pl']\n",
    "    elif df['qlf_5'][i].endswith('ibus'):\n",
    "        df['cas_qlf_5'][i] = ['dat_pl','abl_pl']\n",
    "    elif df['qlf_5'][i].endswith('o'):\n",
    "        df['cas_qlf_5'][i] = ['dat_sg','abl_sg']\n",
    "    else:\n",
    "        df['cas_qlf_5'][i] = [\"\"]\n",
    "\n",
    "liste_res = []\n",
    "liste_cas = []\n",
    "\n",
    "\n",
    "for i in range(len(df)):\n",
    "    for j in range(len(df['cas_qlf_1'][i])):\n",
    "        if df['cas_qlf_1'][i][j] == df['cas_seruus'][i]:\n",
    "            liste_res.append(df['qlf_1'][i])\n",
    "            liste_cas.append(df['cas_qlf_1'][i][j])\n",
    "for i in range(len(df)):\n",
    "    for j in range(len(df['cas_qlf_2'][i])):\n",
    "        if df['cas_qlf_2'][i][j] == df['cas_seruus'][i]:\n",
    "            liste_res.append(df['qlf_2'][i])\n",
    "            liste_cas.append(df['cas_qlf_2'][i][j])\n",
    "for i in range(len(df)):\n",
    "    for j in range(len(df['cas_qlf_3'][i])):\n",
    "        if df['cas_qlf_3'][i][j] == df['cas_seruus'][i]:\n",
    "            liste_res.append(df['qlf_3'][i])\n",
    "            liste_cas.append(df['cas_qlf_3'][i][j])\n",
    "for i in range(len(df)):\n",
    "    for j in range(len(df['cas_qlf_4'][i])):\n",
    "        if df['cas_qlf_4'][i][j] == df['cas_seruus'][i]:\n",
    "            liste_res.append(df['qlf_4'][i])\n",
    "            liste_cas.append(df['cas_qlf_4'][i][j])\n",
    "for i in range(len(df)):\n",
    "    for j in range(len(df['cas_qlf_5'][i])):\n",
    "        if df['cas_qlf_5'][i][j] == df['cas_seruus'][i]:\n",
    "            liste_res.append(df['qlf_5'][i])\n",
    "            liste_cas.append(df['cas_qlf_5'][i][j])\n",
    "            \n",
    "list_tuples_QLF = Counter(liste_res).most_common()\n",
    "    \n",
    "dictionnaire_vide = dict(list_tuples_QLF)\n",
    "    \n",
    "dict_items = dictionnaire_vide.items()\n",
    "    \n",
    "first_hundred = list(dict_items)#[:100]\n",
    "    \n",
    "dico_final = dict(first_hundred)\n",
    "    \n",
    "b = list(dico_final.keys())\n",
    "a = list(dico_final.values())\n",
    "\n",
    "df_final_850 = pd.DataFrame(a,b)\n",
    "df_final_850.reset_index(inplace=True)\n",
    "df_final_850.columns = [\"Words\",\"Occ\"]\n",
    "\n",
    "list_tuples_QLF_cas = Counter(liste_cas).most_common()\n",
    "    \n",
    "dictionnaire_vide = dict(list_tuples_QLF_cas)\n",
    "    \n",
    "dict_items = dictionnaire_vide.items()\n",
    "    \n",
    "first_hundred = list(dict_items)#[:100]\n",
    "    \n",
    "dico_final = dict(first_hundred)\n",
    "    \n",
    "a = list(dico_final.values())\n",
    "b = list(dico_final.keys())\n",
    "\n",
    "df_final_cas_850 = pd.DataFrame(a,b)\n",
    "df_final_cas_850.reset_index(inplace=True)\n",
    "df_final_cas_850.columns = [\"Cas\",\"Occ\"]"
   ]
  },
  {
   "cell_type": "code",
   "execution_count": 448,
   "id": "40484385",
   "metadata": {},
   "outputs": [],
   "source": [
    "colnames = ['indice','pre','word','post']\n",
    "df = pd.read_csv('/home/noe/Documents/Master_2/Mémoire/SketchEngineExport/Lieux/Comparaison/Angleterre.csv', header = 4, names=colnames)\n",
    "df = df[['pre','word','post']]\n",
    "df['new'] = df['pre'] + (' ') + df['word']+ (' ') + df['post']\n",
    "df['new'] = df['new'].str.lower()\n",
    "df['drop'] = df['new'].str.find('seruus/sub  seruorum/sub  dei/sub ')\n",
    "df = df[df['drop'] == -1]\n",
    "df = df.reset_index()\n",
    "df.pop('index')\n",
    "df.pop('drop')\n",
    "df.pop('new')\n",
    "liste_1 = df['pre'].str.split(('  ')).tolist()\n",
    "for i in range(len(liste_1)):\n",
    "    liste_1[i] = liste_1[i][-5:]\n",
    "    \n",
    "liste_2 = df['post'].str.split(('  ')).tolist()\n",
    "for i in range(len(liste_2)):\n",
    "    liste_2[i] = liste_2[i][:5]\n",
    "liste = []\n",
    "for i in range(len(liste_1)):\n",
    "    liste.append(liste_1[i] + liste_2[i])"
   ]
  },
  {
   "cell_type": "code",
   "execution_count": 453,
   "id": "5dfa8078",
   "metadata": {},
   "outputs": [
    {
     "data": {
      "text/plain": [
       "[['perpetuam/QLF', 'Stikeneia/QLF', ' meum/QLF'],\n",
       " ['alios/QLF', 'ullas/QLF'],\n",
       " ['Innocenti/QLF', 'uestre/QLF', 'uicario/QLF'],\n",
       " [' meum/QLF', 'tota/QLF', 'sua/QLF'],\n",
       " ['masculus/QLF'],\n",
       " ['inutiles/QLF'],\n",
       " ['inutiles/QLF'],\n",
       " ['dilectis/QLF'],\n",
       " [' dilectis/QLF'],\n",
       " ['summo/QLF', 'deuotissimi/QLF', 'sue/QLF', 'diuina/QLF'],\n",
       " ['sue/QLF', 'inutiles/QLF'],\n",
       " ['sue/QLF', 'inutiles/QLF'],\n",
       " ['octobris/QLF </s><s> Honorius/QLF', 'uestras/QLF'],\n",
       " ['octobris/QLF </s><s> Honorius/QLF', 'uestras/QLF'],\n",
       " [],\n",
       " ['nostro/QLF'],\n",
       " ['natiui/QLF', ' sepefati/QLF', 'suorum/QLF'],\n",
       " ['incognito/QLF', 'natiui/QLF', 'talibus/QLF'],\n",
       " ['summo/QLF', 'sue/QLF', ' diuina/QLF'],\n",
       " ['piis/QLF', 'pie/QLF', 'sue/QLF'],\n",
       " [],\n",
       " ['piis/QLF', 'pie/QLF', 'sue/QLF'],\n",
       " ['quietos/QLF', 'plenam/QLF'],\n",
       " ['quietos/QLF', 'plenam/QLF'],\n",
       " [' suus/QLF', 'diuina/QLF'],\n",
       " [' uenerabilibus/QLF'],\n",
       " ['omnes/QLF', 'suos/QLF', 'predictus/QLF'],\n",
       " ['omnes/QLF', 'suos/QLF', 'quamdam/QLF'],\n",
       " [],\n",
       " [],\n",
       " ['uestrorum/QLF', 'liberorum/QLF', 'suorum/QLF', 'omnibus/QLF'],\n",
       " ['predicti/QLF'],\n",
       " ['liberorum/QLF', 'rusticorum/QLF'],\n",
       " ['sempiternam/QLF', 'dignum/QLF', 'continue/QLF'],\n",
       " [],\n",
       " ['fragrantes/QLF', 'liberi/QLF'],\n",
       " ['inferius/QLF'],\n",
       " ['inferius/QLF'],\n",
       " ['sempiternam/QLF', 'omnipotens/QLF', ' suos/QLF'],\n",
       " [],\n",
       " [],\n",
       " ['predicti/QLF'],\n",
       " ['Stocton/QLF', 'prefati/QLF'],\n",
       " ['precipue/QLF', 'religiosos/QLF', 'omnipotentis/QLF', 'continue/QLF'],\n",
       " ['precipue/QLF', 'religiosos/QLF', 'omnipotentis/QLF', 'continue/QLF']]"
      ]
     },
     "execution_count": 453,
     "metadata": {},
     "output_type": "execute_result"
    }
   ],
   "source": [
    "for i in liste:\n",
    "    for j in i:\n",
    "        if j[-3:] != 'QLF':\n",
    "            i.remove(j)\n",
    "liste"
   ]
  },
  {
   "cell_type": "code",
   "execution_count": 461,
   "id": "35b97a5e",
   "metadata": {},
   "outputs": [],
   "source": [
    "df['qlf'] = liste  \n",
    "df['word'] = df['word'].str.split('/').str[0]\n",
    "df['word'] = df['word'].str.lower()\n",
    "df['cas_seruus'] = \"\"\n",
    "df['cas_qlf']= \"\"\n",
    "for i in range(len(df['qlf'])):\n",
    "    for j in range(len(df['qlf'][i])):\n",
    "        df['qlf'][i][j] = df['qlf'][i][j].split('/')[0].lower()\n",
    "\n",
    "df['qlf_1'] = \"\"\n",
    "df['qlf_2'] = \"\"\n",
    "df['qlf_3'] = \"\"\n",
    "df['qlf_4'] = \"\"\n",
    "df['qlf_5'] = \"\"\n",
    "for i in range(len(liste)):\n",
    "    for cas in range(len(liste[i])):\n",
    "        if cas == 0:\n",
    "            df['qlf_1'][i] = liste[i][cas]\n",
    "        if cas == 1:\n",
    "            df['qlf_2'][i] = liste[i][cas]\n",
    "        if cas == 2:\n",
    "            df['qlf_3'][i] = liste[i][cas]\n",
    "        if cas == 3:\n",
    "            df['qlf_4'][i] = liste[i][cas]\n",
    "        if cas == 4:\n",
    "            df['qlf_5'][i] = liste[i][cas]\n",
    "            \n",
    "for i in range(len(df)):\n",
    "    if df['word'][i] == ' seruus':\n",
    "        df['cas_seruus'][i] = 'nom_sg'\n",
    "    if df['word'][i] == ' seruorum':\n",
    "        df['cas_seruus'][i] = 'gen_pl'\n",
    "    if df['word'][i] == ' seruos':\n",
    "        df['cas_seruus'][i] = 'acc_pl'\n",
    "    if df['word'][i] == ' seruo':\n",
    "        df['cas_seruus'][i] = 'dat_sg | abl_sg'\n",
    "    if df['word'][i] == ' serui':\n",
    "        df['cas_seruus'][i] = 'gen_sg | nom pl'\n",
    "    if df['word'][i] == ' seruum':\n",
    "        df['cas_seruus'][i] = 'acc_sg'\n",
    "    if df['word'][i] == ' seruis':\n",
    "        df['cas_seruus'][i] = 'dat_pl | abl_pl'\n",
    "        \n",
    "df['cas_qlf_1'] = \"\"\n",
    "df['cas_qlf_2'] = \"\"\n",
    "df['cas_qlf_3'] = \"\"\n",
    "df['cas_qlf_4'] = \"\"\n",
    "df['cas_qlf_5'] = \"\"\n",
    "\n",
    "for i in range(len(df)):\n",
    "    if df['qlf_1'][i].endswith(('us','er')):\n",
    "        df['cas_qlf_1'][i] = ['nom_sg']\n",
    "    elif df['qlf_1'][i].endswith('is'):\n",
    "        df['cas_qlf_1'][i] = ['nom_sg','gen_sg','dat_pl','abl_pl']\n",
    "    elif df['qlf_1'][i].endswith('um'):\n",
    "        df['cas_qlf_1'][i] = ['acc_sg','gen_pl'] \n",
    "    elif df['qlf_1'][i].endswith('e'):\n",
    "        df['cas_qlf_1'][i] = ['abl_sg'] \n",
    "    elif df['qlf_1'][i].endswith('i'):\n",
    "        df['cas_qlf_1'][i] = ['gen_sg','dat_sg','nom_pl']\n",
    "    elif df['qlf_1'][i].endswith('is'):\n",
    "        df['cas_qlf_1'][i] = ['dat_pl','abl_pl','gen_sg ']\n",
    "    elif df['qlf_1'][i].endswith('os'):\n",
    "        df['cas_qlf_1'][i] = ['acc_pl']\n",
    "    elif df['qlf_1'][i].endswith('orum'):\n",
    "        df['cas_qlf_1'][i] = ['gen_pl']\n",
    "    elif df['qlf_1'][i].endswith('es'):\n",
    "        df['cas_qlf_1'][i] = ['nom_pl','acc_pl']\n",
    "    elif df['qlf_1'][i].endswith('ibus'):\n",
    "        df['cas_qlf_1'][i] = ['dat_pl','abl_pl']\n",
    "    elif df['qlf_1'][i].endswith('o'):\n",
    "        df['cas_qlf_1'][i] = ['dat_sg','abl_sg']\n",
    "    else:\n",
    "        df['cas_qlf_1'][i] = [\"\"]\n",
    "\n",
    "for i in range(len(df)):\n",
    "    if df['qlf_2'][i].endswith(('us','er')):\n",
    "        df['cas_qlf_2'][i] = ['nom_sg']\n",
    "    elif df['qlf_2'][i].endswith('is'):\n",
    "        df['cas_qlf_2'][i] = ['nom_sg','gen_sg','dat_pl','abl_pl']\n",
    "    elif df['qlf_2'][i].endswith('um'):\n",
    "        df['cas_qlf_2'][i] = ['acc_sg','gen_pl'] \n",
    "    elif df['qlf_2'][i].endswith('e'):\n",
    "        df['cas_qlf_2'][i] = ['abl_sg']\n",
    "    elif df['qlf_2'][i].endswith('i'):\n",
    "        df['cas_qlf_2'][i] = ['gen_sg','dat_sg','nom_pl']\n",
    "    elif df['qlf_2'][i].endswith('is'):\n",
    "        df['cas_qlf_2'][i] = ['dat_pl','abl_pl','gen_sg ']\n",
    "    elif df['qlf_2'][i].endswith('os'):\n",
    "        df['cas_qlf_2'][i] = ['acc_pl']\n",
    "    elif df['qlf_2'][i].endswith('orum'):\n",
    "        df['cas_qlf_2'][i] = ['gen_pl'] \n",
    "    elif df['qlf_2'][i].endswith('es'):\n",
    "        df['cas_qlf_2'][i] = ['nom_pl','acc_pl']\n",
    "    elif df['qlf_2'][i].endswith('ibus'):\n",
    "        df['cas_qlf_2'][i] = ['dat_pl','abl_pl']\n",
    "    elif df['qlf_2'][i].endswith('o'):\n",
    "        df['cas_qlf_2'][i] = ['dat_sg','abl_sg']\n",
    "    else:\n",
    "        df['cas_qlf_2'][i] = [\"\"]\n",
    "        \n",
    "for i in range(len(df)):\n",
    "    if df['qlf_3'][i].endswith(('us','er')):\n",
    "        df['cas_qlf_3'][i] = ['nom_sg']\n",
    "    elif df['qlf_3'][i].endswith('is'):\n",
    "        df['cas_qlf_3'][i] = ['nom_sg','gen_sg','dat_pl','abl_pl']\n",
    "    elif df['qlf_3'][i].endswith('um'):\n",
    "        df['cas_qlf_3'][i] = ['acc_sg','gen_pl'] \n",
    "    elif df['qlf_3'][i].endswith('e'):\n",
    "        df['cas_qlf_3'][i] = ['abl_sg'] \n",
    "    elif df['qlf_3'][i].endswith('i'):\n",
    "        df['cas_qlf_3'][i] = ['gen_sg','dat_sg','nom_pl']\n",
    "    elif df['qlf_3'][i].endswith('is'):\n",
    "        df['cas_qlf_3'][i] = ['dat_pl','abl_pl','gen_sg ']\n",
    "    elif df['qlf_3'][i].endswith('os'):\n",
    "        df['cas_qlf_3'][i] = ['acc_pl']\n",
    "    elif df['qlf_3'][i].endswith('orum'):\n",
    "        df['cas_qlf_3'][i] = ['gen_pl'] \n",
    "    elif df['qlf_3'][i].endswith('es'):\n",
    "        df['cas_qlf_3'][i] = ['nom_pl','acc_pl']\n",
    "    elif df['qlf_3'][i].endswith('ibus'):\n",
    "        df['cas_qlf_3'][i] = ['dat_pl','abl_pl']\n",
    "    elif df['qlf_3'][i].endswith('o'):\n",
    "        df['cas_qlf_3'][i] = ['dat_sg','abl_sg']\n",
    "    else:\n",
    "        df['cas_qlf_3'][i] = [\"\"]\n",
    "\n",
    "for i in range(len(df)):\n",
    "    if df['qlf_4'][i].endswith(('us','er')):\n",
    "        df['cas_qlf_4'][i] = ['nom_sg']\n",
    "    elif df['qlf_4'][i].endswith('is'):\n",
    "        df['cas_qlf_4'][i] = ['nom_sg','gen_sg','dat_pl','abl_pl']\n",
    "    elif df['qlf_4'][i].endswith('um'):\n",
    "        df['cas_qlf_4'][i] = ['acc_sg','gen_pl'] \n",
    "    elif df['qlf_4'][i].endswith('e'):\n",
    "        df['cas_qlf_4'][i] = ['abl_sg'] \n",
    "    elif df['qlf_4'][i].endswith('i'):\n",
    "        df['cas_qlf_4'][i] = ['gen_sg','dat_sg','nom_pl']\n",
    "    elif df['qlf_4'][i].endswith('is'):\n",
    "        df['cas_qlf_4'][i] = ['dat_pl','abl_pl','gen_sg ']\n",
    "    elif df['qlf_4'][i].endswith('os'):\n",
    "        df['cas_qlf_4'][i] = ['acc_pl'] \n",
    "    elif df['qlf_4'][i].endswith('orum'):\n",
    "        df['cas_qlf_4'][i] = ['gen_pl'] \n",
    "    elif df['qlf_4'][i].endswith('es'):\n",
    "        df['cas_qlf_4'][i] = ['nom_pl','acc_pl']\n",
    "    elif df['qlf_4'][i].endswith('ibus'):\n",
    "        df['cas_qlf_4'][i] = ['dat_pl','abl_pl']\n",
    "    elif df['qlf_4'][i].endswith('o'):\n",
    "        df['cas_qlf_4'][i] = ['dat_sg','abl_sg']\n",
    "    else:\n",
    "        df['cas_qlf_4'][i] = [\"\"]\n",
    "\n",
    "for i in range(len(df)):\n",
    "    if df['qlf_5'][i].endswith(('us','er')):\n",
    "        df['cas_qlf_5'][i] = ['nom_sg']\n",
    "    elif df['qlf_5'][i].endswith('is'):\n",
    "        df['cas_qlf_5'][i] = ['nom_sg','gen_sg','dat_pl','abl_pl']\n",
    "    elif df['qlf_5'][i].endswith('um'):\n",
    "        df['cas_qlf_5'][i] = ['acc_sg','gen_pl'] \n",
    "    elif df['qlf_5'][i].endswith('e'):\n",
    "        df['cas_qlf_5'][i] = ['abl_sg'] \n",
    "    elif df['qlf_5'][i].endswith('i'):\n",
    "        df['cas_qlf_5'][i] = ['gen_sg','dat_sg','nom_pl']\n",
    "    elif df['qlf_5'][i].endswith('is'):\n",
    "        df['cas_qlf_5'][i] = ['dat_pl','abl_pl','gen_sg ']\n",
    "    elif df['qlf_5'][i].endswith('os'):\n",
    "        df['cas_qlf_5'][i] = ['acc_pl']\n",
    "    elif df['qlf_5'][i].endswith('orum'):\n",
    "        df['cas_qlf_5'][i] = ['gen_pl']\n",
    "    elif df['qlf_5'][i].endswith('es'):\n",
    "        df['cas_qlf_5'][i] = ['nom_pl','acc_pl']\n",
    "    elif df['qlf_5'][i].endswith('ibus'):\n",
    "        df['cas_qlf_5'][i] = ['dat_pl','abl_pl']\n",
    "    elif df['qlf_5'][i].endswith('o'):\n",
    "        df['cas_qlf_5'][i] = ['dat_sg','abl_sg']\n",
    "    else:\n",
    "        df['cas_qlf_5'][i] = [\"\"]\n",
    "\n",
    "liste_res_Ang = []\n",
    "liste_cas_Ang = []\n",
    "\n",
    "\n",
    "for i in range(len(df)):\n",
    "    for j in range(len(df['cas_qlf_1'][i])):\n",
    "        if df['cas_qlf_1'][i][j] == df['cas_seruus'][i]:\n",
    "            liste_res_Ang.append(df['qlf_1'][i])\n",
    "            liste_cas_Ang.append(df['cas_qlf_1'][i][j])\n",
    "for i in range(len(df)):\n",
    "    for j in range(len(df['cas_qlf_2'][i])):\n",
    "        if df['cas_qlf_2'][i][j] == df['cas_seruus'][i]:\n",
    "            liste_res_Ang.append(df['qlf_2'][i])\n",
    "            liste_cas_Ang.append(df['cas_qlf_2'][i][j])\n",
    "for i in range(len(df)):\n",
    "    for j in range(len(df['cas_qlf_3'][i])):\n",
    "        if df['cas_qlf_3'][i][j] == df['cas_seruus'][i]:\n",
    "            liste_res_Ang.append(df['qlf_3'][i])\n",
    "            liste_cas_Ang.append(df['cas_qlf_3'][i][j])\n",
    "for i in range(len(df)):\n",
    "    for j in range(len(df['cas_qlf_4'][i])):\n",
    "        if df['cas_qlf_4'][i][j] == df['cas_seruus'][i]:\n",
    "            liste_res_Ang.append(df['qlf_4'][i])\n",
    "            liste_cas_Ang.append(df['cas_qlf_4'][i][j])\n",
    "for i in range(len(df)):\n",
    "    for j in range(len(df['cas_qlf_5'][i])):\n",
    "        if df['cas_qlf_5'][i][j] == df['cas_seruus'][i]:\n",
    "            liste_res_Ang.append(df['qlf_5'][i])\n",
    "            liste_cas_Ang.append(df['cas_qlf_5'][i][j])\n",
    "            \n",
    "list_tuples_QLF = Counter(liste_res).most_common()\n",
    "    \n",
    "dictionnaire_vide = dict(list_tuples_QLF)\n",
    "    \n",
    "dict_items = dictionnaire_vide.items()\n",
    "    \n",
    "first_hundred = list(dict_items)#[:100]\n",
    "    \n",
    "dico_final = dict(first_hundred)\n",
    "    \n",
    "b = list(dico_final.keys())\n",
    "a = list(dico_final.values())\n",
    "\n",
    "df_final_900 = pd.DataFrame(a,b)\n",
    "df_final_900.reset_index(inplace=True)\n",
    "df_final_900.columns = [\"Words\",\"Occ\"]\n",
    "\n",
    "list_tuples_QLF_cas = Counter(liste_cas).most_common()\n",
    "    \n",
    "dictionnaire_vide = dict(list_tuples_QLF_cas)\n",
    "    \n",
    "dict_items = dictionnaire_vide.items()\n",
    "    \n",
    "first_hundred = list(dict_items)#[:100]\n",
    "    \n",
    "dico_final = dict(first_hundred)\n",
    "    \n",
    "a = list(dico_final.values())\n",
    "b = list(dico_final.keys())\n",
    "\n",
    "df_final_cas_900 = pd.DataFrame(a,b)\n",
    "df_final_cas_900.reset_index(inplace=True)\n",
    "df_final_cas_900.columns = [\"Cas\",\"Occ\"]"
   ]
  },
  {
   "cell_type": "code",
   "execution_count": 51,
   "id": "bbf5378c",
   "metadata": {},
   "outputs": [],
   "source": [
    "colnames = ['indice','pre','word','post']\n",
    "df = pd.read_csv('/home/noe/Documents/Master_2/Mémoire/SketchEngineExport/lemmes_servitude/Seruus/Word_tags/950-999.csv', header = 4, names=colnames)\n",
    "df = df[['pre','word','post']]\n",
    "df['new'] = df['pre'] + (' ') + df['word']+ (' ') + df['post']\n",
    "df['new'] = df['new'].str.lower()\n",
    "df['drop'] = df['new'].str.find('seruus/sub  seruorum/sub  dei/sub ')\n",
    "df = df[df['drop'] == -1]\n",
    "df = df.reset_index()\n",
    "df.pop('index')\n",
    "df.pop('drop')\n",
    "df.pop('new')\n",
    "liste_1 = df['pre'].str.split(('  ')).tolist()\n",
    "for i in range(len(liste_1)):\n",
    "    liste_1[i] = liste_1[i][-5:]\n",
    "    \n",
    "liste_2 = df['post'].str.split(('  ')).tolist()\n",
    "for i in range(len(liste_2)):\n",
    "    liste_2[i] = liste_2[i][:5]\n",
    "liste = []\n",
    "for i in range(len(liste_1)):\n",
    "    liste.append(liste_1[i] + liste_2[i])"
   ]
  },
  {
   "cell_type": "code",
   "execution_count": 64,
   "id": "8e90cdf2",
   "metadata": {},
   "outputs": [
    {
     "data": {
      "text/plain": [
       "[[],\n",
       " [],\n",
       " ['diuino/QLF', 'congrua/QLF'],\n",
       " ['quemdam/QLF', 'meum/QLF', 'suis/QLF'],\n",
       " ['iamdictus/QLF', 'omni/QLF', 'perhenni/QLF'],\n",
       " ['falso/QLF', 'prenominatum/QLF', 'omni/QLF', 'predictis/QLF'],\n",
       " ['colonos/QLF'],\n",
       " ['cunctis/QLF'],\n",
       " ['tuis/QLF', 'uenerabilis/QLF'],\n",
       " ['exiguus/QLF', 'temporalia/QLF'],\n",
       " ['integro/QLF', 'pauperes/QLF', 'temporalem/QLF'],\n",
       " ['pauperes/QLF'],\n",
       " ['omnibus/QLF', 'sua/QLF'],\n",
       " [],\n",
       " [],\n",
       " [],\n",
       " [],\n",
       " [],\n",
       " [],\n",
       " [],\n",
       " ['alium/QLF'],\n",
       " [],\n",
       " ['alium/QLF'],\n",
       " [' nostrum/QLF', 'singulos/QLF'],\n",
       " ['bone/QLF', 'fidelis/QLF'],\n",
       " [],\n",
       " [],\n",
       " [],\n",
       " [],\n",
       " [],\n",
       " [],\n",
       " [],\n",
       " ['alium/QLF'],\n",
       " [],\n",
       " ['alium/QLF'],\n",
       " ['omnibus/QLF'],\n",
       " ['omnes/QLF', 'uniuersis/QLF', 'sancti/QLF'],\n",
       " ['cunctis/QLF', 'sancti/QLF'],\n",
       " ['diuino/QLF'],\n",
       " [],\n",
       " ['sua/QLF'],\n",
       " [],\n",
       " ['alios/QLF', 'omnes/QLF'],\n",
       " [],\n",
       " ['alium/QLF', 'sua/QLF'],\n",
       " ['alium/QLF', 'sua/QLF'],\n",
       " ['alios/QLF'],\n",
       " ['diuino/QLF'],\n",
       " ['eterne/QLF'],\n",
       " ['ullam/QLF'],\n",
       " ['cuidam/QLF'],\n",
       " ['imperialem/QLF'],\n",
       " ['indiuidue/QLF', 'diuina/QLF', 'facilem/QLF'],\n",
       " [],\n",
       " ['supplex/QLF', 'Diaco/QLF', 'confesso/QLF'],\n",
       " ['supplex/QLF', 'Diaco/QLF', 'confesso/QLF'],\n",
       " ['sua/QLF', 'proprii/QLF'],\n",
       " ['proprius/QLF', 'antique/QLF'],\n",
       " ['predicto/QLF'],\n",
       " ['possessors/QLF'],\n",
       " ['uoluntarie/QLF'],\n",
       " ['totum/QLF', ' nostro/QLF', 'germana/QLF', 'sua/QLF'],\n",
       " [],\n",
       " ['totis/QLF'],\n",
       " [],\n",
       " ['sua/QLF'],\n",
       " [],\n",
       " ['regales/QLF'],\n",
       " [],\n",
       " ['ipsa/QLF'],\n",
       " [],\n",
       " ['istas/QLF'],\n",
       " ['Seniuldo/QLF'],\n",
       " ['colonos/QLF', 'iniuste/QLF'],\n",
       " ['humillimus/QLF', ' uester/QLF'],\n",
       " ['humillimus/QLF', ' uester/QLF'],\n",
       " ['sua/QLF', ' sui/QLF'],\n",
       " ['suis/QLF', 'sua/QLF'],\n",
       " ['incultum/QLF', 'totum/QLF', 'integrum/QLF'],\n",
       " ['omnibus/QLF'],\n",
       " ['incultum/QLF', 'totum/QLF', 'integrum/QLF'],\n",
       " ['incultum/QLF', 'totum/QLF', 'integrum/QLF'],\n",
       " [],\n",
       " ['ingenuos/QLF', ' iniuste/QLF'],\n",
       " ['liberas/QLF', 'quantas/QLF', ' prefati/QLF'],\n",
       " [],\n",
       " ['cultis/QLF'],\n",
       " ['incultis/QLF', 'alium/QLF', ' alio/QLF'],\n",
       " ['hereditario/QLF'],\n",
       " ['hereditario/QLF'],\n",
       " [],\n",
       " ['conuersando/VBE </s><s> Exiguus/QLF',\n",
       "  'adclinis/QLF',\n",
       "  'Sanctius/QLF',\n",
       "  'diuino/QLF'],\n",
       " ['mei/QLF'],\n",
       " ['cetera/QLF', 'omnia/QLF'],\n",
       " [],\n",
       " [],\n",
       " ['sua/QLF'],\n",
       " ['clarorum/QLF'],\n",
       " ['tue/QLF', 'uestrorum/QLF', 'perpetuum/QLF'],\n",
       " ['omnipotens/QLF', ' suos/QLF', 'celesti/QLF'],\n",
       " ['omnipotens/QLF', ' suum/QLF', 'inuictissimum/QLF', 'suum/QLF'],\n",
       " ['omnes/QLF'],\n",
       " [],\n",
       " ['omnes/QLF', 'quietam/QLF'],\n",
       " [],\n",
       " ['nostro/QLF'],\n",
       " ['nominatis/QLF'],\n",
       " [],\n",
       " [],\n",
       " ['hac/QLF'],\n",
       " ['bonis/QLF'],\n",
       " [],\n",
       " ['seruanti/QLF'],\n",
       " [],\n",
       " [' nullus/QLF', 'piissimorum/QLF'],\n",
       " ['nostra/QLF', 'temporali/QLF'],\n",
       " [],\n",
       " [],\n",
       " ['predicto/QLF', ' suprascriptis/QLF', 'superioribus/QLF'],\n",
       " ['suorum/QLF', 'suprascriptis/QLF', 'predicto/QLF'],\n",
       " ['predicto/QLF'],\n",
       " [],\n",
       " ['ingenuos/QLF'],\n",
       " ['nostro/QLF'],\n",
       " ['humillimus/QLF', ' uester/QLF', 'indignus/QLF'],\n",
       " ['nostro/QLF'],\n",
       " ['aliut/QLF'],\n",
       " ['omnibus/QLF'],\n",
       " ['humillimus/QLF', ' uester/QLF', 'mea/QLF'],\n",
       " [],\n",
       " [],\n",
       " [],\n",
       " ['honorificum/QLF'],\n",
       " ['liberas/QLF', 'quantas/QLF', ' prefati/QLF'],\n",
       " [],\n",
       " ['incultum/QLF'],\n",
       " [' uester/QLF', 'exiguus/QLF', 'indignus/QLF'],\n",
       " ['sua/QLF'],\n",
       " ['pullica/QLF', 'sua/QLF'],\n",
       " ['sua/QLF'],\n",
       " [],\n",
       " ['quieto/QLF'],\n",
       " [],\n",
       " ['iustam/QLF', 'prefata/QLF'],\n",
       " ['libellarii/QLF', ' omnes/QLF', 'omnes/QLF'],\n",
       " [],\n",
       " [],\n",
       " ['libellarii/QLF', 'omnes/QLF'],\n",
       " [],\n",
       " [],\n",
       " [],\n",
       " [],\n",
       " ['exiguus/QLF'],\n",
       " ['exiguus/QLF', 'inutilis/QLF', 'multis/QLF'],\n",
       " ['inutilis/QLF', 'multis/QLF', 'adclinis/QLF'],\n",
       " ['ullo/QLF'],\n",
       " ['alius/QLF', 'sua/QLF'],\n",
       " [],\n",
       " [],\n",
       " ['omni/QLF'],\n",
       " ['ingenuos/QLF'],\n",
       " ['suis/QLF', 'utiliorem/QLF'],\n",
       " ['publica/QLF', 'placita/QLF'],\n",
       " ['omnes/QLF', 'liberi/QLF', ' libellarii/QLF', 'felcarii/QLF'],\n",
       " ['iustis/QLF'],\n",
       " [],\n",
       " [],\n",
       " [' meo/QLF', 'sua/QLF'],\n",
       " ['Sancti/QLF', 'exiguus/QLF', ' uester/QLF', 'propria/QLF', 'mea/QLF'],\n",
       " ['presentibus/QLF', 'futuris/QLF', 'quidam/QLF', ' sancti/QLF', 'sancti/QLF'],\n",
       " ['possibile/QLF'],\n",
       " ['Dominico/QLF'],\n",
       " ['iustis/QLF'],\n",
       " ['nullus/QLF', 'suorum/QLF'],\n",
       " ['nullus/QLF', 'suorum/QLF'],\n",
       " ['omnibus/QLF'],\n",
       " ['mee/QLF'],\n",
       " ['liberas/QLF', 'dono/VBE </s><s> quietas/QLF'],\n",
       " ['fraudulenta/QLF'],\n",
       " ['antiqui/QLF', 'multiformi/QLF'],\n",
       " ['ingenuos/QLF'],\n",
       " ['cartulatos/QLF'],\n",
       " ['cartulatos/QLF'],\n",
       " ['cartulatis/QLF'],\n",
       " ['cartulatos/QLF'],\n",
       " ['possibile/QLF'],\n",
       " ['Dominico/QLF'],\n",
       " ['maximi/QLF', 'cunctee/QLF'],\n",
       " ['exigui/QLF', 'timendum/QLF'],\n",
       " ['dilectissimo/QLF'],\n",
       " ['mea/QLF', 'sua/QLF'],\n",
       " ['indiuidue/QLF', 'uniuersis/QLF', 'catholice/QLF'],\n",
       " ['indiuidue/QLF', ' uniuersis/QLF', 'catholice/QLF', 'apostolice/QLF'],\n",
       " ['uenerabilibus/QLF'],\n",
       " ['liberi/QLF', ' quamque/QLF', 'omnes/QLF'],\n",
       " [],\n",
       " ['ingenuos/QLF'],\n",
       " ['ingenuos/QLF'],\n",
       " [],\n",
       " ['_et_semper_/QLF', 'deuotissima/QLF'],\n",
       " ['diuini/QLF'],\n",
       " ['colonos/QLF'],\n",
       " ['ingenuos/QLF', 'letos/QLF', 'inuste/QLF'],\n",
       " ['imperiali/QLF'],\n",
       " [],\n",
       " [],\n",
       " ['ingenuos/QLF'],\n",
       " ['subscripsi/VBE </s><s> Bruno/QLF'],\n",
       " ['mearum/QLF', 'omnium/QLF'],\n",
       " ['nostra/QLF', ' meum/QLF'],\n",
       " ['omnium/QLF', 'meorum/QLF'],\n",
       " ['suis/QLF', 'mee/QLF'],\n",
       " ['indominicatum/QLF'],\n",
       " ['omnium/QLF', 'meorum/QLF'],\n",
       " [],\n",
       " ['celestis/QLF', 'sanctissimo/QLF'],\n",
       " ['sacra/QLF'],\n",
       " ['sacra/QLF'],\n",
       " ['celestis/QLF', 'sanctissimo/QLF'],\n",
       " ['inluminati/QLF', 'piis/QLF'],\n",
       " [],\n",
       " ['antiqui/QLF', 'multiformi/QLF'],\n",
       " ['ingenuos/QLF'],\n",
       " ['antiqui/QLF', 'multiformi/QLF'],\n",
       " ['ingenuos/QLF'],\n",
       " ['sceptuauimus/QLF', 'omnes/QLF', 'nostras/QLF'],\n",
       " [],\n",
       " ['ecclesiasticam/QLF', 'nostre/QLF'],\n",
       " ['regiam/QLF', 'celestis/QLF', 'iustis/QLF', 'diuini/QLF'],\n",
       " ['ecclesiasticam/QLF', 'nostre/QLF'],\n",
       " [],\n",
       " ['temerario/QLF'],\n",
       " [],\n",
       " ['legitimam/QLF', 'condignam/QLF'],\n",
       " ['condignam/QLF'],\n",
       " ['uestree/QLF'],\n",
       " [],\n",
       " [],\n",
       " [],\n",
       " ['imperialem/QLF'],\n",
       " ['ingenuos/QLF', ' iniuste/QLF'],\n",
       " ['ecclesiasticam/QLF', 'nostre/QLF'],\n",
       " ['regiam/QLF', 'celestis/QLF', 'iustis/QLF', 'diuini/QLF'],\n",
       " ['ecclesiasticam/QLF', 'nostre/QLF'],\n",
       " [],\n",
       " ['sancte/QLF'],\n",
       " ['cunctos/QLF', 'suo/QLF'],\n",
       " ['cunctos/QLF', 'suo/QLF'],\n",
       " ['totum/QLF', 'integrum/QLF'],\n",
       " ['omnibus/QLF', 'omnia/QLF'],\n",
       " ['uigilantium/QLF'],\n",
       " ['uigilancium/QLF'],\n",
       " ['uigilantium/QLF'],\n",
       " [],\n",
       " [],\n",
       " [],\n",
       " ['uigilancium/QLF'],\n",
       " [],\n",
       " ['uestros/QLF', 'uestra/QLF'],\n",
       " ['charissimam/QLF'],\n",
       " ['pia/QLF'],\n",
       " ['tui/QLF'],\n",
       " ['totum/QLF', 'integrum/QLF'],\n",
       " ['suis/QLF', 'Dominicum/QLF'],\n",
       " ['proprius/QLF'],\n",
       " [' Sancti/QLF', 'istas/QLF'],\n",
       " ['francorum/QLF'],\n",
       " [],\n",
       " ['francorum/QLF'],\n",
       " [],\n",
       " [' Sancti/QLF', 'istas/QLF'],\n",
       " ['quesitum/QLF', 'sua/QLF'],\n",
       " [],\n",
       " ['uigilantium/QLF'],\n",
       " [],\n",
       " ['ingenuos/QLF', ' iniuste/QLF', 'ullo/QLF'],\n",
       " ['totum/QLF', 'integrum/QLF'],\n",
       " ['suis/QLF', 'Dominicum/QLF'],\n",
       " ['sua/QLF'],\n",
       " ['sua/QLF', 'alium/QLF', 'tota/QLF'],\n",
       " ['sua/QLF'],\n",
       " [],\n",
       " ['sua/QLF', 'alios/QLF', 'suum/QLF'],\n",
       " [],\n",
       " ['hanc/QLF'],\n",
       " ['sanctum/QLF'],\n",
       " ['excellentissimo/QLF'],\n",
       " ['excellentissimo/QLF', 'suo/QLF'],\n",
       " ['sua/QLF'],\n",
       " ['omnibus/QLF'],\n",
       " [],\n",
       " ['mea/QLF'],\n",
       " ['modeele/QLF'],\n",
       " [],\n",
       " ['omnium/QLF', 'signo/SUB </s><s> Nobidius/QLF'],\n",
       " [],\n",
       " ['Supplex/QLF', 'omnium/QLF'],\n",
       " [],\n",
       " ['bonum/QLF', 'omni/QLF'],\n",
       " [],\n",
       " [' uicarios/QLF'],\n",
       " ['suis/QLF </s><s> Omnes/QLF'],\n",
       " [],\n",
       " [],\n",
       " [],\n",
       " [],\n",
       " [],\n",
       " [],\n",
       " ['omnes/QLF'],\n",
       " ['tali/QLF', 'nullus/QLF'],\n",
       " [],\n",
       " ['omnes/QLF', 'Sancti/QLF'],\n",
       " ['sue/QLF', 'proprio/QLF'],\n",
       " ['integrum/QLF', 'omni/QLF'],\n",
       " ['ingenuos/QLF'],\n",
       " ['uigilancium/QLF'],\n",
       " ['religiosorum/QLF', 'superne/QLF'],\n",
       " ['futurorum/QLF', 'beati/QLF'],\n",
       " ['quolibet/QLF', 'predicti/QLF'],\n",
       " [],\n",
       " ['iustas/QLF', 'rationabiles/QLF'],\n",
       " ['ingenuos/QLF'],\n",
       " [],\n",
       " ['iustas/QLF', 'rationabiles/QLF'],\n",
       " ['omnibus/QLF'],\n",
       " ['religiosorum/QLF', 'superne/QLF'],\n",
       " ['futurorum/QLF', 'beati/QLF'],\n",
       " ['quolibet/QLF', 'predicti/QLF'],\n",
       " [' meus/QLF'],\n",
       " ['pius/QLF', 'sua/QLF', 'simili/QLF'],\n",
       " ['inuictissimus/QLF', 'ecclesiasticis/QLF'],\n",
       " ['monastherii/QLF', 'ingenuos/QLF', 'ullum/QLF'],\n",
       " ['colonorum/QLF', 'uorum/QLF'],\n",
       " ['honorificum/QLF'],\n",
       " ['ingenuos/QLF'],\n",
       " ['ullas/QLF'],\n",
       " [],\n",
       " ['diuine/QLF'],\n",
       " ['iustas/QLF', 'rationabiles/QLF'],\n",
       " ['populari/QLF'],\n",
       " [],\n",
       " ['predicto/QLF', ' uester/QLF'],\n",
       " ['populari/QLF'],\n",
       " ['suis/QLF'],\n",
       " ['omnium/QLF', 'diuina/QLF'],\n",
       " [' Sancti/QLF', 'meis/QLF'],\n",
       " ['sua/QLF'],\n",
       " ['sua/QLF'],\n",
       " ['totum/QLF', 'integrum/QLF'],\n",
       " ['suo/QLF'],\n",
       " [],\n",
       " ['ts/NAM </s><s> Citi/QLF', 'ts/NAM </s><s> Mercatarius/QLF'],\n",
       " ['iustis/QLF', 'diuini/QLF'],\n",
       " ['iustis/QLF', 'rationabilibus/QLF', 'diuini/QLF'],\n",
       " ['prouidente/QLF', 'iustis/QLF', 'rationabilibus/QLF'],\n",
       " ['prefato/QLF'],\n",
       " ['ingenuos/QLF'],\n",
       " ['pauperum/QLF'],\n",
       " ['beati/QLF'],\n",
       " [],\n",
       " ['suarum/QLF', 'colonos/QLF', 'reliquos/QLF'],\n",
       " ['uenerabilis/QLF', 'quendam/QLF', 'nostri/QLF', 'nominatum/QLF'],\n",
       " ['quendam/QLF', 'sui/QLF'],\n",
       " [],\n",
       " [' quodam/QLF'],\n",
       " ['preditus/QLF'],\n",
       " ['iustis/QLF'],\n",
       " [],\n",
       " ['omnium/QLF'],\n",
       " ['mei/QLF', ' uester/QLF'],\n",
       " ['suos/QLF'],\n",
       " ['sancti/QLF', 'omnium/QLF'],\n",
       " ['iustis/QLF', 'diuini/QLF'],\n",
       " ['iustis/QLF', 'rationabilibus/QLF', 'diuini/QLF'],\n",
       " ['iustas/QLF', 'rationabiles/QLF'],\n",
       " ['profuturum/QLF'],\n",
       " ['ingenuos/QLF'],\n",
       " ['iustas/QLF', 'rationabiles/QLF'],\n",
       " ['ingenuos/QLF', 'letos/QLF'],\n",
       " ['ingenuos/QLF'],\n",
       " ['sui/QLF'],\n",
       " ['populari/QLF'],\n",
       " ['omnem/QLF', ' suos/QLF'],\n",
       " [' meum/QLF'],\n",
       " ['ullo/QLF', ' supramemorati/QLF'],\n",
       " ['omnibus/QLF', 'placabilis/QLF'],\n",
       " [],\n",
       " [],\n",
       " [],\n",
       " ['ingenuos/QLF'],\n",
       " ['quieto/QLF'],\n",
       " ['suus/QLF', 'omnibus/QLF', 'suis/QLF'],\n",
       " ['ingenuos/QLF', 'iniuste/QLF'],\n",
       " ['pauperum/QLF'],\n",
       " ['iustas/QLF'],\n",
       " ['quiddam/QLF'],\n",
       " [' supradictarum/QLF', 'publico/QLF'],\n",
       " ['ingenuos/QLF', 'iniuste/QLF'],\n",
       " ['pauperum/QLF'],\n",
       " ['quidam/QLF', ' nominatus/QLF', 'suo/QLF'],\n",
       " ['predicto/QLF'],\n",
       " ['predicti/QLF'],\n",
       " ['sui/QLF', 'predicto/QLF'],\n",
       " ['Inuictissimus/QLF'],\n",
       " ['monastherii/QLF', 'ingenuos/QLF', 'ullum/QLF'],\n",
       " ['inuictissimus/QLF', 'ecclesiasticis/QLF'],\n",
       " ['monastherii/QLF', 'ingenuos/QLF', 'ullum/QLF'],\n",
       " ['ingenuos/QLF', 'iniuste/QLF'],\n",
       " ['pauperum/QLF'],\n",
       " ['iustis/QLF', 'rationabilibus/QLF', 'diuini/QLF'],\n",
       " ['ingenuos/QLF'],\n",
       " ['iustis/QLF', 'sue/QLF', 'quietis/QLF'],\n",
       " ['idoneum/QLF', 'prefato/QLF'],\n",
       " ['suum/QLF'],\n",
       " ['iustis/QLF'],\n",
       " ['preefato/QLF'],\n",
       " ['suum/QLF'],\n",
       " ['uenerabilium/QLF', 'maximam/QLF'],\n",
       " ['uenerabilia/QLF', 'nostro/QLF'],\n",
       " ['ingenuos/QLF', 'ullam/QLF'],\n",
       " ['suos/QLF',\n",
       "  ' nullus/QLF',\n",
       "  'ministrorum/QLF',\n",
       "  'nostrorum/QLF',\n",
       "  'publicus/QLF'],\n",
       " [],\n",
       " [],\n",
       " ['iuste/QLF'],\n",
       " [],\n",
       " [],\n",
       " ['quesitum/QLF'],\n",
       " [],\n",
       " ['alterum/QLF'],\n",
       " ['omnem/QLF'],\n",
       " ['libellarii/QLF', ' alie/QLF', 'omnes/QLF'],\n",
       " [],\n",
       " ['suum/QLF', 'predicte/QLF'],\n",
       " ['cartulatos/QLF'],\n",
       " ['cartulatos/QLF'],\n",
       " ['cartulatis/QLF', 'liberos/QLF'],\n",
       " ['preditus/QLF', 'apostolice/QLF'],\n",
       " ['apostolice/QLF', 'iustis/QLF'],\n",
       " ['populari/QLF'],\n",
       " [],\n",
       " ['beati/QLF'],\n",
       " ['sancti/QLF'],\n",
       " ['tue/QLF'],\n",
       " ['mea/QLF'],\n",
       " [],\n",
       " ['sancta/QLF'],\n",
       " ['subscripsit/VBE </s><s> Stephanus/NAM </s><s> Magnus/QLF'],\n",
       " ['arabilis/QLF', 'sancti/QLF'],\n",
       " ['incultum/QLF', 'totum/QLF'],\n",
       " [],\n",
       " ['omnibus/QLF'],\n",
       " ['integrum/QLF'],\n",
       " [],\n",
       " ['mei/QLF'],\n",
       " ['nominatos/QLF'],\n",
       " [],\n",
       " [],\n",
       " ['omnes/QLF'],\n",
       " [],\n",
       " [],\n",
       " [' Sancti/QLF'],\n",
       " [],\n",
       " ['ingenuos/QLF'],\n",
       " ['eterne/QLF', 'iustis/QLF', 'diuini/QLF'],\n",
       " ['quendam/QLF', 'nostree/QLF'],\n",
       " ['ingenuos/QLF'],\n",
       " ['aliis/QLF'],\n",
       " ['eterne/QLF', 'iustis/QLF', 'diuini/QLF'],\n",
       " ['summo/QLF', 'ullo/QLF'],\n",
       " ['iniustas/QLF'],\n",
       " ['omni/QLF', 'sua/QLF'],\n",
       " [],\n",
       " ['indominicatum/QLF'],\n",
       " [],\n",
       " ['sua/QLF'],\n",
       " [],\n",
       " ['quendam/QLF', 'proprium/QLF', 'quoddam/QLF'],\n",
       " ['arabilis/QLF'],\n",
       " ['eternam/QLF'],\n",
       " ['iustis/QLF', 'rationabilibus/QLF'],\n",
       " ['benigne/QLF', 'nostra/QLF'],\n",
       " ['diuina/QLF', 'ecclesiastica/QLF'],\n",
       " ['ingenuos/QLF', 'nostri/QLF'],\n",
       " ['ingenuos/QLF', 'ullas/QLF'],\n",
       " ['eternam/QLF'],\n",
       " ['iustis/QLF', 'rationabilibus/QLF'],\n",
       " ['benigne/QLF', 'nostra/QLF'],\n",
       " [' uester/QLF'],\n",
       " ['diuino/QLF'],\n",
       " ['Sancti/QLF'],\n",
       " ['quesitum/QLF'],\n",
       " [' alios/QLF'],\n",
       " [],\n",
       " ['nominatum/QLF'],\n",
       " [],\n",
       " [],\n",
       " [],\n",
       " ['nostris/QLF'],\n",
       " ['colonos/QLF'],\n",
       " ['ingenuos/QLF', 'libellarios/QLF'],\n",
       " ['ingenuos/QLF', 'libellarios/QLF'],\n",
       " [],\n",
       " ['nostris/QLF'],\n",
       " [],\n",
       " ['cartulatos/QLF'],\n",
       " ['cartulatos/QLF'],\n",
       " [],\n",
       " ['cartulatos/QLF'],\n",
       " ['cartulatos/QLF'],\n",
       " [],\n",
       " ['cartulatos/QLF'],\n",
       " ['cartulatos/QLF'],\n",
       " ['cartulatis/QLF', 'liberos/QLF'],\n",
       " ['liberas/QLF', 'quantas/QLF', ' prefati/QLF'],\n",
       " [],\n",
       " ['totum/QLF', 'pauperes/QLF'],\n",
       " [],\n",
       " [],\n",
       " ['humilis/QLF', '</s><s> Ueteris/QLF', 'noui/QLF'],\n",
       " [],\n",
       " [],\n",
       " ['quesitum/QLF'],\n",
       " ['sua/QLF'],\n",
       " ['suis/QLF'],\n",
       " [],\n",
       " ['ingenuos/QLF', 'iniuste/QLF'],\n",
       " [],\n",
       " ['omnia/QLF'],\n",
       " [],\n",
       " ['operarios/QLF'],\n",
       " ['colonos/QLF'],\n",
       " ['quidam/QLF'],\n",
       " ['suum/QLF'],\n",
       " ['supradicti/QLF', 'sancti/QLF'],\n",
       " ['sue/QLF', 'suum/QLF', 'proprium/QLF'],\n",
       " ['suum/QLF', 'proprium/QLF'],\n",
       " ['suum/QLF', 'proprium/QLF'],\n",
       " [],\n",
       " [],\n",
       " ['presenti/QLF'],\n",
       " ['presenti/QLF'],\n",
       " [],\n",
       " ['indominicatum/QLF', 'omnibus/QLF', 'suis/QLF'],\n",
       " ['sua/QLF'],\n",
       " [],\n",
       " [],\n",
       " [],\n",
       " [],\n",
       " [],\n",
       " [],\n",
       " [],\n",
       " [],\n",
       " ['libero/QLF', ' Xxx/NUM </s><s> Statutum/QLF'],\n",
       " ['meis/QLF', 'Sancto/QLF'],\n",
       " [],\n",
       " ['dicte/QLF', 'sua/QLF'],\n",
       " ['incultum/QLF', 'totum/QLF', 'integrum/QLF'],\n",
       " ['suis/QLF'],\n",
       " ['alium/QLF'],\n",
       " ['Sancti/QLF'],\n",
       " ['omnibus/QLF', 'suis/QLF'],\n",
       " ['totum/QLF', 'integrum/QLF', 'Sancti/QLF'],\n",
       " ['quesitum/QLF'],\n",
       " ['incultum/QLF', 'totum/QLF', 'integrum/QLF'],\n",
       " ['presenti/QLF'],\n",
       " [],\n",
       " ['sancti/QLF'],\n",
       " ['operarios/QLF'],\n",
       " ['ingenuos/QLF', 'iniuste/QLF'],\n",
       " ['simili/QLF'],\n",
       " ['ingenuos/QLF'],\n",
       " [],\n",
       " ['quibusque/QLF', 'liberi/QLF'],\n",
       " ['ingenuos/QLF'],\n",
       " ['hereditario/QLF'],\n",
       " ['ingenui/QLF'],\n",
       " ['ecclesiastici/QLF', 'extraneorum/QLF'],\n",
       " ['meo/QLF', 'mea/QLF'],\n",
       " ['sceptuatum/QLF'],\n",
       " [],\n",
       " [],\n",
       " ['nostris/QLF', 'sancto/QLF'],\n",
       " [],\n",
       " ['sua/QLF'],\n",
       " [],\n",
       " [],\n",
       " ['nostri/QLF', 'exiguus/QLF', 'uester/QLF'],\n",
       " ['pauperes/QLF'],\n",
       " ['populari/QLF'],\n",
       " ['nostri/QLF'],\n",
       " ['Arembaldum/NAM </s><s> Omnes/QLF'],\n",
       " ['indominicatum/QLF'],\n",
       " [],\n",
       " [],\n",
       " [],\n",
       " [],\n",
       " ['inutilis/QLF', 'serbus/QLF', 'multis/QLF', 'adclines/QLF'],\n",
       " [' bonus/QLF'],\n",
       " ['suis/QLF', 'suo/QLF', ' bone/QLF'],\n",
       " ['omnium/QLF', 'infimus/QLF', ' diuina/QLF'],\n",
       " ['tui/QLF', 'tua/QLF'],\n",
       " ['meis/QLF'],\n",
       " ['colonos/QLF'],\n",
       " ['censuales/QLF'],\n",
       " [],\n",
       " ['uterinis/QLF', 'germanis/QLF', 'sancti/QLF', 'uenerabilis/QLF'],\n",
       " ['sancti/QLF', 'uenerabilis/QLF'],\n",
       " ['sancti/QLF', 'uenerabilis/QLF'],\n",
       " ['sancti/QLF', 'uenerabilis/QLF'],\n",
       " ['sancti/QLF', 'uenerabilis/QLF', 'nostri/QLF'],\n",
       " ['presentis/QLF', 'sancti/QLF', 'uenerabilis/QLF'],\n",
       " ['posteris/QLF', 'uestris/QLF', 'sancti/QLF', 'uenerabilis/QLF'],\n",
       " ['uestris/QLF', 'posteris/QLF', 'sancti/QLF', 'uenerabilis/QLF'],\n",
       " ['posteris/QLF', 'sancti/QLF', 'uenerabilis/QLF'],\n",
       " ['sua/QLF'],\n",
       " ['Diuinis/QLF'],\n",
       " ['ingenuos/QLF', 'iuste/QLF'],\n",
       " ['omnium/QLF', 'infimus/QLF', ' diuina/QLF'],\n",
       " ['diuinis/QLF'],\n",
       " ['ingenuos/QLF', 'iuste/QLF'],\n",
       " ['nostrarum/QLF'],\n",
       " ['libellarii/QLF', ' alie/QLF', 'omnes/QLF'],\n",
       " [],\n",
       " ['ingenuos/QLF', ' iniuste/QLF', 'ullo/QLF'],\n",
       " ['sui/QLF', 'digna/QLF'],\n",
       " ['alias/QLF'],\n",
       " ['liberum/QLF'],\n",
       " ['sua/QLF'],\n",
       " ['Sancti/QLF'],\n",
       " ['sua/QLF'],\n",
       " ['sancti/QLF'],\n",
       " ['omnes/QLF'],\n",
       " [],\n",
       " [],\n",
       " [],\n",
       " ['uostro/QLF', 'exiguus/QLF', ' uester/QLF'],\n",
       " ['ingenuos/QLF'],\n",
       " ['dignis/QLF'],\n",
       " ['antiqua/QLF'],\n",
       " ['pastoralis/QLF', 'commodis/QLF'],\n",
       " ['suis/QLF', 'ingenuorum/QLF', 'colonorum/QLF'],\n",
       " [],\n",
       " ['uestras/QLF'],\n",
       " ['arabilem/QLF'],\n",
       " ['Dignis/QLF'],\n",
       " ['Iustis/QLF', 'Diuini/QLF'],\n",
       " ['ingenuos/QLF'],\n",
       " ['omnibus/QLF', 'apenditiis/QLF', 'suis/QLF'],\n",
       " [],\n",
       " [],\n",
       " [],\n",
       " [],\n",
       " [],\n",
       " ['manentes/QLF'],\n",
       " ['sua/QLF'],\n",
       " ['ceteri/QLF', 'plurimorum/QLF'],\n",
       " ['diuina/QLF',\n",
       "  'iustis/QLF',\n",
       "  'et/CON </s><s> rationabilibus/QLF',\n",
       "  'diuini/QLF'],\n",
       " ['ingenuos/QLF'],\n",
       " [],\n",
       " [],\n",
       " [],\n",
       " ['alterius/QLF'],\n",
       " ['altissimi/QLF'],\n",
       " ['incultas/QLF'],\n",
       " ['omnibus/QLF', 'suis/QLF', 'sua/QLF'],\n",
       " [' tuo/QLF'],\n",
       " ['quodam/QLF', 'noualia/QLF'],\n",
       " ['quodam/QLF', 'noualia/QLF'],\n",
       " ['omnium/QLF'],\n",
       " [],\n",
       " [],\n",
       " ['diuina/QLF', 'nostris/QLF'],\n",
       " ['diuina/QLF'],\n",
       " ['honorificum/QLF'],\n",
       " ['hac/QLF', 'nostre/QLF'],\n",
       " [],\n",
       " ['diuina/QLF'],\n",
       " ['necessariis/QLF', 'sancti/QLF'],\n",
       " ['sancti/QLF', 'Emmerammi/NAM </s><s> Presentes/QLF'],\n",
       " ['quoddam/QLF', 'indominicatum/QLF', 'sua/QLF'],\n",
       " [],\n",
       " ['sua/QLF', ' suos/QLF', 'adulescentes/QLF'],\n",
       " ['omnia/QLF'],\n",
       " ['tui/QLF'],\n",
       " ['Sancti/QLF'],\n",
       " ['Sancti/QLF', 'sua/QLF'],\n",
       " ['nostras/QLF'],\n",
       " ['ortos/QLF'],\n",
       " [],\n",
       " ['pius/QLF'],\n",
       " ['totum/QLF'],\n",
       " ['Sancti/QLF', 'istas/QLF', 'totum/QLF'],\n",
       " ['stabilis/QLF'],\n",
       " [],\n",
       " ['supradicto/QLF'],\n",
       " [],\n",
       " ['quendam/QLF'],\n",
       " ['altero/QLF'],\n",
       " ['hodierno/QLF', 'supradicti/QLF'],\n",
       " ['totum/QLF'],\n",
       " ['Iustis/QLF'],\n",
       " ['nullus/QLF', 'suorum/QLF'],\n",
       " ['nostro/QLF', 'suorum/QLF'],\n",
       " [],\n",
       " ['diuino/QLF', 'consistencium/QLF', 'congrua/QLF'],\n",
       " ['ortos/QLF'],\n",
       " [],\n",
       " [],\n",
       " ['sua/QLF'],\n",
       " ['cuiusdam/QLF', ' Sancti/QLF'],\n",
       " ['quendam/QLF'],\n",
       " [],\n",
       " ['fratrum/SUB </s><s> Hanc/QLF'],\n",
       " [],\n",
       " ['humilis/QLF', 'uester/QLF'],\n",
       " ['pauperum/QLF'],\n",
       " ['nostri/QLF'],\n",
       " ['quosdam/QLF', 'nostre/QLF'],\n",
       " ['diuina/QLF'],\n",
       " ['suum/QLF', 'nostri/QLF'],\n",
       " ['prefato/QLF'],\n",
       " ['terrenarum/QLF'],\n",
       " ['fidelibus/QLF', 'suis/QLF'],\n",
       " ['quemdam/QLF'],\n",
       " ['famule/QLF', 'mee/QLF', ' meum/QLF'],\n",
       " [],\n",
       " [],\n",
       " ['ingenuos/QLF'],\n",
       " ['ingenuos/QLF', 'libellarios/QLF'],\n",
       " ['iustis/QLF', 'rationabilibus/QLF'],\n",
       " ['nostre/QLF'],\n",
       " ['liberi/QLF', ' quamque/QLF', 'omnes/QLF', 'alie/QLF'],\n",
       " [],\n",
       " ['ingenuos/QLF'],\n",
       " ['sancte/QLF', 'indiuidue/QLF'],\n",
       " ['seruile/QLF', 'alterius/QLF'],\n",
       " ['publicus/QLF'],\n",
       " ['predictos/QLF', 'aldianes/QLF'],\n",
       " ['temporalem/QLF'],\n",
       " [],\n",
       " ['totum/QLF'],\n",
       " ['Sancto/QLF', 'quemdam/QLF'],\n",
       " ['colonos/QLF'],\n",
       " [],\n",
       " [],\n",
       " [],\n",
       " [],\n",
       " ['nostram/QLF'],\n",
       " ['suis/QLF', 'supradicto/QLF'],\n",
       " ['supradictum/QLF'],\n",
       " ['farinarium/QLF'],\n",
       " ['supradictis/QLF'],\n",
       " [],\n",
       " ['hodierno/QLF'],\n",
       " ['quendam/QLF'],\n",
       " ['quodam/QLF', 'quendam/QLF'],\n",
       " ['quendam/QLF'],\n",
       " [],\n",
       " ['suis/QLF', 'supradicto/QLF'],\n",
       " ['farinarium/QLF'],\n",
       " ['supradictis/QLF'],\n",
       " ['quodam/QLF', 'quendam/QLF'],\n",
       " ['quendam/QLF'],\n",
       " [],\n",
       " [],\n",
       " ['iustis/QLF'],\n",
       " [],\n",
       " ['iustis/QLF', 'rationabilibus/QLF', 'diuini/QLF'],\n",
       " ['ecclesiastica/QLF'],\n",
       " ['ingenuos/QLF', 'ullas/QLF'],\n",
       " ['cartulatos/QLF'],\n",
       " ['cartulatos/QLF'],\n",
       " ['proprias/QLF'],\n",
       " ['fidelium/QLF',\n",
       "  'nostrorum/QLF',\n",
       "  'iustis/QLF',\n",
       "  'rationabilibus/QLF',\n",
       "  'diuini/QLF'],\n",
       " [' bone/QLF', 'fidelis/QLF'],\n",
       " ['cartulatos/QLF'],\n",
       " ['cartulatos/QLF'],\n",
       " [],\n",
       " ['ingenuos/QLF', 'iniuste/QLF'],\n",
       " [],\n",
       " ['omnia/QLF'],\n",
       " ['ingenuos/QLF', 'iniuste/QLF'],\n",
       " [],\n",
       " ['omnia/QLF'],\n",
       " [],\n",
       " [],\n",
       " [],\n",
       " ['sua/QLF', 'alium/QLF', 'Sancti/QLF'],\n",
       " [' sancti/QLF'],\n",
       " [' fugitiuorum/QLF'],\n",
       " ['propria/QLF', ' sancti/QLF'],\n",
       " ['piscarias/QLF', 'omnia/QLF', 'mobilia/QLF'],\n",
       " ['sancto/QLF']]"
      ]
     },
     "execution_count": 64,
     "metadata": {},
     "output_type": "execute_result"
    }
   ],
   "source": [
    "for i in liste:\n",
    "    for j in i:\n",
    "        if j[-3:] != 'QLF':\n",
    "            i.remove(j)\n",
    "liste"
   ]
  },
  {
   "cell_type": "code",
   "execution_count": 65,
   "id": "4975ee14",
   "metadata": {},
   "outputs": [],
   "source": [
    "df['qlf'] = liste  \n",
    "df['word'] = df['word'].str.split('/').str[0]\n",
    "df['word'] = df['word'].str.lower()\n",
    "df['cas_seruus'] = \"\"\n",
    "df['cas_qlf']= \"\"\n",
    "for i in range(len(df['qlf'])):\n",
    "    for j in range(len(df['qlf'][i])):\n",
    "        df['qlf'][i][j] = df['qlf'][i][j].split('/')[0].lower()\n",
    "\n",
    "df['qlf_1'] = \"\"\n",
    "df['qlf_2'] = \"\"\n",
    "df['qlf_3'] = \"\"\n",
    "df['qlf_4'] = \"\"\n",
    "df['qlf_5'] = \"\"\n",
    "for i in range(len(liste)):\n",
    "    for cas in range(len(liste[i])):\n",
    "        if cas == 0:\n",
    "            df['qlf_1'][i] = liste[i][cas]\n",
    "        if cas == 1:\n",
    "            df['qlf_2'][i] = liste[i][cas]\n",
    "        if cas == 2:\n",
    "            df['qlf_3'][i] = liste[i][cas]\n",
    "        if cas == 3:\n",
    "            df['qlf_4'][i] = liste[i][cas]\n",
    "        if cas == 4:\n",
    "            df['qlf_5'][i] = liste[i][cas]\n",
    "            \n",
    "for i in range(len(df)):\n",
    "    if df['word'][i] == ' seruus':\n",
    "        df['cas_seruus'][i] = 'nom_sg'\n",
    "    if df['word'][i] == ' seruorum':\n",
    "        df['cas_seruus'][i] = 'gen_pl'\n",
    "    if df['word'][i] == ' seruos':\n",
    "        df['cas_seruus'][i] = 'acc_pl'\n",
    "    if df['word'][i] == ' seruo':\n",
    "        df['cas_seruus'][i] = 'dat_sg | abl_sg'\n",
    "    if df['word'][i] == ' serui':\n",
    "        df['cas_seruus'][i] = 'gen_sg | nom pl'\n",
    "    if df['word'][i] == ' seruum':\n",
    "        df['cas_seruus'][i] = 'acc_sg'\n",
    "    if df['word'][i] == ' seruis':\n",
    "        df['cas_seruus'][i] = 'dat_pl | abl_pl'\n",
    "        \n",
    "df['cas_qlf_1'] = \"\"\n",
    "df['cas_qlf_2'] = \"\"\n",
    "df['cas_qlf_3'] = \"\"\n",
    "df['cas_qlf_4'] = \"\"\n",
    "df['cas_qlf_5'] = \"\"\n",
    "\n",
    "for i in range(len(df)):\n",
    "    if df['qlf_1'][i].endswith(('us','er')):\n",
    "        df['cas_qlf_1'][i] = ['nom_sg']\n",
    "    elif df['qlf_1'][i].endswith('is'):\n",
    "        df['cas_qlf_1'][i] = ['nom_sg','gen_sg','dat_pl','abl_pl']\n",
    "    elif df['qlf_1'][i].endswith('um'):\n",
    "        df['cas_qlf_1'][i] = ['acc_sg','gen_pl'] \n",
    "    elif df['qlf_1'][i].endswith('e'):\n",
    "        df['cas_qlf_1'][i] = ['abl_sg'] \n",
    "    elif df['qlf_1'][i].endswith('i'):\n",
    "        df['cas_qlf_1'][i] = ['gen_sg','dat_sg','nom_pl']\n",
    "    elif df['qlf_1'][i].endswith('is'):\n",
    "        df['cas_qlf_1'][i] = ['dat_pl','abl_pl','gen_sg ']\n",
    "    elif df['qlf_1'][i].endswith('os'):\n",
    "        df['cas_qlf_1'][i] = ['acc_pl']\n",
    "    elif df['qlf_1'][i].endswith('orum'):\n",
    "        df['cas_qlf_1'][i] = ['gen_pl']\n",
    "    elif df['qlf_1'][i].endswith('es'):\n",
    "        df['cas_qlf_1'][i] = ['nom_pl','acc_pl']\n",
    "    elif df['qlf_1'][i].endswith('ibus'):\n",
    "        df['cas_qlf_1'][i] = ['dat_pl','abl_pl']\n",
    "    elif df['qlf_1'][i].endswith('o'):\n",
    "        df['cas_qlf_1'][i] = ['dat_sg','abl_sg']\n",
    "    else:\n",
    "        df['cas_qlf_1'][i] = [\"\"]\n",
    "\n",
    "for i in range(len(df)):\n",
    "    if df['qlf_2'][i].endswith(('us','er')):\n",
    "        df['cas_qlf_2'][i] = ['nom_sg']\n",
    "    elif df['qlf_2'][i].endswith('is'):\n",
    "        df['cas_qlf_2'][i] = ['nom_sg','gen_sg','dat_pl','abl_pl']\n",
    "    elif df['qlf_2'][i].endswith('um'):\n",
    "        df['cas_qlf_2'][i] = ['acc_sg','gen_pl'] \n",
    "    elif df['qlf_2'][i].endswith('e'):\n",
    "        df['cas_qlf_2'][i] = ['abl_sg']\n",
    "    elif df['qlf_2'][i].endswith('i'):\n",
    "        df['cas_qlf_2'][i] = ['gen_sg','dat_sg','nom_pl']\n",
    "    elif df['qlf_2'][i].endswith('is'):\n",
    "        df['cas_qlf_2'][i] = ['dat_pl','abl_pl','gen_sg ']\n",
    "    elif df['qlf_2'][i].endswith('os'):\n",
    "        df['cas_qlf_2'][i] = ['acc_pl']\n",
    "    elif df['qlf_2'][i].endswith('orum'):\n",
    "        df['cas_qlf_2'][i] = ['gen_pl'] \n",
    "    elif df['qlf_2'][i].endswith('es'):\n",
    "        df['cas_qlf_2'][i] = ['nom_pl','acc_pl']\n",
    "    elif df['qlf_2'][i].endswith('ibus'):\n",
    "        df['cas_qlf_2'][i] = ['dat_pl','abl_pl']\n",
    "    elif df['qlf_2'][i].endswith('o'):\n",
    "        df['cas_qlf_2'][i] = ['dat_sg','abl_sg']\n",
    "    else:\n",
    "        df['cas_qlf_2'][i] = [\"\"]\n",
    "        \n",
    "for i in range(len(df)):\n",
    "    if df['qlf_3'][i].endswith(('us','er')):\n",
    "        df['cas_qlf_3'][i] = ['nom_sg']\n",
    "    elif df['qlf_3'][i].endswith('is'):\n",
    "        df['cas_qlf_3'][i] = ['nom_sg','gen_sg','dat_pl','abl_pl']\n",
    "    elif df['qlf_3'][i].endswith('um'):\n",
    "        df['cas_qlf_3'][i] = ['acc_sg','gen_pl'] \n",
    "    elif df['qlf_3'][i].endswith('e'):\n",
    "        df['cas_qlf_3'][i] = ['abl_sg'] \n",
    "    elif df['qlf_3'][i].endswith('i'):\n",
    "        df['cas_qlf_3'][i] = ['gen_sg','dat_sg','nom_pl']\n",
    "    elif df['qlf_3'][i].endswith('is'):\n",
    "        df['cas_qlf_3'][i] = ['dat_pl','abl_pl','gen_sg ']\n",
    "    elif df['qlf_3'][i].endswith('os'):\n",
    "        df['cas_qlf_3'][i] = ['acc_pl']\n",
    "    elif df['qlf_3'][i].endswith('orum'):\n",
    "        df['cas_qlf_3'][i] = ['gen_pl'] \n",
    "    elif df['qlf_3'][i].endswith('es'):\n",
    "        df['cas_qlf_3'][i] = ['nom_pl','acc_pl']\n",
    "    elif df['qlf_3'][i].endswith('ibus'):\n",
    "        df['cas_qlf_3'][i] = ['dat_pl','abl_pl']\n",
    "    elif df['qlf_3'][i].endswith('o'):\n",
    "        df['cas_qlf_3'][i] = ['dat_sg','abl_sg']\n",
    "    else:\n",
    "        df['cas_qlf_3'][i] = [\"\"]\n",
    "\n",
    "for i in range(len(df)):\n",
    "    if df['qlf_4'][i].endswith(('us','er')):\n",
    "        df['cas_qlf_4'][i] = ['nom_sg']\n",
    "    elif df['qlf_4'][i].endswith('is'):\n",
    "        df['cas_qlf_4'][i] = ['nom_sg','gen_sg','dat_pl','abl_pl']\n",
    "    elif df['qlf_4'][i].endswith('um'):\n",
    "        df['cas_qlf_4'][i] = ['acc_sg','gen_pl'] \n",
    "    elif df['qlf_4'][i].endswith('e'):\n",
    "        df['cas_qlf_4'][i] = ['abl_sg'] \n",
    "    elif df['qlf_4'][i].endswith('i'):\n",
    "        df['cas_qlf_4'][i] = ['gen_sg','dat_sg','nom_pl']\n",
    "    elif df['qlf_4'][i].endswith('is'):\n",
    "        df['cas_qlf_4'][i] = ['dat_pl','abl_pl','gen_sg ']\n",
    "    elif df['qlf_4'][i].endswith('os'):\n",
    "        df['cas_qlf_4'][i] = ['acc_pl'] \n",
    "    elif df['qlf_4'][i].endswith('orum'):\n",
    "        df['cas_qlf_4'][i] = ['gen_pl'] \n",
    "    elif df['qlf_4'][i].endswith('es'):\n",
    "        df['cas_qlf_4'][i] = ['nom_pl','acc_pl']\n",
    "    elif df['qlf_4'][i].endswith('ibus'):\n",
    "        df['cas_qlf_4'][i] = ['dat_pl','abl_pl']\n",
    "    elif df['qlf_4'][i].endswith('o'):\n",
    "        df['cas_qlf_4'][i] = ['dat_sg','abl_sg']\n",
    "    else:\n",
    "        df['cas_qlf_4'][i] = [\"\"]\n",
    "\n",
    "for i in range(len(df)):\n",
    "    if df['qlf_5'][i].endswith(('us','er')):\n",
    "        df['cas_qlf_5'][i] = ['nom_sg']\n",
    "    elif df['qlf_5'][i].endswith('is'):\n",
    "        df['cas_qlf_5'][i] = ['nom_sg','gen_sg','dat_pl','abl_pl']\n",
    "    elif df['qlf_5'][i].endswith('um'):\n",
    "        df['cas_qlf_5'][i] = ['acc_sg','gen_pl'] \n",
    "    elif df['qlf_5'][i].endswith('e'):\n",
    "        df['cas_qlf_5'][i] = ['abl_sg'] \n",
    "    elif df['qlf_5'][i].endswith('i'):\n",
    "        df['cas_qlf_5'][i] = ['gen_sg','dat_sg','nom_pl']\n",
    "    elif df['qlf_5'][i].endswith('is'):\n",
    "        df['cas_qlf_5'][i] = ['dat_pl','abl_pl','gen_sg ']\n",
    "    elif df['qlf_5'][i].endswith('os'):\n",
    "        df['cas_qlf_5'][i] = ['acc_pl']\n",
    "    elif df['qlf_5'][i].endswith('orum'):\n",
    "        df['cas_qlf_5'][i] = ['gen_pl']\n",
    "    elif df['qlf_5'][i].endswith('es'):\n",
    "        df['cas_qlf_5'][i] = ['nom_pl','acc_pl']\n",
    "    elif df['qlf_5'][i].endswith('ibus'):\n",
    "        df['cas_qlf_5'][i] = ['dat_pl','abl_pl']\n",
    "    elif df['qlf_5'][i].endswith('o'):\n",
    "        df['cas_qlf_5'][i] = ['dat_sg','abl_sg']\n",
    "    else:\n",
    "        df['cas_qlf_5'][i] = [\"\"]\n",
    "\n",
    "liste_res = []\n",
    "liste_cas = []\n",
    "\n",
    "\n",
    "for i in range(len(df)):\n",
    "    for j in range(len(df['cas_qlf_1'][i])):\n",
    "        if df['cas_qlf_1'][i][j] == df['cas_seruus'][i]:\n",
    "            liste_res.append(df['qlf_1'][i])\n",
    "            liste_cas.append(df['cas_qlf_1'][i][j])\n",
    "for i in range(len(df)):\n",
    "    for j in range(len(df['cas_qlf_2'][i])):\n",
    "        if df['cas_qlf_2'][i][j] == df['cas_seruus'][i]:\n",
    "            liste_res.append(df['qlf_2'][i])\n",
    "            liste_cas.append(df['cas_qlf_2'][i][j])\n",
    "for i in range(len(df)):\n",
    "    for j in range(len(df['cas_qlf_3'][i])):\n",
    "        if df['cas_qlf_3'][i][j] == df['cas_seruus'][i]:\n",
    "            liste_res.append(df['qlf_3'][i])\n",
    "            liste_cas.append(df['cas_qlf_3'][i][j])\n",
    "for i in range(len(df)):\n",
    "    for j in range(len(df['cas_qlf_4'][i])):\n",
    "        if df['cas_qlf_4'][i][j] == df['cas_seruus'][i]:\n",
    "            liste_res.append(df['qlf_4'][i])\n",
    "            liste_cas.append(df['cas_qlf_4'][i][j])\n",
    "for i in range(len(df)):\n",
    "    for j in range(len(df['cas_qlf_5'][i])):\n",
    "        if df['cas_qlf_5'][i][j] == df['cas_seruus'][i]:\n",
    "            liste_res.append(df['qlf_5'][i])\n",
    "            liste_cas.append(df['cas_qlf_5'][i][j])\n",
    "            \n",
    "list_tuples_QLF = Counter(liste_res).most_common()\n",
    "    \n",
    "dictionnaire_vide = dict(list_tuples_QLF)\n",
    "    \n",
    "dict_items = dictionnaire_vide.items()\n",
    "    \n",
    "first_hundred = list(dict_items)#[:100]\n",
    "    \n",
    "dico_final = dict(first_hundred)\n",
    "    \n",
    "b = list(dico_final.keys())\n",
    "a = list(dico_final.values())\n",
    "\n",
    "df_final_950 = pd.DataFrame(a,b)\n",
    "df_final_950.reset_index(inplace=True)\n",
    "df_final_950.columns = [\"Words\",\"Occ\"]\n",
    "\n",
    "list_tuples_QLF_cas = Counter(liste_cas).most_common()\n",
    "    \n",
    "dictionnaire_vide = dict(list_tuples_QLF_cas)\n",
    "    \n",
    "dict_items = dictionnaire_vide.items()\n",
    "    \n",
    "first_hundred = list(dict_items)#[:100]\n",
    "    \n",
    "dico_final = dict(first_hundred)\n",
    "    \n",
    "a = list(dico_final.values())\n",
    "b = list(dico_final.keys())\n",
    "\n",
    "df_final_cas_950 = pd.DataFrame(a,b)\n",
    "df_final_cas_950.reset_index(inplace=True)\n",
    "df_final_cas_950.columns = [\"Cas\",\"Occ\"]"
   ]
  },
  {
   "cell_type": "code",
   "execution_count": 73,
   "id": "c29d5d3a",
   "metadata": {},
   "outputs": [],
   "source": [
    "colnames = ['indice','pre','word','post']\n",
    "df = pd.read_csv('/home/noe/Documents/Master_2/Mémoire/SketchEngineExport/lemmes_servitude/Seruus/Word_tags/1000-1049.csv', header = 4, names=colnames)\n",
    "df = df[['pre','word','post']]\n",
    "df['new'] = df['pre'] + (' ') + df['word']+ (' ') + df['post']\n",
    "df['new'] = df['new'].str.lower()\n",
    "df['drop'] = df['new'].str.find('seruus/sub  seruorum/sub  dei/sub ')\n",
    "df = df[df['drop'] == -1]\n",
    "df = df.reset_index()\n",
    "df.pop('index')\n",
    "df.pop('drop')\n",
    "df.pop('new')\n",
    "liste_1 = df['pre'].str.split(('  ')).tolist()\n",
    "for i in range(len(liste_1)):\n",
    "    liste_1[i] = liste_1[i][-5:]\n",
    "    \n",
    "liste_2 = df['post'].str.split(('  ')).tolist()\n",
    "for i in range(len(liste_2)):\n",
    "    liste_2[i] = liste_2[i][:5]\n",
    "liste = []\n",
    "for i in range(len(liste_1)):\n",
    "    liste.append(liste_1[i] + liste_2[i])"
   ]
  },
  {
   "cell_type": "code",
   "execution_count": 81,
   "id": "4aca3953",
   "metadata": {},
   "outputs": [
    {
     "data": {
      "text/plain": [
       "[['suis/QLF', 'suo/QLF', 'bone/QLF'],\n",
       " [],\n",
       " [],\n",
       " ['suus/QLF', ' omnium/QLF'],\n",
       " ['suus/QLF', 'omnium/QLF', 'indignus/QLF'],\n",
       " ['ortolanus/QLF'],\n",
       " [' Sancti/QLF', 'Sancto/QLF'],\n",
       " [],\n",
       " ['totum/QLF', 'omnia/QLF'],\n",
       " ['omnium/QLF', 'infimus/QLF', ' diuina/QLF'],\n",
       " [],\n",
       " ['indominicatum/QLF'],\n",
       " [],\n",
       " ['sua/QLF', 'alium/QLF', 'Sancti/QLF'],\n",
       " [' hos/QLF', 'Sancto/QLF'],\n",
       " ['omnibus/QLF', 'fidelibus/QLF', 'quodam/QLF', 'quoddam/QLF'],\n",
       " ['sanctee/QLF'],\n",
       " [],\n",
       " ['sancte/QLF', 'indiuidue/QLF'],\n",
       " ['sancte/QLF', 'indiuidue/QLF'],\n",
       " ['sancte/QLF', 'indiuidue/QLF'],\n",
       " ['sancte/QLF', 'indiuidue/QLF'],\n",
       " ['sancte/QLF', 'indiuidue/QLF'],\n",
       " ['sancte/QLF', 'indiuidue/QLF'],\n",
       " ['sancte/QLF', 'indiuidue/QLF'],\n",
       " ['sancte/QLF', 'indiuidue/QLF'],\n",
       " ['sancte/QLF', 'indiuidue/QLF'],\n",
       " ['sancte/QLF', 'indiuidue/QLF'],\n",
       " ['sancte/QLF', 'indiuidue/QLF'],\n",
       " ['omnia/QLF', 'suorum/QLF', 'mobilium/QLF', 'immobiliumue/QLF'],\n",
       " ['colono/QLF'],\n",
       " ['omnia/QLF', 'illicita/QLF', 'illicite/QLF', 'pristinum/QLF'],\n",
       " ['misit/VBE </s><s> Omnia/QLF'],\n",
       " ['suus/QLF', ' omnium/QLF'],\n",
       " ['suus/QLF', 'omnium/QLF', 'indignus/QLF'],\n",
       " [],\n",
       " ['predictos/QLF'],\n",
       " [' sancti/QLF'],\n",
       " ['populari/QLF'],\n",
       " [],\n",
       " ['sacer/QLF'],\n",
       " ['sacer/QLF'],\n",
       " ['sancte/QLF', 'indiuidue/QLF'],\n",
       " [],\n",
       " ['sancte/QLF', 'indiuidue/QLF', 'augustus/QLF'],\n",
       " ['sancte/QLF'],\n",
       " ['sanctee/QLF'],\n",
       " ['nostre/QLF'],\n",
       " ['sancte/QLF', 'indiuidue/QLF', 'augustus/QLF', 'omnium/QLF'],\n",
       " [],\n",
       " ['sancte/QLF', 'indiuidue/QLF', 'rum/VBE </s><s> Omnium/QLF', 'fidelium/QLF'],\n",
       " ['sancte/QLF', 'indiuidue/QLF', 'omnium/QLF', 'sancte/QLF'],\n",
       " ['sancte/QLF', 'indiuidue/QLF'],\n",
       " ['cunctos/QLF'],\n",
       " ['quamque/QLF'],\n",
       " ['omnibus/QLF'],\n",
       " [],\n",
       " ['consimiles/QLF'],\n",
       " ['quamque/QLF'],\n",
       " ['indiuidue/QLF',\n",
       "  'stolorum/SUB </s><s> Omnium/QLF',\n",
       "  'fidelium/QLF',\n",
       "  'nostrorum/QLF'],\n",
       " ['augustus/QLF', 'omnibus/QLF', 'nostris/QLF', 'fidelibus/QLF'],\n",
       " ['sancte/QLF', 'rum/VBE </s><s> Omnium/QLF', 'fidelium/QLF', 'nostrorum/QLF'],\n",
       " ['sancte/QLF',\n",
       "  'indiuidue/QLF',\n",
       "  'rum/VBE </s><s> Omnium/QLF',\n",
       "  'fidelium/QLF',\n",
       "  'nostrorum/QLF'],\n",
       " ['sancte/QLF',\n",
       "  'indiuidue/QLF',\n",
       "  'rum/VBE </s><s> Omnium/QLF',\n",
       "  'fidelium/QLF',\n",
       "  'nostrorum/QLF'],\n",
       " ['sancte/QLF', 'indiuidue/QLF', 'augustus/QLF </s><s> Omnium/QLF'],\n",
       " ['sancte/QLF', 'indiuidue/QLF', 'augustus/QLF'],\n",
       " ['sancte/QLF', 'rum/VBE </s><s> Omnium/QLF', 'fidelium/QLF', 'nostrorum/QLF'],\n",
       " ['sancte/QLF', 'indiuidue/QLF', 'augustus/QLF', 'omnium/QLF'],\n",
       " ['sancte/QLF', 'indiuidue/QLF'],\n",
       " ['suarum/QLF', 'predictos/QLF', 'aldianes/QLF'],\n",
       " ['predictos/QLF', 'aldianes/QLF'],\n",
       " ['cunctos/QLF'],\n",
       " ['quamque/QLF'],\n",
       " ['omnibus/QLF'],\n",
       " [],\n",
       " ['consimiles/QLF'],\n",
       " ['hanc/QLF', 'quamque/QLF'],\n",
       " ['sancte/QLF',\n",
       "  'indiuidue/QLF',\n",
       "  ' apostulorum/SUB </s><s> Omnium/QLF',\n",
       "  'fidelium/QLF',\n",
       "  'nostrorum/QLF',\n",
       "  'presentium/QLF'],\n",
       " ['sancte/QLF',\n",
       "  'indiuidue/QLF',\n",
       "  ' apostulorum/SUB </s><s> Omnium/QLF',\n",
       "  'fidelium/QLF',\n",
       "  'nostrorum/QLF',\n",
       "  'presentium/QLF'],\n",
       " ['uniuersos/QLF'],\n",
       " ['populari/QLF'],\n",
       " [],\n",
       " ['uiuo/QLF', 'omni/QLF'],\n",
       " [],\n",
       " [],\n",
       " ['alium/QLF', 'omnia/QLF'],\n",
       " ['presenti/QLF'],\n",
       " ['alium/QLF', 'hanc/QLF'],\n",
       " [],\n",
       " ['diuina/QLF'],\n",
       " ['ingenuos/QLF', 'latos/QLF', 'iniuste/QLF', 'ullo/QLF'],\n",
       " ['honorificum/QLF'],\n",
       " ['nostre/QLF'],\n",
       " ['sancti/QLF', 'nullus/QLF'],\n",
       " ['ingenuos/QLF', 'iniuste/QLF'],\n",
       " [],\n",
       " ['ingenuos/QLF', 'ullam/QLF'],\n",
       " ['suos/QLF',\n",
       "  ' nullus/QLF',\n",
       "  'ministrorum/QLF',\n",
       "  'nostrorum/QLF',\n",
       "  'publicus/QLF'],\n",
       " ['sancte/QLF',\n",
       "  'indiuidue/QLF',\n",
       "  'omnibus/QLF',\n",
       "  'fidelibus/QLF',\n",
       "  'nostris/QLF'],\n",
       " ['sancte/QLF', 'indiuidue/QLF', 'augustus/QLF'],\n",
       " [],\n",
       " ['uiuo/QLF', 'omni/QLF'],\n",
       " ['uotiuis/QLF'],\n",
       " ['ingenuos/QLF'],\n",
       " ['ingenuos/QLF'],\n",
       " ['quendam/QLF'],\n",
       " ['suis/QLF'],\n",
       " ['imperialem/QLF'],\n",
       " ['ingenuos/QLF'],\n",
       " ['suum/QLF', 'nie/QLF'],\n",
       " ['alias/QLF'],\n",
       " ['alias/QLF'],\n",
       " [],\n",
       " ['ingenuos/QLF'],\n",
       " ['ingenuos/QLF', 'iniuste/QLF', 'ullo/QLF'],\n",
       " ['ingenuos/QLF', 'iniuste/QLF'],\n",
       " ['Inmensa/QLF'],\n",
       " ['stabilis/QLF'],\n",
       " ['suum/QLF'],\n",
       " [],\n",
       " ['perpetua/QLF'],\n",
       " ['nobilis/QLF', 'ignobilis/QLF', ' magnus/QLF', 'paruus/QLF'],\n",
       " ['colonos/QLF', 'iniusto/QLF'],\n",
       " ['pia/QLF', 'quosdam/QLF', 'nostre/QLF', 'dictos/QLF'],\n",
       " [' nostro/QLF'],\n",
       " ['supradicto/QLF', 'supradicta/QLF'],\n",
       " ['ingenuos/QLF', 'iniuste/QLF'],\n",
       " ['quesitum/QLF'],\n",
       " [],\n",
       " ['diuine/QLF', ' tuti/QLF', 'prefatam/QLF'],\n",
       " ['ingenuus/QLF'],\n",
       " ['humilis/QLF', 'nobilissimus/QLF'],\n",
       " [],\n",
       " [],\n",
       " ['Diuina/QLF'],\n",
       " ['nobilium/QLF'],\n",
       " ['diuina/QLF', 'iustas/QLF', 'rationabiles/QLF'],\n",
       " ['ingenuos/QLF', 'letos/QLF'],\n",
       " ['stipendiarium/QLF'],\n",
       " ['inutilis/QLF', 'sui/QLF'],\n",
       " ['inconuulsius/QLF'],\n",
       " ['censuales/QLF'],\n",
       " ['ingenuos/QLF', 'manentes/QLF', 'nostris/QLF'],\n",
       " ['pio/QLF', 'quendam/QLF', 'nostri/QLF'],\n",
       " [],\n",
       " [],\n",
       " [],\n",
       " [],\n",
       " ['terrena/QLF', ' pleno/QLF'],\n",
       " [],\n",
       " ['subditi/QLF'],\n",
       " ['subditi/QLF'],\n",
       " ['indominicatum/QLF', 'suis/QLF'],\n",
       " ['presente/QLF'],\n",
       " ['Sancti/QLF'],\n",
       " [],\n",
       " ['predicti/QLF'],\n",
       " ['sancte/QLF'],\n",
       " [],\n",
       " ['suis/QLF'],\n",
       " ['colonos/QLF', 'rarum/QLF'],\n",
       " [],\n",
       " ['Sunthouen/QLF', 'quendam/QLF', 'omni/QLF', 'suo/QLF'],\n",
       " ['predicto/QLF', 'cuidam/QLF', 'predicte/QLF'],\n",
       " ['inperpetuo/QLF'],\n",
       " ['inperpetuo/QLF'],\n",
       " ['futuris/QLF', 'presentibus/QLF', ' Sancti/QLF'],\n",
       " ['nullam/QLF', 'bonorum/QLF'],\n",
       " ['nostri/QLF'],\n",
       " ['abitan/QLF', 'gratuita/QLF'],\n",
       " ['nostre/QLF'],\n",
       " ['ecclesiasticos/QLF', 'colonos/QLF'],\n",
       " ['ingenuos/QLF'],\n",
       " [],\n",
       " ['<s> S/SUB </s><s> Arnaldi/NAM </s><s> S/SUB </s><s> Algerii/NAM </s><s> S/SUB </s><s> Warnerii/NAM </s><s> S/SUB </s><s> Bernardi/NAM </s><s> S/SUB </s><s> Adelardi/NAM </s><s> S/SUB </s><s> Alberti/NAM </s><s> S/SUB </s><s> Teoderici/NAM </s><s> S/SUB </s><s> Warnerii/NAM </s><s> Christi/QLF',\n",
       "  ' minimus/QLF'],\n",
       " ['totum/QLF', 'integre/QLF', 'cenobitani/QLF'],\n",
       " ['publicam/QLF', 'prefate/QLF'],\n",
       " [],\n",
       " ['pauper/QLF', 'magnus/QLF', 'paruus/QLF'],\n",
       " [],\n",
       " ['sanctissimo/QLF'],\n",
       " ['pusillus/QLF'],\n",
       " ['pusillus/QLF'],\n",
       " ['pusillus/QLF'],\n",
       " ['exigui/QLF'],\n",
       " ['mea/QLF'],\n",
       " ['mea/QLF'],\n",
       " ['mea/QLF'],\n",
       " ['omnes/QLF', ' nostros/QLF'],\n",
       " [],\n",
       " [],\n",
       " [],\n",
       " [],\n",
       " ['nostre/QLF'],\n",
       " ['sua/QLF'],\n",
       " [],\n",
       " [],\n",
       " [],\n",
       " [],\n",
       " ['nullus/QLF', 'publicus/QLF'],\n",
       " ['ullam/QLF'],\n",
       " ['consecratee/QLF', 'quendam/QLF', 'nostri/QLF'],\n",
       " ['alterius/QLF'],\n",
       " ['parem/QLF', 'suum/QLF'],\n",
       " [],\n",
       " [],\n",
       " [' Sancte/QLF'],\n",
       " ['prefixo/QLF </s><s> prefixa/QLF'],\n",
       " ['hodierno/QLF'],\n",
       " ['sua/QLF'],\n",
       " ['publica/QLF'],\n",
       " ['omnipotentis/QLF', 'quendam/QLF', ' meum/QLF', 'hodierna/QLF'],\n",
       " [],\n",
       " ['Sancti/QLF', 'alter/QLF'],\n",
       " [],\n",
       " ['alium/QLF', 'nostra/QLF'],\n",
       " [],\n",
       " [],\n",
       " ['sua/QLF'],\n",
       " ['suis/QLF', 'alium/QLF', 'suam/QLF'],\n",
       " ['francum/QLF'],\n",
       " ['sua/QLF'],\n",
       " ['incultas/QLF', 'totum/QLF'],\n",
       " ['omnes/QLF'],\n",
       " ['confessa/QLF', 'uestras/QLF', 'omnium/QLF'],\n",
       " ['suis/QLF'],\n",
       " ['ingenuos/QLF', 'iniuste/QLF', 'ullas/QLF'],\n",
       " ['ingenuos/QLF', ' iniuste/QLF', 'ullas/QLF'],\n",
       " [],\n",
       " ['pie/QLF'],\n",
       " ['quendam/QLF', 'sui/QLF'],\n",
       " ['Sancti/QLF'],\n",
       " ['noster/QLF', 'omnia/QLF'],\n",
       " ['sua/QLF'],\n",
       " [],\n",
       " [],\n",
       " [' Sancti/QLF'],\n",
       " ['hereditario/QLF', 'suis/QLF'],\n",
       " ['omnibus/QLF', 'apenditiis/QLF', 'suis/QLF'],\n",
       " [],\n",
       " ['suis/QLF', 'alios/QLF'],\n",
       " ['indignus/QLF'],\n",
       " ['indignus/QLF'],\n",
       " ['indignus/QLF'],\n",
       " [],\n",
       " ['sua/QLF'],\n",
       " [],\n",
       " [],\n",
       " ['sancte/QLF', 'indiuidue/QLF'],\n",
       " ['sancte/QLF', 'indiuidue/QLF', 'augustus/QLF'],\n",
       " ['cartulatos/QLF'],\n",
       " ['cartulatos/QLF'],\n",
       " ['cartulatis/QLF', 'liberos/QLF', 'sancti/QLF'],\n",
       " ['ingenuos/QLF', 'iniuste/QLF'],\n",
       " [' nostre/QLF'],\n",
       " ['ecclesiasticas/QLF', 'nostro/QLF'],\n",
       " ['ingenuos/QLF', 'monasteril/QLF'],\n",
       " ['omnibus/QLF', 'prefatis/QLF'],\n",
       " ['nostram/QLF'],\n",
       " [' nostre/QLF'],\n",
       " ['cartulatos/QLF'],\n",
       " ['cartulatos/QLF'],\n",
       " ['cartulatis/QLF', 'liberos/QLF', 'sancti/QLF'],\n",
       " ['Iuniani/QLF'],\n",
       " ['colonicam/QLF', 'omnibus/QLF'],\n",
       " ['mea/QLF', 'meorum/QLF', 'manentum/QLF'],\n",
       " [],\n",
       " ['sui/QLF', 'suorum/QLF'],\n",
       " [],\n",
       " ['summo/QLF', 'ullo/QLF'],\n",
       " ['iniustas/QLF'],\n",
       " [],\n",
       " ['iniuste/QLF'],\n",
       " ['inutile/QLF', ' tui/QLF'],\n",
       " ['tui/QLF'],\n",
       " ['pura/QLF'],\n",
       " [],\n",
       " ['pie/QLF'],\n",
       " ['racionabilibus/QLF'],\n",
       " ['ingenuos/QLF', 'ullas/QLF'],\n",
       " ['ingenuos/QLF'],\n",
       " ['ingenuos/QLF', 'iniuste/QLF'],\n",
       " ['aliis/QLF'],\n",
       " ['meo/QLF', ' meos/QLF', 'meas/QLF'],\n",
       " [],\n",
       " [],\n",
       " ['ingenuos/QLF', 'iniuste/QLF'],\n",
       " ['exiguo/QLF', 'indigno/QLF', 'humilis/QLF', 'mea/QLF'],\n",
       " ['Sancti/QLF'],\n",
       " ['prefato/QLF', 'omnes/QLF', 'suis/QLF', 'libere/QLF'],\n",
       " ['regie/QLF'],\n",
       " ['ecclesiastica/QLF', 'liberum/QLF'],\n",
       " ['seruilis/QLF', ' suum/QLF'],\n",
       " ['mea/QLF', ' meum/QLF'],\n",
       " ['mee/QLF'],\n",
       " ['hodierna/QLF'],\n",
       " [],\n",
       " [' firma/QLF', 'inconcussa/QLF'],\n",
       " ['omnem/QLF', 'omnium/QLF'],\n",
       " ['exiguo/QLF', 'indignus/QLF'],\n",
       " ['exiguo/QLF', 'indignus/QLF'],\n",
       " ['iustis/QLF'],\n",
       " ['omnibus/QLF', 'colonos/QLF'],\n",
       " ['sancte/QLF', 'predicte/QLF'],\n",
       " ['summo/QLF', 'ullo/QLF'],\n",
       " ['iniustas/QLF'],\n",
       " [],\n",
       " ['nefario/QLF'],\n",
       " [],\n",
       " ['interius/QLF'],\n",
       " [' omnes/QLF'],\n",
       " ['totum/QLF', 'omnium/QLF'],\n",
       " ['totam/QLF'],\n",
       " ['ullius/QLF'],\n",
       " ['proprium/QLF', 'boni/QLF', 'proprio/QLF'],\n",
       " ['ecclesiastica/QLF', 'liberum/QLF'],\n",
       " [' suum/QLF'],\n",
       " ['mea/QLF', ' meum/QLF'],\n",
       " ['mee/QLF'],\n",
       " ['hodierna/QLF'],\n",
       " [],\n",
       " [' firma/QLF', 'inconuulsa/QLF'],\n",
       " [],\n",
       " ['suorum/QLF'],\n",
       " ['nostre/QLF'],\n",
       " ['proprium/QLF', ' spontanea/QLF'],\n",
       " ['proprium/QLF', 'boni/QLF', 'proprio/QLF'],\n",
       " ['suorum/QLF'],\n",
       " ['fidelis/QLF', 'prudens/QLF'],\n",
       " ['infantibus/SUB </s><s> Hanc/QLF'],\n",
       " [],\n",
       " [' nostri/QLF', 'predicte/QLF'],\n",
       " ['predicte/QLF', 'quidam/QLF'],\n",
       " [],\n",
       " ['hanc/QLF'],\n",
       " [],\n",
       " ['suis/QLF'],\n",
       " ['suis/QLF', 'alterius/QLF'],\n",
       " [' totam/QLF'],\n",
       " ['Sancti/QLF'],\n",
       " [],\n",
       " ['aliud/QLF'],\n",
       " [],\n",
       " [' meus/QLF', 'aliam/QLF'],\n",
       " [],\n",
       " ['sua/QLF'],\n",
       " ['suis/QLF', 'omnibus/QLF'],\n",
       " ['multum/QLF', 'Sancti/QLF'],\n",
       " ['sua/QLF'],\n",
       " ['omnia/QLF', 'sua/QLF'],\n",
       " ['predicto/QLF'],\n",
       " ['cunctam/QLF', 'alterum/QLF'],\n",
       " ['nostro/QLF', 'suam/QLF'],\n",
       " ['hanc/QLF'],\n",
       " [],\n",
       " ['omnibus/QLF', 'apenditiis/QLF'],\n",
       " ['omnibus/QLF', 'cunctis/QLF'],\n",
       " ['alium/QLF', 'alium/QLF'],\n",
       " [],\n",
       " ['tali/QLF'],\n",
       " ['ceterorum/QLF', 'quodam/QLF', 'Sancto/QLF'],\n",
       " ['Sancti/QLF', 'nostri/QLF'],\n",
       " ['Sancto/QLF'],\n",
       " ['suorum/QLF',\n",
       "  'firmauerunt/VBE </s><s> S/SUB </s><s> Bernardi/NAM </s><s> S/SUB </s><s> Duranni/NAM </s><s> S/SUB </s><s> alii/QLF'],\n",
       " [],\n",
       " [' Sancti/QLF'],\n",
       " [],\n",
       " [],\n",
       " ['indominicatum/QLF', 'Siluestrum/QLF'],\n",
       " [],\n",
       " ['suis/QLF'],\n",
       " [],\n",
       " [],\n",
       " [],\n",
       " ['infantibus/SUB </s><s> Hanc/QLF'],\n",
       " [],\n",
       " [],\n",
       " ['infantibus/SUB </s><s> Hanc/QLF'],\n",
       " [],\n",
       " [],\n",
       " ['quendam/QLF', 'quoddam/QLF'],\n",
       " [],\n",
       " ['ingenuos/QLF'],\n",
       " ['sua/QLF'],\n",
       " ['Indiuidue/QLF', 'omnipotenti/QLF'],\n",
       " ['ingenuus/QLF', 'alia/QLF'],\n",
       " ['ingenuus/QLF', 'alia/QLF'],\n",
       " [],\n",
       " [' Sancti/QLF'],\n",
       " ['sancte/QLF'],\n",
       " [],\n",
       " ['omnium/QLF'],\n",
       " ['sancto/QLF', 'uestro/QLF'],\n",
       " ['nostra/QLF', 'freti/QLF'],\n",
       " [],\n",
       " [],\n",
       " ['omni/QLF'],\n",
       " [],\n",
       " ['sua/QLF'],\n",
       " ['perpetuam/QLF', 'suis/QLF'],\n",
       " ['omni/QLF'],\n",
       " [],\n",
       " [],\n",
       " [],\n",
       " [],\n",
       " ['obtimo/QLF'],\n",
       " ['eterni/QLF'],\n",
       " [],\n",
       " [' Sancti/QLF'],\n",
       " ['pascue/QLF', 'seruam/QLF'],\n",
       " [' mei/QLF', 'meam/QLF'],\n",
       " ['nefario/QLF'],\n",
       " ['exquisitis/QLF', 'omnibus/QLF'],\n",
       " ['omnibus/QLF'],\n",
       " ['alodii/QLF'],\n",
       " ['Sancti/QLF', 'alium/QLF'],\n",
       " [],\n",
       " ['cartulatos/QLF'],\n",
       " ['cartulatos/QLF'],\n",
       " [],\n",
       " ['ingenuos/QLF', 'libellarios/QLF', 'quamque/QLF'],\n",
       " ['sancti/QLF', ' sancti/QLF'],\n",
       " ['cartulatos/QLF'],\n",
       " ['cartulatos/QLF'],\n",
       " ['suis/QLF'],\n",
       " ['ingenuos/QLF', 'libellarios/QLF', 'quamque/QLF'],\n",
       " ['pura/QLF', 'ultima/QLF'],\n",
       " ['sancti/QLF', 'sancti/QLF'],\n",
       " ['sancti/QLF', 'sancti/QLF'],\n",
       " [' Sancti/QLF'],\n",
       " ['mea/QLF', 'omni/QLF', ' Sancti/QLF'],\n",
       " [],\n",
       " ['omnia/QLF'],\n",
       " [],\n",
       " [],\n",
       " ['sancti/QLF', 'sancti/QLF'],\n",
       " ['subiacentes/QLF', 'liberi/QLF'],\n",
       " ['omnipotenti/QLF'],\n",
       " [' sacratissimi/QLF'],\n",
       " [],\n",
       " [],\n",
       " ['mouile/QLF', 'inmouentibus/QLF', 'magna/QLF'],\n",
       " ['completo/QLF'],\n",
       " ['prefato/QLF'],\n",
       " ['notatum/QLF', 'monast/QLF'],\n",
       " ['celestis/QLF'],\n",
       " ['ecclesiasticum/QLF', 'supradicto/QLF'],\n",
       " ['conscius/QLF', 'assiduam/QLF'],\n",
       " ['prenominato/QLF'],\n",
       " ['completo/QLF'],\n",
       " ['preefato/QLF'],\n",
       " ['notatum/QLF'],\n",
       " ['celestis/QLF'],\n",
       " ['supradicto/QLF'],\n",
       " ['cultis/QLF', 'incultis/QLF', 'sancto/QLF'],\n",
       " [],\n",
       " [],\n",
       " [],\n",
       " ['celestis/QLF'],\n",
       " ['exiguum/QLF', 'humilimum/QLF'],\n",
       " ['exiguum/QLF', 'humilimum/QLF'],\n",
       " ['claram/QLF'],\n",
       " ['sancte/QLF'],\n",
       " ['hac/QLF', 'pusillus/QLF', 'Iustum/QLF'],\n",
       " ['hac/QLF', 'pusillus/QLF', 'Iustum/QLF'],\n",
       " ['hac/QLF', 'pusillus/QLF', ' Iustum/QLF', 'humillimus/QLF'],\n",
       " ['Sancti/QLF'],\n",
       " [],\n",
       " ['dictos/QLF'],\n",
       " ['dictos/QLF'],\n",
       " ['diuina/QLF', 'facilem/QLF'],\n",
       " ['colonos/QLF', 'iniuste/QLF'],\n",
       " ['ingenuos/QLF', 'colonos/QLF', 'letos/QLF'],\n",
       " ['ingenuos/QLF', 'iniuste/QLF', 'ullo/QLF'],\n",
       " [' nostree/QLF', 'predicti/QLF'],\n",
       " ['nullus/QLF', 'publicus/QLF'],\n",
       " ['ullam/QLF'],\n",
       " ['sancti/QLF', 'nullus/QLF'],\n",
       " [],\n",
       " ['singulas/QLF'],\n",
       " [],\n",
       " ['uenerabilia/QLF', 'nostra/QLF'],\n",
       " ['ingenuos/QLF', 'ullam/QLF'],\n",
       " ['suos/QLF',\n",
       "  ' nullus/QLF',\n",
       "  'ministrorum/QLF',\n",
       "  'nostrorum/QLF',\n",
       "  'publicus/QLF'],\n",
       " ['ingenuos/QLF', 'manentes/QLF', 'iniuste/QLF'],\n",
       " ['cartulati/QLF'],\n",
       " ['cartulati/QLF'],\n",
       " ['ingenuos/QLF'],\n",
       " ['libelarios/QLF'],\n",
       " ['mobiles/QLF', 'immobiles/QLF'],\n",
       " [],\n",
       " ['pauperes/QLF'],\n",
       " ['singulas/QLF'],\n",
       " ['ingenuos/QLF', 'libellarios/QLF', 'quamque/QLF'],\n",
       " [' promiscui/QLF'],\n",
       " ['omnipotentis/QLF', 'toto/QLF'],\n",
       " ['iustis/QLF', 'rationabilibus/QLF', 'diuini/QLF'],\n",
       " ['iustis/QLF', 'rationabilibus/QLF', 'diuini/QLF'],\n",
       " ['integrum/QLF'],\n",
       " ['libellarii/QLF', ' alie/QLF', 'omnes/QLF'],\n",
       " [],\n",
       " [' sancti/QLF'],\n",
       " ['omnibus/QLF'],\n",
       " ['ingenuos/QLF', 'libellarios/QLF', 'quamque/QLF'],\n",
       " [],\n",
       " ['iustis/QLF'],\n",
       " ['conmendaticios/QLF', 'facticios/QLF'],\n",
       " ['ingenuos/QLF', 'iniuste/QLF', 'ullo/QLF'],\n",
       " ['libellarii/QLF', ' alie/QLF', 'omnes/QLF'],\n",
       " [],\n",
       " ['iustis/QLF', 'rationabilibus/QLF'],\n",
       " ['quosdam/QLF'],\n",
       " ['eterna/QLF', 'nominatos/QLF'],\n",
       " ['sancta/QLF'],\n",
       " [],\n",
       " [],\n",
       " [],\n",
       " [],\n",
       " [],\n",
       " [' suos/QLF', 'multis/QLF', 'hac/QLF', 'uariis/QLF'],\n",
       " ['alter/QLF'],\n",
       " [' bone/QLF', 'fidelis/QLF'],\n",
       " [' suos/QLF', 'multis/QLF', 'hac/QLF', 'uariis/QLF'],\n",
       " ['predicto/QLF'],\n",
       " [],\n",
       " ['eterni/QLF'],\n",
       " [],\n",
       " ['beati/QLF', 'quasdam/QLF'],\n",
       " ['beati/QLF', 'quasdam/QLF'],\n",
       " ['quasdam/QLF'],\n",
       " ['nostree/QLF'],\n",
       " ['similem/QLF'],\n",
       " [],\n",
       " ['suis/QLF'],\n",
       " [],\n",
       " ['quendam/QLF'],\n",
       " ['nostri/QLF'],\n",
       " ['alio/QLF'],\n",
       " ['tali/QLF'],\n",
       " ['tali/QLF'],\n",
       " ['alter/QLF'],\n",
       " [' bone/QLF', 'fidelis/QLF'],\n",
       " ['omnibus/QLF', 'sancti/QLF'],\n",
       " [],\n",
       " ['omnibus/QLF', 'sancti/QLF'],\n",
       " ['quoddam/QLF'],\n",
       " ['predictus/QLF'],\n",
       " ['cultis/QLF', 'incultis/QLF', 'sancto/QLF'],\n",
       " ['nostra/QLF', 'freti/QLF'],\n",
       " ['meum/QLF'],\n",
       " ['pusillus/QLF'],\n",
       " ['pusillus/QLF'],\n",
       " ['salarium/QLF', 'omnium/QLF'],\n",
       " [],\n",
       " ['imperialem/QLF'],\n",
       " ['ingenuos/QLF'],\n",
       " [],\n",
       " [],\n",
       " [],\n",
       " [],\n",
       " ['nostra/QLF'],\n",
       " ['quosdam/QLF'],\n",
       " ['eterna/QLF'],\n",
       " [],\n",
       " ['omnium/QLF', ' meorum/QLF'],\n",
       " [' sancte/QLF'],\n",
       " ['predicto/QLF'],\n",
       " ['ecclesiasticos/QLF', 'colonos/QLF'],\n",
       " ['ingenuos/QLF'],\n",
       " ['hereditario/QLF'],\n",
       " ['cotidianos/QLF'],\n",
       " ['sua/QLF', 'pauperes/QLF', 'temporalem/QLF'],\n",
       " [' uester/QLF', 'exiguus/QLF', 'quamque/QLF', 'indignus/QLF'],\n",
       " ['predicti/QLF'],\n",
       " ['prefato/QLF'],\n",
       " [],\n",
       " [],\n",
       " ['iuridicialis/QLF', 'parachos/QLF'],\n",
       " ['suo/QLF'],\n",
       " ['sancto/QLF'],\n",
       " ['mea/QLF', 'nostrorum/QLF'],\n",
       " ['libellarii/QLF', 'nostra/QLF', 'imperiali/QLF', 'munitee/QLF'],\n",
       " [],\n",
       " ['subiacentes/QLF', 'liberi/QLF'],\n",
       " ['deuotissima/QLF'],\n",
       " [],\n",
       " [],\n",
       " ['tuarum/QLF', 'supradictum/QLF', 'Sancto/QLF'],\n",
       " ['omnes/QLF'],\n",
       " ['temporalem/QLF'],\n",
       " [],\n",
       " ['cuidam/QLF', 'nostri/QLF', 'omni/QLF'],\n",
       " ['cuidam/QLF', 'nostri/QLF', 'omni/QLF'],\n",
       " ['indignus/QLF'],\n",
       " ['exigui/QLF'],\n",
       " ['suorum/QLF'],\n",
       " ['ingenuos/QLF', 'ullas/QLF'],\n",
       " ['predicti/QLF'],\n",
       " ['omnes/QLF'],\n",
       " ['sanctos/QLF', 'temporalem/QLF'],\n",
       " ['ingenuos/QLF', 'ullas/QLF'],\n",
       " ['ingenuos/QLF', 'ullas/QLF'],\n",
       " ['suum/QLF'],\n",
       " ['predicti/QLF'],\n",
       " [' Sancti/QLF', 'Sancti/QLF'],\n",
       " ['Sancti/QLF', ' Sancti/QLF'],\n",
       " ['suo/QLF', 'ulla/QLF', 'omni/QLF'],\n",
       " ['omnium/QLF', 'fidelium/QLF', 'meorum/QLF'],\n",
       " ['Sancti/QLF', 'gloriosissimi/QLF'],\n",
       " ['suo/QLF', 'ulla/QLF', 'omni/QLF'],\n",
       " ['sancti/QLF', 'gloriosissimi/QLF'],\n",
       " ['censuales/QLF'],\n",
       " ['antiqui/QLF', 'multiformi/QLF'],\n",
       " ['ingenuos/QLF'],\n",
       " [],\n",
       " ['ulla/QLF'],\n",
       " [],\n",
       " ['prudentium/QLF', 'fidelium/QLF'],\n",
       " ['ipsa/QLF'],\n",
       " [],\n",
       " ['suis/QLF'],\n",
       " ['omnia/QLF', 'amen/INT </s><s> Exiguo/QLF', 'Dominico/QLF'],\n",
       " [],\n",
       " ['liberi/QLF', 'quodam/QLF'],\n",
       " [' Sancto/QLF'],\n",
       " ['suo/QLF'],\n",
       " [],\n",
       " ['iustis/QLF'],\n",
       " ['cuncta/QLF'],\n",
       " [],\n",
       " ['locare/QLF'],\n",
       " [],\n",
       " ['christianorum/QLF', 'omnium/QLF', 'fidelium/QLF', 'nostre/QLF'],\n",
       " ['uenerabili/QLF'],\n",
       " ['condito/QLF', ' fidelis/QLF'],\n",
       " ['summo/QLF', ' fidelis/QLF'],\n",
       " ['omnium/QLF'],\n",
       " ['alius/QLF'],\n",
       " ['alius/QLF'],\n",
       " ['nostris/QLF', 'sancto/QLF'],\n",
       " ['alios/QLF'],\n",
       " ['alios/QLF'],\n",
       " [],\n",
       " ['alios/QLF'],\n",
       " ['alios/QLF'],\n",
       " [],\n",
       " ['alios/QLF'],\n",
       " ['alios/QLF'],\n",
       " [],\n",
       " [' suum/QLF', 'sanctum/QLF'],\n",
       " ['omnes/QLF'],\n",
       " ['mea/QLF', 'indignus/QLF', 'humilis/QLF', 'sanctis/QLF'],\n",
       " [],\n",
       " ['iustis/QLF', 'omnium/QLF', 'bonorum/QLF'],\n",
       " ['nostris/QLF', 'promptiores/QLF'],\n",
       " ['omnes/QLF', 'mobile/QLF', 'immobile/QLF'],\n",
       " [],\n",
       " ['omnia/QLF'],\n",
       " ['omnes/QLF', 'incultas/QLF', 'omne/QLF'],\n",
       " ['iustis/QLF'],\n",
       " ['fidelem/QLF', 'prudentem/QLF'],\n",
       " ['omnia/QLF', 'prefatorum/QLF'],\n",
       " ['omnibus/QLF', 'suis/QLF'],\n",
       " ['predicti/QLF'],\n",
       " ['sanctus/QLF'],\n",
       " ['alios/QLF'],\n",
       " ['alios/QLF'],\n",
       " [],\n",
       " ['maior/QLF', 'Sancti/QLF', ' Sancti/QLF'],\n",
       " ['ingenuos/QLF', 'colonos/QLF'],\n",
       " ['colonos/QLF'],\n",
       " ['diuina/QLF', 'iustas/QLF', 'rationabiles/QLF'],\n",
       " ['ingenuos/QLF', 'iniuste/QLF', 'ullo/QLF'],\n",
       " ['commendatos/QLF', 'colonos/QLF', 'quosque/QLF', 'prefate/QLF'],\n",
       " [],\n",
       " ['totum/QLF', 'temporale/QLF'],\n",
       " ['maior/QLF', 'Sancti/QLF', ' Sancti/QLF'],\n",
       " ['sanctee/QLF'],\n",
       " ['quendam/QLF', 'mei/QLF'],\n",
       " ['ultimus/QLF', 'archano/QLF'],\n",
       " [],\n",
       " ['omnium/QLF'],\n",
       " [],\n",
       " ['sua/QLF'],\n",
       " [],\n",
       " ['sua/QLF'],\n",
       " ['meam/QLF'],\n",
       " ['subiacentes/QLF', 'liberi/QLF'],\n",
       " ['censuales/QLF'],\n",
       " ['ingenuos/QLF'],\n",
       " ['diuina/QLF', 'iustis/QLF'],\n",
       " ['ingenuos/QLF'],\n",
       " ['diuina/QLF'],\n",
       " [],\n",
       " ['suis/QLF'],\n",
       " ['Gondricum/NAM </s><s> Hanc/QLF'],\n",
       " ['mei/QLF'],\n",
       " ['libera/QLF', 'omni/QLF'],\n",
       " ['pigros/QLF', 'iuste/QLF', 'quedam/QLF'],\n",
       " ['liberi/QLF', 'nostra/QLF'],\n",
       " [],\n",
       " [],\n",
       " ['liberi/QLF', 'nostra/QLF', 'munite/QLF'],\n",
       " [],\n",
       " ['humana/QLF'],\n",
       " ['inclitis/QLF'],\n",
       " ['inclitis/QLF'],\n",
       " [],\n",
       " ['omnium/QLF'],\n",
       " ['sancto/QLF'],\n",
       " [' tuus/QLF', 'tue/QLF'],\n",
       " ['Sancti/QLF'],\n",
       " ['alterum/QLF'],\n",
       " [' Sancti/QLF'],\n",
       " [' Sancti/QLF'],\n",
       " [],\n",
       " ['futurum/QLF'],\n",
       " ['sancte/QLF'],\n",
       " ['sancte/QLF'],\n",
       " [' tuo/QLF'],\n",
       " ['ultimus/QLF', 'archano/QLF'],\n",
       " [],\n",
       " ['meam/QLF'],\n",
       " [' communes/QLF', 'Sancto/QLF'],\n",
       " ['Sancti/QLF'],\n",
       " [' Sancti/QLF'],\n",
       " [],\n",
       " [],\n",
       " ['aliis/QLF'],\n",
       " ['aliis/QLF'],\n",
       " ['nostris/QLF', 'sancto/QLF'],\n",
       " ['omnium/QLF'],\n",
       " ['indignus/QLF', 'humilis/QLF'],\n",
       " ['indignus/QLF', 'humilis/QLF', 'sanctos/QLF'],\n",
       " ['meam/QLF'],\n",
       " ['predicto/QLF', 'consistentes/QLF'],\n",
       " [],\n",
       " ['nostris/QLF', 'temporalem/QLF'],\n",
       " ['Sancto/QLF', 'meas/QLF'],\n",
       " ['quendam/QLF', 'suis/QLF'],\n",
       " [],\n",
       " [],\n",
       " ['quiddam/QLF', 'nostre/QLF'],\n",
       " ['sancti/QLF', 'ingenuos/QLF', 'iniuste/QLF'],\n",
       " [' suorum/QLF'],\n",
       " ['sue/QLF', 'terrene/QLF'],\n",
       " ['alios/QLF'],\n",
       " [' uester/QLF'],\n",
       " ['sui/QLF'],\n",
       " ['sancti/QLF'],\n",
       " [' suos/QLF', 'piissimus/QLF'],\n",
       " ['mea/QLF'],\n",
       " ['integrum/QLF'],\n",
       " ['predictos/QLF', 'suprascripto/QLF'],\n",
       " ['omnium/QLF'],\n",
       " ['Sancta/QLF', 'sua/QLF'],\n",
       " ['omnium/QLF'],\n",
       " ['omnium/QLF'],\n",
       " [],\n",
       " [],\n",
       " [],\n",
       " [],\n",
       " ['quendam/QLF', ' Sancti/QLF'],\n",
       " ['supradicti/QLF', 'Sancti/QLF'],\n",
       " ['Sancto/QLF'],\n",
       " ['sue/QLF', 'quendam/QLF', ' suum/QLF'],\n",
       " ['nostri/QLF'],\n",
       " [],\n",
       " ['quiddam/QLF', 'nostree/QLF'],\n",
       " ['nostra/QLF'],\n",
       " [' liberale/QLF', 'nostra/QLF', 'habundanti/QLF'],\n",
       " ['sancti/QLF', 'nullus/QLF', 'prelibatee/QLF'],\n",
       " [' nostrorum/QLF', 'fidelium/QLF'],\n",
       " [],\n",
       " ['sepedictum/QLF', 'uiuentium/VBE </s><s> Hanc/QLF'],\n",
       " ['meo/QLF', 'alios/QLF'],\n",
       " ['omnis/QLF', 'hanc/QLF'],\n",
       " ['meam/QLF'],\n",
       " [],\n",
       " ['omnibus/QLF'],\n",
       " [],\n",
       " ['omnem/QLF', 'omnium/QLF', 'suorum/QLF', 'castellanorum/QLF', 'omnium/QLF'],\n",
       " ['ecclesiasticas/QLF', 'nostro/QLF'],\n",
       " ['libellarios/QLF', 'cuiusque/QLF'],\n",
       " ['libellarios/QLF', 'cuiusque/QLF'],\n",
       " ['pia/QLF'],\n",
       " ['commendaticios/QLF', 'omnibus/QLF'],\n",
       " ['religiosa/QLF'],\n",
       " ['nobilis/QLF', 'pauper/QLF'],\n",
       " [],\n",
       " ['nostri/QLF', ' sancti/QLF'],\n",
       " ['inmobile/QLF', 'sancti/QLF', 'omni/QLF'],\n",
       " ['Sancte/QLF'],\n",
       " [],\n",
       " [],\n",
       " ['forestarius/QLF', ' Sancti/QLF'],\n",
       " ['quesitum/QLF'],\n",
       " [],\n",
       " ['Dominicum/QLF'],\n",
       " ['mei/QLF'],\n",
       " ['omnium/QLF'],\n",
       " ['Sancti/QLF', 'omnis/QLF'],\n",
       " [' Sancto/QLF'],\n",
       " ['suo/QLF', 'proprio/QLF'],\n",
       " ['iuuenilis/QLF'],\n",
       " ['cuiusdam/QLF', ' Sancti/QLF', 'omni/QLF'],\n",
       " ['uniuersis/QLF', 'nostris/QLF'],\n",
       " [],\n",
       " ['euidentior/QLF', 'proprium/QLF'],\n",
       " [],\n",
       " [' Sancto/QLF'],\n",
       " ['suo/QLF', 'proprio/QLF'],\n",
       " ['uniuersis/QLF', 'nostris/QLF'],\n",
       " ['suo/QLF', 'proprio/QLF'],\n",
       " ['supradicti/QLF'],\n",
       " [],\n",
       " ['euidentior/QLF', 'singuli/QLF', 'propria/QLF'],\n",
       " [],\n",
       " ['euidentior/QLF', 'proprium/QLF'],\n",
       " ['posteri/QLF', 'nostri/QLF'],\n",
       " ['hac/QLF'],\n",
       " ['euidentior/QLF', 'proprium/QLF'],\n",
       " ['ipsa/QLF'],\n",
       " [' Sancto/QLF'],\n",
       " ['suo/QLF', 'proprio/QLF'],\n",
       " [' Sancto/QLF'],\n",
       " ['suo/QLF', 'proprio/QLF'],\n",
       " [' Sancto/QLF'],\n",
       " ['suis/QLF', 'propriis/QLF'],\n",
       " [' Sancto/QLF'],\n",
       " ['suo/QLF', 'proprio/QLF'],\n",
       " [' Sancto/QLF'],\n",
       " ['suo/QLF', 'proprio/QLF'],\n",
       " ['uniuersis/QLF', 'nostris/QLF'],\n",
       " [' Sancto/QLF'],\n",
       " ['suo/QLF', 'proprio/QLF'],\n",
       " ['uniuersis/QLF', 'nostris/QLF'],\n",
       " [' Sancto/QLF'],\n",
       " ['suo/QLF', 'proprio/QLF'],\n",
       " ['uniuersis/QLF', 'nostris/QLF'],\n",
       " [' Sancto/QLF'],\n",
       " ['suo/QLF', 'proprio/QLF'],\n",
       " [],\n",
       " ['euidentior/QLF', 'proprium/QLF'],\n",
       " [' Sancto/QLF'],\n",
       " ['euidentior/QLF', 'quisque/QLF', 'proprio/QLF'],\n",
       " ['omnibus/QLF', 'sancte/QLF'],\n",
       " ['omnibus/QLF', 'sanctas/QLF'],\n",
       " ['ipsa/QLF'],\n",
       " ['omnibus/QLF', 'sancte/QLF'],\n",
       " ['ipsa/QLF'],\n",
       " [' Sancti/QLF'],\n",
       " ['coci/SUB </s><s> S/SUB </s><s> alterius/QLF'],\n",
       " ['quendam/QLF', ' Sancti/QLF', 'liberum/QLF'],\n",
       " ['fugitiuus/QLF', 'caste/QLF'],\n",
       " ['omni/QLF', 'uenture/QLF'],\n",
       " ['quorundam/QLF'],\n",
       " ['uniuersis/QLF', 'nostris/QLF'],\n",
       " [],\n",
       " ['euidentior/QLF', 'proprium/QLF'],\n",
       " ['uniuersis/QLF', 'nostris/QLF'],\n",
       " [],\n",
       " ['euidentior/QLF', 'proprium/QLF'],\n",
       " ['posteri/QLF'],\n",
       " ['hac/QLF'],\n",
       " ['euidentior/QLF', 'proprium/QLF'],\n",
       " ['cementario/QLF'],\n",
       " [],\n",
       " ['Sancto/QLF', ' tali/QLF'],\n",
       " ['proprium/QLF'],\n",
       " [],\n",
       " ['Sancto/QLF', ' tali/QLF'],\n",
       " ['proprium/QLF'],\n",
       " ['omnibus/QLF', 'sancte/QLF'],\n",
       " ['ipsa/QLF'],\n",
       " ['uniuersis/QLF', 'nostris/QLF'],\n",
       " ['suo/QLF', 'proprio/QLF'],\n",
       " ['uniuersis/QLF', 'nostris/QLF'],\n",
       " [' Sancto/QLF'],\n",
       " ['suo/QLF', 'proprio/QLF'],\n",
       " ['uniuersis/QLF', 'nostris/QLF'],\n",
       " [' Sancto/QLF'],\n",
       " ['suo/QLF', 'proprio/QLF'],\n",
       " ['uniuersis/QLF', 'nostris/QLF'],\n",
       " [' Sancto/QLF'],\n",
       " ['suo/QLF', 'proprio/QLF'],\n",
       " [' Sancto/QLF'],\n",
       " ['suo/QLF', 'proprio/QLF'],\n",
       " ['uniuersis/QLF', 'nostris/QLF'],\n",
       " [' Sancto/QLF'],\n",
       " ['suo/QLF', 'proprio/QLF'],\n",
       " [' Sancto/QLF'],\n",
       " ['suo/QLF', 'proprio/QLF'],\n",
       " ['uniuersis/QLF', 'nostris/QLF'],\n",
       " [],\n",
       " ['euidentior/QLF', 'proprium/QLF'],\n",
       " ['Sancto/QLF'],\n",
       " ['Sancto/QLF', ' quendam/QLF'],\n",
       " ['omnibus/QLF', 'sancte/QLF'],\n",
       " ['ipsa/QLF'],\n",
       " ['suo/QLF', 'Sancti/QLF'],\n",
       " ['uniuersis/QLF', 'nostris/QLF'],\n",
       " [],\n",
       " ['euidentior/QLF', 'proprium/QLF'],\n",
       " ['omnibus/QLF', 'sancte/QLF'],\n",
       " ['ipsa/QLF'],\n",
       " ['maxima/QLF', 'modica/QLF'],\n",
       " ['quendam/QLF'],\n",
       " ['posteris/QLF', 'nostris/QLF'],\n",
       " ['Sancto/QLF'],\n",
       " ['famulis/QLF', 'uniuersis/QLF', 'nostris/QLF'],\n",
       " [],\n",
       " ['euidentior/QLF', 'proprium/QLF'],\n",
       " ['uniuersis/QLF'],\n",
       " [],\n",
       " ['euidentior/QLF', 'proprium/QLF'],\n",
       " ['uniuersis/QLF', 'nostris/QLF'],\n",
       " [],\n",
       " ['euidentior/QLF', 'proprium/QLF'],\n",
       " [' sancti/QLF', 'sancti/QLF'],\n",
       " ['sancti/QLF', ' sancti/QLF'],\n",
       " [],\n",
       " [],\n",
       " ['ecclesiasticos/QLF', 'colonos/QLF'],\n",
       " ['ingenuos/QLF'],\n",
       " ['ingenuus/QLF', 'noster/QLF'],\n",
       " ['ingenuos/QLF'],\n",
       " ['ingenuus/QLF', 'noster/QLF'],\n",
       " [],\n",
       " ['uit/QLF'],\n",
       " ['peregrinorum/QLF', 'temporalem/QLF'],\n",
       " ['Sancto/QLF', 'pauperes/QLF'],\n",
       " ['exiguus/QLF', 'uester/QLF'],\n",
       " ['peregrinorum/QLF', 'temporalem/QLF'],\n",
       " ['tuus/QLF', 'fidelis/QLF'],\n",
       " [],\n",
       " [],\n",
       " ['pauperum/QLF', 'pio/QLF'],\n",
       " [],\n",
       " [],\n",
       " ['alios/QLF'],\n",
       " ['nobilis/QLF', 'ignobilis/QLF'],\n",
       " ['quemdam/QLF', 'sua/QLF'],\n",
       " ['pauperum/QLF', 'pio/QLF'],\n",
       " ['iuridicialis/QLF'],\n",
       " ['Sancti/QLF'],\n",
       " [],\n",
       " [],\n",
       " ['peregrinorum/QLF', 'temporalem/QLF'],\n",
       " ['peregrinorum/QLF', 'temporalem/QLF']]"
      ]
     },
     "execution_count": 81,
     "metadata": {},
     "output_type": "execute_result"
    }
   ],
   "source": [
    "for i in liste:\n",
    "    for j in i:\n",
    "        if j[-3:] != 'QLF':\n",
    "            i.remove(j)\n",
    "liste"
   ]
  },
  {
   "cell_type": "code",
   "execution_count": 82,
   "id": "32d77890",
   "metadata": {},
   "outputs": [],
   "source": [
    "df['qlf'] = liste  \n",
    "df['word'] = df['word'].str.split('/').str[0]\n",
    "df['word'] = df['word'].str.lower()\n",
    "df['cas_seruus'] = \"\"\n",
    "df['cas_qlf']= \"\"\n",
    "for i in range(len(df['qlf'])):\n",
    "    for j in range(len(df['qlf'][i])):\n",
    "        df['qlf'][i][j] = df['qlf'][i][j].split('/')[0].lower()\n",
    "\n",
    "df['qlf_1'] = \"\"\n",
    "df['qlf_2'] = \"\"\n",
    "df['qlf_3'] = \"\"\n",
    "df['qlf_4'] = \"\"\n",
    "df['qlf_5'] = \"\"\n",
    "for i in range(len(liste)):\n",
    "    for cas in range(len(liste[i])):\n",
    "        if cas == 0:\n",
    "            df['qlf_1'][i] = liste[i][cas]\n",
    "        if cas == 1:\n",
    "            df['qlf_2'][i] = liste[i][cas]\n",
    "        if cas == 2:\n",
    "            df['qlf_3'][i] = liste[i][cas]\n",
    "        if cas == 3:\n",
    "            df['qlf_4'][i] = liste[i][cas]\n",
    "        if cas == 4:\n",
    "            df['qlf_5'][i] = liste[i][cas]\n",
    "            \n",
    "for i in range(len(df)):\n",
    "    if df['word'][i] == ' seruus':\n",
    "        df['cas_seruus'][i] = 'nom_sg'\n",
    "    if df['word'][i] == ' seruorum':\n",
    "        df['cas_seruus'][i] = 'gen_pl'\n",
    "    if df['word'][i] == ' seruos':\n",
    "        df['cas_seruus'][i] = 'acc_pl'\n",
    "    if df['word'][i] == ' seruo':\n",
    "        df['cas_seruus'][i] = 'dat_sg | abl_sg'\n",
    "    if df['word'][i] == ' serui':\n",
    "        df['cas_seruus'][i] = 'gen_sg | nom pl'\n",
    "    if df['word'][i] == ' seruum':\n",
    "        df['cas_seruus'][i] = 'acc_sg'\n",
    "    if df['word'][i] == ' seruis':\n",
    "        df['cas_seruus'][i] = 'dat_pl | abl_pl'\n",
    "        \n",
    "df['cas_qlf_1'] = \"\"\n",
    "df['cas_qlf_2'] = \"\"\n",
    "df['cas_qlf_3'] = \"\"\n",
    "df['cas_qlf_4'] = \"\"\n",
    "df['cas_qlf_5'] = \"\"\n",
    "\n",
    "for i in range(len(df)):\n",
    "    if df['qlf_1'][i].endswith(('us','er')):\n",
    "        df['cas_qlf_1'][i] = ['nom_sg']\n",
    "    elif df['qlf_1'][i].endswith('is'):\n",
    "        df['cas_qlf_1'][i] = ['nom_sg','gen_sg','dat_pl','abl_pl']\n",
    "    elif df['qlf_1'][i].endswith('um'):\n",
    "        df['cas_qlf_1'][i] = ['acc_sg','gen_pl'] \n",
    "    elif df['qlf_1'][i].endswith('e'):\n",
    "        df['cas_qlf_1'][i] = ['abl_sg'] \n",
    "    elif df['qlf_1'][i].endswith('i'):\n",
    "        df['cas_qlf_1'][i] = ['gen_sg','dat_sg','nom_pl']\n",
    "    elif df['qlf_1'][i].endswith('is'):\n",
    "        df['cas_qlf_1'][i] = ['dat_pl','abl_pl','gen_sg ']\n",
    "    elif df['qlf_1'][i].endswith('os'):\n",
    "        df['cas_qlf_1'][i] = ['acc_pl']\n",
    "    elif df['qlf_1'][i].endswith('orum'):\n",
    "        df['cas_qlf_1'][i] = ['gen_pl']\n",
    "    elif df['qlf_1'][i].endswith('es'):\n",
    "        df['cas_qlf_1'][i] = ['nom_pl','acc_pl']\n",
    "    elif df['qlf_1'][i].endswith('ibus'):\n",
    "        df['cas_qlf_1'][i] = ['dat_pl','abl_pl']\n",
    "    elif df['qlf_1'][i].endswith('o'):\n",
    "        df['cas_qlf_1'][i] = ['dat_sg','abl_sg']\n",
    "    else:\n",
    "        df['cas_qlf_1'][i] = [\"\"]\n",
    "\n",
    "for i in range(len(df)):\n",
    "    if df['qlf_2'][i].endswith(('us','er')):\n",
    "        df['cas_qlf_2'][i] = ['nom_sg']\n",
    "    elif df['qlf_2'][i].endswith('is'):\n",
    "        df['cas_qlf_2'][i] = ['nom_sg','gen_sg','dat_pl','abl_pl']\n",
    "    elif df['qlf_2'][i].endswith('um'):\n",
    "        df['cas_qlf_2'][i] = ['acc_sg','gen_pl'] \n",
    "    elif df['qlf_2'][i].endswith('e'):\n",
    "        df['cas_qlf_2'][i] = ['abl_sg']\n",
    "    elif df['qlf_2'][i].endswith('i'):\n",
    "        df['cas_qlf_2'][i] = ['gen_sg','dat_sg','nom_pl']\n",
    "    elif df['qlf_2'][i].endswith('is'):\n",
    "        df['cas_qlf_2'][i] = ['dat_pl','abl_pl','gen_sg ']\n",
    "    elif df['qlf_2'][i].endswith('os'):\n",
    "        df['cas_qlf_2'][i] = ['acc_pl']\n",
    "    elif df['qlf_2'][i].endswith('orum'):\n",
    "        df['cas_qlf_2'][i] = ['gen_pl'] \n",
    "    elif df['qlf_2'][i].endswith('es'):\n",
    "        df['cas_qlf_2'][i] = ['nom_pl','acc_pl']\n",
    "    elif df['qlf_2'][i].endswith('ibus'):\n",
    "        df['cas_qlf_2'][i] = ['dat_pl','abl_pl']\n",
    "    elif df['qlf_2'][i].endswith('o'):\n",
    "        df['cas_qlf_2'][i] = ['dat_sg','abl_sg']\n",
    "    else:\n",
    "        df['cas_qlf_2'][i] = [\"\"]\n",
    "        \n",
    "for i in range(len(df)):\n",
    "    if df['qlf_3'][i].endswith(('us','er')):\n",
    "        df['cas_qlf_3'][i] = ['nom_sg']\n",
    "    elif df['qlf_3'][i].endswith('is'):\n",
    "        df['cas_qlf_3'][i] = ['nom_sg','gen_sg','dat_pl','abl_pl']\n",
    "    elif df['qlf_3'][i].endswith('um'):\n",
    "        df['cas_qlf_3'][i] = ['acc_sg','gen_pl'] \n",
    "    elif df['qlf_3'][i].endswith('e'):\n",
    "        df['cas_qlf_3'][i] = ['abl_sg'] \n",
    "    elif df['qlf_3'][i].endswith('i'):\n",
    "        df['cas_qlf_3'][i] = ['gen_sg','dat_sg','nom_pl']\n",
    "    elif df['qlf_3'][i].endswith('is'):\n",
    "        df['cas_qlf_3'][i] = ['dat_pl','abl_pl','gen_sg ']\n",
    "    elif df['qlf_3'][i].endswith('os'):\n",
    "        df['cas_qlf_3'][i] = ['acc_pl']\n",
    "    elif df['qlf_3'][i].endswith('orum'):\n",
    "        df['cas_qlf_3'][i] = ['gen_pl'] \n",
    "    elif df['qlf_3'][i].endswith('es'):\n",
    "        df['cas_qlf_3'][i] = ['nom_pl','acc_pl']\n",
    "    elif df['qlf_3'][i].endswith('ibus'):\n",
    "        df['cas_qlf_3'][i] = ['dat_pl','abl_pl']\n",
    "    elif df['qlf_3'][i].endswith('o'):\n",
    "        df['cas_qlf_3'][i] = ['dat_sg','abl_sg']\n",
    "    else:\n",
    "        df['cas_qlf_3'][i] = [\"\"]\n",
    "\n",
    "for i in range(len(df)):\n",
    "    if df['qlf_4'][i].endswith(('us','er')):\n",
    "        df['cas_qlf_4'][i] = ['nom_sg']\n",
    "    elif df['qlf_4'][i].endswith('is'):\n",
    "        df['cas_qlf_4'][i] = ['nom_sg','gen_sg','dat_pl','abl_pl']\n",
    "    elif df['qlf_4'][i].endswith('um'):\n",
    "        df['cas_qlf_4'][i] = ['acc_sg','gen_pl'] \n",
    "    elif df['qlf_4'][i].endswith('e'):\n",
    "        df['cas_qlf_4'][i] = ['abl_sg'] \n",
    "    elif df['qlf_4'][i].endswith('i'):\n",
    "        df['cas_qlf_4'][i] = ['gen_sg','dat_sg','nom_pl']\n",
    "    elif df['qlf_4'][i].endswith('is'):\n",
    "        df['cas_qlf_4'][i] = ['dat_pl','abl_pl','gen_sg ']\n",
    "    elif df['qlf_4'][i].endswith('os'):\n",
    "        df['cas_qlf_4'][i] = ['acc_pl'] \n",
    "    elif df['qlf_4'][i].endswith('orum'):\n",
    "        df['cas_qlf_4'][i] = ['gen_pl'] \n",
    "    elif df['qlf_4'][i].endswith('es'):\n",
    "        df['cas_qlf_4'][i] = ['nom_pl','acc_pl']\n",
    "    elif df['qlf_4'][i].endswith('ibus'):\n",
    "        df['cas_qlf_4'][i] = ['dat_pl','abl_pl']\n",
    "    elif df['qlf_4'][i].endswith('o'):\n",
    "        df['cas_qlf_4'][i] = ['dat_sg','abl_sg']\n",
    "    else:\n",
    "        df['cas_qlf_4'][i] = [\"\"]\n",
    "\n",
    "for i in range(len(df)):\n",
    "    if df['qlf_5'][i].endswith(('us','er')):\n",
    "        df['cas_qlf_5'][i] = ['nom_sg']\n",
    "    elif df['qlf_5'][i].endswith('is'):\n",
    "        df['cas_qlf_5'][i] = ['nom_sg','gen_sg','dat_pl','abl_pl']\n",
    "    elif df['qlf_5'][i].endswith('um'):\n",
    "        df['cas_qlf_5'][i] = ['acc_sg','gen_pl'] \n",
    "    elif df['qlf_5'][i].endswith('e'):\n",
    "        df['cas_qlf_5'][i] = ['abl_sg'] \n",
    "    elif df['qlf_5'][i].endswith('i'):\n",
    "        df['cas_qlf_5'][i] = ['gen_sg','dat_sg','nom_pl']\n",
    "    elif df['qlf_5'][i].endswith('is'):\n",
    "        df['cas_qlf_5'][i] = ['dat_pl','abl_pl','gen_sg ']\n",
    "    elif df['qlf_5'][i].endswith('os'):\n",
    "        df['cas_qlf_5'][i] = ['acc_pl']\n",
    "    elif df['qlf_5'][i].endswith('orum'):\n",
    "        df['cas_qlf_5'][i] = ['gen_pl']\n",
    "    elif df['qlf_5'][i].endswith('es'):\n",
    "        df['cas_qlf_5'][i] = ['nom_pl','acc_pl']\n",
    "    elif df['qlf_5'][i].endswith('ibus'):\n",
    "        df['cas_qlf_5'][i] = ['dat_pl','abl_pl']\n",
    "    elif df['qlf_5'][i].endswith('o'):\n",
    "        df['cas_qlf_5'][i] = ['dat_sg','abl_sg']\n",
    "    else:\n",
    "        df['cas_qlf_5'][i] = [\"\"]\n",
    "\n",
    "liste_res = []\n",
    "liste_cas = []\n",
    "\n",
    "\n",
    "for i in range(len(df)):\n",
    "    for j in range(len(df['cas_qlf_1'][i])):\n",
    "        if df['cas_qlf_1'][i][j] == df['cas_seruus'][i]:\n",
    "            liste_res.append(df['qlf_1'][i])\n",
    "            liste_cas.append(df['cas_qlf_1'][i][j])\n",
    "for i in range(len(df)):\n",
    "    for j in range(len(df['cas_qlf_2'][i])):\n",
    "        if df['cas_qlf_2'][i][j] == df['cas_seruus'][i]:\n",
    "            liste_res.append(df['qlf_2'][i])\n",
    "            liste_cas.append(df['cas_qlf_2'][i][j])\n",
    "for i in range(len(df)):\n",
    "    for j in range(len(df['cas_qlf_3'][i])):\n",
    "        if df['cas_qlf_3'][i][j] == df['cas_seruus'][i]:\n",
    "            liste_res.append(df['qlf_3'][i])\n",
    "            liste_cas.append(df['cas_qlf_3'][i][j])\n",
    "for i in range(len(df)):\n",
    "    for j in range(len(df['cas_qlf_4'][i])):\n",
    "        if df['cas_qlf_4'][i][j] == df['cas_seruus'][i]:\n",
    "            liste_res.append(df['qlf_4'][i])\n",
    "            liste_cas.append(df['cas_qlf_4'][i][j])\n",
    "for i in range(len(df)):\n",
    "    for j in range(len(df['cas_qlf_5'][i])):\n",
    "        if df['cas_qlf_5'][i][j] == df['cas_seruus'][i]:\n",
    "            liste_res.append(df['qlf_5'][i])\n",
    "            liste_cas.append(df['cas_qlf_5'][i][j])\n",
    "            \n",
    "list_tuples_QLF = Counter(liste_res).most_common()\n",
    "    \n",
    "dictionnaire_vide = dict(list_tuples_QLF)\n",
    "    \n",
    "dict_items = dictionnaire_vide.items()\n",
    "    \n",
    "first_hundred = list(dict_items)#[:100]\n",
    "    \n",
    "dico_final = dict(first_hundred)\n",
    "    \n",
    "b = list(dico_final.keys())\n",
    "a = list(dico_final.values())\n",
    "\n",
    "df_final_1000 = pd.DataFrame(a,b)\n",
    "df_final_1000.reset_index(inplace=True)\n",
    "df_final_1000.columns = [\"Words\",\"Occ\"]\n",
    "\n",
    "list_tuples_QLF_cas = Counter(liste_cas).most_common()\n",
    "    \n",
    "dictionnaire_vide = dict(list_tuples_QLF_cas)\n",
    "    \n",
    "dict_items = dictionnaire_vide.items()\n",
    "    \n",
    "first_hundred = list(dict_items)#[:100]\n",
    "    \n",
    "dico_final = dict(first_hundred)\n",
    "    \n",
    "a = list(dico_final.values())\n",
    "b = list(dico_final.keys())\n",
    "\n",
    "df_final_cas_1000 = pd.DataFrame(a,b)\n",
    "df_final_cas_1000.reset_index(inplace=True)\n",
    "df_final_cas_1000.columns = [\"Cas\",\"Occ\"]"
   ]
  },
  {
   "cell_type": "code",
   "execution_count": 559,
   "id": "31e98998",
   "metadata": {},
   "outputs": [],
   "source": [
    "colnames = ['indice','pre','word','post']\n",
    "df = pd.read_csv('/home/noe/Documents/Master_2/Mémoire/SketchEngineExport/Lieux/Comparaison/CEMA.csv', header = 4, names=colnames)\n",
    "df = df[['pre','word','post']]\n",
    "df['new'] = df['pre'] + (' ') + df['word']+ (' ') + df['post']\n",
    "df['new'] = df['new'].str.lower()\n",
    "df['drop'] = df['new'].str.find('seruus/sub  seruorum/sub  dei/sub ')\n",
    "df = df[df['drop'] == -1]\n",
    "df = df.reset_index()\n",
    "df.pop('index')\n",
    "df.pop('drop')\n",
    "df.pop('new')\n",
    "liste_1 = df['pre'].str.split(('  ')).tolist()\n",
    "for i in range(len(liste_1)):\n",
    "    liste_1[i] = liste_1[i][-5:]\n",
    "    \n",
    "liste_2 = df['post'].str.split(('  ')).tolist()\n",
    "for i in range(len(liste_2)):\n",
    "    liste_2[i] = liste_2[i][:5]\n",
    "liste = []\n",
    "for i in range(len(liste_1)):\n",
    "    liste.append(liste_1[i] + liste_2[i])"
   ]
  },
  {
   "cell_type": "code",
   "execution_count": 567,
   "id": "2e7b0bd4",
   "metadata": {},
   "outputs": [
    {
     "data": {
      "text/plain": [
       "[['potenti/QLF'],\n",
       " ['alie/QLF', 'potenti/QLF'],\n",
       " ['altera/QLF'],\n",
       " ['inutili/QLF'],\n",
       " ['inutili/QLF'],\n",
       " ['grauia/QLF'],\n",
       " [],\n",
       " ['summo/QLF', 'humilis/QLF', 'tue/QLF', '</s><s> diuina/QLF'],\n",
       " ['inutili/QLF'],\n",
       " ['alteri/QLF', 'potenti/QLF'],\n",
       " ['meos/QLF', 'nostris/QLF', 'inchoata/QLF'],\n",
       " ['perpetuam/QLF', 'Stikeneia/QLF', ' meum/QLF'],\n",
       " ['mais/QLF'],\n",
       " ['alios/QLF', 'ullas/QLF'],\n",
       " [],\n",
       " ['simplex/QLF', ' alterius/QLF'],\n",
       " ['mortua/QLF', 'predictorum/QLF'],\n",
       " [],\n",
       " ['sui/QLF', 'dilectus/QLF'],\n",
       " ['omnium/QLF', ' fidelium/QLF', 'omnes/QLF'],\n",
       " ['omnia/QLF'],\n",
       " ['maior/QLF', ' omnium/QLF'],\n",
       " ['omnipotenti/QLF',\n",
       "  ' suos/QLF',\n",
       "  'indignos/QLF',\n",
       "  'suam/QLF',\n",
       "  'ineffabilem/QLF'],\n",
       " ['humiles/QLF', 'indignos/QLF', ' suos/QLF'],\n",
       " ['simplex/QLF', ' alterius/QLF'],\n",
       " ['secularibus/QLF'],\n",
       " [' suo/QLF'],\n",
       " [],\n",
       " [],\n",
       " [],\n",
       " [],\n",
       " [],\n",
       " ['inutilis/QLF'],\n",
       " ['turpissima/QLF', 'omnem/QLF'],\n",
       " [],\n",
       " ['terrena/QLF', 'omnia/QLF'],\n",
       " ['indigni/QLF', 'uicarii/QLF', 'inutiles/QLF', 'tuis/QLF'],\n",
       " ['mei/QLF', ' tui/QLF'],\n",
       " ['tuam/QLF', ' sancti/QLF', 'tue/QLF'],\n",
       " ['tuam/QLF', 'beati/QLF'],\n",
       " ['mea/QLF', ' tuus/QLF'],\n",
       " [],\n",
       " [' suo/QLF'],\n",
       " [' alterius/QLF'],\n",
       " [],\n",
       " ['maior/QLF', 'omnium/QLF'],\n",
       " ['Innocenti/QLF', 'uestre/QLF', 'uicario/QLF'],\n",
       " ['multa/QLF'],\n",
       " ['multa/QLF'],\n",
       " ['meorum/QLF', ' meus/QLF', 'predicto/QLF'],\n",
       " [],\n",
       " ['alii/QLF'],\n",
       " [' suos/QLF', 'suas/QLF'],\n",
       " [],\n",
       " [' suos/QLF', 'suas/QLF'],\n",
       " [],\n",
       " ['Sancti/QLF'],\n",
       " ['Sancti/QLF'],\n",
       " [],\n",
       " ['ignobiles/QLF', 'dominium/QLF'],\n",
       " ['superiorum/QLF'],\n",
       " [' suo/QLF'],\n",
       " ['multa/QLF'],\n",
       " ['alii/QLF'],\n",
       " ['suo/QLF'],\n",
       " ['magnis/QLF', 'minima/QLF', ' tuus/QLF'],\n",
       " [' suos/QLF'],\n",
       " ['tuas/QLF', 'indebitam/QLF'],\n",
       " ['inultam/QLF', ' sui/QLF'],\n",
       " [],\n",
       " [],\n",
       " ['omnium/QLF'],\n",
       " [],\n",
       " ['possidebunt/VBE </s><s> Ceteras/QLF', 'meorum/QLF'],\n",
       " ['meorum/QLF'],\n",
       " ['omnia/QLF'],\n",
       " ['meos/QLF'],\n",
       " ['sos/QLF', 'quale/QLF'],\n",
       " ['quale/QLF'],\n",
       " ['principalem/QLF', 'celebris/QLF'],\n",
       " [' alterius/QLF'],\n",
       " [' alterius/QLF'],\n",
       " [],\n",
       " ['omnes/QLF', ' suos/QLF', 'suas/QLF'],\n",
       " [' Iudeorum/QLF', 'emptitii/QLF', 'uernaculi/QLF'],\n",
       " ['episcopalibus/QLF'],\n",
       " [],\n",
       " [],\n",
       " [],\n",
       " ['tua/QLF', 'tue/QLF'],\n",
       " ['tuos/QLF', 'liberam/QLF'],\n",
       " ['periculosissimum/QLF', ' suorum/QLF'],\n",
       " ['fidelis/QLF', 'prudens/QLF'],\n",
       " ['Sancti/QLF', ' meus/QLF', 'mea/QLF'],\n",
       " ['sanctum/QLF'],\n",
       " ['Sancti/QLF', ' meus/QLF', 'mea/QLF'],\n",
       " ['sanctum/QLF'],\n",
       " ['nostri/QLF', 'uenerabili/QLF'],\n",
       " ['fidelis/QLF', 'prudens/QLF'],\n",
       " ['indebita/QLF', 'prefatos/QLF'],\n",
       " ['prefatus/QLF'],\n",
       " ['nostris/QLF', ' quosdam/QLF', 'sue/QLF'],\n",
       " [' tue/QLF'],\n",
       " [],\n",
       " [],\n",
       " [],\n",
       " ['populari/QLF'],\n",
       " [],\n",
       " [],\n",
       " ['ceteris/QLF'],\n",
       " ['soli/QLF', 'pastorali/QLF', ' pigro/QLF'],\n",
       " ['exteriores/QLF', ' inutilis/QLF'],\n",
       " [' suorum/QLF'],\n",
       " ['iucundam/QLF', ' bone/QLF', 'fidelis/QLF'],\n",
       " ['fideles/QLF', 'suos/QLF'],\n",
       " [],\n",
       " [],\n",
       " [],\n",
       " [' suo/QLF'],\n",
       " [],\n",
       " ['propensius/QLF'],\n",
       " [' meum/QLF', 'tota/QLF', 'sua/QLF'],\n",
       " ['legitimus/QLF'],\n",
       " ['liberum/QLF'],\n",
       " ['prouidus/QLF'],\n",
       " [],\n",
       " [],\n",
       " [],\n",
       " ['catholicus/QLF'],\n",
       " ['ceteris/QLF'],\n",
       " ['copiosius/QLF'],\n",
       " ['summo/QLF', 'sue/QLF', 'humilis/QLF'],\n",
       " ['quosdam/QLF', 'sue/QLF', ' forenses/QLF', 'inferius/QLF'],\n",
       " ['iuratum/QLF', 'suum/QLF'],\n",
       " [],\n",
       " [],\n",
       " [],\n",
       " ['temporalis/QLF', ' suorum/QLF', 'proprium/QLF'],\n",
       " [' tales/QLF', 'regios/QLF'],\n",
       " ['suos/QLF'],\n",
       " ['tantam/QLF', 'tui/QLF', 'indeuotos/QLF'],\n",
       " [' suo/QLF'],\n",
       " [],\n",
       " ['iuratum/QLF', 'suum/QLF'],\n",
       " ['libere/QLF'],\n",
       " [' alterius/QLF'],\n",
       " ['masculus/QLF'],\n",
       " ['regales/QLF', 'bonos/QLF', 'sanos/QLF', 'legitimos/QLF'],\n",
       " [' tui/QLF'],\n",
       " [' tuus/QLF'],\n",
       " ['legitimus/QLF'],\n",
       " ['iuratum/QLF', 'suum/QLF'],\n",
       " [],\n",
       " [' tui/QLF'],\n",
       " [' tuus/QLF'],\n",
       " ['suos/QLF'],\n",
       " [' suos/QLF'],\n",
       " ['summo/QLF', 'humilis/QLF', 'uoluntarium/QLF'],\n",
       " ['humilis/QLF', 'uoluntarium/QLF'],\n",
       " ['humilis/QLF'],\n",
       " [' suorum/QLF'],\n",
       " [],\n",
       " ['ingenuos/QLF'],\n",
       " ['suis/QLF',\n",
       "  'paribus/QLF',\n",
       "  'fortioribus/QLF',\n",
       "  ' alterius/QLF',\n",
       "  'alieni/QLF',\n",
       "  'religioso/QLF'],\n",
       " ['omnia/QLF', 'ankillas/QLF'],\n",
       " ['sua/QLF'],\n",
       " ['sancta/QLF', 'ki/QLF'],\n",
       " ['capitales/QLF'],\n",
       " ['cuidam/QLF', 'rustico/QLF'],\n",
       " [' ingratus/QLF'],\n",
       " ['ingratus/QLF'],\n",
       " ['principalem/QLF', 'celebris/QLF'],\n",
       " ['nostri/QLF'],\n",
       " ['sue/QLF', ' sancte/QLF', 'noua/QLF'],\n",
       " [],\n",
       " [' suo/QLF'],\n",
       " [],\n",
       " [],\n",
       " ['fidelis/QLF', ' suos/QLF'],\n",
       " [' suos/QLF'],\n",
       " [],\n",
       " [],\n",
       " [' meus/QLF'],\n",
       " ['cunctis/QLF', 'suis/QLF'],\n",
       " ['studiose/QLF'],\n",
       " [],\n",
       " ['dictarum/QLF', 'linearum/QLF', 'omnibus/QLF', 'bonis/QLF'],\n",
       " ['legitimus/QLF'],\n",
       " ['legitimus/QLF'],\n",
       " ['conditionalibus/QLF', 'regales/QLF'],\n",
       " [],\n",
       " ['equalem/QLF', 'obediens/QLF'],\n",
       " [' inutili/QLF', 'pastoralem/QLF'],\n",
       " ['simplici/QLF', 'suam/QLF'],\n",
       " [],\n",
       " [],\n",
       " [],\n",
       " ['filiis/SUB </s><s> Hedelina/QLF'],\n",
       " ['quidam/QLF', 'alii/QLF'],\n",
       " ['suarum/QLF', 'capientium/QLF'],\n",
       " ['humiles/QLF'],\n",
       " ['Sancti/QLF', 'humiles/QLF'],\n",
       " ['summo/QLF', 'deuoti/QLF', 'humiles/QLF', 'alii/QLF'],\n",
       " ['summo/QLF', 'deuoti/QLF', 'humiles/QLF'],\n",
       " ['fidelis/QLF'],\n",
       " ['nostro/QLF', ' fidelis/QLF', 'prudens/QLF'],\n",
       " ['simoniace/QLF', 'criminosi/QLF'],\n",
       " [],\n",
       " ['fideles/QLF', 'perpetuum/QLF', 'omnibus/QLF'],\n",
       " ['fideles/QLF', 'predictis/QLF'],\n",
       " ['diuina/QLF'],\n",
       " ['Henrici/NAM </s><s> Uniuersis/QLF', 'presentes/QLF', 'diuina/QLF'],\n",
       " ['sancte/QLF', 'indiuidue/QLF', ' pauperum/QLF', 'omnibus/QLF'],\n",
       " ['suarum/QLF', 'capientium/QLF'],\n",
       " [' alterius/QLF'],\n",
       " ['Sancti/QLF'],\n",
       " ['nostri/QLF', 'diuina/QLF'],\n",
       " ['citoien/QLF', 'amistee/QLF'],\n",
       " ['marescallus/SUB </s><s> castellanus/QLF'],\n",
       " ['perpetuum/QLF'],\n",
       " [],\n",
       " ['inutiles/QLF'],\n",
       " ['inutiles/QLF'],\n",
       " ['dilectis/QLF'],\n",
       " [' dilectis/QLF'],\n",
       " [],\n",
       " ['pacifice/QLF'],\n",
       " [],\n",
       " ['pacifice/QLF'],\n",
       " ['infligatur/VBE </s><s> Nullus/QLF', 'consanguineam/QLF'],\n",
       " [],\n",
       " ['nostri/QLF', 'secundo/NUM </s><s> Honorius/QLF'],\n",
       " [],\n",
       " [' suos/QLF', 'suam/QLF'],\n",
       " ['rescripta/VBE </s><s> Honorius/QLF', 'deiDilectis/QLF'],\n",
       " ['rescripta/VBE </s><s> Honorius/QLF', ' deiDilectis/QLF'],\n",
       " ['summo/QLF', 'deuotissimi/QLF', 'sue/QLF', 'diuina/QLF'],\n",
       " ['septembris/SUB </s><s> Honorius/QLF', 'dilectis/QLF'],\n",
       " ['septembris/SUB </s><s> Honorius/QLF', 'dilectis/QLF'],\n",
       " ['sue/QLF', 'inutiles/QLF'],\n",
       " ['sue/QLF', 'inutiles/QLF'],\n",
       " ['dicte/QLF', 'beati/QLF'],\n",
       " ['aliorum/QLF'],\n",
       " ['octobris/QLF </s><s> Honorius/QLF', 'uestras/QLF'],\n",
       " ['octobris/QLF </s><s> Honorius/QLF', 'uestras/QLF'],\n",
       " [' suo/QLF'],\n",
       " ['nostri/QLF',\n",
       "  'Quinto/NAM </s><s> Honorius/QLF',\n",
       "  'dei/SUB </s><s> Uenerabili/QLF'],\n",
       " ['nostri/QLF',\n",
       "  'Quinto/NAM </s><s> Honorius/QLF',\n",
       "  ' dei/SUB </s><s> Uenerabili/QLF'],\n",
       " ['uestris/QLF', 'uestrorum/QLF'],\n",
       " ['legitime/QLF', 'idoneos/QLF'],\n",
       " ['aliam/QLF'],\n",
       " ['suo/QLF', 'prosperis/QLF'],\n",
       " ['potenti/QLF'],\n",
       " ['dominicis/QLF'],\n",
       " [],\n",
       " ['suus/QLF', 'alii/QLF', 'plures/QLF </s><s> Sanctissimo/QLF'],\n",
       " ['publicum/QLF'],\n",
       " [],\n",
       " ['illustris/QLF', ' suos/QLF', 'suas/QLF'],\n",
       " [],\n",
       " ['illustris/QLF', ' nostros/QLF', 'nostras/QLF'],\n",
       " ['legitimorum/QLF'],\n",
       " ['quidam/QLF', 'bone/QLF'],\n",
       " ['annua/QLF'],\n",
       " [],\n",
       " [],\n",
       " [],\n",
       " ['religioso/QLF', 'tali/QLF'],\n",
       " ['uicarii/QLF'],\n",
       " ['suorum/QLF'],\n",
       " ['alteri/QLF', ' alterius/QLF', 'religioso/QLF'],\n",
       " ['alieni/QLF', 'religioso/QLF', 'suum/QLF'],\n",
       " [],\n",
       " [],\n",
       " [' notarii/QLF'],\n",
       " [],\n",
       " ['aduersa/QLF', 'prospera/QLF', 'nostris/QLF'],\n",
       " ['boni/QLF'],\n",
       " [],\n",
       " [],\n",
       " ['supremo/QLF', ' bone/QLF', 'fidelis/QLF'],\n",
       " [],\n",
       " ['uestra/QLF', 'fratris/SUB </s><s> ministri/QLF'],\n",
       " ['presentes/QLF'],\n",
       " ['prefati/QLF', 'dilectis/QLF'],\n",
       " [],\n",
       " ['alius/QLF', 'proprius/QLF'],\n",
       " ['liberi/QLF', 'alii/QLF'],\n",
       " [],\n",
       " [' mei/QLF', 'posterorum/QLF', 'meorum/QLF'],\n",
       " ['suprascripta/QLF'],\n",
       " ['suis/QLF', 'paribus/QLF', 'tali/QLF'],\n",
       " [' alterius/QLF', 'religioso/QLF'],\n",
       " [' inutilis/QLF'],\n",
       " [],\n",
       " ['meum/QLF', 'dilectis/QLF', 'suis/QLF'],\n",
       " ['nostri/QLF', ' noster/QLF'],\n",
       " ['sua/QLF', 'omnes/QLF'],\n",
       " ['digne/QLF', 'fidelis/QLF', 'prudens/QLF'],\n",
       " ['sancte/QLF',\n",
       "  'indiuidue/QLF',\n",
       "  ' pauperum/QLF',\n",
       "  'prepositus/SUB </s><s> Mortalium/QLF'],\n",
       " [' indignus/QLF', 'uniuersis/QLF'],\n",
       " ['plures/QLF', 'maliciose/QLF'],\n",
       " ['suo/QLF'],\n",
       " ['officialis/QLF'],\n",
       " ['affinis/QLF'],\n",
       " ['sancte/QLF', 'tali/QLF'],\n",
       " [' sancte/QLF', 'tali/QLF'],\n",
       " ['officialis/QLF'],\n",
       " ['propriis/QLF', 'omni/QLF'],\n",
       " [],\n",
       " [],\n",
       " [],\n",
       " ['suis/QLF'],\n",
       " ['</s><s> uenerabilibus/QLF'],\n",
       " ['alienos/QLF'],\n",
       " ['uicarii/QLF'],\n",
       " ['alii/QLF'],\n",
       " ['nostri/QLF', 'uenerabili/QLF'],\n",
       " ['nostri/QLF', '</s><s> dilectis/QLF'],\n",
       " [],\n",
       " ['alii/QLF'],\n",
       " ['immortalis/QLF'],\n",
       " [],\n",
       " [' meus/QLF', 'suis/QLF'],\n",
       " ['mei/QLF', ' meus/QLF', 'feodatus/QLF', 'cetero/QLF'],\n",
       " ['tanto/QLF', 'gratiores/QLF'],\n",
       " ['ministro/QLF'],\n",
       " ['meo/QLF', 'bonorum/QLF'],\n",
       " ['uestris/QLF', 'officialibus/QLF', 'proprii/QLF'],\n",
       " ['officialibus/QLF', 'proprii/QLF'],\n",
       " ['dite/QLF'],\n",
       " [],\n",
       " ['tua/QLF', 'proprium/QLF', 'crudeli/QLF'],\n",
       " [' inaudita/QLF'],\n",
       " ['nostri/QLF', ' soruorum/QLF', 'uenerabili/QLF'],\n",
       " [],\n",
       " [],\n",
       " ['uenerabili/QLF'],\n",
       " ['uenerabili/QLF'],\n",
       " ['nostro/QLF'],\n",
       " ['natiui/QLF', ' sepefati/QLF', 'suorum/QLF'],\n",
       " ['incognito/QLF', 'natiui/QLF', 'talibus/QLF'],\n",
       " ['diuites/QLF', 'suis/QLF'],\n",
       " ['Schullo/QLF'],\n",
       " [],\n",
       " ['libere/QLF'],\n",
       " ['alii/QLF'],\n",
       " ['summo/QLF', 'sue/QLF', ' diuina/QLF'],\n",
       " ['quadam/QLF'],\n",
       " ['nullus/QLF'],\n",
       " ['colonos/QLF', 'mercenarios/QLF', 'nullus/QLF'],\n",
       " ['humilis/QLF', ' omnium/QLF'],\n",
       " ['nostri/QLF', 'dilecto/QLF', 'electo/QLF'],\n",
       " [' meos/QLF', 'perpetuam/QLF'],\n",
       " ['alii/QLF'],\n",
       " ['dilecto/QLF'],\n",
       " ['dilecto/QLF'],\n",
       " ['cetera/QLF'],\n",
       " ['nostri/QLF', 'cetera/QLF'],\n",
       " ['nostri/QLF', 'cetera/QLF'],\n",
       " ['sue/QLF', 'aliis/QLF'],\n",
       " ['dilectis/QLF'],\n",
       " ['nostri/QLF', 'uenerabilibus/QLF'],\n",
       " ['meis/QLF'],\n",
       " ['totus/QLF'],\n",
       " ['piis/QLF', 'pie/QLF', 'sue/QLF'],\n",
       " ['aliis/QLF </s><s> Infinita/QLF', 'mortalium/QLF'],\n",
       " ['meis/QLF', ' mei/QLF', 'u/NUM </s><s> Beatus/QLF'],\n",
       " [' suum/QLF', 'multa/QLF'],\n",
       " ['altare/SUB </s><s> Omnes/QLF', ' suos/QLF', 'cunctam/QLF'],\n",
       " ['</s><s> uenerabili/QLF'],\n",
       " ['suus/QLF'],\n",
       " [],\n",
       " [],\n",
       " ['camerarius/QLF', ' antedicti/QLF'],\n",
       " ['nostri/QLF', '</s><s> Dilectis/QLF'],\n",
       " [' meus/QLF'],\n",
       " ['piis/QLF', 'pie/QLF', 'sue/QLF'],\n",
       " ['alii/QLF'],\n",
       " [],\n",
       " ['alii/QLF'],\n",
       " ['quietos/QLF', 'plenam/QLF'],\n",
       " ['proprios/QLF', 'omni/QLF'],\n",
       " ['quietos/QLF', 'plenam/QLF'],\n",
       " [' suus/QLF', 'diuina/QLF'],\n",
       " ['alii/QLF', 'plures/QLF'],\n",
       " ['regie/QLF', 'dilectorum/QLF'],\n",
       " [' seruorum/SUB </s><s> Uenerabili/QLF'],\n",
       " ['</s><s> Uenerabili/QLF'],\n",
       " [],\n",
       " ['unanimes/QLF'],\n",
       " ['xii/NUM </s><s> Kal/SUB </s><s> Ianuarias/QLF', 'uenerabili/QLF'],\n",
       " ['proprios/QLF', 'omni/QLF'],\n",
       " ['nostri/QLF', ' serorum/QLF', 'Dilectis/QLF'],\n",
       " ['dilectis/QLF'],\n",
       " [' uenerabilibus/QLF'],\n",
       " ['alii/QLF'],\n",
       " ['</s><s> uenerabilibus/QLF', 'uniuersis/QLF', 'suffraganeis/QLF'],\n",
       " ['nobilis/QLF'],\n",
       " ['extraneus/QLF'],\n",
       " ['prouidentes/QLF', 'predictam/QLF'],\n",
       " ['prouidentes/QLF', 'predictam/QLF'],\n",
       " [' sancti/QLF'],\n",
       " ['predicti/QLF', 'omnes/QLF'],\n",
       " ['officialis/QLF', 'suus/QLF'],\n",
       " ['uorum/QLF', 'dilectis/QLF'],\n",
       " ['fidelis/QLF', 'prudens/QLF'],\n",
       " ['nostrum/QLF', 'sua/QLF'],\n",
       " ['nostri/QLF', 'uenerabili/QLF'],\n",
       " ['nostri/QLF', ' uenerabili/QLF', 'dilectis/QLF'],\n",
       " ['serus/QLF', ' dei1/VBE </s><s> Uenerabili/QLF'],\n",
       " ['cuiusdam/QLF', 'aliorum/QLF'],\n",
       " ['eterne/QLF', ' tuum/QLF'],\n",
       " ['Kal/NAM </s><s> Augusti/QLF', ' tuum/QLF'],\n",
       " [],\n",
       " [],\n",
       " [],\n",
       " [],\n",
       " [],\n",
       " ['omnes/QLF', 'suos/QLF', 'predictus/QLF'],\n",
       " ['omnes/QLF', 'suos/QLF', 'quamdam/QLF'],\n",
       " ['carissimo/QLF'],\n",
       " ['carissimo/QLF'],\n",
       " ['iudei/QLF'],\n",
       " [],\n",
       " ['proprio/QLF'],\n",
       " [' suorum/QLF'],\n",
       " ['hospitalis/QLF', 'alii/QLF'],\n",
       " ['carissimo/QLF'],\n",
       " ['nobilis/QLF'],\n",
       " ['suus/QLF', 'officialis/QLF'],\n",
       " [],\n",
       " ['nostri/QLF', 'die/SUB </s><s> Dilectis/QLF'],\n",
       " ['nostri/QLF', ' die/SUB </s><s> Dilectis/QLF'],\n",
       " ['nostri/QLF', 'Dilectis/QLF'],\n",
       " ['suis/QLF', 'fauorabiles/QLF', 'benigne/QLF'],\n",
       " ['dis/QLF', ' nostre/QLF', 'nostre/QLF', 'mere/QLF'],\n",
       " ['dis/QLF', ' nostre/QLF', 'nostre/QLF', 'mere/QLF'],\n",
       " ['presentes/QLF'],\n",
       " ['omnes/QLF'],\n",
       " [' bone/QLF'],\n",
       " ['inutilis/QLF', 'piger/QLF', 'iuste/QLF'],\n",
       " ['exterior/QLF', ' tuum/QLF', 'catholice/QLF'],\n",
       " ['speciales/QLF'],\n",
       " [],\n",
       " ['uenerabili/QLF'],\n",
       " ['nostri/QLF', 'nobilium/QLF', 'nostrorum/QLF'],\n",
       " ['nostri/QLF', 'nobilium/QLF', 'nostrorum/QLF'],\n",
       " ['nostre/QLF'],\n",
       " ['uile/QLF'],\n",
       " [' dicte/QLF'],\n",
       " ['alii/QLF'],\n",
       " [],\n",
       " ['suum/QLF'],\n",
       " [' tui/QLF', 'sempiternum/QLF'],\n",
       " [' tuorum/QLF', 'sui/QLF'],\n",
       " ['modico/QLF'],\n",
       " ['meis/QLF', '</s><s> Omnibus/QLF', 'meis/QLF'],\n",
       " [],\n",
       " ['spreid/QLF'],\n",
       " [],\n",
       " ['nostre/QLF'],\n",
       " [],\n",
       " ['alter/QLF', 'uillici/QLF', 'nostri/QLF', 'propriis/QLF'],\n",
       " ['diuinis/QLF'],\n",
       " [],\n",
       " ['sua/QLF'],\n",
       " ['plures/QLF', 'nobiles/QLF'],\n",
       " ['omnia/QLF'],\n",
       " ['nostri/QLF', 'primo/NUM </s><s> Clemens/QLF', 'dilecto/QLF'],\n",
       " [],\n",
       " ['suam/QLF'],\n",
       " [],\n",
       " [' fidelis/QLF', 'prudens/QLF', 'prefatarum/QLF'],\n",
       " [],\n",
       " [' fidelis/QLF', 'prudens/QLF', 'prefatarum/QLF'],\n",
       " ['nostre/QLF'],\n",
       " ['nobili/QLF', 'suis/QLF'],\n",
       " ['la/QLF'],\n",
       " ['la/QLF'],\n",
       " [],\n",
       " ['suus/QLF', ' suo/QLF'],\n",
       " [],\n",
       " [],\n",
       " [],\n",
       " [],\n",
       " ['colonos/QLF'],\n",
       " ['nostrum/QLF'],\n",
       " [' noster/QLF', 'quandam/QLF'],\n",
       " ['meorum/QLF', ' meum/QLF'],\n",
       " ['uestrorum/QLF', 'liberorum/QLF', 'suorum/QLF', 'omnibus/QLF'],\n",
       " ['Swmeraw/QLF'],\n",
       " ['Siboto/QLF', 'alii/QLF'],\n",
       " ['Siboto/QLF', 'alii/QLF'],\n",
       " ['prouidentes/QLF', 'predictam/QLF'],\n",
       " ['Duringus/QLF', 'Schekho/QLF'],\n",
       " [],\n",
       " ['officialis/QLF'],\n",
       " ['suarum/QLF', 'capientium/QLF', 'certis/QLF', 'aliis/QLF'],\n",
       " ['Siboto/QLF', 'alii/QLF'],\n",
       " ['sancti/QLF'],\n",
       " ['suis/QLF'],\n",
       " ['predicti/QLF'],\n",
       " [],\n",
       " [' uenerabilis/QLF'],\n",
       " ['quidam/QLF', ' meus/QLF', 'quodam/QLF'],\n",
       " [' meo/QLF', 'predicto/QLF'],\n",
       " [],\n",
       " ['affectu/SUB </s><s> sacre/QLF'],\n",
       " [],\n",
       " ['liberorum/QLF', 'rusticorum/QLF'],\n",
       " [' inutilis/QLF'],\n",
       " [],\n",
       " [],\n",
       " ['alii/QLF', 'plures/QLF'],\n",
       " ['nostrum/QLF', 'proprio/QLF', 'nostrorum/QLF'],\n",
       " [' meo/QLF'],\n",
       " [' meo/QLF'],\n",
       " ['alii/QLF'],\n",
       " ['suis/QLF', 'nostros/QLF'],\n",
       " ['suis/QLF', 'nostros/QLF'],\n",
       " [' nobiles/QLF'],\n",
       " ['nobilis/QLF'],\n",
       " ['inferior/QLF'],\n",
       " [],\n",
       " ['bien/QLF'],\n",
       " ['bien/QLF'],\n",
       " [],\n",
       " ['omnibus/QLF'],\n",
       " ['sempiternam/QLF', 'dignum/QLF', 'continue/QLF'],\n",
       " [],\n",
       " [],\n",
       " ['prouidentes/QLF', 'predictam/QLF'],\n",
       " ['dilectis/QLF'],\n",
       " ['dilectis/QLF'],\n",
       " [],\n",
       " ['nominati/QLF', 'famule/QLF', 'sancti/QLF'],\n",
       " ['sua/QLF', 'sua/QLF'],\n",
       " [],\n",
       " [],\n",
       " ['perpetuo/QLF', 'furtiua/QLF'],\n",
       " [],\n",
       " [],\n",
       " [],\n",
       " [],\n",
       " ['presentium/QLF', 'libere/QLF', ' nostros/QLF', 'dictos/QLF'],\n",
       " ['prefatus/QLF', 'rusticum/QLF'],\n",
       " ['sancti/QLF'],\n",
       " [' suo/QLF', 'magne/QLF'],\n",
       " ['lei/VBE </s><s> uenerabili/QLF', 'Dilectis/QLF'],\n",
       " [' lei/VBE </s><s> uenerabili/QLF', 'Dilectis/QLF'],\n",
       " ['iuratus/QLF'],\n",
       " [],\n",
       " ['proprietario/QLF', ' suo/QLF'],\n",
       " [' sui/QLF'],\n",
       " ['proprietario/QLF', ' suo/QLF'],\n",
       " [' sui/QLF'],\n",
       " [],\n",
       " ['aliis/QLF', 'nostris/QLF', 'uenerabilis/QLF'],\n",
       " ['prememorati/QLF'],\n",
       " ['proprium/QLF', 'meum/QLF'],\n",
       " ['tuus/QLF', 'tua/QLF', ' tuus/QLF', 'tua/QLF'],\n",
       " [],\n",
       " [],\n",
       " ['suo/QLF'],\n",
       " ['Schuenunberk/QLF', 'aliis/QLF'],\n",
       " ['minorum/QLF', 'prouincialis/QLF', 'totus/QLF'],\n",
       " ['minorum/QLF'],\n",
       " [],\n",
       " ['euangelicum/QLF', ' bone/QLF', 'fidelis/QLF'],\n",
       " ['deuotus/QLF', 'humili/QLF'],\n",
       " ['sancte/QLF', 'deuotus/QLF', 'humili/QLF'],\n",
       " ['alii/QLF'],\n",
       " ['maiora/QLF', ' strennuorum/QLF'],\n",
       " ['y/VBE </s><s> Saluum/QLF', ' tuum/QLF', 'etc./QLF'],\n",
       " ['talis/QLF', 'apostolicam/QLF'],\n",
       " ['fragrantes/QLF', 'liberi/QLF'],\n",
       " ['inferius/QLF'],\n",
       " ['inferius/QLF'],\n",
       " [' hospitum/QLF'],\n",
       " ['fidelium/QLF'],\n",
       " ['sempiternam/QLF', 'omnipotens/QLF', ' suos/QLF'],\n",
       " [],\n",
       " ['serf/QLF'],\n",
       " ['serf/QLF'],\n",
       " [' suorum/QLF'],\n",
       " [],\n",
       " [],\n",
       " [],\n",
       " [],\n",
       " ['predicti/QLF'],\n",
       " ['Stocton/QLF', 'prefati/QLF'],\n",
       " ['omnia/QLF', 'persoluta/VBE </s><s> Omnes/QLF', 'meas/QLF'],\n",
       " [],\n",
       " [' inutilis/QLF'],\n",
       " [],\n",
       " ['dictorum/QLF', ' suorum/QLF', 'omni/QLF'],\n",
       " ['predictos/QLF', 'suos/QLF'],\n",
       " ['bono/QLF'],\n",
       " [],\n",
       " ['nostri/QLF', 'perpetuam/QLF'],\n",
       " ['nostri/QLF', 'perpetuam/QLF', 'cetera/QLF'],\n",
       " [],\n",
       " ['meorum/QLF', ' meum/QLF', 'conseruum/QLF'],\n",
       " ['sua/QLF'],\n",
       " [' inutilis/QLF'],\n",
       " [],\n",
       " [' ydoneum/QLF'],\n",
       " ['precipue/QLF', 'religiosos/QLF', 'omnipotentis/QLF', 'continue/QLF'],\n",
       " [],\n",
       " [],\n",
       " [],\n",
       " [],\n",
       " ['sancti/QLF', 'iuratus/QLF'],\n",
       " ['iuratus/QLF'],\n",
       " ['precipue/QLF', 'religiosos/QLF', 'omnipotentis/QLF', 'continue/QLF'],\n",
       " [' nobiles/QLF'],\n",
       " [],\n",
       " ['suis/QLF', ' nostri/QLF']]"
      ]
     },
     "execution_count": 567,
     "metadata": {},
     "output_type": "execute_result"
    }
   ],
   "source": [
    "for i in liste:\n",
    "    for j in i:\n",
    "        if j[-3:] != 'QLF':\n",
    "            i.remove(j)\n",
    "liste"
   ]
  },
  {
   "cell_type": "code",
   "execution_count": 568,
   "id": "3f84ce9f",
   "metadata": {},
   "outputs": [],
   "source": [
    "df['qlf'] = liste  \n",
    "df['word'] = df['word'].str.split('/').str[0]\n",
    "df['word'] = df['word'].str.lower()\n",
    "df['cas_seruus'] = \"\"\n",
    "df['cas_qlf']= \"\"\n",
    "for i in range(len(df['qlf'])):\n",
    "    for j in range(len(df['qlf'][i])):\n",
    "        df['qlf'][i][j] = df['qlf'][i][j].split('/')[0].lower()\n",
    "\n",
    "df['qlf_1'] = \"\"\n",
    "df['qlf_2'] = \"\"\n",
    "df['qlf_3'] = \"\"\n",
    "df['qlf_4'] = \"\"\n",
    "df['qlf_5'] = \"\"\n",
    "for i in range(len(liste)):\n",
    "    for cas in range(len(liste[i])):\n",
    "        if cas == 0:\n",
    "            df['qlf_1'][i] = liste[i][cas]\n",
    "        if cas == 1:\n",
    "            df['qlf_2'][i] = liste[i][cas]\n",
    "        if cas == 2:\n",
    "            df['qlf_3'][i] = liste[i][cas]\n",
    "        if cas == 3:\n",
    "            df['qlf_4'][i] = liste[i][cas]\n",
    "        if cas == 4:\n",
    "            df['qlf_5'][i] = liste[i][cas]\n",
    "            \n",
    "for i in range(len(df)):\n",
    "    if df['word'][i] == ' seruus':\n",
    "        df['cas_seruus'][i] = 'nom_sg'\n",
    "    if df['word'][i] == ' seruorum':\n",
    "        df['cas_seruus'][i] = 'gen_pl'\n",
    "    if df['word'][i] == ' seruos':\n",
    "        df['cas_seruus'][i] = 'acc_pl'\n",
    "    if df['word'][i] == ' seruo':\n",
    "        df['cas_seruus'][i] = ['dat_sg','abl_sg']\n",
    "    if df['word'][i] == ' serui':\n",
    "        df['cas_seruus'][i] = 'gen_sg | nom pl'\n",
    "    if df['word'][i] == ' seruum':\n",
    "        df['cas_seruus'][i] = 'acc_sg'\n",
    "    if df['word'][i] == ' seruis':\n",
    "        df['cas_seruus'][i] = ['dat_pl','abl_pl']\n",
    "        \n",
    "df['cas_qlf_1'] = \"\"\n",
    "df['cas_qlf_2'] = \"\"\n",
    "df['cas_qlf_3'] = \"\"\n",
    "df['cas_qlf_4'] = \"\"\n",
    "df['cas_qlf_5'] = \"\"\n",
    "\n",
    "for i in range(len(df)):\n",
    "    if df['qlf_1'][i].endswith(('us','er')):\n",
    "        df['cas_qlf_1'][i] = ['nom_sg']\n",
    "    elif df['qlf_1'][i].endswith('is'):\n",
    "        df['cas_qlf_1'][i] = ['nom_sg','gen_sg','dat_pl','abl_pl']\n",
    "    elif df['qlf_1'][i].endswith('um'):\n",
    "        df['cas_qlf_1'][i] = ['acc_sg','gen_pl'] \n",
    "    elif df['qlf_1'][i].endswith('e'):\n",
    "        df['cas_qlf_1'][i] = ['abl_sg'] \n",
    "    elif df['qlf_1'][i].endswith('i'):\n",
    "        df['cas_qlf_1'][i] = ['gen_sg','dat_sg','nom_pl']\n",
    "    elif df['qlf_1'][i].endswith('is'):\n",
    "        df['cas_qlf_1'][i] = ['dat_pl','abl_pl','gen_sg ']\n",
    "    elif df['qlf_1'][i].endswith('os'):\n",
    "        df['cas_qlf_1'][i] = ['acc_pl']\n",
    "    elif df['qlf_1'][i].endswith('orum'):\n",
    "        df['cas_qlf_1'][i] = ['gen_pl']\n",
    "    elif df['qlf_1'][i].endswith('es'):\n",
    "        df['cas_qlf_1'][i] = ['nom_pl','acc_pl']\n",
    "    elif df['qlf_1'][i].endswith('ibus'):\n",
    "        df['cas_qlf_1'][i] = ['dat_pl','abl_pl']\n",
    "    elif df['qlf_1'][i].endswith('o'):\n",
    "        df['cas_qlf_1'][i] = ['dat_sg','abl_sg']\n",
    "    else:\n",
    "        df['cas_qlf_1'][i] = [\"\"]\n",
    "\n",
    "for i in range(len(df)):\n",
    "    if df['qlf_2'][i].endswith(('us','er')):\n",
    "        df['cas_qlf_2'][i] = ['nom_sg']\n",
    "    elif df['qlf_2'][i].endswith('is'):\n",
    "        df['cas_qlf_2'][i] = ['nom_sg','gen_sg','dat_pl','abl_pl']\n",
    "    elif df['qlf_2'][i].endswith('um'):\n",
    "        df['cas_qlf_2'][i] = ['acc_sg','gen_pl'] \n",
    "    elif df['qlf_2'][i].endswith('e'):\n",
    "        df['cas_qlf_2'][i] = ['abl_sg']\n",
    "    elif df['qlf_2'][i].endswith('i'):\n",
    "        df['cas_qlf_2'][i] = ['gen_sg','dat_sg','nom_pl']\n",
    "    elif df['qlf_2'][i].endswith('is'):\n",
    "        df['cas_qlf_2'][i] = ['dat_pl','abl_pl','gen_sg ']\n",
    "    elif df['qlf_2'][i].endswith('os'):\n",
    "        df['cas_qlf_2'][i] = ['acc_pl']\n",
    "    elif df['qlf_2'][i].endswith('orum'):\n",
    "        df['cas_qlf_2'][i] = ['gen_pl'] \n",
    "    elif df['qlf_2'][i].endswith('es'):\n",
    "        df['cas_qlf_2'][i] = ['nom_pl','acc_pl']\n",
    "    elif df['qlf_2'][i].endswith('ibus'):\n",
    "        df['cas_qlf_2'][i] = ['dat_pl','abl_pl']\n",
    "    elif df['qlf_2'][i].endswith('o'):\n",
    "        df['cas_qlf_2'][i] = ['dat_sg','abl_sg']\n",
    "    else:\n",
    "        df['cas_qlf_2'][i] = [\"\"]\n",
    "        \n",
    "for i in range(len(df)):\n",
    "    if df['qlf_3'][i].endswith(('us','er')):\n",
    "        df['cas_qlf_3'][i] = ['nom_sg']\n",
    "    elif df['qlf_3'][i].endswith('is'):\n",
    "        df['cas_qlf_3'][i] = ['nom_sg','gen_sg','dat_pl','abl_pl']\n",
    "    elif df['qlf_3'][i].endswith('um'):\n",
    "        df['cas_qlf_3'][i] = ['acc_sg','gen_pl'] \n",
    "    elif df['qlf_3'][i].endswith('e'):\n",
    "        df['cas_qlf_3'][i] = ['abl_sg'] \n",
    "    elif df['qlf_3'][i].endswith('i'):\n",
    "        df['cas_qlf_3'][i] = ['gen_sg','dat_sg','nom_pl']\n",
    "    elif df['qlf_3'][i].endswith('is'):\n",
    "        df['cas_qlf_3'][i] = ['dat_pl','abl_pl','gen_sg ']\n",
    "    elif df['qlf_3'][i].endswith('os'):\n",
    "        df['cas_qlf_3'][i] = ['acc_pl']\n",
    "    elif df['qlf_3'][i].endswith('orum'):\n",
    "        df['cas_qlf_3'][i] = ['gen_pl'] \n",
    "    elif df['qlf_3'][i].endswith('es'):\n",
    "        df['cas_qlf_3'][i] = ['nom_pl','acc_pl']\n",
    "    elif df['qlf_3'][i].endswith('ibus'):\n",
    "        df['cas_qlf_3'][i] = ['dat_pl','abl_pl']\n",
    "    elif df['qlf_3'][i].endswith('o'):\n",
    "        df['cas_qlf_3'][i] = ['dat_sg','abl_sg']\n",
    "    else:\n",
    "        df['cas_qlf_3'][i] = [\"\"]\n",
    "\n",
    "for i in range(len(df)):\n",
    "    if df['qlf_4'][i].endswith(('us','er')):\n",
    "        df['cas_qlf_4'][i] = ['nom_sg']\n",
    "    elif df['qlf_4'][i].endswith('is'):\n",
    "        df['cas_qlf_4'][i] = ['nom_sg','gen_sg','dat_pl','abl_pl']\n",
    "    elif df['qlf_4'][i].endswith('um'):\n",
    "        df['cas_qlf_4'][i] = ['acc_sg','gen_pl'] \n",
    "    elif df['qlf_4'][i].endswith('e'):\n",
    "        df['cas_qlf_4'][i] = ['abl_sg'] \n",
    "    elif df['qlf_4'][i].endswith('i'):\n",
    "        df['cas_qlf_4'][i] = ['gen_sg','dat_sg','nom_pl']\n",
    "    elif df['qlf_4'][i].endswith('is'):\n",
    "        df['cas_qlf_4'][i] = ['dat_pl','abl_pl','gen_sg ']\n",
    "    elif df['qlf_4'][i].endswith('os'):\n",
    "        df['cas_qlf_4'][i] = ['acc_pl'] \n",
    "    elif df['qlf_4'][i].endswith('orum'):\n",
    "        df['cas_qlf_4'][i] = ['gen_pl'] \n",
    "    elif df['qlf_4'][i].endswith('es'):\n",
    "        df['cas_qlf_4'][i] = ['nom_pl','acc_pl']\n",
    "    elif df['qlf_4'][i].endswith('ibus'):\n",
    "        df['cas_qlf_4'][i] = ['dat_pl','abl_pl']\n",
    "    elif df['qlf_4'][i].endswith('o'):\n",
    "        df['cas_qlf_4'][i] = ['dat_sg','abl_sg']\n",
    "    else:\n",
    "        df['cas_qlf_4'][i] = [\"\"]\n",
    "\n",
    "for i in range(len(df)):\n",
    "    if df['qlf_5'][i].endswith(('us','er')):\n",
    "        df['cas_qlf_5'][i] = ['nom_sg']\n",
    "    elif df['qlf_5'][i].endswith('is'):\n",
    "        df['cas_qlf_5'][i] = ['nom_sg','gen_sg','dat_pl','abl_pl']\n",
    "    elif df['qlf_5'][i].endswith('um'):\n",
    "        df['cas_qlf_5'][i] = ['acc_sg','gen_pl'] \n",
    "    elif df['qlf_5'][i].endswith('e'):\n",
    "        df['cas_qlf_5'][i] = ['abl_sg'] \n",
    "    elif df['qlf_5'][i].endswith('i'):\n",
    "        df['cas_qlf_5'][i] = ['gen_sg','dat_sg','nom_pl']\n",
    "    elif df['qlf_5'][i].endswith('is'):\n",
    "        df['cas_qlf_5'][i] = ['dat_pl','abl_pl','gen_sg ']\n",
    "    elif df['qlf_5'][i].endswith('os'):\n",
    "        df['cas_qlf_5'][i] = ['acc_pl']\n",
    "    elif df['qlf_5'][i].endswith('orum'):\n",
    "        df['cas_qlf_5'][i] = ['gen_pl']\n",
    "    elif df['qlf_5'][i].endswith('es'):\n",
    "        df['cas_qlf_5'][i] = ['nom_pl','acc_pl']\n",
    "    elif df['qlf_5'][i].endswith('ibus'):\n",
    "        df['cas_qlf_5'][i] = ['dat_pl','abl_pl']\n",
    "    elif df['qlf_5'][i].endswith('o'):\n",
    "        df['cas_qlf_5'][i] = ['dat_sg','abl_sg']\n",
    "    else:\n",
    "        df['cas_qlf_5'][i] = [\"\"]\n",
    "\n",
    "liste_res_CEMA = []\n",
    "liste_cas_CEMA = []\n",
    "\n",
    "\n",
    "for i in range(len(df)):\n",
    "    for j in range(len(df['cas_qlf_1'][i])):\n",
    "        if df['cas_qlf_1'][i][j] == df['cas_seruus'][i]:\n",
    "            liste_res_CEMA.append(df['qlf_1'][i])\n",
    "            liste_cas_CEMA.append(df['cas_qlf_1'][i][j])\n",
    "for i in range(len(df)):\n",
    "    for j in range(len(df['cas_qlf_2'][i])):\n",
    "        if df['cas_qlf_2'][i][j] == df['cas_seruus'][i]:\n",
    "            liste_res_CEMA.append(df['qlf_2'][i])\n",
    "            liste_cas_CEMA.append(df['cas_qlf_2'][i][j])\n",
    "for i in range(len(df)):\n",
    "    for j in range(len(df['cas_qlf_3'][i])):\n",
    "        if df['cas_qlf_3'][i][j] == df['cas_seruus'][i]:\n",
    "            liste_res_CEMA.append(df['qlf_3'][i])\n",
    "            liste_cas_CEMA.append(df['cas_qlf_3'][i][j])\n",
    "for i in range(len(df)):\n",
    "    for j in range(len(df['cas_qlf_4'][i])):\n",
    "        if df['cas_qlf_4'][i][j] == df['cas_seruus'][i]:\n",
    "            liste_res_CEMA.append(df['qlf_4'][i])\n",
    "            liste_cas_CEMA.append(df['cas_qlf_4'][i][j])\n",
    "for i in range(len(df)):\n",
    "    for j in range(len(df['cas_qlf_5'][i])):\n",
    "        if df['cas_qlf_5'][i][j] == df['cas_seruus'][i]:\n",
    "            liste_res_CEMA.append(df['qlf_5'][i])\n",
    "            liste_cas_CEMA.append(df['cas_qlf_5'][i][j])\n",
    "            \n",
    "list_tuples_QLF = Counter(liste_res).most_common()\n",
    "    \n",
    "dictionnaire_vide = dict(list_tuples_QLF)\n",
    "    \n",
    "dict_items = dictionnaire_vide.items()\n",
    "    \n",
    "first_hundred = list(dict_items)#[:100]\n",
    "    \n",
    "dico_final = dict(first_hundred)\n",
    "    \n",
    "b = list(dico_final.keys())\n",
    "a = list(dico_final.values())\n",
    "\n",
    "df_final_800 = pd.DataFrame(a,b)\n",
    "df_final_800.reset_index(inplace=True)\n",
    "df_final_800.columns = [\"Words\",\"Occ\"]\n",
    "\n",
    "list_tuples_QLF_cas = Counter(liste_cas).most_common()\n",
    "    \n",
    "dictionnaire_vide = dict(list_tuples_QLF_cas)\n",
    "    \n",
    "dict_items = dictionnaire_vide.items()\n",
    "    \n",
    "first_hundred = list(dict_items)#[:100]\n",
    "    \n",
    "dico_final = dict(first_hundred)\n",
    "    \n",
    "a = list(dico_final.values())\n",
    "b = list(dico_final.keys())\n",
    "\n",
    "df_final_cas_800 = pd.DataFrame(a,b)\n",
    "df_final_cas_800.reset_index(inplace=True)\n",
    "df_final_cas_800.columns = [\"Cas\",\"Occ\"]"
   ]
  },
  {
   "cell_type": "code",
   "execution_count": 352,
   "id": "b353f26e",
   "metadata": {},
   "outputs": [
    {
     "data": {
      "text/plain": [
       "0        0\n",
       "1        1\n",
       "2        2\n",
       "3        3\n",
       "4        4\n",
       "      ... \n",
       "219    220\n",
       "220    221\n",
       "221    222\n",
       "222    223\n",
       "223    226\n",
       "Name: index, Length: 224, dtype: int64"
      ]
     },
     "execution_count": 352,
     "metadata": {},
     "output_type": "execute_result"
    }
   ],
   "source": [
    "df_test = pd.DataFrame(liste_res,liste_cas)\n",
    "df_test = df_test.reset_index()\n",
    "df_test.columns = ['cas','forme']\n",
    "df_test['cas'].replace('', np.nan, inplace=True)\n",
    "df_test = df_test.dropna(subset=['cas'])\n",
    "df_test = df_test.reset_index()\n",
    "df_test.pop('index')"
   ]
  },
  {
   "cell_type": "code",
   "execution_count": 353,
   "id": "c6c81e6a",
   "metadata": {},
   "outputs": [
    {
     "name": "stderr",
     "output_type": "stream",
     "text": [
      "/tmp/ipykernel_6101/1907527264.py:8: SettingWithCopyWarning:\n",
      "\n",
      "\n",
      "A value is trying to be set on a copy of a slice from a DataFrame\n",
      "\n",
      "See the caveats in the documentation: https://pandas.pydata.org/pandas-docs/stable/user_guide/indexing.html#returning-a-view-versus-a-copy\n",
      "\n"
     ]
    }
   ],
   "source": [
    "df_test = df_test[['forme','cas']]\n",
    "lol = df_test['forme'].value_counts().rename_axis('forme').to_frame('Occ')\n",
    "lol = lol.reset_index()\n",
    "lol['cas'] = ''\n",
    "for i in range(len(lol)):\n",
    "    for j in range(len(df_test)):\n",
    "        if lol['forme'][i] == df_test['forme'][j]:\n",
    "            lol['cas'][i] = df_test['cas'][j]\n"
   ]
  },
  {
   "cell_type": "code",
   "execution_count": 276,
   "id": "44418438",
   "metadata": {},
   "outputs": [
    {
     "name": "stderr",
     "output_type": "stream",
     "text": [
      "/tmp/ipykernel_6101/2965861196.py:5: SettingWithCopyWarning:\n",
      "\n",
      "\n",
      "A value is trying to be set on a copy of a slice from a DataFrame\n",
      "\n",
      "See the caveats in the documentation: https://pandas.pydata.org/pandas-docs/stable/user_guide/indexing.html#returning-a-view-versus-a-copy\n",
      "\n"
     ]
    }
   ],
   "source": [
    "lol_new = pd.read_excel('/home/noe/Documents/Master_2/Mémoire/SketchEngineExport/lemmes_servitude/Seruus/800.xlsx')\n",
    "lol_new.drop('Unnamed: 0', axis=1)\n",
    "for i in range(len(lol_new)):\n",
    "    if lol_new['forme'][i].endswith('is') and lol_new['classe'][i] == 1:\n",
    "        lol_new['cas'][i] = 'abl_pl' "
   ]
  },
  {
   "cell_type": "code",
   "execution_count": 278,
   "id": "ef3c1f83",
   "metadata": {},
   "outputs": [],
   "source": [
    "import plotly.express as px"
   ]
  },
  {
   "cell_type": "code",
   "execution_count": 285,
   "id": "78e3e209",
   "metadata": {},
   "outputs": [
    {
     "data": {
      "application/vnd.plotly.v1+json": {
       "config": {
        "plotlyServerURL": "https://plot.ly"
       },
       "data": [
        {
         "branchvalues": "total",
         "domain": {
          "x": [
           0,
           1
          ],
          "y": [
           0,
           1
          ]
         },
         "hovertemplate": "labels=%{label}<br>Occ=%{value}<br>parent=%{parent}<br>id=%{id}<extra></extra>",
         "ids": [
          "nom_sg/ fidelis",
          "acc_sg/ hospitum",
          "nom_sg/ inutilis",
          "acc_sg/ meum",
          "nom_sg/ meus",
          "acc_pl/ nobiles",
          "nom_sg/ noster",
          "acc_pl/ nostros",
          "gen_pl/ suorum",
          "acc_pl/ suos",
          "gen_pl/ tuorum",
          "acc_sg/ tuum",
          "nom_sg/ tuus",
          "nom_sg/ uenerabilibus",
          "acc_sg/ ydoneum",
          "nom_sg/alter",
          "acc_pl/colonos",
          "nom_sg/deuotus",
          "gen_pl/dictorum",
          "acc_pl/dictos",
          "abl_pl/dilectis",
          "nom_sg/extraneus",
          "nom_sg/fidelis",
          "nom_sg/hospitalis",
          "nom_sg/inferius",
          "nom_sg/inutilis",
          "nom_sg/iuratus",
          "gen_pl/liberorum",
          "acc_sg/meorum",
          "acc_sg/meum",
          "nom_sg/nobilis",
          "gen_pl/nobilium",
          "gen_pl/nostrorum",
          "gen_pl/nostrum",
          "nom_sg/officialis",
          "acc_pl/omnes",
          "nom_sg/piger",
          "acc_pl/predictos",
          "nom_sg/prefatus",
          "acc_pl/presentes",
          "abl_pl/propriis",
          "acc_pl/proprios",
          "acc_sg/proprium",
          "acc_pl/prouidentes",
          "nom_sg/prouincialis",
          "acc_pl/religiosos",
          "gen_pl/rusticorum",
          "acc_pl/speciales",
          "abl_pl/suffraganeis",
          "gen_pl/suorum",
          "acc_pl/suos",
          "nom_sg/suus",
          "nom_sg/totus",
          "nom_sg/tuus",
          "gen_pl/uestrorum",
          "acc_pl/unanimes",
          "abl_pl/uniuersis",
          "abl_pl",
          "acc_pl",
          "acc_sg",
          "gen_pl",
          "nom_sg"
         ],
         "labels": [
          " fidelis",
          " hospitum",
          " inutilis",
          " meum",
          " meus",
          " nobiles",
          " noster",
          " nostros",
          " suorum",
          " suos",
          " tuorum",
          " tuum",
          " tuus",
          " uenerabilibus",
          " ydoneum",
          "alter",
          "colonos",
          "deuotus",
          "dictorum",
          "dictos",
          "dilectis",
          "extraneus",
          "fidelis",
          "hospitalis",
          "inferius",
          "inutilis",
          "iuratus",
          "liberorum",
          "meorum",
          "meum",
          "nobilis",
          "nobilium",
          "nostrorum",
          "nostrum",
          "officialis",
          "omnes",
          "piger",
          "predictos",
          "prefatus",
          "presentes",
          "propriis",
          "proprios",
          "proprium",
          "prouidentes",
          "prouincialis",
          "religiosos",
          "rusticorum",
          "speciales",
          "suffraganeis",
          "suorum",
          "suos",
          "suus",
          "totus",
          "tuus",
          "uestrorum",
          "unanimes",
          "uniuersis",
          "abl_pl",
          "acc_pl",
          "acc_sg",
          "gen_pl",
          "nom_sg"
         ],
         "name": "",
         "parents": [
          "nom_sg",
          "acc_sg",
          "nom_sg",
          "acc_sg",
          "nom_sg",
          "acc_pl",
          "nom_sg",
          "acc_pl",
          "gen_pl",
          "acc_pl",
          "gen_pl",
          "acc_sg",
          "nom_sg",
          "nom_sg",
          "acc_sg",
          "nom_sg",
          "acc_pl",
          "nom_sg",
          "gen_pl",
          "acc_pl",
          "abl_pl",
          "nom_sg",
          "nom_sg",
          "nom_sg",
          "nom_sg",
          "nom_sg",
          "nom_sg",
          "gen_pl",
          "acc_sg",
          "acc_sg",
          "nom_sg",
          "gen_pl",
          "gen_pl",
          "gen_pl",
          "nom_sg",
          "acc_pl",
          "nom_sg",
          "acc_pl",
          "nom_sg",
          "acc_pl",
          "abl_pl",
          "acc_pl",
          "acc_sg",
          "acc_pl",
          "nom_sg",
          "acc_pl",
          "gen_pl",
          "acc_pl",
          "abl_pl",
          "gen_pl",
          "acc_pl",
          "nom_sg",
          "nom_sg",
          "nom_sg",
          "gen_pl",
          "acc_pl",
          "abl_pl",
          "",
          "",
          "",
          "",
          ""
         ],
         "type": "sunburst",
         "values": [
          2,
          1,
          3,
          1,
          1,
          1,
          1,
          1,
          3,
          1,
          1,
          4,
          1,
          1,
          1,
          1,
          1,
          2,
          1,
          1,
          5,
          1,
          1,
          1,
          1,
          1,
          3,
          2,
          1,
          1,
          1,
          2,
          3,
          2,
          3,
          4,
          1,
          1,
          1,
          1,
          1,
          1,
          1,
          4,
          1,
          2,
          1,
          1,
          1,
          1,
          3,
          2,
          1,
          1,
          1,
          1,
          1,
          8,
          23,
          10,
          17,
          31
         ]
        }
       ],
       "layout": {
        "legend": {
         "tracegroupgap": 0
        },
        "margin": {
         "t": 60
        },
        "template": {
         "data": {
          "bar": [
           {
            "error_x": {
             "color": "#2a3f5f"
            },
            "error_y": {
             "color": "#2a3f5f"
            },
            "marker": {
             "line": {
              "color": "#E5ECF6",
              "width": 0.5
             },
             "pattern": {
              "fillmode": "overlay",
              "size": 10,
              "solidity": 0.2
             }
            },
            "type": "bar"
           }
          ],
          "barpolar": [
           {
            "marker": {
             "line": {
              "color": "#E5ECF6",
              "width": 0.5
             },
             "pattern": {
              "fillmode": "overlay",
              "size": 10,
              "solidity": 0.2
             }
            },
            "type": "barpolar"
           }
          ],
          "carpet": [
           {
            "aaxis": {
             "endlinecolor": "#2a3f5f",
             "gridcolor": "white",
             "linecolor": "white",
             "minorgridcolor": "white",
             "startlinecolor": "#2a3f5f"
            },
            "baxis": {
             "endlinecolor": "#2a3f5f",
             "gridcolor": "white",
             "linecolor": "white",
             "minorgridcolor": "white",
             "startlinecolor": "#2a3f5f"
            },
            "type": "carpet"
           }
          ],
          "choropleth": [
           {
            "colorbar": {
             "outlinewidth": 0,
             "ticks": ""
            },
            "type": "choropleth"
           }
          ],
          "contour": [
           {
            "colorbar": {
             "outlinewidth": 0,
             "ticks": ""
            },
            "colorscale": [
             [
              0,
              "#0d0887"
             ],
             [
              0.1111111111111111,
              "#46039f"
             ],
             [
              0.2222222222222222,
              "#7201a8"
             ],
             [
              0.3333333333333333,
              "#9c179e"
             ],
             [
              0.4444444444444444,
              "#bd3786"
             ],
             [
              0.5555555555555556,
              "#d8576b"
             ],
             [
              0.6666666666666666,
              "#ed7953"
             ],
             [
              0.7777777777777778,
              "#fb9f3a"
             ],
             [
              0.8888888888888888,
              "#fdca26"
             ],
             [
              1,
              "#f0f921"
             ]
            ],
            "type": "contour"
           }
          ],
          "contourcarpet": [
           {
            "colorbar": {
             "outlinewidth": 0,
             "ticks": ""
            },
            "type": "contourcarpet"
           }
          ],
          "heatmap": [
           {
            "colorbar": {
             "outlinewidth": 0,
             "ticks": ""
            },
            "colorscale": [
             [
              0,
              "#0d0887"
             ],
             [
              0.1111111111111111,
              "#46039f"
             ],
             [
              0.2222222222222222,
              "#7201a8"
             ],
             [
              0.3333333333333333,
              "#9c179e"
             ],
             [
              0.4444444444444444,
              "#bd3786"
             ],
             [
              0.5555555555555556,
              "#d8576b"
             ],
             [
              0.6666666666666666,
              "#ed7953"
             ],
             [
              0.7777777777777778,
              "#fb9f3a"
             ],
             [
              0.8888888888888888,
              "#fdca26"
             ],
             [
              1,
              "#f0f921"
             ]
            ],
            "type": "heatmap"
           }
          ],
          "heatmapgl": [
           {
            "colorbar": {
             "outlinewidth": 0,
             "ticks": ""
            },
            "colorscale": [
             [
              0,
              "#0d0887"
             ],
             [
              0.1111111111111111,
              "#46039f"
             ],
             [
              0.2222222222222222,
              "#7201a8"
             ],
             [
              0.3333333333333333,
              "#9c179e"
             ],
             [
              0.4444444444444444,
              "#bd3786"
             ],
             [
              0.5555555555555556,
              "#d8576b"
             ],
             [
              0.6666666666666666,
              "#ed7953"
             ],
             [
              0.7777777777777778,
              "#fb9f3a"
             ],
             [
              0.8888888888888888,
              "#fdca26"
             ],
             [
              1,
              "#f0f921"
             ]
            ],
            "type": "heatmapgl"
           }
          ],
          "histogram": [
           {
            "marker": {
             "pattern": {
              "fillmode": "overlay",
              "size": 10,
              "solidity": 0.2
             }
            },
            "type": "histogram"
           }
          ],
          "histogram2d": [
           {
            "colorbar": {
             "outlinewidth": 0,
             "ticks": ""
            },
            "colorscale": [
             [
              0,
              "#0d0887"
             ],
             [
              0.1111111111111111,
              "#46039f"
             ],
             [
              0.2222222222222222,
              "#7201a8"
             ],
             [
              0.3333333333333333,
              "#9c179e"
             ],
             [
              0.4444444444444444,
              "#bd3786"
             ],
             [
              0.5555555555555556,
              "#d8576b"
             ],
             [
              0.6666666666666666,
              "#ed7953"
             ],
             [
              0.7777777777777778,
              "#fb9f3a"
             ],
             [
              0.8888888888888888,
              "#fdca26"
             ],
             [
              1,
              "#f0f921"
             ]
            ],
            "type": "histogram2d"
           }
          ],
          "histogram2dcontour": [
           {
            "colorbar": {
             "outlinewidth": 0,
             "ticks": ""
            },
            "colorscale": [
             [
              0,
              "#0d0887"
             ],
             [
              0.1111111111111111,
              "#46039f"
             ],
             [
              0.2222222222222222,
              "#7201a8"
             ],
             [
              0.3333333333333333,
              "#9c179e"
             ],
             [
              0.4444444444444444,
              "#bd3786"
             ],
             [
              0.5555555555555556,
              "#d8576b"
             ],
             [
              0.6666666666666666,
              "#ed7953"
             ],
             [
              0.7777777777777778,
              "#fb9f3a"
             ],
             [
              0.8888888888888888,
              "#fdca26"
             ],
             [
              1,
              "#f0f921"
             ]
            ],
            "type": "histogram2dcontour"
           }
          ],
          "mesh3d": [
           {
            "colorbar": {
             "outlinewidth": 0,
             "ticks": ""
            },
            "type": "mesh3d"
           }
          ],
          "parcoords": [
           {
            "line": {
             "colorbar": {
              "outlinewidth": 0,
              "ticks": ""
             }
            },
            "type": "parcoords"
           }
          ],
          "pie": [
           {
            "automargin": true,
            "type": "pie"
           }
          ],
          "scatter": [
           {
            "fillpattern": {
             "fillmode": "overlay",
             "size": 10,
             "solidity": 0.2
            },
            "type": "scatter"
           }
          ],
          "scatter3d": [
           {
            "line": {
             "colorbar": {
              "outlinewidth": 0,
              "ticks": ""
             }
            },
            "marker": {
             "colorbar": {
              "outlinewidth": 0,
              "ticks": ""
             }
            },
            "type": "scatter3d"
           }
          ],
          "scattercarpet": [
           {
            "marker": {
             "colorbar": {
              "outlinewidth": 0,
              "ticks": ""
             }
            },
            "type": "scattercarpet"
           }
          ],
          "scattergeo": [
           {
            "marker": {
             "colorbar": {
              "outlinewidth": 0,
              "ticks": ""
             }
            },
            "type": "scattergeo"
           }
          ],
          "scattergl": [
           {
            "marker": {
             "colorbar": {
              "outlinewidth": 0,
              "ticks": ""
             }
            },
            "type": "scattergl"
           }
          ],
          "scattermapbox": [
           {
            "marker": {
             "colorbar": {
              "outlinewidth": 0,
              "ticks": ""
             }
            },
            "type": "scattermapbox"
           }
          ],
          "scatterpolar": [
           {
            "marker": {
             "colorbar": {
              "outlinewidth": 0,
              "ticks": ""
             }
            },
            "type": "scatterpolar"
           }
          ],
          "scatterpolargl": [
           {
            "marker": {
             "colorbar": {
              "outlinewidth": 0,
              "ticks": ""
             }
            },
            "type": "scatterpolargl"
           }
          ],
          "scatterternary": [
           {
            "marker": {
             "colorbar": {
              "outlinewidth": 0,
              "ticks": ""
             }
            },
            "type": "scatterternary"
           }
          ],
          "surface": [
           {
            "colorbar": {
             "outlinewidth": 0,
             "ticks": ""
            },
            "colorscale": [
             [
              0,
              "#0d0887"
             ],
             [
              0.1111111111111111,
              "#46039f"
             ],
             [
              0.2222222222222222,
              "#7201a8"
             ],
             [
              0.3333333333333333,
              "#9c179e"
             ],
             [
              0.4444444444444444,
              "#bd3786"
             ],
             [
              0.5555555555555556,
              "#d8576b"
             ],
             [
              0.6666666666666666,
              "#ed7953"
             ],
             [
              0.7777777777777778,
              "#fb9f3a"
             ],
             [
              0.8888888888888888,
              "#fdca26"
             ],
             [
              1,
              "#f0f921"
             ]
            ],
            "type": "surface"
           }
          ],
          "table": [
           {
            "cells": {
             "fill": {
              "color": "#EBF0F8"
             },
             "line": {
              "color": "white"
             }
            },
            "header": {
             "fill": {
              "color": "#C8D4E3"
             },
             "line": {
              "color": "white"
             }
            },
            "type": "table"
           }
          ]
         },
         "layout": {
          "annotationdefaults": {
           "arrowcolor": "#2a3f5f",
           "arrowhead": 0,
           "arrowwidth": 1
          },
          "autotypenumbers": "strict",
          "coloraxis": {
           "colorbar": {
            "outlinewidth": 0,
            "ticks": ""
           }
          },
          "colorscale": {
           "diverging": [
            [
             0,
             "#8e0152"
            ],
            [
             0.1,
             "#c51b7d"
            ],
            [
             0.2,
             "#de77ae"
            ],
            [
             0.3,
             "#f1b6da"
            ],
            [
             0.4,
             "#fde0ef"
            ],
            [
             0.5,
             "#f7f7f7"
            ],
            [
             0.6,
             "#e6f5d0"
            ],
            [
             0.7,
             "#b8e186"
            ],
            [
             0.8,
             "#7fbc41"
            ],
            [
             0.9,
             "#4d9221"
            ],
            [
             1,
             "#276419"
            ]
           ],
           "sequential": [
            [
             0,
             "#0d0887"
            ],
            [
             0.1111111111111111,
             "#46039f"
            ],
            [
             0.2222222222222222,
             "#7201a8"
            ],
            [
             0.3333333333333333,
             "#9c179e"
            ],
            [
             0.4444444444444444,
             "#bd3786"
            ],
            [
             0.5555555555555556,
             "#d8576b"
            ],
            [
             0.6666666666666666,
             "#ed7953"
            ],
            [
             0.7777777777777778,
             "#fb9f3a"
            ],
            [
             0.8888888888888888,
             "#fdca26"
            ],
            [
             1,
             "#f0f921"
            ]
           ],
           "sequentialminus": [
            [
             0,
             "#0d0887"
            ],
            [
             0.1111111111111111,
             "#46039f"
            ],
            [
             0.2222222222222222,
             "#7201a8"
            ],
            [
             0.3333333333333333,
             "#9c179e"
            ],
            [
             0.4444444444444444,
             "#bd3786"
            ],
            [
             0.5555555555555556,
             "#d8576b"
            ],
            [
             0.6666666666666666,
             "#ed7953"
            ],
            [
             0.7777777777777778,
             "#fb9f3a"
            ],
            [
             0.8888888888888888,
             "#fdca26"
            ],
            [
             1,
             "#f0f921"
            ]
           ]
          },
          "colorway": [
           "#636efa",
           "#EF553B",
           "#00cc96",
           "#ab63fa",
           "#FFA15A",
           "#19d3f3",
           "#FF6692",
           "#B6E880",
           "#FF97FF",
           "#FECB52"
          ],
          "font": {
           "color": "#2a3f5f"
          },
          "geo": {
           "bgcolor": "white",
           "lakecolor": "white",
           "landcolor": "#E5ECF6",
           "showlakes": true,
           "showland": true,
           "subunitcolor": "white"
          },
          "hoverlabel": {
           "align": "left"
          },
          "hovermode": "closest",
          "mapbox": {
           "style": "light"
          },
          "paper_bgcolor": "white",
          "plot_bgcolor": "#E5ECF6",
          "polar": {
           "angularaxis": {
            "gridcolor": "white",
            "linecolor": "white",
            "ticks": ""
           },
           "bgcolor": "#E5ECF6",
           "radialaxis": {
            "gridcolor": "white",
            "linecolor": "white",
            "ticks": ""
           }
          },
          "scene": {
           "xaxis": {
            "backgroundcolor": "#E5ECF6",
            "gridcolor": "white",
            "gridwidth": 2,
            "linecolor": "white",
            "showbackground": true,
            "ticks": "",
            "zerolinecolor": "white"
           },
           "yaxis": {
            "backgroundcolor": "#E5ECF6",
            "gridcolor": "white",
            "gridwidth": 2,
            "linecolor": "white",
            "showbackground": true,
            "ticks": "",
            "zerolinecolor": "white"
           },
           "zaxis": {
            "backgroundcolor": "#E5ECF6",
            "gridcolor": "white",
            "gridwidth": 2,
            "linecolor": "white",
            "showbackground": true,
            "ticks": "",
            "zerolinecolor": "white"
           }
          },
          "shapedefaults": {
           "line": {
            "color": "#2a3f5f"
           }
          },
          "ternary": {
           "aaxis": {
            "gridcolor": "white",
            "linecolor": "white",
            "ticks": ""
           },
           "baxis": {
            "gridcolor": "white",
            "linecolor": "white",
            "ticks": ""
           },
           "bgcolor": "#E5ECF6",
           "caxis": {
            "gridcolor": "white",
            "linecolor": "white",
            "ticks": ""
           }
          },
          "title": {
           "x": 0.05
          },
          "xaxis": {
           "automargin": true,
           "gridcolor": "white",
           "linecolor": "white",
           "ticks": "",
           "title": {
            "standoff": 15
           },
           "zerolinecolor": "white",
           "zerolinewidth": 2
          },
          "yaxis": {
           "automargin": true,
           "gridcolor": "white",
           "linecolor": "white",
           "ticks": "",
           "title": {
            "standoff": 15
           },
           "zerolinecolor": "white",
           "zerolinewidth": 2
          }
         }
        }
       }
      },
      "text/html": [
       "<div>                            <div id=\"fda9b240-7a99-4856-b137-2735693796de\" class=\"plotly-graph-div\" style=\"height:525px; width:100%;\"></div>            <script type=\"text/javascript\">                require([\"plotly\"], function(Plotly) {                    window.PLOTLYENV=window.PLOTLYENV || {};                                    if (document.getElementById(\"fda9b240-7a99-4856-b137-2735693796de\")) {                    Plotly.newPlot(                        \"fda9b240-7a99-4856-b137-2735693796de\",                        [{\"branchvalues\":\"total\",\"domain\":{\"x\":[0.0,1.0],\"y\":[0.0,1.0]},\"hovertemplate\":\"labels=%{label}<br>Occ=%{value}<br>parent=%{parent}<br>id=%{id}<extra></extra>\",\"ids\":[\"nom_sg/ fidelis\",\"acc_sg/ hospitum\",\"nom_sg/ inutilis\",\"acc_sg/ meum\",\"nom_sg/ meus\",\"acc_pl/ nobiles\",\"nom_sg/ noster\",\"acc_pl/ nostros\",\"gen_pl/ suorum\",\"acc_pl/ suos\",\"gen_pl/ tuorum\",\"acc_sg/ tuum\",\"nom_sg/ tuus\",\"nom_sg/ uenerabilibus\",\"acc_sg/ ydoneum\",\"nom_sg/alter\",\"acc_pl/colonos\",\"nom_sg/deuotus\",\"gen_pl/dictorum\",\"acc_pl/dictos\",\"abl_pl/dilectis\",\"nom_sg/extraneus\",\"nom_sg/fidelis\",\"nom_sg/hospitalis\",\"nom_sg/inferius\",\"nom_sg/inutilis\",\"nom_sg/iuratus\",\"gen_pl/liberorum\",\"acc_sg/meorum\",\"acc_sg/meum\",\"nom_sg/nobilis\",\"gen_pl/nobilium\",\"gen_pl/nostrorum\",\"gen_pl/nostrum\",\"nom_sg/officialis\",\"acc_pl/omnes\",\"nom_sg/piger\",\"acc_pl/predictos\",\"nom_sg/prefatus\",\"acc_pl/presentes\",\"abl_pl/propriis\",\"acc_pl/proprios\",\"acc_sg/proprium\",\"acc_pl/prouidentes\",\"nom_sg/prouincialis\",\"acc_pl/religiosos\",\"gen_pl/rusticorum\",\"acc_pl/speciales\",\"abl_pl/suffraganeis\",\"gen_pl/suorum\",\"acc_pl/suos\",\"nom_sg/suus\",\"nom_sg/totus\",\"nom_sg/tuus\",\"gen_pl/uestrorum\",\"acc_pl/unanimes\",\"abl_pl/uniuersis\",\"abl_pl\",\"acc_pl\",\"acc_sg\",\"gen_pl\",\"nom_sg\"],\"labels\":[\" fidelis\",\" hospitum\",\" inutilis\",\" meum\",\" meus\",\" nobiles\",\" noster\",\" nostros\",\" suorum\",\" suos\",\" tuorum\",\" tuum\",\" tuus\",\" uenerabilibus\",\" ydoneum\",\"alter\",\"colonos\",\"deuotus\",\"dictorum\",\"dictos\",\"dilectis\",\"extraneus\",\"fidelis\",\"hospitalis\",\"inferius\",\"inutilis\",\"iuratus\",\"liberorum\",\"meorum\",\"meum\",\"nobilis\",\"nobilium\",\"nostrorum\",\"nostrum\",\"officialis\",\"omnes\",\"piger\",\"predictos\",\"prefatus\",\"presentes\",\"propriis\",\"proprios\",\"proprium\",\"prouidentes\",\"prouincialis\",\"religiosos\",\"rusticorum\",\"speciales\",\"suffraganeis\",\"suorum\",\"suos\",\"suus\",\"totus\",\"tuus\",\"uestrorum\",\"unanimes\",\"uniuersis\",\"abl_pl\",\"acc_pl\",\"acc_sg\",\"gen_pl\",\"nom_sg\"],\"name\":\"\",\"parents\":[\"nom_sg\",\"acc_sg\",\"nom_sg\",\"acc_sg\",\"nom_sg\",\"acc_pl\",\"nom_sg\",\"acc_pl\",\"gen_pl\",\"acc_pl\",\"gen_pl\",\"acc_sg\",\"nom_sg\",\"nom_sg\",\"acc_sg\",\"nom_sg\",\"acc_pl\",\"nom_sg\",\"gen_pl\",\"acc_pl\",\"abl_pl\",\"nom_sg\",\"nom_sg\",\"nom_sg\",\"nom_sg\",\"nom_sg\",\"nom_sg\",\"gen_pl\",\"acc_sg\",\"acc_sg\",\"nom_sg\",\"gen_pl\",\"gen_pl\",\"gen_pl\",\"nom_sg\",\"acc_pl\",\"nom_sg\",\"acc_pl\",\"nom_sg\",\"acc_pl\",\"abl_pl\",\"acc_pl\",\"acc_sg\",\"acc_pl\",\"nom_sg\",\"acc_pl\",\"gen_pl\",\"acc_pl\",\"abl_pl\",\"gen_pl\",\"acc_pl\",\"nom_sg\",\"nom_sg\",\"nom_sg\",\"gen_pl\",\"acc_pl\",\"abl_pl\",\"\",\"\",\"\",\"\",\"\"],\"values\":[2,1,3,1,1,1,1,1,3,1,1,4,1,1,1,1,1,2,1,1,5,1,1,1,1,1,3,2,1,1,1,2,3,2,3,4,1,1,1,1,1,1,1,4,1,2,1,1,1,1,3,2,1,1,1,1,1,8,23,10,17,31],\"type\":\"sunburst\"}],                        {\"template\":{\"data\":{\"histogram2dcontour\":[{\"type\":\"histogram2dcontour\",\"colorbar\":{\"outlinewidth\":0,\"ticks\":\"\"},\"colorscale\":[[0.0,\"#0d0887\"],[0.1111111111111111,\"#46039f\"],[0.2222222222222222,\"#7201a8\"],[0.3333333333333333,\"#9c179e\"],[0.4444444444444444,\"#bd3786\"],[0.5555555555555556,\"#d8576b\"],[0.6666666666666666,\"#ed7953\"],[0.7777777777777778,\"#fb9f3a\"],[0.8888888888888888,\"#fdca26\"],[1.0,\"#f0f921\"]]}],\"choropleth\":[{\"type\":\"choropleth\",\"colorbar\":{\"outlinewidth\":0,\"ticks\":\"\"}}],\"histogram2d\":[{\"type\":\"histogram2d\",\"colorbar\":{\"outlinewidth\":0,\"ticks\":\"\"},\"colorscale\":[[0.0,\"#0d0887\"],[0.1111111111111111,\"#46039f\"],[0.2222222222222222,\"#7201a8\"],[0.3333333333333333,\"#9c179e\"],[0.4444444444444444,\"#bd3786\"],[0.5555555555555556,\"#d8576b\"],[0.6666666666666666,\"#ed7953\"],[0.7777777777777778,\"#fb9f3a\"],[0.8888888888888888,\"#fdca26\"],[1.0,\"#f0f921\"]]}],\"heatmap\":[{\"type\":\"heatmap\",\"colorbar\":{\"outlinewidth\":0,\"ticks\":\"\"},\"colorscale\":[[0.0,\"#0d0887\"],[0.1111111111111111,\"#46039f\"],[0.2222222222222222,\"#7201a8\"],[0.3333333333333333,\"#9c179e\"],[0.4444444444444444,\"#bd3786\"],[0.5555555555555556,\"#d8576b\"],[0.6666666666666666,\"#ed7953\"],[0.7777777777777778,\"#fb9f3a\"],[0.8888888888888888,\"#fdca26\"],[1.0,\"#f0f921\"]]}],\"heatmapgl\":[{\"type\":\"heatmapgl\",\"colorbar\":{\"outlinewidth\":0,\"ticks\":\"\"},\"colorscale\":[[0.0,\"#0d0887\"],[0.1111111111111111,\"#46039f\"],[0.2222222222222222,\"#7201a8\"],[0.3333333333333333,\"#9c179e\"],[0.4444444444444444,\"#bd3786\"],[0.5555555555555556,\"#d8576b\"],[0.6666666666666666,\"#ed7953\"],[0.7777777777777778,\"#fb9f3a\"],[0.8888888888888888,\"#fdca26\"],[1.0,\"#f0f921\"]]}],\"contourcarpet\":[{\"type\":\"contourcarpet\",\"colorbar\":{\"outlinewidth\":0,\"ticks\":\"\"}}],\"contour\":[{\"type\":\"contour\",\"colorbar\":{\"outlinewidth\":0,\"ticks\":\"\"},\"colorscale\":[[0.0,\"#0d0887\"],[0.1111111111111111,\"#46039f\"],[0.2222222222222222,\"#7201a8\"],[0.3333333333333333,\"#9c179e\"],[0.4444444444444444,\"#bd3786\"],[0.5555555555555556,\"#d8576b\"],[0.6666666666666666,\"#ed7953\"],[0.7777777777777778,\"#fb9f3a\"],[0.8888888888888888,\"#fdca26\"],[1.0,\"#f0f921\"]]}],\"surface\":[{\"type\":\"surface\",\"colorbar\":{\"outlinewidth\":0,\"ticks\":\"\"},\"colorscale\":[[0.0,\"#0d0887\"],[0.1111111111111111,\"#46039f\"],[0.2222222222222222,\"#7201a8\"],[0.3333333333333333,\"#9c179e\"],[0.4444444444444444,\"#bd3786\"],[0.5555555555555556,\"#d8576b\"],[0.6666666666666666,\"#ed7953\"],[0.7777777777777778,\"#fb9f3a\"],[0.8888888888888888,\"#fdca26\"],[1.0,\"#f0f921\"]]}],\"mesh3d\":[{\"type\":\"mesh3d\",\"colorbar\":{\"outlinewidth\":0,\"ticks\":\"\"}}],\"scatter\":[{\"fillpattern\":{\"fillmode\":\"overlay\",\"size\":10,\"solidity\":0.2},\"type\":\"scatter\"}],\"parcoords\":[{\"type\":\"parcoords\",\"line\":{\"colorbar\":{\"outlinewidth\":0,\"ticks\":\"\"}}}],\"scatterpolargl\":[{\"type\":\"scatterpolargl\",\"marker\":{\"colorbar\":{\"outlinewidth\":0,\"ticks\":\"\"}}}],\"bar\":[{\"error_x\":{\"color\":\"#2a3f5f\"},\"error_y\":{\"color\":\"#2a3f5f\"},\"marker\":{\"line\":{\"color\":\"#E5ECF6\",\"width\":0.5},\"pattern\":{\"fillmode\":\"overlay\",\"size\":10,\"solidity\":0.2}},\"type\":\"bar\"}],\"scattergeo\":[{\"type\":\"scattergeo\",\"marker\":{\"colorbar\":{\"outlinewidth\":0,\"ticks\":\"\"}}}],\"scatterpolar\":[{\"type\":\"scatterpolar\",\"marker\":{\"colorbar\":{\"outlinewidth\":0,\"ticks\":\"\"}}}],\"histogram\":[{\"marker\":{\"pattern\":{\"fillmode\":\"overlay\",\"size\":10,\"solidity\":0.2}},\"type\":\"histogram\"}],\"scattergl\":[{\"type\":\"scattergl\",\"marker\":{\"colorbar\":{\"outlinewidth\":0,\"ticks\":\"\"}}}],\"scatter3d\":[{\"type\":\"scatter3d\",\"line\":{\"colorbar\":{\"outlinewidth\":0,\"ticks\":\"\"}},\"marker\":{\"colorbar\":{\"outlinewidth\":0,\"ticks\":\"\"}}}],\"scattermapbox\":[{\"type\":\"scattermapbox\",\"marker\":{\"colorbar\":{\"outlinewidth\":0,\"ticks\":\"\"}}}],\"scatterternary\":[{\"type\":\"scatterternary\",\"marker\":{\"colorbar\":{\"outlinewidth\":0,\"ticks\":\"\"}}}],\"scattercarpet\":[{\"type\":\"scattercarpet\",\"marker\":{\"colorbar\":{\"outlinewidth\":0,\"ticks\":\"\"}}}],\"carpet\":[{\"aaxis\":{\"endlinecolor\":\"#2a3f5f\",\"gridcolor\":\"white\",\"linecolor\":\"white\",\"minorgridcolor\":\"white\",\"startlinecolor\":\"#2a3f5f\"},\"baxis\":{\"endlinecolor\":\"#2a3f5f\",\"gridcolor\":\"white\",\"linecolor\":\"white\",\"minorgridcolor\":\"white\",\"startlinecolor\":\"#2a3f5f\"},\"type\":\"carpet\"}],\"table\":[{\"cells\":{\"fill\":{\"color\":\"#EBF0F8\"},\"line\":{\"color\":\"white\"}},\"header\":{\"fill\":{\"color\":\"#C8D4E3\"},\"line\":{\"color\":\"white\"}},\"type\":\"table\"}],\"barpolar\":[{\"marker\":{\"line\":{\"color\":\"#E5ECF6\",\"width\":0.5},\"pattern\":{\"fillmode\":\"overlay\",\"size\":10,\"solidity\":0.2}},\"type\":\"barpolar\"}],\"pie\":[{\"automargin\":true,\"type\":\"pie\"}]},\"layout\":{\"autotypenumbers\":\"strict\",\"colorway\":[\"#636efa\",\"#EF553B\",\"#00cc96\",\"#ab63fa\",\"#FFA15A\",\"#19d3f3\",\"#FF6692\",\"#B6E880\",\"#FF97FF\",\"#FECB52\"],\"font\":{\"color\":\"#2a3f5f\"},\"hovermode\":\"closest\",\"hoverlabel\":{\"align\":\"left\"},\"paper_bgcolor\":\"white\",\"plot_bgcolor\":\"#E5ECF6\",\"polar\":{\"bgcolor\":\"#E5ECF6\",\"angularaxis\":{\"gridcolor\":\"white\",\"linecolor\":\"white\",\"ticks\":\"\"},\"radialaxis\":{\"gridcolor\":\"white\",\"linecolor\":\"white\",\"ticks\":\"\"}},\"ternary\":{\"bgcolor\":\"#E5ECF6\",\"aaxis\":{\"gridcolor\":\"white\",\"linecolor\":\"white\",\"ticks\":\"\"},\"baxis\":{\"gridcolor\":\"white\",\"linecolor\":\"white\",\"ticks\":\"\"},\"caxis\":{\"gridcolor\":\"white\",\"linecolor\":\"white\",\"ticks\":\"\"}},\"coloraxis\":{\"colorbar\":{\"outlinewidth\":0,\"ticks\":\"\"}},\"colorscale\":{\"sequential\":[[0.0,\"#0d0887\"],[0.1111111111111111,\"#46039f\"],[0.2222222222222222,\"#7201a8\"],[0.3333333333333333,\"#9c179e\"],[0.4444444444444444,\"#bd3786\"],[0.5555555555555556,\"#d8576b\"],[0.6666666666666666,\"#ed7953\"],[0.7777777777777778,\"#fb9f3a\"],[0.8888888888888888,\"#fdca26\"],[1.0,\"#f0f921\"]],\"sequentialminus\":[[0.0,\"#0d0887\"],[0.1111111111111111,\"#46039f\"],[0.2222222222222222,\"#7201a8\"],[0.3333333333333333,\"#9c179e\"],[0.4444444444444444,\"#bd3786\"],[0.5555555555555556,\"#d8576b\"],[0.6666666666666666,\"#ed7953\"],[0.7777777777777778,\"#fb9f3a\"],[0.8888888888888888,\"#fdca26\"],[1.0,\"#f0f921\"]],\"diverging\":[[0,\"#8e0152\"],[0.1,\"#c51b7d\"],[0.2,\"#de77ae\"],[0.3,\"#f1b6da\"],[0.4,\"#fde0ef\"],[0.5,\"#f7f7f7\"],[0.6,\"#e6f5d0\"],[0.7,\"#b8e186\"],[0.8,\"#7fbc41\"],[0.9,\"#4d9221\"],[1,\"#276419\"]]},\"xaxis\":{\"gridcolor\":\"white\",\"linecolor\":\"white\",\"ticks\":\"\",\"title\":{\"standoff\":15},\"zerolinecolor\":\"white\",\"automargin\":true,\"zerolinewidth\":2},\"yaxis\":{\"gridcolor\":\"white\",\"linecolor\":\"white\",\"ticks\":\"\",\"title\":{\"standoff\":15},\"zerolinecolor\":\"white\",\"automargin\":true,\"zerolinewidth\":2},\"scene\":{\"xaxis\":{\"backgroundcolor\":\"#E5ECF6\",\"gridcolor\":\"white\",\"linecolor\":\"white\",\"showbackground\":true,\"ticks\":\"\",\"zerolinecolor\":\"white\",\"gridwidth\":2},\"yaxis\":{\"backgroundcolor\":\"#E5ECF6\",\"gridcolor\":\"white\",\"linecolor\":\"white\",\"showbackground\":true,\"ticks\":\"\",\"zerolinecolor\":\"white\",\"gridwidth\":2},\"zaxis\":{\"backgroundcolor\":\"#E5ECF6\",\"gridcolor\":\"white\",\"linecolor\":\"white\",\"showbackground\":true,\"ticks\":\"\",\"zerolinecolor\":\"white\",\"gridwidth\":2}},\"shapedefaults\":{\"line\":{\"color\":\"#2a3f5f\"}},\"annotationdefaults\":{\"arrowcolor\":\"#2a3f5f\",\"arrowhead\":0,\"arrowwidth\":1},\"geo\":{\"bgcolor\":\"white\",\"landcolor\":\"#E5ECF6\",\"subunitcolor\":\"white\",\"showland\":true,\"showlakes\":true,\"lakecolor\":\"white\"},\"title\":{\"x\":0.05},\"mapbox\":{\"style\":\"light\"}}},\"legend\":{\"tracegroupgap\":0},\"margin\":{\"t\":60}},                        {\"responsive\": true}                    ).then(function(){\n",
       "                            \n",
       "var gd = document.getElementById('fda9b240-7a99-4856-b137-2735693796de');\n",
       "var x = new MutationObserver(function (mutations, observer) {{\n",
       "        var display = window.getComputedStyle(gd).display;\n",
       "        if (!display || display === 'none') {{\n",
       "            console.log([gd, 'removed!']);\n",
       "            Plotly.purge(gd);\n",
       "            observer.disconnect();\n",
       "        }}\n",
       "}});\n",
       "\n",
       "// Listen for the removal of the full notebook cells\n",
       "var notebookContainer = gd.closest('#notebook-container');\n",
       "if (notebookContainer) {{\n",
       "    x.observe(notebookContainer, {childList: true});\n",
       "}}\n",
       "\n",
       "// Listen for the clearing of the current output cell\n",
       "var outputEl = gd.closest('.output');\n",
       "if (outputEl) {{\n",
       "    x.observe(outputEl, {childList: true});\n",
       "}}\n",
       "\n",
       "                        })                };                });            </script>        </div>"
      ]
     },
     "metadata": {},
     "output_type": "display_data"
    }
   ],
   "source": [
    "fig = px.sunburst(lol_new, path=['cas','forme'], values='Occ')\n",
    "fig"
   ]
  },
  {
   "cell_type": "code",
   "execution_count": null,
   "id": "7e817a89",
   "metadata": {},
   "outputs": [],
   "source": [
    "df_final_cas_900.drop(df_final_cas_900.loc[df_final_cas_900['Cas'] == \"\"].index, inplace=True)\n",
    "df_final_cas_950.drop(df_final_cas_950.loc[df_final_cas_950['Cas'] == \"\"].index, inplace=True)\n"
   ]
  },
  {
   "cell_type": "code",
   "execution_count": null,
   "id": "26c6ca72",
   "metadata": {},
   "outputs": [],
   "source": [
    "df_final_cas_1000.drop(df_final_cas_1000.loc[df_final_cas_1000['Cas'] == \"\"].index, inplace=True)\n",
    "df_final_cas_1050.drop(df_final_cas_1050.loc[df_final_cas_1050['Cas'] == \"\"].index, inplace=True)\n",
    "df_final_cas_1100.drop(df_final_cas_1100.loc[df_final_cas_1100['Cas'] == \"\"].index, inplace=True)\n",
    "df_final_cas_1150.drop(df_final_cas_1150.loc[df_final_cas_1150['Cas'] == \"\"].index, inplace=True)\n",
    "df_final_cas_1200.drop(df_final_cas_1200.loc[df_final_cas_1200['Cas'] == \"\"].index, inplace=True)\n",
    "df_final_cas_1250.drop(df_final_cas_1250.loc[df_final_cas_1250['Cas'] == \"\"].index, inplace=True)"
   ]
  },
  {
   "cell_type": "code",
   "execution_count": null,
   "id": "c5a039d1",
   "metadata": {},
   "outputs": [],
   "source": [
    "fig.add_trace(go.Pie(labels=df_final_cas_900['Cas'], values=df_final_cas_900['Occ'], name=\"900-949\"),\n",
    "              2, 1)\n",
    "fig.add_trace(go.Pie(labels=df_final_cas_800[\"Cas\"], values=df_final_cas_800[\"Occ\"], name=\"800-849\"),\n",
    "              2, 2)\n",
    "fig.add_trace(go.Pie(labels=df_final_cas_850['Cas'], values=df_final_cas_850['Occ'], name=\"850-899\"),\n",
    "              3, 1)\n",
    "fig.add_trace(go.Pie(labels=df_final_cas_900['Cas'], values=df_final_cas_900['Occ'], name=\"900-949\"),\n",
    "              3, 2)\n",
    "fig.add_trace(go.Pie(labels=df_final_cas_800[\"Cas\"], values=df_final_cas_800[\"Occ\"], name=\"800-849\"),\n",
    "              4, 1)\n",
    "fig.add_trace(go.Pie(labels=df_final_cas_850['Cas'], values=df_final_cas_850['Occ'], name=\"850-899\"),\n",
    "              4, 2)\n",
    "fig.add_trace(go.Pie(labels=df_final_cas_900['Cas'], values=df_final_cas_900['Occ'], name=\"900-949\"),\n",
    "              5, 1)\n",
    "fig.add_trace(go.Pie(labels=df_final_cas_900['Cas'], values=df_final_cas_900['Occ'], name=\"900-949\"),\n",
    "              5, 2)"
   ]
  },
  {
   "cell_type": "code",
   "execution_count": null,
   "id": "298160ec",
   "metadata": {},
   "outputs": [],
   "source": [
    "dict(text='900-949', x=0.82, y=0.5, font_size=20, showarrow=False),\n",
    "dict(text='950-999', x=0.82, y=0.5, font_size=20, showarrow=False),\n",
    "dict(text='1000-1049', x=0.82, y=0.5, font_size=20, showarrow=False),\n",
    "dict(text='1050-1099', x=0.82, y=0.5, font_size=20, showarrow=False),\n",
    "dict(text='1100-1149', x=0.82, y=0.5, font_size=20, showarrow=False),\n",
    "dict(text='1150-1199', x=0.82, y=0.5, font_size=20, showarrow=False),\n",
    "dict(text='1200-1249', x=0.82, y=0.5, font_size=20, showarrow=False),\n",
    "dict(text='1250-1299', x=0.82, y=0.5, font_size=20, showarrow=False)]"
   ]
  },
  {
   "cell_type": "code",
   "execution_count": 130,
   "id": "eb5ec360",
   "metadata": {},
   "outputs": [],
   "source": [
    "df_final_cas_1200.drop(df_final_cas_1200.loc[df_final_cas_1200['Cas'] == \"\"].index, inplace=True)\n",
    "df_final_cas_1250.drop(df_final_cas_1250.loc[df_final_cas_1250['Cas'] == \"\"].index, inplace=True)\n",
    "df_final_1200.drop(df_final_1200.loc[df_final_1200['Words'] == \"\"].index, inplace=True)\n",
    "df_final_1250.drop(df_final_1250.loc[df_final_1250['Words'] == \"\"].index, inplace=True)\n",
    "df_final_cas_1250 = df_final_cas_1250.sort_values(by='Cas')\n",
    "df_final_cas_1200 = df_final_cas_1200.sort_values(by='Cas')"
   ]
  },
  {
   "cell_type": "code",
   "execution_count": 124,
   "id": "95c49e32",
   "metadata": {},
   "outputs": [
    {
     "data": {
      "application/vnd.plotly.v1+json": {
       "config": {
        "plotlyServerURL": "https://plot.ly"
       },
       "data": [
        {
         "domain": {
          "x": [
           0,
           0.45
          ],
          "y": [
           0,
           1
          ]
         },
         "hole": 0.4,
         "labels": [
          "acc_pl",
          "acc_sg",
          "gen_pl",
          "nom_sg"
         ],
         "name": "1000-1049",
         "type": "pie",
         "values": [
          126,
          31,
          52,
          83
         ]
        },
        {
         "domain": {
          "x": [
           0.55,
           1
          ],
          "y": [
           0,
           1
          ]
         },
         "hole": 0.4,
         "labels": [
          "acc_pl",
          "acc_sg",
          "gen_pl",
          "nom_sg"
         ],
         "name": "1050-1099",
         "type": "pie",
         "values": [
          88,
          60,
          90,
          117
         ]
        }
       ],
       "layout": {
        "annotations": [
         {
          "font": {
           "size": 15
          },
          "showarrow": false,
          "text": "1000-1049",
          "x": 0.17,
          "y": 0.5
         },
         {
          "font": {
           "size": 15
          },
          "showarrow": false,
          "text": "1050-1099",
          "x": 0.835,
          "y": 0.5
         }
        ],
        "template": {
         "data": {
          "bar": [
           {
            "error_x": {
             "color": "#2a3f5f"
            },
            "error_y": {
             "color": "#2a3f5f"
            },
            "marker": {
             "line": {
              "color": "#E5ECF6",
              "width": 0.5
             },
             "pattern": {
              "fillmode": "overlay",
              "size": 10,
              "solidity": 0.2
             }
            },
            "type": "bar"
           }
          ],
          "barpolar": [
           {
            "marker": {
             "line": {
              "color": "#E5ECF6",
              "width": 0.5
             },
             "pattern": {
              "fillmode": "overlay",
              "size": 10,
              "solidity": 0.2
             }
            },
            "type": "barpolar"
           }
          ],
          "carpet": [
           {
            "aaxis": {
             "endlinecolor": "#2a3f5f",
             "gridcolor": "white",
             "linecolor": "white",
             "minorgridcolor": "white",
             "startlinecolor": "#2a3f5f"
            },
            "baxis": {
             "endlinecolor": "#2a3f5f",
             "gridcolor": "white",
             "linecolor": "white",
             "minorgridcolor": "white",
             "startlinecolor": "#2a3f5f"
            },
            "type": "carpet"
           }
          ],
          "choropleth": [
           {
            "colorbar": {
             "outlinewidth": 0,
             "ticks": ""
            },
            "type": "choropleth"
           }
          ],
          "contour": [
           {
            "colorbar": {
             "outlinewidth": 0,
             "ticks": ""
            },
            "colorscale": [
             [
              0,
              "#0d0887"
             ],
             [
              0.1111111111111111,
              "#46039f"
             ],
             [
              0.2222222222222222,
              "#7201a8"
             ],
             [
              0.3333333333333333,
              "#9c179e"
             ],
             [
              0.4444444444444444,
              "#bd3786"
             ],
             [
              0.5555555555555556,
              "#d8576b"
             ],
             [
              0.6666666666666666,
              "#ed7953"
             ],
             [
              0.7777777777777778,
              "#fb9f3a"
             ],
             [
              0.8888888888888888,
              "#fdca26"
             ],
             [
              1,
              "#f0f921"
             ]
            ],
            "type": "contour"
           }
          ],
          "contourcarpet": [
           {
            "colorbar": {
             "outlinewidth": 0,
             "ticks": ""
            },
            "type": "contourcarpet"
           }
          ],
          "heatmap": [
           {
            "colorbar": {
             "outlinewidth": 0,
             "ticks": ""
            },
            "colorscale": [
             [
              0,
              "#0d0887"
             ],
             [
              0.1111111111111111,
              "#46039f"
             ],
             [
              0.2222222222222222,
              "#7201a8"
             ],
             [
              0.3333333333333333,
              "#9c179e"
             ],
             [
              0.4444444444444444,
              "#bd3786"
             ],
             [
              0.5555555555555556,
              "#d8576b"
             ],
             [
              0.6666666666666666,
              "#ed7953"
             ],
             [
              0.7777777777777778,
              "#fb9f3a"
             ],
             [
              0.8888888888888888,
              "#fdca26"
             ],
             [
              1,
              "#f0f921"
             ]
            ],
            "type": "heatmap"
           }
          ],
          "heatmapgl": [
           {
            "colorbar": {
             "outlinewidth": 0,
             "ticks": ""
            },
            "colorscale": [
             [
              0,
              "#0d0887"
             ],
             [
              0.1111111111111111,
              "#46039f"
             ],
             [
              0.2222222222222222,
              "#7201a8"
             ],
             [
              0.3333333333333333,
              "#9c179e"
             ],
             [
              0.4444444444444444,
              "#bd3786"
             ],
             [
              0.5555555555555556,
              "#d8576b"
             ],
             [
              0.6666666666666666,
              "#ed7953"
             ],
             [
              0.7777777777777778,
              "#fb9f3a"
             ],
             [
              0.8888888888888888,
              "#fdca26"
             ],
             [
              1,
              "#f0f921"
             ]
            ],
            "type": "heatmapgl"
           }
          ],
          "histogram": [
           {
            "marker": {
             "pattern": {
              "fillmode": "overlay",
              "size": 10,
              "solidity": 0.2
             }
            },
            "type": "histogram"
           }
          ],
          "histogram2d": [
           {
            "colorbar": {
             "outlinewidth": 0,
             "ticks": ""
            },
            "colorscale": [
             [
              0,
              "#0d0887"
             ],
             [
              0.1111111111111111,
              "#46039f"
             ],
             [
              0.2222222222222222,
              "#7201a8"
             ],
             [
              0.3333333333333333,
              "#9c179e"
             ],
             [
              0.4444444444444444,
              "#bd3786"
             ],
             [
              0.5555555555555556,
              "#d8576b"
             ],
             [
              0.6666666666666666,
              "#ed7953"
             ],
             [
              0.7777777777777778,
              "#fb9f3a"
             ],
             [
              0.8888888888888888,
              "#fdca26"
             ],
             [
              1,
              "#f0f921"
             ]
            ],
            "type": "histogram2d"
           }
          ],
          "histogram2dcontour": [
           {
            "colorbar": {
             "outlinewidth": 0,
             "ticks": ""
            },
            "colorscale": [
             [
              0,
              "#0d0887"
             ],
             [
              0.1111111111111111,
              "#46039f"
             ],
             [
              0.2222222222222222,
              "#7201a8"
             ],
             [
              0.3333333333333333,
              "#9c179e"
             ],
             [
              0.4444444444444444,
              "#bd3786"
             ],
             [
              0.5555555555555556,
              "#d8576b"
             ],
             [
              0.6666666666666666,
              "#ed7953"
             ],
             [
              0.7777777777777778,
              "#fb9f3a"
             ],
             [
              0.8888888888888888,
              "#fdca26"
             ],
             [
              1,
              "#f0f921"
             ]
            ],
            "type": "histogram2dcontour"
           }
          ],
          "mesh3d": [
           {
            "colorbar": {
             "outlinewidth": 0,
             "ticks": ""
            },
            "type": "mesh3d"
           }
          ],
          "parcoords": [
           {
            "line": {
             "colorbar": {
              "outlinewidth": 0,
              "ticks": ""
             }
            },
            "type": "parcoords"
           }
          ],
          "pie": [
           {
            "automargin": true,
            "type": "pie"
           }
          ],
          "scatter": [
           {
            "fillpattern": {
             "fillmode": "overlay",
             "size": 10,
             "solidity": 0.2
            },
            "type": "scatter"
           }
          ],
          "scatter3d": [
           {
            "line": {
             "colorbar": {
              "outlinewidth": 0,
              "ticks": ""
             }
            },
            "marker": {
             "colorbar": {
              "outlinewidth": 0,
              "ticks": ""
             }
            },
            "type": "scatter3d"
           }
          ],
          "scattercarpet": [
           {
            "marker": {
             "colorbar": {
              "outlinewidth": 0,
              "ticks": ""
             }
            },
            "type": "scattercarpet"
           }
          ],
          "scattergeo": [
           {
            "marker": {
             "colorbar": {
              "outlinewidth": 0,
              "ticks": ""
             }
            },
            "type": "scattergeo"
           }
          ],
          "scattergl": [
           {
            "marker": {
             "colorbar": {
              "outlinewidth": 0,
              "ticks": ""
             }
            },
            "type": "scattergl"
           }
          ],
          "scattermapbox": [
           {
            "marker": {
             "colorbar": {
              "outlinewidth": 0,
              "ticks": ""
             }
            },
            "type": "scattermapbox"
           }
          ],
          "scatterpolar": [
           {
            "marker": {
             "colorbar": {
              "outlinewidth": 0,
              "ticks": ""
             }
            },
            "type": "scatterpolar"
           }
          ],
          "scatterpolargl": [
           {
            "marker": {
             "colorbar": {
              "outlinewidth": 0,
              "ticks": ""
             }
            },
            "type": "scatterpolargl"
           }
          ],
          "scatterternary": [
           {
            "marker": {
             "colorbar": {
              "outlinewidth": 0,
              "ticks": ""
             }
            },
            "type": "scatterternary"
           }
          ],
          "surface": [
           {
            "colorbar": {
             "outlinewidth": 0,
             "ticks": ""
            },
            "colorscale": [
             [
              0,
              "#0d0887"
             ],
             [
              0.1111111111111111,
              "#46039f"
             ],
             [
              0.2222222222222222,
              "#7201a8"
             ],
             [
              0.3333333333333333,
              "#9c179e"
             ],
             [
              0.4444444444444444,
              "#bd3786"
             ],
             [
              0.5555555555555556,
              "#d8576b"
             ],
             [
              0.6666666666666666,
              "#ed7953"
             ],
             [
              0.7777777777777778,
              "#fb9f3a"
             ],
             [
              0.8888888888888888,
              "#fdca26"
             ],
             [
              1,
              "#f0f921"
             ]
            ],
            "type": "surface"
           }
          ],
          "table": [
           {
            "cells": {
             "fill": {
              "color": "#EBF0F8"
             },
             "line": {
              "color": "white"
             }
            },
            "header": {
             "fill": {
              "color": "#C8D4E3"
             },
             "line": {
              "color": "white"
             }
            },
            "type": "table"
           }
          ]
         },
         "layout": {
          "annotationdefaults": {
           "arrowcolor": "#2a3f5f",
           "arrowhead": 0,
           "arrowwidth": 1
          },
          "autotypenumbers": "strict",
          "coloraxis": {
           "colorbar": {
            "outlinewidth": 0,
            "ticks": ""
           }
          },
          "colorscale": {
           "diverging": [
            [
             0,
             "#8e0152"
            ],
            [
             0.1,
             "#c51b7d"
            ],
            [
             0.2,
             "#de77ae"
            ],
            [
             0.3,
             "#f1b6da"
            ],
            [
             0.4,
             "#fde0ef"
            ],
            [
             0.5,
             "#f7f7f7"
            ],
            [
             0.6,
             "#e6f5d0"
            ],
            [
             0.7,
             "#b8e186"
            ],
            [
             0.8,
             "#7fbc41"
            ],
            [
             0.9,
             "#4d9221"
            ],
            [
             1,
             "#276419"
            ]
           ],
           "sequential": [
            [
             0,
             "#0d0887"
            ],
            [
             0.1111111111111111,
             "#46039f"
            ],
            [
             0.2222222222222222,
             "#7201a8"
            ],
            [
             0.3333333333333333,
             "#9c179e"
            ],
            [
             0.4444444444444444,
             "#bd3786"
            ],
            [
             0.5555555555555556,
             "#d8576b"
            ],
            [
             0.6666666666666666,
             "#ed7953"
            ],
            [
             0.7777777777777778,
             "#fb9f3a"
            ],
            [
             0.8888888888888888,
             "#fdca26"
            ],
            [
             1,
             "#f0f921"
            ]
           ],
           "sequentialminus": [
            [
             0,
             "#0d0887"
            ],
            [
             0.1111111111111111,
             "#46039f"
            ],
            [
             0.2222222222222222,
             "#7201a8"
            ],
            [
             0.3333333333333333,
             "#9c179e"
            ],
            [
             0.4444444444444444,
             "#bd3786"
            ],
            [
             0.5555555555555556,
             "#d8576b"
            ],
            [
             0.6666666666666666,
             "#ed7953"
            ],
            [
             0.7777777777777778,
             "#fb9f3a"
            ],
            [
             0.8888888888888888,
             "#fdca26"
            ],
            [
             1,
             "#f0f921"
            ]
           ]
          },
          "colorway": [
           "#636efa",
           "#EF553B",
           "#00cc96",
           "#ab63fa",
           "#FFA15A",
           "#19d3f3",
           "#FF6692",
           "#B6E880",
           "#FF97FF",
           "#FECB52"
          ],
          "font": {
           "color": "#2a3f5f"
          },
          "geo": {
           "bgcolor": "white",
           "lakecolor": "white",
           "landcolor": "#E5ECF6",
           "showlakes": true,
           "showland": true,
           "subunitcolor": "white"
          },
          "hoverlabel": {
           "align": "left"
          },
          "hovermode": "closest",
          "mapbox": {
           "style": "light"
          },
          "paper_bgcolor": "white",
          "plot_bgcolor": "#E5ECF6",
          "polar": {
           "angularaxis": {
            "gridcolor": "white",
            "linecolor": "white",
            "ticks": ""
           },
           "bgcolor": "#E5ECF6",
           "radialaxis": {
            "gridcolor": "white",
            "linecolor": "white",
            "ticks": ""
           }
          },
          "scene": {
           "xaxis": {
            "backgroundcolor": "#E5ECF6",
            "gridcolor": "white",
            "gridwidth": 2,
            "linecolor": "white",
            "showbackground": true,
            "ticks": "",
            "zerolinecolor": "white"
           },
           "yaxis": {
            "backgroundcolor": "#E5ECF6",
            "gridcolor": "white",
            "gridwidth": 2,
            "linecolor": "white",
            "showbackground": true,
            "ticks": "",
            "zerolinecolor": "white"
           },
           "zaxis": {
            "backgroundcolor": "#E5ECF6",
            "gridcolor": "white",
            "gridwidth": 2,
            "linecolor": "white",
            "showbackground": true,
            "ticks": "",
            "zerolinecolor": "white"
           }
          },
          "shapedefaults": {
           "line": {
            "color": "#2a3f5f"
           }
          },
          "ternary": {
           "aaxis": {
            "gridcolor": "white",
            "linecolor": "white",
            "ticks": ""
           },
           "baxis": {
            "gridcolor": "white",
            "linecolor": "white",
            "ticks": ""
           },
           "bgcolor": "#E5ECF6",
           "caxis": {
            "gridcolor": "white",
            "linecolor": "white",
            "ticks": ""
           }
          },
          "title": {
           "x": 0.05
          },
          "xaxis": {
           "automargin": true,
           "gridcolor": "white",
           "linecolor": "white",
           "ticks": "",
           "title": {
            "standoff": 15
           },
           "zerolinecolor": "white",
           "zerolinewidth": 2
          },
          "yaxis": {
           "automargin": true,
           "gridcolor": "white",
           "linecolor": "white",
           "ticks": "",
           "title": {
            "standoff": 15
           },
           "zerolinecolor": "white",
           "zerolinewidth": 2
          }
         }
        },
        "title": {
         "text": "Cas des adjectifs accordés à seruus entre 1000 et 1099"
        }
       }
      },
      "text/html": [
       "<div>                            <div id=\"f7fb77a8-501b-4a69-9aee-7b485c0f50be\" class=\"plotly-graph-div\" style=\"height:525px; width:100%;\"></div>            <script type=\"text/javascript\">                require([\"plotly\"], function(Plotly) {                    window.PLOTLYENV=window.PLOTLYENV || {};                                    if (document.getElementById(\"f7fb77a8-501b-4a69-9aee-7b485c0f50be\")) {                    Plotly.newPlot(                        \"f7fb77a8-501b-4a69-9aee-7b485c0f50be\",                        [{\"labels\":[\"acc_pl\",\"acc_sg\",\"gen_pl\",\"nom_sg\"],\"name\":\"1000-1049\",\"values\":[126,31,52,83],\"type\":\"pie\",\"domain\":{\"x\":[0.0,0.45],\"y\":[0.0,1.0]},\"hole\":0.4},{\"labels\":[\"acc_pl\",\"acc_sg\",\"gen_pl\",\"nom_sg\"],\"name\":\"1050-1099\",\"values\":[88,60,90,117],\"type\":\"pie\",\"domain\":{\"x\":[0.55,1.0],\"y\":[0.0,1.0]},\"hole\":0.4}],                        {\"template\":{\"data\":{\"histogram2dcontour\":[{\"type\":\"histogram2dcontour\",\"colorbar\":{\"outlinewidth\":0,\"ticks\":\"\"},\"colorscale\":[[0.0,\"#0d0887\"],[0.1111111111111111,\"#46039f\"],[0.2222222222222222,\"#7201a8\"],[0.3333333333333333,\"#9c179e\"],[0.4444444444444444,\"#bd3786\"],[0.5555555555555556,\"#d8576b\"],[0.6666666666666666,\"#ed7953\"],[0.7777777777777778,\"#fb9f3a\"],[0.8888888888888888,\"#fdca26\"],[1.0,\"#f0f921\"]]}],\"choropleth\":[{\"type\":\"choropleth\",\"colorbar\":{\"outlinewidth\":0,\"ticks\":\"\"}}],\"histogram2d\":[{\"type\":\"histogram2d\",\"colorbar\":{\"outlinewidth\":0,\"ticks\":\"\"},\"colorscale\":[[0.0,\"#0d0887\"],[0.1111111111111111,\"#46039f\"],[0.2222222222222222,\"#7201a8\"],[0.3333333333333333,\"#9c179e\"],[0.4444444444444444,\"#bd3786\"],[0.5555555555555556,\"#d8576b\"],[0.6666666666666666,\"#ed7953\"],[0.7777777777777778,\"#fb9f3a\"],[0.8888888888888888,\"#fdca26\"],[1.0,\"#f0f921\"]]}],\"heatmap\":[{\"type\":\"heatmap\",\"colorbar\":{\"outlinewidth\":0,\"ticks\":\"\"},\"colorscale\":[[0.0,\"#0d0887\"],[0.1111111111111111,\"#46039f\"],[0.2222222222222222,\"#7201a8\"],[0.3333333333333333,\"#9c179e\"],[0.4444444444444444,\"#bd3786\"],[0.5555555555555556,\"#d8576b\"],[0.6666666666666666,\"#ed7953\"],[0.7777777777777778,\"#fb9f3a\"],[0.8888888888888888,\"#fdca26\"],[1.0,\"#f0f921\"]]}],\"heatmapgl\":[{\"type\":\"heatmapgl\",\"colorbar\":{\"outlinewidth\":0,\"ticks\":\"\"},\"colorscale\":[[0.0,\"#0d0887\"],[0.1111111111111111,\"#46039f\"],[0.2222222222222222,\"#7201a8\"],[0.3333333333333333,\"#9c179e\"],[0.4444444444444444,\"#bd3786\"],[0.5555555555555556,\"#d8576b\"],[0.6666666666666666,\"#ed7953\"],[0.7777777777777778,\"#fb9f3a\"],[0.8888888888888888,\"#fdca26\"],[1.0,\"#f0f921\"]]}],\"contourcarpet\":[{\"type\":\"contourcarpet\",\"colorbar\":{\"outlinewidth\":0,\"ticks\":\"\"}}],\"contour\":[{\"type\":\"contour\",\"colorbar\":{\"outlinewidth\":0,\"ticks\":\"\"},\"colorscale\":[[0.0,\"#0d0887\"],[0.1111111111111111,\"#46039f\"],[0.2222222222222222,\"#7201a8\"],[0.3333333333333333,\"#9c179e\"],[0.4444444444444444,\"#bd3786\"],[0.5555555555555556,\"#d8576b\"],[0.6666666666666666,\"#ed7953\"],[0.7777777777777778,\"#fb9f3a\"],[0.8888888888888888,\"#fdca26\"],[1.0,\"#f0f921\"]]}],\"surface\":[{\"type\":\"surface\",\"colorbar\":{\"outlinewidth\":0,\"ticks\":\"\"},\"colorscale\":[[0.0,\"#0d0887\"],[0.1111111111111111,\"#46039f\"],[0.2222222222222222,\"#7201a8\"],[0.3333333333333333,\"#9c179e\"],[0.4444444444444444,\"#bd3786\"],[0.5555555555555556,\"#d8576b\"],[0.6666666666666666,\"#ed7953\"],[0.7777777777777778,\"#fb9f3a\"],[0.8888888888888888,\"#fdca26\"],[1.0,\"#f0f921\"]]}],\"mesh3d\":[{\"type\":\"mesh3d\",\"colorbar\":{\"outlinewidth\":0,\"ticks\":\"\"}}],\"scatter\":[{\"fillpattern\":{\"fillmode\":\"overlay\",\"size\":10,\"solidity\":0.2},\"type\":\"scatter\"}],\"parcoords\":[{\"type\":\"parcoords\",\"line\":{\"colorbar\":{\"outlinewidth\":0,\"ticks\":\"\"}}}],\"scatterpolargl\":[{\"type\":\"scatterpolargl\",\"marker\":{\"colorbar\":{\"outlinewidth\":0,\"ticks\":\"\"}}}],\"bar\":[{\"error_x\":{\"color\":\"#2a3f5f\"},\"error_y\":{\"color\":\"#2a3f5f\"},\"marker\":{\"line\":{\"color\":\"#E5ECF6\",\"width\":0.5},\"pattern\":{\"fillmode\":\"overlay\",\"size\":10,\"solidity\":0.2}},\"type\":\"bar\"}],\"scattergeo\":[{\"type\":\"scattergeo\",\"marker\":{\"colorbar\":{\"outlinewidth\":0,\"ticks\":\"\"}}}],\"scatterpolar\":[{\"type\":\"scatterpolar\",\"marker\":{\"colorbar\":{\"outlinewidth\":0,\"ticks\":\"\"}}}],\"histogram\":[{\"marker\":{\"pattern\":{\"fillmode\":\"overlay\",\"size\":10,\"solidity\":0.2}},\"type\":\"histogram\"}],\"scattergl\":[{\"type\":\"scattergl\",\"marker\":{\"colorbar\":{\"outlinewidth\":0,\"ticks\":\"\"}}}],\"scatter3d\":[{\"type\":\"scatter3d\",\"line\":{\"colorbar\":{\"outlinewidth\":0,\"ticks\":\"\"}},\"marker\":{\"colorbar\":{\"outlinewidth\":0,\"ticks\":\"\"}}}],\"scattermapbox\":[{\"type\":\"scattermapbox\",\"marker\":{\"colorbar\":{\"outlinewidth\":0,\"ticks\":\"\"}}}],\"scatterternary\":[{\"type\":\"scatterternary\",\"marker\":{\"colorbar\":{\"outlinewidth\":0,\"ticks\":\"\"}}}],\"scattercarpet\":[{\"type\":\"scattercarpet\",\"marker\":{\"colorbar\":{\"outlinewidth\":0,\"ticks\":\"\"}}}],\"carpet\":[{\"aaxis\":{\"endlinecolor\":\"#2a3f5f\",\"gridcolor\":\"white\",\"linecolor\":\"white\",\"minorgridcolor\":\"white\",\"startlinecolor\":\"#2a3f5f\"},\"baxis\":{\"endlinecolor\":\"#2a3f5f\",\"gridcolor\":\"white\",\"linecolor\":\"white\",\"minorgridcolor\":\"white\",\"startlinecolor\":\"#2a3f5f\"},\"type\":\"carpet\"}],\"table\":[{\"cells\":{\"fill\":{\"color\":\"#EBF0F8\"},\"line\":{\"color\":\"white\"}},\"header\":{\"fill\":{\"color\":\"#C8D4E3\"},\"line\":{\"color\":\"white\"}},\"type\":\"table\"}],\"barpolar\":[{\"marker\":{\"line\":{\"color\":\"#E5ECF6\",\"width\":0.5},\"pattern\":{\"fillmode\":\"overlay\",\"size\":10,\"solidity\":0.2}},\"type\":\"barpolar\"}],\"pie\":[{\"automargin\":true,\"type\":\"pie\"}]},\"layout\":{\"autotypenumbers\":\"strict\",\"colorway\":[\"#636efa\",\"#EF553B\",\"#00cc96\",\"#ab63fa\",\"#FFA15A\",\"#19d3f3\",\"#FF6692\",\"#B6E880\",\"#FF97FF\",\"#FECB52\"],\"font\":{\"color\":\"#2a3f5f\"},\"hovermode\":\"closest\",\"hoverlabel\":{\"align\":\"left\"},\"paper_bgcolor\":\"white\",\"plot_bgcolor\":\"#E5ECF6\",\"polar\":{\"bgcolor\":\"#E5ECF6\",\"angularaxis\":{\"gridcolor\":\"white\",\"linecolor\":\"white\",\"ticks\":\"\"},\"radialaxis\":{\"gridcolor\":\"white\",\"linecolor\":\"white\",\"ticks\":\"\"}},\"ternary\":{\"bgcolor\":\"#E5ECF6\",\"aaxis\":{\"gridcolor\":\"white\",\"linecolor\":\"white\",\"ticks\":\"\"},\"baxis\":{\"gridcolor\":\"white\",\"linecolor\":\"white\",\"ticks\":\"\"},\"caxis\":{\"gridcolor\":\"white\",\"linecolor\":\"white\",\"ticks\":\"\"}},\"coloraxis\":{\"colorbar\":{\"outlinewidth\":0,\"ticks\":\"\"}},\"colorscale\":{\"sequential\":[[0.0,\"#0d0887\"],[0.1111111111111111,\"#46039f\"],[0.2222222222222222,\"#7201a8\"],[0.3333333333333333,\"#9c179e\"],[0.4444444444444444,\"#bd3786\"],[0.5555555555555556,\"#d8576b\"],[0.6666666666666666,\"#ed7953\"],[0.7777777777777778,\"#fb9f3a\"],[0.8888888888888888,\"#fdca26\"],[1.0,\"#f0f921\"]],\"sequentialminus\":[[0.0,\"#0d0887\"],[0.1111111111111111,\"#46039f\"],[0.2222222222222222,\"#7201a8\"],[0.3333333333333333,\"#9c179e\"],[0.4444444444444444,\"#bd3786\"],[0.5555555555555556,\"#d8576b\"],[0.6666666666666666,\"#ed7953\"],[0.7777777777777778,\"#fb9f3a\"],[0.8888888888888888,\"#fdca26\"],[1.0,\"#f0f921\"]],\"diverging\":[[0,\"#8e0152\"],[0.1,\"#c51b7d\"],[0.2,\"#de77ae\"],[0.3,\"#f1b6da\"],[0.4,\"#fde0ef\"],[0.5,\"#f7f7f7\"],[0.6,\"#e6f5d0\"],[0.7,\"#b8e186\"],[0.8,\"#7fbc41\"],[0.9,\"#4d9221\"],[1,\"#276419\"]]},\"xaxis\":{\"gridcolor\":\"white\",\"linecolor\":\"white\",\"ticks\":\"\",\"title\":{\"standoff\":15},\"zerolinecolor\":\"white\",\"automargin\":true,\"zerolinewidth\":2},\"yaxis\":{\"gridcolor\":\"white\",\"linecolor\":\"white\",\"ticks\":\"\",\"title\":{\"standoff\":15},\"zerolinecolor\":\"white\",\"automargin\":true,\"zerolinewidth\":2},\"scene\":{\"xaxis\":{\"backgroundcolor\":\"#E5ECF6\",\"gridcolor\":\"white\",\"linecolor\":\"white\",\"showbackground\":true,\"ticks\":\"\",\"zerolinecolor\":\"white\",\"gridwidth\":2},\"yaxis\":{\"backgroundcolor\":\"#E5ECF6\",\"gridcolor\":\"white\",\"linecolor\":\"white\",\"showbackground\":true,\"ticks\":\"\",\"zerolinecolor\":\"white\",\"gridwidth\":2},\"zaxis\":{\"backgroundcolor\":\"#E5ECF6\",\"gridcolor\":\"white\",\"linecolor\":\"white\",\"showbackground\":true,\"ticks\":\"\",\"zerolinecolor\":\"white\",\"gridwidth\":2}},\"shapedefaults\":{\"line\":{\"color\":\"#2a3f5f\"}},\"annotationdefaults\":{\"arrowcolor\":\"#2a3f5f\",\"arrowhead\":0,\"arrowwidth\":1},\"geo\":{\"bgcolor\":\"white\",\"landcolor\":\"#E5ECF6\",\"subunitcolor\":\"white\",\"showland\":true,\"showlakes\":true,\"lakecolor\":\"white\"},\"title\":{\"x\":0.05},\"mapbox\":{\"style\":\"light\"}}},\"title\":{\"text\":\"Cas des adjectifs accord\\u00e9s \\u00e0 seruus entre 1000 et 1099\"},\"annotations\":[{\"showarrow\":false,\"text\":\"1000-1049\",\"x\":0.17,\"y\":0.5,\"font\":{\"size\":15}},{\"showarrow\":false,\"text\":\"1050-1099\",\"x\":0.835,\"y\":0.5,\"font\":{\"size\":15}}]},                        {\"responsive\": true}                    ).then(function(){\n",
       "                            \n",
       "var gd = document.getElementById('f7fb77a8-501b-4a69-9aee-7b485c0f50be');\n",
       "var x = new MutationObserver(function (mutations, observer) {{\n",
       "        var display = window.getComputedStyle(gd).display;\n",
       "        if (!display || display === 'none') {{\n",
       "            console.log([gd, 'removed!']);\n",
       "            Plotly.purge(gd);\n",
       "            observer.disconnect();\n",
       "        }}\n",
       "}});\n",
       "\n",
       "// Listen for the removal of the full notebook cells\n",
       "var notebookContainer = gd.closest('#notebook-container');\n",
       "if (notebookContainer) {{\n",
       "    x.observe(notebookContainer, {childList: true});\n",
       "}}\n",
       "\n",
       "// Listen for the clearing of the current output cell\n",
       "var outputEl = gd.closest('.output');\n",
       "if (outputEl) {{\n",
       "    x.observe(outputEl, {childList: true});\n",
       "}}\n",
       "\n",
       "                        })                };                });            </script>        </div>"
      ]
     },
     "metadata": {},
     "output_type": "display_data"
    }
   ],
   "source": [
    "import plotly.graph_objects as go\n",
    "from plotly.subplots import make_subplots\n",
    "\n",
    "#labels=df_final_cas_800['Cas'].tolist()\n",
    "\n",
    "fig = make_subplots(rows=1, cols=2, specs=[[{'type':'domain'}, {'type':'domain'}]])\n",
    "fig.add_trace(go.Pie(labels=df_final_cas_1000[\"Cas\"], values=df_final_cas_1000[\"Occ\"], name=\"1000-1049\"),\n",
    "              1, 1)\n",
    "fig.add_trace(go.Pie(labels=df_final_cas_1050['Cas'], values=df_final_cas_1050['Occ'], name=\"1050-1099\"),\n",
    "              1, 2)\n",
    "\n",
    "\n",
    "\n",
    "\n",
    "fig.update_traces(hole=.4)\n",
    "\n",
    "fig.update_layout(\n",
    "    title_text=\"Cas des adjectifs accordés à seruus entre 1000 et 1099\",\n",
    "    annotations=[dict(text='1000-1049', x=0.17, y=0.5, font_size=15, showarrow=False),\n",
    "                 dict(text='1050-1099', x=0.835, y=0.5, font_size=15, showarrow=False)])\n",
    "    \n",
    "fig.show()\n",
    "\n"
   ]
  },
  {
   "cell_type": "code",
   "execution_count": 199,
   "id": "d766ca20",
   "metadata": {},
   "outputs": [
    {
     "data": {
      "application/vnd.plotly.v1+json": {
       "config": {
        "plotlyServerURL": "https://plot.ly"
       },
       "data": [
        {
         "domain": {
          "x": [
           0,
           0.45
          ],
          "y": [
           0,
           1
          ]
         },
         "hole": 0.4,
         "labels": [
          "acc_pl",
          "acc_sg",
          "gen_pl",
          "nom_sg"
         ],
         "name": "800-849",
         "type": "pie",
         "values": [
          149,
          12,
          43,
          20
         ]
        },
        {
         "domain": {
          "x": [
           0.55,
           1
          ],
          "y": [
           0,
           1
          ]
         },
         "hole": 0.4,
         "labels": [
          "acc_pl",
          "acc_sg",
          "gen_pl",
          "nom_sg"
         ],
         "name": "850-899",
         "type": "pie",
         "values": [
          215,
          11,
          91,
          32
         ]
        }
       ],
       "layout": {
        "annotations": [
         {
          "font": {
           "size": 20
          },
          "showarrow": false,
          "text": "800-849",
          "x": 0.17,
          "y": 0.5
         },
         {
          "font": {
           "size": 20
          },
          "showarrow": false,
          "text": "850-899",
          "x": 0.835,
          "y": 0.5
         }
        ],
        "template": {
         "data": {
          "bar": [
           {
            "error_x": {
             "color": "#2a3f5f"
            },
            "error_y": {
             "color": "#2a3f5f"
            },
            "marker": {
             "line": {
              "color": "#E5ECF6",
              "width": 0.5
             },
             "pattern": {
              "fillmode": "overlay",
              "size": 10,
              "solidity": 0.2
             }
            },
            "type": "bar"
           }
          ],
          "barpolar": [
           {
            "marker": {
             "line": {
              "color": "#E5ECF6",
              "width": 0.5
             },
             "pattern": {
              "fillmode": "overlay",
              "size": 10,
              "solidity": 0.2
             }
            },
            "type": "barpolar"
           }
          ],
          "carpet": [
           {
            "aaxis": {
             "endlinecolor": "#2a3f5f",
             "gridcolor": "white",
             "linecolor": "white",
             "minorgridcolor": "white",
             "startlinecolor": "#2a3f5f"
            },
            "baxis": {
             "endlinecolor": "#2a3f5f",
             "gridcolor": "white",
             "linecolor": "white",
             "minorgridcolor": "white",
             "startlinecolor": "#2a3f5f"
            },
            "type": "carpet"
           }
          ],
          "choropleth": [
           {
            "colorbar": {
             "outlinewidth": 0,
             "ticks": ""
            },
            "type": "choropleth"
           }
          ],
          "contour": [
           {
            "colorbar": {
             "outlinewidth": 0,
             "ticks": ""
            },
            "colorscale": [
             [
              0,
              "#0d0887"
             ],
             [
              0.1111111111111111,
              "#46039f"
             ],
             [
              0.2222222222222222,
              "#7201a8"
             ],
             [
              0.3333333333333333,
              "#9c179e"
             ],
             [
              0.4444444444444444,
              "#bd3786"
             ],
             [
              0.5555555555555556,
              "#d8576b"
             ],
             [
              0.6666666666666666,
              "#ed7953"
             ],
             [
              0.7777777777777778,
              "#fb9f3a"
             ],
             [
              0.8888888888888888,
              "#fdca26"
             ],
             [
              1,
              "#f0f921"
             ]
            ],
            "type": "contour"
           }
          ],
          "contourcarpet": [
           {
            "colorbar": {
             "outlinewidth": 0,
             "ticks": ""
            },
            "type": "contourcarpet"
           }
          ],
          "heatmap": [
           {
            "colorbar": {
             "outlinewidth": 0,
             "ticks": ""
            },
            "colorscale": [
             [
              0,
              "#0d0887"
             ],
             [
              0.1111111111111111,
              "#46039f"
             ],
             [
              0.2222222222222222,
              "#7201a8"
             ],
             [
              0.3333333333333333,
              "#9c179e"
             ],
             [
              0.4444444444444444,
              "#bd3786"
             ],
             [
              0.5555555555555556,
              "#d8576b"
             ],
             [
              0.6666666666666666,
              "#ed7953"
             ],
             [
              0.7777777777777778,
              "#fb9f3a"
             ],
             [
              0.8888888888888888,
              "#fdca26"
             ],
             [
              1,
              "#f0f921"
             ]
            ],
            "type": "heatmap"
           }
          ],
          "heatmapgl": [
           {
            "colorbar": {
             "outlinewidth": 0,
             "ticks": ""
            },
            "colorscale": [
             [
              0,
              "#0d0887"
             ],
             [
              0.1111111111111111,
              "#46039f"
             ],
             [
              0.2222222222222222,
              "#7201a8"
             ],
             [
              0.3333333333333333,
              "#9c179e"
             ],
             [
              0.4444444444444444,
              "#bd3786"
             ],
             [
              0.5555555555555556,
              "#d8576b"
             ],
             [
              0.6666666666666666,
              "#ed7953"
             ],
             [
              0.7777777777777778,
              "#fb9f3a"
             ],
             [
              0.8888888888888888,
              "#fdca26"
             ],
             [
              1,
              "#f0f921"
             ]
            ],
            "type": "heatmapgl"
           }
          ],
          "histogram": [
           {
            "marker": {
             "pattern": {
              "fillmode": "overlay",
              "size": 10,
              "solidity": 0.2
             }
            },
            "type": "histogram"
           }
          ],
          "histogram2d": [
           {
            "colorbar": {
             "outlinewidth": 0,
             "ticks": ""
            },
            "colorscale": [
             [
              0,
              "#0d0887"
             ],
             [
              0.1111111111111111,
              "#46039f"
             ],
             [
              0.2222222222222222,
              "#7201a8"
             ],
             [
              0.3333333333333333,
              "#9c179e"
             ],
             [
              0.4444444444444444,
              "#bd3786"
             ],
             [
              0.5555555555555556,
              "#d8576b"
             ],
             [
              0.6666666666666666,
              "#ed7953"
             ],
             [
              0.7777777777777778,
              "#fb9f3a"
             ],
             [
              0.8888888888888888,
              "#fdca26"
             ],
             [
              1,
              "#f0f921"
             ]
            ],
            "type": "histogram2d"
           }
          ],
          "histogram2dcontour": [
           {
            "colorbar": {
             "outlinewidth": 0,
             "ticks": ""
            },
            "colorscale": [
             [
              0,
              "#0d0887"
             ],
             [
              0.1111111111111111,
              "#46039f"
             ],
             [
              0.2222222222222222,
              "#7201a8"
             ],
             [
              0.3333333333333333,
              "#9c179e"
             ],
             [
              0.4444444444444444,
              "#bd3786"
             ],
             [
              0.5555555555555556,
              "#d8576b"
             ],
             [
              0.6666666666666666,
              "#ed7953"
             ],
             [
              0.7777777777777778,
              "#fb9f3a"
             ],
             [
              0.8888888888888888,
              "#fdca26"
             ],
             [
              1,
              "#f0f921"
             ]
            ],
            "type": "histogram2dcontour"
           }
          ],
          "mesh3d": [
           {
            "colorbar": {
             "outlinewidth": 0,
             "ticks": ""
            },
            "type": "mesh3d"
           }
          ],
          "parcoords": [
           {
            "line": {
             "colorbar": {
              "outlinewidth": 0,
              "ticks": ""
             }
            },
            "type": "parcoords"
           }
          ],
          "pie": [
           {
            "automargin": true,
            "type": "pie"
           }
          ],
          "scatter": [
           {
            "fillpattern": {
             "fillmode": "overlay",
             "size": 10,
             "solidity": 0.2
            },
            "type": "scatter"
           }
          ],
          "scatter3d": [
           {
            "line": {
             "colorbar": {
              "outlinewidth": 0,
              "ticks": ""
             }
            },
            "marker": {
             "colorbar": {
              "outlinewidth": 0,
              "ticks": ""
             }
            },
            "type": "scatter3d"
           }
          ],
          "scattercarpet": [
           {
            "marker": {
             "colorbar": {
              "outlinewidth": 0,
              "ticks": ""
             }
            },
            "type": "scattercarpet"
           }
          ],
          "scattergeo": [
           {
            "marker": {
             "colorbar": {
              "outlinewidth": 0,
              "ticks": ""
             }
            },
            "type": "scattergeo"
           }
          ],
          "scattergl": [
           {
            "marker": {
             "colorbar": {
              "outlinewidth": 0,
              "ticks": ""
             }
            },
            "type": "scattergl"
           }
          ],
          "scattermapbox": [
           {
            "marker": {
             "colorbar": {
              "outlinewidth": 0,
              "ticks": ""
             }
            },
            "type": "scattermapbox"
           }
          ],
          "scatterpolar": [
           {
            "marker": {
             "colorbar": {
              "outlinewidth": 0,
              "ticks": ""
             }
            },
            "type": "scatterpolar"
           }
          ],
          "scatterpolargl": [
           {
            "marker": {
             "colorbar": {
              "outlinewidth": 0,
              "ticks": ""
             }
            },
            "type": "scatterpolargl"
           }
          ],
          "scatterternary": [
           {
            "marker": {
             "colorbar": {
              "outlinewidth": 0,
              "ticks": ""
             }
            },
            "type": "scatterternary"
           }
          ],
          "surface": [
           {
            "colorbar": {
             "outlinewidth": 0,
             "ticks": ""
            },
            "colorscale": [
             [
              0,
              "#0d0887"
             ],
             [
              0.1111111111111111,
              "#46039f"
             ],
             [
              0.2222222222222222,
              "#7201a8"
             ],
             [
              0.3333333333333333,
              "#9c179e"
             ],
             [
              0.4444444444444444,
              "#bd3786"
             ],
             [
              0.5555555555555556,
              "#d8576b"
             ],
             [
              0.6666666666666666,
              "#ed7953"
             ],
             [
              0.7777777777777778,
              "#fb9f3a"
             ],
             [
              0.8888888888888888,
              "#fdca26"
             ],
             [
              1,
              "#f0f921"
             ]
            ],
            "type": "surface"
           }
          ],
          "table": [
           {
            "cells": {
             "fill": {
              "color": "#EBF0F8"
             },
             "line": {
              "color": "white"
             }
            },
            "header": {
             "fill": {
              "color": "#C8D4E3"
             },
             "line": {
              "color": "white"
             }
            },
            "type": "table"
           }
          ]
         },
         "layout": {
          "annotationdefaults": {
           "arrowcolor": "#2a3f5f",
           "arrowhead": 0,
           "arrowwidth": 1
          },
          "autotypenumbers": "strict",
          "coloraxis": {
           "colorbar": {
            "outlinewidth": 0,
            "ticks": ""
           }
          },
          "colorscale": {
           "diverging": [
            [
             0,
             "#8e0152"
            ],
            [
             0.1,
             "#c51b7d"
            ],
            [
             0.2,
             "#de77ae"
            ],
            [
             0.3,
             "#f1b6da"
            ],
            [
             0.4,
             "#fde0ef"
            ],
            [
             0.5,
             "#f7f7f7"
            ],
            [
             0.6,
             "#e6f5d0"
            ],
            [
             0.7,
             "#b8e186"
            ],
            [
             0.8,
             "#7fbc41"
            ],
            [
             0.9,
             "#4d9221"
            ],
            [
             1,
             "#276419"
            ]
           ],
           "sequential": [
            [
             0,
             "#0d0887"
            ],
            [
             0.1111111111111111,
             "#46039f"
            ],
            [
             0.2222222222222222,
             "#7201a8"
            ],
            [
             0.3333333333333333,
             "#9c179e"
            ],
            [
             0.4444444444444444,
             "#bd3786"
            ],
            [
             0.5555555555555556,
             "#d8576b"
            ],
            [
             0.6666666666666666,
             "#ed7953"
            ],
            [
             0.7777777777777778,
             "#fb9f3a"
            ],
            [
             0.8888888888888888,
             "#fdca26"
            ],
            [
             1,
             "#f0f921"
            ]
           ],
           "sequentialminus": [
            [
             0,
             "#0d0887"
            ],
            [
             0.1111111111111111,
             "#46039f"
            ],
            [
             0.2222222222222222,
             "#7201a8"
            ],
            [
             0.3333333333333333,
             "#9c179e"
            ],
            [
             0.4444444444444444,
             "#bd3786"
            ],
            [
             0.5555555555555556,
             "#d8576b"
            ],
            [
             0.6666666666666666,
             "#ed7953"
            ],
            [
             0.7777777777777778,
             "#fb9f3a"
            ],
            [
             0.8888888888888888,
             "#fdca26"
            ],
            [
             1,
             "#f0f921"
            ]
           ]
          },
          "colorway": [
           "#636efa",
           "#EF553B",
           "#00cc96",
           "#ab63fa",
           "#FFA15A",
           "#19d3f3",
           "#FF6692",
           "#B6E880",
           "#FF97FF",
           "#FECB52"
          ],
          "font": {
           "color": "#2a3f5f"
          },
          "geo": {
           "bgcolor": "white",
           "lakecolor": "white",
           "landcolor": "#E5ECF6",
           "showlakes": true,
           "showland": true,
           "subunitcolor": "white"
          },
          "hoverlabel": {
           "align": "left"
          },
          "hovermode": "closest",
          "mapbox": {
           "style": "light"
          },
          "paper_bgcolor": "white",
          "plot_bgcolor": "#E5ECF6",
          "polar": {
           "angularaxis": {
            "gridcolor": "white",
            "linecolor": "white",
            "ticks": ""
           },
           "bgcolor": "#E5ECF6",
           "radialaxis": {
            "gridcolor": "white",
            "linecolor": "white",
            "ticks": ""
           }
          },
          "scene": {
           "xaxis": {
            "backgroundcolor": "#E5ECF6",
            "gridcolor": "white",
            "gridwidth": 2,
            "linecolor": "white",
            "showbackground": true,
            "ticks": "",
            "zerolinecolor": "white"
           },
           "yaxis": {
            "backgroundcolor": "#E5ECF6",
            "gridcolor": "white",
            "gridwidth": 2,
            "linecolor": "white",
            "showbackground": true,
            "ticks": "",
            "zerolinecolor": "white"
           },
           "zaxis": {
            "backgroundcolor": "#E5ECF6",
            "gridcolor": "white",
            "gridwidth": 2,
            "linecolor": "white",
            "showbackground": true,
            "ticks": "",
            "zerolinecolor": "white"
           }
          },
          "shapedefaults": {
           "line": {
            "color": "#2a3f5f"
           }
          },
          "ternary": {
           "aaxis": {
            "gridcolor": "white",
            "linecolor": "white",
            "ticks": ""
           },
           "baxis": {
            "gridcolor": "white",
            "linecolor": "white",
            "ticks": ""
           },
           "bgcolor": "#E5ECF6",
           "caxis": {
            "gridcolor": "white",
            "linecolor": "white",
            "ticks": ""
           }
          },
          "title": {
           "x": 0.05
          },
          "xaxis": {
           "automargin": true,
           "gridcolor": "white",
           "linecolor": "white",
           "ticks": "",
           "title": {
            "standoff": 15
           },
           "zerolinecolor": "white",
           "zerolinewidth": 2
          },
          "yaxis": {
           "automargin": true,
           "gridcolor": "white",
           "linecolor": "white",
           "ticks": "",
           "title": {
            "standoff": 15
           },
           "zerolinecolor": "white",
           "zerolinewidth": 2
          }
         }
        },
        "title": {
         "text": "Cas des adjectifs accordés à seruus entre 800 et 899"
        }
       }
      },
      "text/html": [
       "<div>                            <div id=\"72e77452-2778-4ec6-853e-de3741cb10ec\" class=\"plotly-graph-div\" style=\"height:525px; width:100%;\"></div>            <script type=\"text/javascript\">                require([\"plotly\"], function(Plotly) {                    window.PLOTLYENV=window.PLOTLYENV || {};                                    if (document.getElementById(\"72e77452-2778-4ec6-853e-de3741cb10ec\")) {                    Plotly.newPlot(                        \"72e77452-2778-4ec6-853e-de3741cb10ec\",                        [{\"labels\":[\"acc_pl\",\"acc_sg\",\"gen_pl\",\"nom_sg\"],\"name\":\"800-849\",\"values\":[149,12,43,20],\"type\":\"pie\",\"domain\":{\"x\":[0.0,0.45],\"y\":[0.0,1.0]},\"hole\":0.4},{\"labels\":[\"acc_pl\",\"acc_sg\",\"gen_pl\",\"nom_sg\"],\"name\":\"850-899\",\"values\":[215,11,91,32],\"type\":\"pie\",\"domain\":{\"x\":[0.55,1.0],\"y\":[0.0,1.0]},\"hole\":0.4}],                        {\"template\":{\"data\":{\"histogram2dcontour\":[{\"type\":\"histogram2dcontour\",\"colorbar\":{\"outlinewidth\":0,\"ticks\":\"\"},\"colorscale\":[[0.0,\"#0d0887\"],[0.1111111111111111,\"#46039f\"],[0.2222222222222222,\"#7201a8\"],[0.3333333333333333,\"#9c179e\"],[0.4444444444444444,\"#bd3786\"],[0.5555555555555556,\"#d8576b\"],[0.6666666666666666,\"#ed7953\"],[0.7777777777777778,\"#fb9f3a\"],[0.8888888888888888,\"#fdca26\"],[1.0,\"#f0f921\"]]}],\"choropleth\":[{\"type\":\"choropleth\",\"colorbar\":{\"outlinewidth\":0,\"ticks\":\"\"}}],\"histogram2d\":[{\"type\":\"histogram2d\",\"colorbar\":{\"outlinewidth\":0,\"ticks\":\"\"},\"colorscale\":[[0.0,\"#0d0887\"],[0.1111111111111111,\"#46039f\"],[0.2222222222222222,\"#7201a8\"],[0.3333333333333333,\"#9c179e\"],[0.4444444444444444,\"#bd3786\"],[0.5555555555555556,\"#d8576b\"],[0.6666666666666666,\"#ed7953\"],[0.7777777777777778,\"#fb9f3a\"],[0.8888888888888888,\"#fdca26\"],[1.0,\"#f0f921\"]]}],\"heatmap\":[{\"type\":\"heatmap\",\"colorbar\":{\"outlinewidth\":0,\"ticks\":\"\"},\"colorscale\":[[0.0,\"#0d0887\"],[0.1111111111111111,\"#46039f\"],[0.2222222222222222,\"#7201a8\"],[0.3333333333333333,\"#9c179e\"],[0.4444444444444444,\"#bd3786\"],[0.5555555555555556,\"#d8576b\"],[0.6666666666666666,\"#ed7953\"],[0.7777777777777778,\"#fb9f3a\"],[0.8888888888888888,\"#fdca26\"],[1.0,\"#f0f921\"]]}],\"heatmapgl\":[{\"type\":\"heatmapgl\",\"colorbar\":{\"outlinewidth\":0,\"ticks\":\"\"},\"colorscale\":[[0.0,\"#0d0887\"],[0.1111111111111111,\"#46039f\"],[0.2222222222222222,\"#7201a8\"],[0.3333333333333333,\"#9c179e\"],[0.4444444444444444,\"#bd3786\"],[0.5555555555555556,\"#d8576b\"],[0.6666666666666666,\"#ed7953\"],[0.7777777777777778,\"#fb9f3a\"],[0.8888888888888888,\"#fdca26\"],[1.0,\"#f0f921\"]]}],\"contourcarpet\":[{\"type\":\"contourcarpet\",\"colorbar\":{\"outlinewidth\":0,\"ticks\":\"\"}}],\"contour\":[{\"type\":\"contour\",\"colorbar\":{\"outlinewidth\":0,\"ticks\":\"\"},\"colorscale\":[[0.0,\"#0d0887\"],[0.1111111111111111,\"#46039f\"],[0.2222222222222222,\"#7201a8\"],[0.3333333333333333,\"#9c179e\"],[0.4444444444444444,\"#bd3786\"],[0.5555555555555556,\"#d8576b\"],[0.6666666666666666,\"#ed7953\"],[0.7777777777777778,\"#fb9f3a\"],[0.8888888888888888,\"#fdca26\"],[1.0,\"#f0f921\"]]}],\"surface\":[{\"type\":\"surface\",\"colorbar\":{\"outlinewidth\":0,\"ticks\":\"\"},\"colorscale\":[[0.0,\"#0d0887\"],[0.1111111111111111,\"#46039f\"],[0.2222222222222222,\"#7201a8\"],[0.3333333333333333,\"#9c179e\"],[0.4444444444444444,\"#bd3786\"],[0.5555555555555556,\"#d8576b\"],[0.6666666666666666,\"#ed7953\"],[0.7777777777777778,\"#fb9f3a\"],[0.8888888888888888,\"#fdca26\"],[1.0,\"#f0f921\"]]}],\"mesh3d\":[{\"type\":\"mesh3d\",\"colorbar\":{\"outlinewidth\":0,\"ticks\":\"\"}}],\"scatter\":[{\"fillpattern\":{\"fillmode\":\"overlay\",\"size\":10,\"solidity\":0.2},\"type\":\"scatter\"}],\"parcoords\":[{\"type\":\"parcoords\",\"line\":{\"colorbar\":{\"outlinewidth\":0,\"ticks\":\"\"}}}],\"scatterpolargl\":[{\"type\":\"scatterpolargl\",\"marker\":{\"colorbar\":{\"outlinewidth\":0,\"ticks\":\"\"}}}],\"bar\":[{\"error_x\":{\"color\":\"#2a3f5f\"},\"error_y\":{\"color\":\"#2a3f5f\"},\"marker\":{\"line\":{\"color\":\"#E5ECF6\",\"width\":0.5},\"pattern\":{\"fillmode\":\"overlay\",\"size\":10,\"solidity\":0.2}},\"type\":\"bar\"}],\"scattergeo\":[{\"type\":\"scattergeo\",\"marker\":{\"colorbar\":{\"outlinewidth\":0,\"ticks\":\"\"}}}],\"scatterpolar\":[{\"type\":\"scatterpolar\",\"marker\":{\"colorbar\":{\"outlinewidth\":0,\"ticks\":\"\"}}}],\"histogram\":[{\"marker\":{\"pattern\":{\"fillmode\":\"overlay\",\"size\":10,\"solidity\":0.2}},\"type\":\"histogram\"}],\"scattergl\":[{\"type\":\"scattergl\",\"marker\":{\"colorbar\":{\"outlinewidth\":0,\"ticks\":\"\"}}}],\"scatter3d\":[{\"type\":\"scatter3d\",\"line\":{\"colorbar\":{\"outlinewidth\":0,\"ticks\":\"\"}},\"marker\":{\"colorbar\":{\"outlinewidth\":0,\"ticks\":\"\"}}}],\"scattermapbox\":[{\"type\":\"scattermapbox\",\"marker\":{\"colorbar\":{\"outlinewidth\":0,\"ticks\":\"\"}}}],\"scatterternary\":[{\"type\":\"scatterternary\",\"marker\":{\"colorbar\":{\"outlinewidth\":0,\"ticks\":\"\"}}}],\"scattercarpet\":[{\"type\":\"scattercarpet\",\"marker\":{\"colorbar\":{\"outlinewidth\":0,\"ticks\":\"\"}}}],\"carpet\":[{\"aaxis\":{\"endlinecolor\":\"#2a3f5f\",\"gridcolor\":\"white\",\"linecolor\":\"white\",\"minorgridcolor\":\"white\",\"startlinecolor\":\"#2a3f5f\"},\"baxis\":{\"endlinecolor\":\"#2a3f5f\",\"gridcolor\":\"white\",\"linecolor\":\"white\",\"minorgridcolor\":\"white\",\"startlinecolor\":\"#2a3f5f\"},\"type\":\"carpet\"}],\"table\":[{\"cells\":{\"fill\":{\"color\":\"#EBF0F8\"},\"line\":{\"color\":\"white\"}},\"header\":{\"fill\":{\"color\":\"#C8D4E3\"},\"line\":{\"color\":\"white\"}},\"type\":\"table\"}],\"barpolar\":[{\"marker\":{\"line\":{\"color\":\"#E5ECF6\",\"width\":0.5},\"pattern\":{\"fillmode\":\"overlay\",\"size\":10,\"solidity\":0.2}},\"type\":\"barpolar\"}],\"pie\":[{\"automargin\":true,\"type\":\"pie\"}]},\"layout\":{\"autotypenumbers\":\"strict\",\"colorway\":[\"#636efa\",\"#EF553B\",\"#00cc96\",\"#ab63fa\",\"#FFA15A\",\"#19d3f3\",\"#FF6692\",\"#B6E880\",\"#FF97FF\",\"#FECB52\"],\"font\":{\"color\":\"#2a3f5f\"},\"hovermode\":\"closest\",\"hoverlabel\":{\"align\":\"left\"},\"paper_bgcolor\":\"white\",\"plot_bgcolor\":\"#E5ECF6\",\"polar\":{\"bgcolor\":\"#E5ECF6\",\"angularaxis\":{\"gridcolor\":\"white\",\"linecolor\":\"white\",\"ticks\":\"\"},\"radialaxis\":{\"gridcolor\":\"white\",\"linecolor\":\"white\",\"ticks\":\"\"}},\"ternary\":{\"bgcolor\":\"#E5ECF6\",\"aaxis\":{\"gridcolor\":\"white\",\"linecolor\":\"white\",\"ticks\":\"\"},\"baxis\":{\"gridcolor\":\"white\",\"linecolor\":\"white\",\"ticks\":\"\"},\"caxis\":{\"gridcolor\":\"white\",\"linecolor\":\"white\",\"ticks\":\"\"}},\"coloraxis\":{\"colorbar\":{\"outlinewidth\":0,\"ticks\":\"\"}},\"colorscale\":{\"sequential\":[[0.0,\"#0d0887\"],[0.1111111111111111,\"#46039f\"],[0.2222222222222222,\"#7201a8\"],[0.3333333333333333,\"#9c179e\"],[0.4444444444444444,\"#bd3786\"],[0.5555555555555556,\"#d8576b\"],[0.6666666666666666,\"#ed7953\"],[0.7777777777777778,\"#fb9f3a\"],[0.8888888888888888,\"#fdca26\"],[1.0,\"#f0f921\"]],\"sequentialminus\":[[0.0,\"#0d0887\"],[0.1111111111111111,\"#46039f\"],[0.2222222222222222,\"#7201a8\"],[0.3333333333333333,\"#9c179e\"],[0.4444444444444444,\"#bd3786\"],[0.5555555555555556,\"#d8576b\"],[0.6666666666666666,\"#ed7953\"],[0.7777777777777778,\"#fb9f3a\"],[0.8888888888888888,\"#fdca26\"],[1.0,\"#f0f921\"]],\"diverging\":[[0,\"#8e0152\"],[0.1,\"#c51b7d\"],[0.2,\"#de77ae\"],[0.3,\"#f1b6da\"],[0.4,\"#fde0ef\"],[0.5,\"#f7f7f7\"],[0.6,\"#e6f5d0\"],[0.7,\"#b8e186\"],[0.8,\"#7fbc41\"],[0.9,\"#4d9221\"],[1,\"#276419\"]]},\"xaxis\":{\"gridcolor\":\"white\",\"linecolor\":\"white\",\"ticks\":\"\",\"title\":{\"standoff\":15},\"zerolinecolor\":\"white\",\"automargin\":true,\"zerolinewidth\":2},\"yaxis\":{\"gridcolor\":\"white\",\"linecolor\":\"white\",\"ticks\":\"\",\"title\":{\"standoff\":15},\"zerolinecolor\":\"white\",\"automargin\":true,\"zerolinewidth\":2},\"scene\":{\"xaxis\":{\"backgroundcolor\":\"#E5ECF6\",\"gridcolor\":\"white\",\"linecolor\":\"white\",\"showbackground\":true,\"ticks\":\"\",\"zerolinecolor\":\"white\",\"gridwidth\":2},\"yaxis\":{\"backgroundcolor\":\"#E5ECF6\",\"gridcolor\":\"white\",\"linecolor\":\"white\",\"showbackground\":true,\"ticks\":\"\",\"zerolinecolor\":\"white\",\"gridwidth\":2},\"zaxis\":{\"backgroundcolor\":\"#E5ECF6\",\"gridcolor\":\"white\",\"linecolor\":\"white\",\"showbackground\":true,\"ticks\":\"\",\"zerolinecolor\":\"white\",\"gridwidth\":2}},\"shapedefaults\":{\"line\":{\"color\":\"#2a3f5f\"}},\"annotationdefaults\":{\"arrowcolor\":\"#2a3f5f\",\"arrowhead\":0,\"arrowwidth\":1},\"geo\":{\"bgcolor\":\"white\",\"landcolor\":\"#E5ECF6\",\"subunitcolor\":\"white\",\"showland\":true,\"showlakes\":true,\"lakecolor\":\"white\"},\"title\":{\"x\":0.05},\"mapbox\":{\"style\":\"light\"}}},\"title\":{\"text\":\"Cas des adjectifs accord\\u00e9s \\u00e0 seruus entre 800 et 899\"},\"annotations\":[{\"showarrow\":false,\"text\":\"800-849\",\"x\":0.17,\"y\":0.5,\"font\":{\"size\":20}},{\"showarrow\":false,\"text\":\"850-899\",\"x\":0.835,\"y\":0.5,\"font\":{\"size\":20}}]},                        {\"responsive\": true}                    ).then(function(){\n",
       "                            \n",
       "var gd = document.getElementById('72e77452-2778-4ec6-853e-de3741cb10ec');\n",
       "var x = new MutationObserver(function (mutations, observer) {{\n",
       "        var display = window.getComputedStyle(gd).display;\n",
       "        if (!display || display === 'none') {{\n",
       "            console.log([gd, 'removed!']);\n",
       "            Plotly.purge(gd);\n",
       "            observer.disconnect();\n",
       "        }}\n",
       "}});\n",
       "\n",
       "// Listen for the removal of the full notebook cells\n",
       "var notebookContainer = gd.closest('#notebook-container');\n",
       "if (notebookContainer) {{\n",
       "    x.observe(notebookContainer, {childList: true});\n",
       "}}\n",
       "\n",
       "// Listen for the clearing of the current output cell\n",
       "var outputEl = gd.closest('.output');\n",
       "if (outputEl) {{\n",
       "    x.observe(outputEl, {childList: true});\n",
       "}}\n",
       "\n",
       "                        })                };                });            </script>        </div>"
      ]
     },
     "metadata": {},
     "output_type": "display_data"
    }
   ],
   "source": [
    "import plotly.graph_objects as go\n",
    "from plotly.subplots import make_subplots\n",
    "\n",
    "#labels=df_final_cas_800['Cas'].tolist()\n",
    "\n",
    "fig = make_subplots(rows=1, cols=2, specs=[[{'type':'domain'}, {'type':'domain'}]])\n",
    "fig.add_trace(go.Pie(labels=df_final_cas_800[\"Cas\"], values=df_final_cas_800[\"Occ\"], name=\"800-849\"),\n",
    "              1, 1)\n",
    "fig.add_trace(go.Pie(labels=df_final_cas_850['Cas'], values=df_final_cas_850['Occ'], name=\"850-899\"),\n",
    "              1, 2)\n",
    "\n",
    "\n",
    "\n",
    "\n",
    "fig.update_traces(hole=.4)\n",
    "\n",
    "fig.update_layout(\n",
    "    title_text=\"Cas des adjectifs accordés à seruus entre 800 et 899\",\n",
    "    annotations=[dict(text='800-849', x=0.17, y=0.5, font_size=20, showarrow=False),\n",
    "                 dict(text='850-899', x=0.835, y=0.5, font_size=20, showarrow=False)])\n",
    "    \n",
    "fig.show()"
   ]
  },
  {
   "cell_type": "code",
   "execution_count": 131,
   "id": "cd57a6d8",
   "metadata": {},
   "outputs": [
    {
     "data": {
      "application/vnd.plotly.v1+json": {
       "config": {
        "plotlyServerURL": "https://plot.ly"
       },
       "data": [
        {
         "domain": {
          "x": [
           0,
           0.45
          ],
          "y": [
           0,
           1
          ]
         },
         "hole": 0.4,
         "labels": [
          "acc_pl",
          "acc_sg",
          "gen_pl",
          "nom_sg"
         ],
         "name": "900-949",
         "type": "pie",
         "values": [
          67,
          27,
          15,
          20
         ]
        },
        {
         "domain": {
          "x": [
           0.55,
           1
          ],
          "y": [
           0,
           1
          ]
         },
         "hole": 0.4,
         "labels": [
          "acc_pl",
          "acc_sg",
          "gen_pl",
          "nom_sg"
         ],
         "name": "950-999",
         "type": "pie",
         "values": [
          108,
          60,
          38,
          50
         ]
        }
       ],
       "layout": {
        "annotations": [
         {
          "font": {
           "size": 20
          },
          "showarrow": false,
          "text": "900-949",
          "x": 0.17,
          "y": 0.5
         },
         {
          "font": {
           "size": 20
          },
          "showarrow": false,
          "text": "950-999",
          "x": 0.835,
          "y": 0.5
         }
        ],
        "template": {
         "data": {
          "bar": [
           {
            "error_x": {
             "color": "#2a3f5f"
            },
            "error_y": {
             "color": "#2a3f5f"
            },
            "marker": {
             "line": {
              "color": "#E5ECF6",
              "width": 0.5
             },
             "pattern": {
              "fillmode": "overlay",
              "size": 10,
              "solidity": 0.2
             }
            },
            "type": "bar"
           }
          ],
          "barpolar": [
           {
            "marker": {
             "line": {
              "color": "#E5ECF6",
              "width": 0.5
             },
             "pattern": {
              "fillmode": "overlay",
              "size": 10,
              "solidity": 0.2
             }
            },
            "type": "barpolar"
           }
          ],
          "carpet": [
           {
            "aaxis": {
             "endlinecolor": "#2a3f5f",
             "gridcolor": "white",
             "linecolor": "white",
             "minorgridcolor": "white",
             "startlinecolor": "#2a3f5f"
            },
            "baxis": {
             "endlinecolor": "#2a3f5f",
             "gridcolor": "white",
             "linecolor": "white",
             "minorgridcolor": "white",
             "startlinecolor": "#2a3f5f"
            },
            "type": "carpet"
           }
          ],
          "choropleth": [
           {
            "colorbar": {
             "outlinewidth": 0,
             "ticks": ""
            },
            "type": "choropleth"
           }
          ],
          "contour": [
           {
            "colorbar": {
             "outlinewidth": 0,
             "ticks": ""
            },
            "colorscale": [
             [
              0,
              "#0d0887"
             ],
             [
              0.1111111111111111,
              "#46039f"
             ],
             [
              0.2222222222222222,
              "#7201a8"
             ],
             [
              0.3333333333333333,
              "#9c179e"
             ],
             [
              0.4444444444444444,
              "#bd3786"
             ],
             [
              0.5555555555555556,
              "#d8576b"
             ],
             [
              0.6666666666666666,
              "#ed7953"
             ],
             [
              0.7777777777777778,
              "#fb9f3a"
             ],
             [
              0.8888888888888888,
              "#fdca26"
             ],
             [
              1,
              "#f0f921"
             ]
            ],
            "type": "contour"
           }
          ],
          "contourcarpet": [
           {
            "colorbar": {
             "outlinewidth": 0,
             "ticks": ""
            },
            "type": "contourcarpet"
           }
          ],
          "heatmap": [
           {
            "colorbar": {
             "outlinewidth": 0,
             "ticks": ""
            },
            "colorscale": [
             [
              0,
              "#0d0887"
             ],
             [
              0.1111111111111111,
              "#46039f"
             ],
             [
              0.2222222222222222,
              "#7201a8"
             ],
             [
              0.3333333333333333,
              "#9c179e"
             ],
             [
              0.4444444444444444,
              "#bd3786"
             ],
             [
              0.5555555555555556,
              "#d8576b"
             ],
             [
              0.6666666666666666,
              "#ed7953"
             ],
             [
              0.7777777777777778,
              "#fb9f3a"
             ],
             [
              0.8888888888888888,
              "#fdca26"
             ],
             [
              1,
              "#f0f921"
             ]
            ],
            "type": "heatmap"
           }
          ],
          "heatmapgl": [
           {
            "colorbar": {
             "outlinewidth": 0,
             "ticks": ""
            },
            "colorscale": [
             [
              0,
              "#0d0887"
             ],
             [
              0.1111111111111111,
              "#46039f"
             ],
             [
              0.2222222222222222,
              "#7201a8"
             ],
             [
              0.3333333333333333,
              "#9c179e"
             ],
             [
              0.4444444444444444,
              "#bd3786"
             ],
             [
              0.5555555555555556,
              "#d8576b"
             ],
             [
              0.6666666666666666,
              "#ed7953"
             ],
             [
              0.7777777777777778,
              "#fb9f3a"
             ],
             [
              0.8888888888888888,
              "#fdca26"
             ],
             [
              1,
              "#f0f921"
             ]
            ],
            "type": "heatmapgl"
           }
          ],
          "histogram": [
           {
            "marker": {
             "pattern": {
              "fillmode": "overlay",
              "size": 10,
              "solidity": 0.2
             }
            },
            "type": "histogram"
           }
          ],
          "histogram2d": [
           {
            "colorbar": {
             "outlinewidth": 0,
             "ticks": ""
            },
            "colorscale": [
             [
              0,
              "#0d0887"
             ],
             [
              0.1111111111111111,
              "#46039f"
             ],
             [
              0.2222222222222222,
              "#7201a8"
             ],
             [
              0.3333333333333333,
              "#9c179e"
             ],
             [
              0.4444444444444444,
              "#bd3786"
             ],
             [
              0.5555555555555556,
              "#d8576b"
             ],
             [
              0.6666666666666666,
              "#ed7953"
             ],
             [
              0.7777777777777778,
              "#fb9f3a"
             ],
             [
              0.8888888888888888,
              "#fdca26"
             ],
             [
              1,
              "#f0f921"
             ]
            ],
            "type": "histogram2d"
           }
          ],
          "histogram2dcontour": [
           {
            "colorbar": {
             "outlinewidth": 0,
             "ticks": ""
            },
            "colorscale": [
             [
              0,
              "#0d0887"
             ],
             [
              0.1111111111111111,
              "#46039f"
             ],
             [
              0.2222222222222222,
              "#7201a8"
             ],
             [
              0.3333333333333333,
              "#9c179e"
             ],
             [
              0.4444444444444444,
              "#bd3786"
             ],
             [
              0.5555555555555556,
              "#d8576b"
             ],
             [
              0.6666666666666666,
              "#ed7953"
             ],
             [
              0.7777777777777778,
              "#fb9f3a"
             ],
             [
              0.8888888888888888,
              "#fdca26"
             ],
             [
              1,
              "#f0f921"
             ]
            ],
            "type": "histogram2dcontour"
           }
          ],
          "mesh3d": [
           {
            "colorbar": {
             "outlinewidth": 0,
             "ticks": ""
            },
            "type": "mesh3d"
           }
          ],
          "parcoords": [
           {
            "line": {
             "colorbar": {
              "outlinewidth": 0,
              "ticks": ""
             }
            },
            "type": "parcoords"
           }
          ],
          "pie": [
           {
            "automargin": true,
            "type": "pie"
           }
          ],
          "scatter": [
           {
            "fillpattern": {
             "fillmode": "overlay",
             "size": 10,
             "solidity": 0.2
            },
            "type": "scatter"
           }
          ],
          "scatter3d": [
           {
            "line": {
             "colorbar": {
              "outlinewidth": 0,
              "ticks": ""
             }
            },
            "marker": {
             "colorbar": {
              "outlinewidth": 0,
              "ticks": ""
             }
            },
            "type": "scatter3d"
           }
          ],
          "scattercarpet": [
           {
            "marker": {
             "colorbar": {
              "outlinewidth": 0,
              "ticks": ""
             }
            },
            "type": "scattercarpet"
           }
          ],
          "scattergeo": [
           {
            "marker": {
             "colorbar": {
              "outlinewidth": 0,
              "ticks": ""
             }
            },
            "type": "scattergeo"
           }
          ],
          "scattergl": [
           {
            "marker": {
             "colorbar": {
              "outlinewidth": 0,
              "ticks": ""
             }
            },
            "type": "scattergl"
           }
          ],
          "scattermapbox": [
           {
            "marker": {
             "colorbar": {
              "outlinewidth": 0,
              "ticks": ""
             }
            },
            "type": "scattermapbox"
           }
          ],
          "scatterpolar": [
           {
            "marker": {
             "colorbar": {
              "outlinewidth": 0,
              "ticks": ""
             }
            },
            "type": "scatterpolar"
           }
          ],
          "scatterpolargl": [
           {
            "marker": {
             "colorbar": {
              "outlinewidth": 0,
              "ticks": ""
             }
            },
            "type": "scatterpolargl"
           }
          ],
          "scatterternary": [
           {
            "marker": {
             "colorbar": {
              "outlinewidth": 0,
              "ticks": ""
             }
            },
            "type": "scatterternary"
           }
          ],
          "surface": [
           {
            "colorbar": {
             "outlinewidth": 0,
             "ticks": ""
            },
            "colorscale": [
             [
              0,
              "#0d0887"
             ],
             [
              0.1111111111111111,
              "#46039f"
             ],
             [
              0.2222222222222222,
              "#7201a8"
             ],
             [
              0.3333333333333333,
              "#9c179e"
             ],
             [
              0.4444444444444444,
              "#bd3786"
             ],
             [
              0.5555555555555556,
              "#d8576b"
             ],
             [
              0.6666666666666666,
              "#ed7953"
             ],
             [
              0.7777777777777778,
              "#fb9f3a"
             ],
             [
              0.8888888888888888,
              "#fdca26"
             ],
             [
              1,
              "#f0f921"
             ]
            ],
            "type": "surface"
           }
          ],
          "table": [
           {
            "cells": {
             "fill": {
              "color": "#EBF0F8"
             },
             "line": {
              "color": "white"
             }
            },
            "header": {
             "fill": {
              "color": "#C8D4E3"
             },
             "line": {
              "color": "white"
             }
            },
            "type": "table"
           }
          ]
         },
         "layout": {
          "annotationdefaults": {
           "arrowcolor": "#2a3f5f",
           "arrowhead": 0,
           "arrowwidth": 1
          },
          "autotypenumbers": "strict",
          "coloraxis": {
           "colorbar": {
            "outlinewidth": 0,
            "ticks": ""
           }
          },
          "colorscale": {
           "diverging": [
            [
             0,
             "#8e0152"
            ],
            [
             0.1,
             "#c51b7d"
            ],
            [
             0.2,
             "#de77ae"
            ],
            [
             0.3,
             "#f1b6da"
            ],
            [
             0.4,
             "#fde0ef"
            ],
            [
             0.5,
             "#f7f7f7"
            ],
            [
             0.6,
             "#e6f5d0"
            ],
            [
             0.7,
             "#b8e186"
            ],
            [
             0.8,
             "#7fbc41"
            ],
            [
             0.9,
             "#4d9221"
            ],
            [
             1,
             "#276419"
            ]
           ],
           "sequential": [
            [
             0,
             "#0d0887"
            ],
            [
             0.1111111111111111,
             "#46039f"
            ],
            [
             0.2222222222222222,
             "#7201a8"
            ],
            [
             0.3333333333333333,
             "#9c179e"
            ],
            [
             0.4444444444444444,
             "#bd3786"
            ],
            [
             0.5555555555555556,
             "#d8576b"
            ],
            [
             0.6666666666666666,
             "#ed7953"
            ],
            [
             0.7777777777777778,
             "#fb9f3a"
            ],
            [
             0.8888888888888888,
             "#fdca26"
            ],
            [
             1,
             "#f0f921"
            ]
           ],
           "sequentialminus": [
            [
             0,
             "#0d0887"
            ],
            [
             0.1111111111111111,
             "#46039f"
            ],
            [
             0.2222222222222222,
             "#7201a8"
            ],
            [
             0.3333333333333333,
             "#9c179e"
            ],
            [
             0.4444444444444444,
             "#bd3786"
            ],
            [
             0.5555555555555556,
             "#d8576b"
            ],
            [
             0.6666666666666666,
             "#ed7953"
            ],
            [
             0.7777777777777778,
             "#fb9f3a"
            ],
            [
             0.8888888888888888,
             "#fdca26"
            ],
            [
             1,
             "#f0f921"
            ]
           ]
          },
          "colorway": [
           "#636efa",
           "#EF553B",
           "#00cc96",
           "#ab63fa",
           "#FFA15A",
           "#19d3f3",
           "#FF6692",
           "#B6E880",
           "#FF97FF",
           "#FECB52"
          ],
          "font": {
           "color": "#2a3f5f"
          },
          "geo": {
           "bgcolor": "white",
           "lakecolor": "white",
           "landcolor": "#E5ECF6",
           "showlakes": true,
           "showland": true,
           "subunitcolor": "white"
          },
          "hoverlabel": {
           "align": "left"
          },
          "hovermode": "closest",
          "mapbox": {
           "style": "light"
          },
          "paper_bgcolor": "white",
          "plot_bgcolor": "#E5ECF6",
          "polar": {
           "angularaxis": {
            "gridcolor": "white",
            "linecolor": "white",
            "ticks": ""
           },
           "bgcolor": "#E5ECF6",
           "radialaxis": {
            "gridcolor": "white",
            "linecolor": "white",
            "ticks": ""
           }
          },
          "scene": {
           "xaxis": {
            "backgroundcolor": "#E5ECF6",
            "gridcolor": "white",
            "gridwidth": 2,
            "linecolor": "white",
            "showbackground": true,
            "ticks": "",
            "zerolinecolor": "white"
           },
           "yaxis": {
            "backgroundcolor": "#E5ECF6",
            "gridcolor": "white",
            "gridwidth": 2,
            "linecolor": "white",
            "showbackground": true,
            "ticks": "",
            "zerolinecolor": "white"
           },
           "zaxis": {
            "backgroundcolor": "#E5ECF6",
            "gridcolor": "white",
            "gridwidth": 2,
            "linecolor": "white",
            "showbackground": true,
            "ticks": "",
            "zerolinecolor": "white"
           }
          },
          "shapedefaults": {
           "line": {
            "color": "#2a3f5f"
           }
          },
          "ternary": {
           "aaxis": {
            "gridcolor": "white",
            "linecolor": "white",
            "ticks": ""
           },
           "baxis": {
            "gridcolor": "white",
            "linecolor": "white",
            "ticks": ""
           },
           "bgcolor": "#E5ECF6",
           "caxis": {
            "gridcolor": "white",
            "linecolor": "white",
            "ticks": ""
           }
          },
          "title": {
           "x": 0.05
          },
          "xaxis": {
           "automargin": true,
           "gridcolor": "white",
           "linecolor": "white",
           "ticks": "",
           "title": {
            "standoff": 15
           },
           "zerolinecolor": "white",
           "zerolinewidth": 2
          },
          "yaxis": {
           "automargin": true,
           "gridcolor": "white",
           "linecolor": "white",
           "ticks": "",
           "title": {
            "standoff": 15
           },
           "zerolinecolor": "white",
           "zerolinewidth": 2
          }
         }
        },
        "title": {
         "text": "Cas des adjectifs accordés à seruus entre 900 et 999"
        }
       }
      },
      "text/html": [
       "<div>                            <div id=\"b0a782ce-a41a-46fc-acde-1c5f290b9855\" class=\"plotly-graph-div\" style=\"height:525px; width:100%;\"></div>            <script type=\"text/javascript\">                require([\"plotly\"], function(Plotly) {                    window.PLOTLYENV=window.PLOTLYENV || {};                                    if (document.getElementById(\"b0a782ce-a41a-46fc-acde-1c5f290b9855\")) {                    Plotly.newPlot(                        \"b0a782ce-a41a-46fc-acde-1c5f290b9855\",                        [{\"labels\":[\"acc_pl\",\"acc_sg\",\"gen_pl\",\"nom_sg\"],\"name\":\"900-949\",\"values\":[67,27,15,20],\"type\":\"pie\",\"domain\":{\"x\":[0.0,0.45],\"y\":[0.0,1.0]},\"hole\":0.4},{\"labels\":[\"acc_pl\",\"acc_sg\",\"gen_pl\",\"nom_sg\"],\"name\":\"950-999\",\"values\":[108,60,38,50],\"type\":\"pie\",\"domain\":{\"x\":[0.55,1.0],\"y\":[0.0,1.0]},\"hole\":0.4}],                        {\"template\":{\"data\":{\"histogram2dcontour\":[{\"type\":\"histogram2dcontour\",\"colorbar\":{\"outlinewidth\":0,\"ticks\":\"\"},\"colorscale\":[[0.0,\"#0d0887\"],[0.1111111111111111,\"#46039f\"],[0.2222222222222222,\"#7201a8\"],[0.3333333333333333,\"#9c179e\"],[0.4444444444444444,\"#bd3786\"],[0.5555555555555556,\"#d8576b\"],[0.6666666666666666,\"#ed7953\"],[0.7777777777777778,\"#fb9f3a\"],[0.8888888888888888,\"#fdca26\"],[1.0,\"#f0f921\"]]}],\"choropleth\":[{\"type\":\"choropleth\",\"colorbar\":{\"outlinewidth\":0,\"ticks\":\"\"}}],\"histogram2d\":[{\"type\":\"histogram2d\",\"colorbar\":{\"outlinewidth\":0,\"ticks\":\"\"},\"colorscale\":[[0.0,\"#0d0887\"],[0.1111111111111111,\"#46039f\"],[0.2222222222222222,\"#7201a8\"],[0.3333333333333333,\"#9c179e\"],[0.4444444444444444,\"#bd3786\"],[0.5555555555555556,\"#d8576b\"],[0.6666666666666666,\"#ed7953\"],[0.7777777777777778,\"#fb9f3a\"],[0.8888888888888888,\"#fdca26\"],[1.0,\"#f0f921\"]]}],\"heatmap\":[{\"type\":\"heatmap\",\"colorbar\":{\"outlinewidth\":0,\"ticks\":\"\"},\"colorscale\":[[0.0,\"#0d0887\"],[0.1111111111111111,\"#46039f\"],[0.2222222222222222,\"#7201a8\"],[0.3333333333333333,\"#9c179e\"],[0.4444444444444444,\"#bd3786\"],[0.5555555555555556,\"#d8576b\"],[0.6666666666666666,\"#ed7953\"],[0.7777777777777778,\"#fb9f3a\"],[0.8888888888888888,\"#fdca26\"],[1.0,\"#f0f921\"]]}],\"heatmapgl\":[{\"type\":\"heatmapgl\",\"colorbar\":{\"outlinewidth\":0,\"ticks\":\"\"},\"colorscale\":[[0.0,\"#0d0887\"],[0.1111111111111111,\"#46039f\"],[0.2222222222222222,\"#7201a8\"],[0.3333333333333333,\"#9c179e\"],[0.4444444444444444,\"#bd3786\"],[0.5555555555555556,\"#d8576b\"],[0.6666666666666666,\"#ed7953\"],[0.7777777777777778,\"#fb9f3a\"],[0.8888888888888888,\"#fdca26\"],[1.0,\"#f0f921\"]]}],\"contourcarpet\":[{\"type\":\"contourcarpet\",\"colorbar\":{\"outlinewidth\":0,\"ticks\":\"\"}}],\"contour\":[{\"type\":\"contour\",\"colorbar\":{\"outlinewidth\":0,\"ticks\":\"\"},\"colorscale\":[[0.0,\"#0d0887\"],[0.1111111111111111,\"#46039f\"],[0.2222222222222222,\"#7201a8\"],[0.3333333333333333,\"#9c179e\"],[0.4444444444444444,\"#bd3786\"],[0.5555555555555556,\"#d8576b\"],[0.6666666666666666,\"#ed7953\"],[0.7777777777777778,\"#fb9f3a\"],[0.8888888888888888,\"#fdca26\"],[1.0,\"#f0f921\"]]}],\"surface\":[{\"type\":\"surface\",\"colorbar\":{\"outlinewidth\":0,\"ticks\":\"\"},\"colorscale\":[[0.0,\"#0d0887\"],[0.1111111111111111,\"#46039f\"],[0.2222222222222222,\"#7201a8\"],[0.3333333333333333,\"#9c179e\"],[0.4444444444444444,\"#bd3786\"],[0.5555555555555556,\"#d8576b\"],[0.6666666666666666,\"#ed7953\"],[0.7777777777777778,\"#fb9f3a\"],[0.8888888888888888,\"#fdca26\"],[1.0,\"#f0f921\"]]}],\"mesh3d\":[{\"type\":\"mesh3d\",\"colorbar\":{\"outlinewidth\":0,\"ticks\":\"\"}}],\"scatter\":[{\"fillpattern\":{\"fillmode\":\"overlay\",\"size\":10,\"solidity\":0.2},\"type\":\"scatter\"}],\"parcoords\":[{\"type\":\"parcoords\",\"line\":{\"colorbar\":{\"outlinewidth\":0,\"ticks\":\"\"}}}],\"scatterpolargl\":[{\"type\":\"scatterpolargl\",\"marker\":{\"colorbar\":{\"outlinewidth\":0,\"ticks\":\"\"}}}],\"bar\":[{\"error_x\":{\"color\":\"#2a3f5f\"},\"error_y\":{\"color\":\"#2a3f5f\"},\"marker\":{\"line\":{\"color\":\"#E5ECF6\",\"width\":0.5},\"pattern\":{\"fillmode\":\"overlay\",\"size\":10,\"solidity\":0.2}},\"type\":\"bar\"}],\"scattergeo\":[{\"type\":\"scattergeo\",\"marker\":{\"colorbar\":{\"outlinewidth\":0,\"ticks\":\"\"}}}],\"scatterpolar\":[{\"type\":\"scatterpolar\",\"marker\":{\"colorbar\":{\"outlinewidth\":0,\"ticks\":\"\"}}}],\"histogram\":[{\"marker\":{\"pattern\":{\"fillmode\":\"overlay\",\"size\":10,\"solidity\":0.2}},\"type\":\"histogram\"}],\"scattergl\":[{\"type\":\"scattergl\",\"marker\":{\"colorbar\":{\"outlinewidth\":0,\"ticks\":\"\"}}}],\"scatter3d\":[{\"type\":\"scatter3d\",\"line\":{\"colorbar\":{\"outlinewidth\":0,\"ticks\":\"\"}},\"marker\":{\"colorbar\":{\"outlinewidth\":0,\"ticks\":\"\"}}}],\"scattermapbox\":[{\"type\":\"scattermapbox\",\"marker\":{\"colorbar\":{\"outlinewidth\":0,\"ticks\":\"\"}}}],\"scatterternary\":[{\"type\":\"scatterternary\",\"marker\":{\"colorbar\":{\"outlinewidth\":0,\"ticks\":\"\"}}}],\"scattercarpet\":[{\"type\":\"scattercarpet\",\"marker\":{\"colorbar\":{\"outlinewidth\":0,\"ticks\":\"\"}}}],\"carpet\":[{\"aaxis\":{\"endlinecolor\":\"#2a3f5f\",\"gridcolor\":\"white\",\"linecolor\":\"white\",\"minorgridcolor\":\"white\",\"startlinecolor\":\"#2a3f5f\"},\"baxis\":{\"endlinecolor\":\"#2a3f5f\",\"gridcolor\":\"white\",\"linecolor\":\"white\",\"minorgridcolor\":\"white\",\"startlinecolor\":\"#2a3f5f\"},\"type\":\"carpet\"}],\"table\":[{\"cells\":{\"fill\":{\"color\":\"#EBF0F8\"},\"line\":{\"color\":\"white\"}},\"header\":{\"fill\":{\"color\":\"#C8D4E3\"},\"line\":{\"color\":\"white\"}},\"type\":\"table\"}],\"barpolar\":[{\"marker\":{\"line\":{\"color\":\"#E5ECF6\",\"width\":0.5},\"pattern\":{\"fillmode\":\"overlay\",\"size\":10,\"solidity\":0.2}},\"type\":\"barpolar\"}],\"pie\":[{\"automargin\":true,\"type\":\"pie\"}]},\"layout\":{\"autotypenumbers\":\"strict\",\"colorway\":[\"#636efa\",\"#EF553B\",\"#00cc96\",\"#ab63fa\",\"#FFA15A\",\"#19d3f3\",\"#FF6692\",\"#B6E880\",\"#FF97FF\",\"#FECB52\"],\"font\":{\"color\":\"#2a3f5f\"},\"hovermode\":\"closest\",\"hoverlabel\":{\"align\":\"left\"},\"paper_bgcolor\":\"white\",\"plot_bgcolor\":\"#E5ECF6\",\"polar\":{\"bgcolor\":\"#E5ECF6\",\"angularaxis\":{\"gridcolor\":\"white\",\"linecolor\":\"white\",\"ticks\":\"\"},\"radialaxis\":{\"gridcolor\":\"white\",\"linecolor\":\"white\",\"ticks\":\"\"}},\"ternary\":{\"bgcolor\":\"#E5ECF6\",\"aaxis\":{\"gridcolor\":\"white\",\"linecolor\":\"white\",\"ticks\":\"\"},\"baxis\":{\"gridcolor\":\"white\",\"linecolor\":\"white\",\"ticks\":\"\"},\"caxis\":{\"gridcolor\":\"white\",\"linecolor\":\"white\",\"ticks\":\"\"}},\"coloraxis\":{\"colorbar\":{\"outlinewidth\":0,\"ticks\":\"\"}},\"colorscale\":{\"sequential\":[[0.0,\"#0d0887\"],[0.1111111111111111,\"#46039f\"],[0.2222222222222222,\"#7201a8\"],[0.3333333333333333,\"#9c179e\"],[0.4444444444444444,\"#bd3786\"],[0.5555555555555556,\"#d8576b\"],[0.6666666666666666,\"#ed7953\"],[0.7777777777777778,\"#fb9f3a\"],[0.8888888888888888,\"#fdca26\"],[1.0,\"#f0f921\"]],\"sequentialminus\":[[0.0,\"#0d0887\"],[0.1111111111111111,\"#46039f\"],[0.2222222222222222,\"#7201a8\"],[0.3333333333333333,\"#9c179e\"],[0.4444444444444444,\"#bd3786\"],[0.5555555555555556,\"#d8576b\"],[0.6666666666666666,\"#ed7953\"],[0.7777777777777778,\"#fb9f3a\"],[0.8888888888888888,\"#fdca26\"],[1.0,\"#f0f921\"]],\"diverging\":[[0,\"#8e0152\"],[0.1,\"#c51b7d\"],[0.2,\"#de77ae\"],[0.3,\"#f1b6da\"],[0.4,\"#fde0ef\"],[0.5,\"#f7f7f7\"],[0.6,\"#e6f5d0\"],[0.7,\"#b8e186\"],[0.8,\"#7fbc41\"],[0.9,\"#4d9221\"],[1,\"#276419\"]]},\"xaxis\":{\"gridcolor\":\"white\",\"linecolor\":\"white\",\"ticks\":\"\",\"title\":{\"standoff\":15},\"zerolinecolor\":\"white\",\"automargin\":true,\"zerolinewidth\":2},\"yaxis\":{\"gridcolor\":\"white\",\"linecolor\":\"white\",\"ticks\":\"\",\"title\":{\"standoff\":15},\"zerolinecolor\":\"white\",\"automargin\":true,\"zerolinewidth\":2},\"scene\":{\"xaxis\":{\"backgroundcolor\":\"#E5ECF6\",\"gridcolor\":\"white\",\"linecolor\":\"white\",\"showbackground\":true,\"ticks\":\"\",\"zerolinecolor\":\"white\",\"gridwidth\":2},\"yaxis\":{\"backgroundcolor\":\"#E5ECF6\",\"gridcolor\":\"white\",\"linecolor\":\"white\",\"showbackground\":true,\"ticks\":\"\",\"zerolinecolor\":\"white\",\"gridwidth\":2},\"zaxis\":{\"backgroundcolor\":\"#E5ECF6\",\"gridcolor\":\"white\",\"linecolor\":\"white\",\"showbackground\":true,\"ticks\":\"\",\"zerolinecolor\":\"white\",\"gridwidth\":2}},\"shapedefaults\":{\"line\":{\"color\":\"#2a3f5f\"}},\"annotationdefaults\":{\"arrowcolor\":\"#2a3f5f\",\"arrowhead\":0,\"arrowwidth\":1},\"geo\":{\"bgcolor\":\"white\",\"landcolor\":\"#E5ECF6\",\"subunitcolor\":\"white\",\"showland\":true,\"showlakes\":true,\"lakecolor\":\"white\"},\"title\":{\"x\":0.05},\"mapbox\":{\"style\":\"light\"}}},\"title\":{\"text\":\"Cas des adjectifs accord\\u00e9s \\u00e0 seruus entre 900 et 999\"},\"annotations\":[{\"showarrow\":false,\"text\":\"900-949\",\"x\":0.17,\"y\":0.5,\"font\":{\"size\":20}},{\"showarrow\":false,\"text\":\"950-999\",\"x\":0.835,\"y\":0.5,\"font\":{\"size\":20}}]},                        {\"responsive\": true}                    ).then(function(){\n",
       "                            \n",
       "var gd = document.getElementById('b0a782ce-a41a-46fc-acde-1c5f290b9855');\n",
       "var x = new MutationObserver(function (mutations, observer) {{\n",
       "        var display = window.getComputedStyle(gd).display;\n",
       "        if (!display || display === 'none') {{\n",
       "            console.log([gd, 'removed!']);\n",
       "            Plotly.purge(gd);\n",
       "            observer.disconnect();\n",
       "        }}\n",
       "}});\n",
       "\n",
       "// Listen for the removal of the full notebook cells\n",
       "var notebookContainer = gd.closest('#notebook-container');\n",
       "if (notebookContainer) {{\n",
       "    x.observe(notebookContainer, {childList: true});\n",
       "}}\n",
       "\n",
       "// Listen for the clearing of the current output cell\n",
       "var outputEl = gd.closest('.output');\n",
       "if (outputEl) {{\n",
       "    x.observe(outputEl, {childList: true});\n",
       "}}\n",
       "\n",
       "                        })                };                });            </script>        </div>"
      ]
     },
     "metadata": {},
     "output_type": "display_data"
    }
   ],
   "source": [
    "import plotly.graph_objects as go\n",
    "from plotly.subplots import make_subplots\n",
    "\n",
    "#labels=df_final_cas_800['Cas'].tolist()\n",
    "\n",
    "fig = make_subplots(rows=1, cols=2, specs=[[{'type':'domain'}, {'type':'domain'}]])\n",
    "fig.add_trace(go.Pie(labels=df_final_cas_900[\"Cas\"], values=df_final_cas_900[\"Occ\"], name=\"900-949\"),\n",
    "              1, 1)\n",
    "fig.add_trace(go.Pie(labels=df_final_cas_950['Cas'], values=df_final_cas_950['Occ'], name=\"950-999\"),\n",
    "              1, 2)\n",
    "\n",
    "\n",
    "\n",
    "\n",
    "fig.update_traces(hole=.4)\n",
    "\n",
    "fig.update_layout(\n",
    "    title_text=\"Cas des adjectifs accordés à seruus entre 900 et 999\",\n",
    "    annotations=[dict(text='900-949', x=0.17, y=0.5, font_size=20, showarrow=False),\n",
    "                 dict(text='950-999', x=0.835, y=0.5, font_size=20, showarrow=False)])\n",
    "    \n",
    "fig.show()"
   ]
  },
  {
   "cell_type": "code",
   "execution_count": 128,
   "id": "6f3adca2",
   "metadata": {},
   "outputs": [
    {
     "data": {
      "application/vnd.plotly.v1+json": {
       "config": {
        "plotlyServerURL": "https://plot.ly"
       },
       "data": [
        {
         "domain": {
          "x": [
           0,
           0.45
          ],
          "y": [
           0,
           1
          ]
         },
         "hole": 0.4,
         "labels": [
          "acc_pl",
          "acc_sg",
          "gen_pl",
          "nom_sg"
         ],
         "name": "1100-1149",
         "type": "pie",
         "values": [
          128,
          39,
          88,
          113
         ]
        },
        {
         "domain": {
          "x": [
           0.55,
           1
          ],
          "y": [
           0,
           1
          ]
         },
         "hole": 0.4,
         "labels": [
          "acc_pl",
          "acc_sg",
          "gen_pl",
          "nom_sg"
         ],
         "name": "1150-1199",
         "type": "pie",
         "values": [
          52,
          26,
          34,
          105
         ]
        }
       ],
       "layout": {
        "annotations": [
         {
          "font": {
           "size": 15
          },
          "showarrow": false,
          "text": "1100-1149",
          "x": 0.17,
          "y": 0.5
         },
         {
          "font": {
           "size": 15
          },
          "showarrow": false,
          "text": "1150-1199",
          "x": 0.835,
          "y": 0.5
         }
        ],
        "template": {
         "data": {
          "bar": [
           {
            "error_x": {
             "color": "#2a3f5f"
            },
            "error_y": {
             "color": "#2a3f5f"
            },
            "marker": {
             "line": {
              "color": "#E5ECF6",
              "width": 0.5
             },
             "pattern": {
              "fillmode": "overlay",
              "size": 10,
              "solidity": 0.2
             }
            },
            "type": "bar"
           }
          ],
          "barpolar": [
           {
            "marker": {
             "line": {
              "color": "#E5ECF6",
              "width": 0.5
             },
             "pattern": {
              "fillmode": "overlay",
              "size": 10,
              "solidity": 0.2
             }
            },
            "type": "barpolar"
           }
          ],
          "carpet": [
           {
            "aaxis": {
             "endlinecolor": "#2a3f5f",
             "gridcolor": "white",
             "linecolor": "white",
             "minorgridcolor": "white",
             "startlinecolor": "#2a3f5f"
            },
            "baxis": {
             "endlinecolor": "#2a3f5f",
             "gridcolor": "white",
             "linecolor": "white",
             "minorgridcolor": "white",
             "startlinecolor": "#2a3f5f"
            },
            "type": "carpet"
           }
          ],
          "choropleth": [
           {
            "colorbar": {
             "outlinewidth": 0,
             "ticks": ""
            },
            "type": "choropleth"
           }
          ],
          "contour": [
           {
            "colorbar": {
             "outlinewidth": 0,
             "ticks": ""
            },
            "colorscale": [
             [
              0,
              "#0d0887"
             ],
             [
              0.1111111111111111,
              "#46039f"
             ],
             [
              0.2222222222222222,
              "#7201a8"
             ],
             [
              0.3333333333333333,
              "#9c179e"
             ],
             [
              0.4444444444444444,
              "#bd3786"
             ],
             [
              0.5555555555555556,
              "#d8576b"
             ],
             [
              0.6666666666666666,
              "#ed7953"
             ],
             [
              0.7777777777777778,
              "#fb9f3a"
             ],
             [
              0.8888888888888888,
              "#fdca26"
             ],
             [
              1,
              "#f0f921"
             ]
            ],
            "type": "contour"
           }
          ],
          "contourcarpet": [
           {
            "colorbar": {
             "outlinewidth": 0,
             "ticks": ""
            },
            "type": "contourcarpet"
           }
          ],
          "heatmap": [
           {
            "colorbar": {
             "outlinewidth": 0,
             "ticks": ""
            },
            "colorscale": [
             [
              0,
              "#0d0887"
             ],
             [
              0.1111111111111111,
              "#46039f"
             ],
             [
              0.2222222222222222,
              "#7201a8"
             ],
             [
              0.3333333333333333,
              "#9c179e"
             ],
             [
              0.4444444444444444,
              "#bd3786"
             ],
             [
              0.5555555555555556,
              "#d8576b"
             ],
             [
              0.6666666666666666,
              "#ed7953"
             ],
             [
              0.7777777777777778,
              "#fb9f3a"
             ],
             [
              0.8888888888888888,
              "#fdca26"
             ],
             [
              1,
              "#f0f921"
             ]
            ],
            "type": "heatmap"
           }
          ],
          "heatmapgl": [
           {
            "colorbar": {
             "outlinewidth": 0,
             "ticks": ""
            },
            "colorscale": [
             [
              0,
              "#0d0887"
             ],
             [
              0.1111111111111111,
              "#46039f"
             ],
             [
              0.2222222222222222,
              "#7201a8"
             ],
             [
              0.3333333333333333,
              "#9c179e"
             ],
             [
              0.4444444444444444,
              "#bd3786"
             ],
             [
              0.5555555555555556,
              "#d8576b"
             ],
             [
              0.6666666666666666,
              "#ed7953"
             ],
             [
              0.7777777777777778,
              "#fb9f3a"
             ],
             [
              0.8888888888888888,
              "#fdca26"
             ],
             [
              1,
              "#f0f921"
             ]
            ],
            "type": "heatmapgl"
           }
          ],
          "histogram": [
           {
            "marker": {
             "pattern": {
              "fillmode": "overlay",
              "size": 10,
              "solidity": 0.2
             }
            },
            "type": "histogram"
           }
          ],
          "histogram2d": [
           {
            "colorbar": {
             "outlinewidth": 0,
             "ticks": ""
            },
            "colorscale": [
             [
              0,
              "#0d0887"
             ],
             [
              0.1111111111111111,
              "#46039f"
             ],
             [
              0.2222222222222222,
              "#7201a8"
             ],
             [
              0.3333333333333333,
              "#9c179e"
             ],
             [
              0.4444444444444444,
              "#bd3786"
             ],
             [
              0.5555555555555556,
              "#d8576b"
             ],
             [
              0.6666666666666666,
              "#ed7953"
             ],
             [
              0.7777777777777778,
              "#fb9f3a"
             ],
             [
              0.8888888888888888,
              "#fdca26"
             ],
             [
              1,
              "#f0f921"
             ]
            ],
            "type": "histogram2d"
           }
          ],
          "histogram2dcontour": [
           {
            "colorbar": {
             "outlinewidth": 0,
             "ticks": ""
            },
            "colorscale": [
             [
              0,
              "#0d0887"
             ],
             [
              0.1111111111111111,
              "#46039f"
             ],
             [
              0.2222222222222222,
              "#7201a8"
             ],
             [
              0.3333333333333333,
              "#9c179e"
             ],
             [
              0.4444444444444444,
              "#bd3786"
             ],
             [
              0.5555555555555556,
              "#d8576b"
             ],
             [
              0.6666666666666666,
              "#ed7953"
             ],
             [
              0.7777777777777778,
              "#fb9f3a"
             ],
             [
              0.8888888888888888,
              "#fdca26"
             ],
             [
              1,
              "#f0f921"
             ]
            ],
            "type": "histogram2dcontour"
           }
          ],
          "mesh3d": [
           {
            "colorbar": {
             "outlinewidth": 0,
             "ticks": ""
            },
            "type": "mesh3d"
           }
          ],
          "parcoords": [
           {
            "line": {
             "colorbar": {
              "outlinewidth": 0,
              "ticks": ""
             }
            },
            "type": "parcoords"
           }
          ],
          "pie": [
           {
            "automargin": true,
            "type": "pie"
           }
          ],
          "scatter": [
           {
            "fillpattern": {
             "fillmode": "overlay",
             "size": 10,
             "solidity": 0.2
            },
            "type": "scatter"
           }
          ],
          "scatter3d": [
           {
            "line": {
             "colorbar": {
              "outlinewidth": 0,
              "ticks": ""
             }
            },
            "marker": {
             "colorbar": {
              "outlinewidth": 0,
              "ticks": ""
             }
            },
            "type": "scatter3d"
           }
          ],
          "scattercarpet": [
           {
            "marker": {
             "colorbar": {
              "outlinewidth": 0,
              "ticks": ""
             }
            },
            "type": "scattercarpet"
           }
          ],
          "scattergeo": [
           {
            "marker": {
             "colorbar": {
              "outlinewidth": 0,
              "ticks": ""
             }
            },
            "type": "scattergeo"
           }
          ],
          "scattergl": [
           {
            "marker": {
             "colorbar": {
              "outlinewidth": 0,
              "ticks": ""
             }
            },
            "type": "scattergl"
           }
          ],
          "scattermapbox": [
           {
            "marker": {
             "colorbar": {
              "outlinewidth": 0,
              "ticks": ""
             }
            },
            "type": "scattermapbox"
           }
          ],
          "scatterpolar": [
           {
            "marker": {
             "colorbar": {
              "outlinewidth": 0,
              "ticks": ""
             }
            },
            "type": "scatterpolar"
           }
          ],
          "scatterpolargl": [
           {
            "marker": {
             "colorbar": {
              "outlinewidth": 0,
              "ticks": ""
             }
            },
            "type": "scatterpolargl"
           }
          ],
          "scatterternary": [
           {
            "marker": {
             "colorbar": {
              "outlinewidth": 0,
              "ticks": ""
             }
            },
            "type": "scatterternary"
           }
          ],
          "surface": [
           {
            "colorbar": {
             "outlinewidth": 0,
             "ticks": ""
            },
            "colorscale": [
             [
              0,
              "#0d0887"
             ],
             [
              0.1111111111111111,
              "#46039f"
             ],
             [
              0.2222222222222222,
              "#7201a8"
             ],
             [
              0.3333333333333333,
              "#9c179e"
             ],
             [
              0.4444444444444444,
              "#bd3786"
             ],
             [
              0.5555555555555556,
              "#d8576b"
             ],
             [
              0.6666666666666666,
              "#ed7953"
             ],
             [
              0.7777777777777778,
              "#fb9f3a"
             ],
             [
              0.8888888888888888,
              "#fdca26"
             ],
             [
              1,
              "#f0f921"
             ]
            ],
            "type": "surface"
           }
          ],
          "table": [
           {
            "cells": {
             "fill": {
              "color": "#EBF0F8"
             },
             "line": {
              "color": "white"
             }
            },
            "header": {
             "fill": {
              "color": "#C8D4E3"
             },
             "line": {
              "color": "white"
             }
            },
            "type": "table"
           }
          ]
         },
         "layout": {
          "annotationdefaults": {
           "arrowcolor": "#2a3f5f",
           "arrowhead": 0,
           "arrowwidth": 1
          },
          "autotypenumbers": "strict",
          "coloraxis": {
           "colorbar": {
            "outlinewidth": 0,
            "ticks": ""
           }
          },
          "colorscale": {
           "diverging": [
            [
             0,
             "#8e0152"
            ],
            [
             0.1,
             "#c51b7d"
            ],
            [
             0.2,
             "#de77ae"
            ],
            [
             0.3,
             "#f1b6da"
            ],
            [
             0.4,
             "#fde0ef"
            ],
            [
             0.5,
             "#f7f7f7"
            ],
            [
             0.6,
             "#e6f5d0"
            ],
            [
             0.7,
             "#b8e186"
            ],
            [
             0.8,
             "#7fbc41"
            ],
            [
             0.9,
             "#4d9221"
            ],
            [
             1,
             "#276419"
            ]
           ],
           "sequential": [
            [
             0,
             "#0d0887"
            ],
            [
             0.1111111111111111,
             "#46039f"
            ],
            [
             0.2222222222222222,
             "#7201a8"
            ],
            [
             0.3333333333333333,
             "#9c179e"
            ],
            [
             0.4444444444444444,
             "#bd3786"
            ],
            [
             0.5555555555555556,
             "#d8576b"
            ],
            [
             0.6666666666666666,
             "#ed7953"
            ],
            [
             0.7777777777777778,
             "#fb9f3a"
            ],
            [
             0.8888888888888888,
             "#fdca26"
            ],
            [
             1,
             "#f0f921"
            ]
           ],
           "sequentialminus": [
            [
             0,
             "#0d0887"
            ],
            [
             0.1111111111111111,
             "#46039f"
            ],
            [
             0.2222222222222222,
             "#7201a8"
            ],
            [
             0.3333333333333333,
             "#9c179e"
            ],
            [
             0.4444444444444444,
             "#bd3786"
            ],
            [
             0.5555555555555556,
             "#d8576b"
            ],
            [
             0.6666666666666666,
             "#ed7953"
            ],
            [
             0.7777777777777778,
             "#fb9f3a"
            ],
            [
             0.8888888888888888,
             "#fdca26"
            ],
            [
             1,
             "#f0f921"
            ]
           ]
          },
          "colorway": [
           "#636efa",
           "#EF553B",
           "#00cc96",
           "#ab63fa",
           "#FFA15A",
           "#19d3f3",
           "#FF6692",
           "#B6E880",
           "#FF97FF",
           "#FECB52"
          ],
          "font": {
           "color": "#2a3f5f"
          },
          "geo": {
           "bgcolor": "white",
           "lakecolor": "white",
           "landcolor": "#E5ECF6",
           "showlakes": true,
           "showland": true,
           "subunitcolor": "white"
          },
          "hoverlabel": {
           "align": "left"
          },
          "hovermode": "closest",
          "mapbox": {
           "style": "light"
          },
          "paper_bgcolor": "white",
          "plot_bgcolor": "#E5ECF6",
          "polar": {
           "angularaxis": {
            "gridcolor": "white",
            "linecolor": "white",
            "ticks": ""
           },
           "bgcolor": "#E5ECF6",
           "radialaxis": {
            "gridcolor": "white",
            "linecolor": "white",
            "ticks": ""
           }
          },
          "scene": {
           "xaxis": {
            "backgroundcolor": "#E5ECF6",
            "gridcolor": "white",
            "gridwidth": 2,
            "linecolor": "white",
            "showbackground": true,
            "ticks": "",
            "zerolinecolor": "white"
           },
           "yaxis": {
            "backgroundcolor": "#E5ECF6",
            "gridcolor": "white",
            "gridwidth": 2,
            "linecolor": "white",
            "showbackground": true,
            "ticks": "",
            "zerolinecolor": "white"
           },
           "zaxis": {
            "backgroundcolor": "#E5ECF6",
            "gridcolor": "white",
            "gridwidth": 2,
            "linecolor": "white",
            "showbackground": true,
            "ticks": "",
            "zerolinecolor": "white"
           }
          },
          "shapedefaults": {
           "line": {
            "color": "#2a3f5f"
           }
          },
          "ternary": {
           "aaxis": {
            "gridcolor": "white",
            "linecolor": "white",
            "ticks": ""
           },
           "baxis": {
            "gridcolor": "white",
            "linecolor": "white",
            "ticks": ""
           },
           "bgcolor": "#E5ECF6",
           "caxis": {
            "gridcolor": "white",
            "linecolor": "white",
            "ticks": ""
           }
          },
          "title": {
           "x": 0.05
          },
          "xaxis": {
           "automargin": true,
           "gridcolor": "white",
           "linecolor": "white",
           "ticks": "",
           "title": {
            "standoff": 15
           },
           "zerolinecolor": "white",
           "zerolinewidth": 2
          },
          "yaxis": {
           "automargin": true,
           "gridcolor": "white",
           "linecolor": "white",
           "ticks": "",
           "title": {
            "standoff": 15
           },
           "zerolinecolor": "white",
           "zerolinewidth": 2
          }
         }
        },
        "title": {
         "text": "Cas des adjectifs accordés à seruus entre 1100 et 1199"
        }
       }
      },
      "text/html": [
       "<div>                            <div id=\"91ba40b8-92c0-48f0-80a9-7a7388941a0d\" class=\"plotly-graph-div\" style=\"height:525px; width:100%;\"></div>            <script type=\"text/javascript\">                require([\"plotly\"], function(Plotly) {                    window.PLOTLYENV=window.PLOTLYENV || {};                                    if (document.getElementById(\"91ba40b8-92c0-48f0-80a9-7a7388941a0d\")) {                    Plotly.newPlot(                        \"91ba40b8-92c0-48f0-80a9-7a7388941a0d\",                        [{\"labels\":[\"acc_pl\",\"acc_sg\",\"gen_pl\",\"nom_sg\"],\"name\":\"1100-1149\",\"values\":[128,39,88,113],\"type\":\"pie\",\"domain\":{\"x\":[0.0,0.45],\"y\":[0.0,1.0]},\"hole\":0.4},{\"labels\":[\"acc_pl\",\"acc_sg\",\"gen_pl\",\"nom_sg\"],\"name\":\"1150-1199\",\"values\":[52,26,34,105],\"type\":\"pie\",\"domain\":{\"x\":[0.55,1.0],\"y\":[0.0,1.0]},\"hole\":0.4}],                        {\"template\":{\"data\":{\"histogram2dcontour\":[{\"type\":\"histogram2dcontour\",\"colorbar\":{\"outlinewidth\":0,\"ticks\":\"\"},\"colorscale\":[[0.0,\"#0d0887\"],[0.1111111111111111,\"#46039f\"],[0.2222222222222222,\"#7201a8\"],[0.3333333333333333,\"#9c179e\"],[0.4444444444444444,\"#bd3786\"],[0.5555555555555556,\"#d8576b\"],[0.6666666666666666,\"#ed7953\"],[0.7777777777777778,\"#fb9f3a\"],[0.8888888888888888,\"#fdca26\"],[1.0,\"#f0f921\"]]}],\"choropleth\":[{\"type\":\"choropleth\",\"colorbar\":{\"outlinewidth\":0,\"ticks\":\"\"}}],\"histogram2d\":[{\"type\":\"histogram2d\",\"colorbar\":{\"outlinewidth\":0,\"ticks\":\"\"},\"colorscale\":[[0.0,\"#0d0887\"],[0.1111111111111111,\"#46039f\"],[0.2222222222222222,\"#7201a8\"],[0.3333333333333333,\"#9c179e\"],[0.4444444444444444,\"#bd3786\"],[0.5555555555555556,\"#d8576b\"],[0.6666666666666666,\"#ed7953\"],[0.7777777777777778,\"#fb9f3a\"],[0.8888888888888888,\"#fdca26\"],[1.0,\"#f0f921\"]]}],\"heatmap\":[{\"type\":\"heatmap\",\"colorbar\":{\"outlinewidth\":0,\"ticks\":\"\"},\"colorscale\":[[0.0,\"#0d0887\"],[0.1111111111111111,\"#46039f\"],[0.2222222222222222,\"#7201a8\"],[0.3333333333333333,\"#9c179e\"],[0.4444444444444444,\"#bd3786\"],[0.5555555555555556,\"#d8576b\"],[0.6666666666666666,\"#ed7953\"],[0.7777777777777778,\"#fb9f3a\"],[0.8888888888888888,\"#fdca26\"],[1.0,\"#f0f921\"]]}],\"heatmapgl\":[{\"type\":\"heatmapgl\",\"colorbar\":{\"outlinewidth\":0,\"ticks\":\"\"},\"colorscale\":[[0.0,\"#0d0887\"],[0.1111111111111111,\"#46039f\"],[0.2222222222222222,\"#7201a8\"],[0.3333333333333333,\"#9c179e\"],[0.4444444444444444,\"#bd3786\"],[0.5555555555555556,\"#d8576b\"],[0.6666666666666666,\"#ed7953\"],[0.7777777777777778,\"#fb9f3a\"],[0.8888888888888888,\"#fdca26\"],[1.0,\"#f0f921\"]]}],\"contourcarpet\":[{\"type\":\"contourcarpet\",\"colorbar\":{\"outlinewidth\":0,\"ticks\":\"\"}}],\"contour\":[{\"type\":\"contour\",\"colorbar\":{\"outlinewidth\":0,\"ticks\":\"\"},\"colorscale\":[[0.0,\"#0d0887\"],[0.1111111111111111,\"#46039f\"],[0.2222222222222222,\"#7201a8\"],[0.3333333333333333,\"#9c179e\"],[0.4444444444444444,\"#bd3786\"],[0.5555555555555556,\"#d8576b\"],[0.6666666666666666,\"#ed7953\"],[0.7777777777777778,\"#fb9f3a\"],[0.8888888888888888,\"#fdca26\"],[1.0,\"#f0f921\"]]}],\"surface\":[{\"type\":\"surface\",\"colorbar\":{\"outlinewidth\":0,\"ticks\":\"\"},\"colorscale\":[[0.0,\"#0d0887\"],[0.1111111111111111,\"#46039f\"],[0.2222222222222222,\"#7201a8\"],[0.3333333333333333,\"#9c179e\"],[0.4444444444444444,\"#bd3786\"],[0.5555555555555556,\"#d8576b\"],[0.6666666666666666,\"#ed7953\"],[0.7777777777777778,\"#fb9f3a\"],[0.8888888888888888,\"#fdca26\"],[1.0,\"#f0f921\"]]}],\"mesh3d\":[{\"type\":\"mesh3d\",\"colorbar\":{\"outlinewidth\":0,\"ticks\":\"\"}}],\"scatter\":[{\"fillpattern\":{\"fillmode\":\"overlay\",\"size\":10,\"solidity\":0.2},\"type\":\"scatter\"}],\"parcoords\":[{\"type\":\"parcoords\",\"line\":{\"colorbar\":{\"outlinewidth\":0,\"ticks\":\"\"}}}],\"scatterpolargl\":[{\"type\":\"scatterpolargl\",\"marker\":{\"colorbar\":{\"outlinewidth\":0,\"ticks\":\"\"}}}],\"bar\":[{\"error_x\":{\"color\":\"#2a3f5f\"},\"error_y\":{\"color\":\"#2a3f5f\"},\"marker\":{\"line\":{\"color\":\"#E5ECF6\",\"width\":0.5},\"pattern\":{\"fillmode\":\"overlay\",\"size\":10,\"solidity\":0.2}},\"type\":\"bar\"}],\"scattergeo\":[{\"type\":\"scattergeo\",\"marker\":{\"colorbar\":{\"outlinewidth\":0,\"ticks\":\"\"}}}],\"scatterpolar\":[{\"type\":\"scatterpolar\",\"marker\":{\"colorbar\":{\"outlinewidth\":0,\"ticks\":\"\"}}}],\"histogram\":[{\"marker\":{\"pattern\":{\"fillmode\":\"overlay\",\"size\":10,\"solidity\":0.2}},\"type\":\"histogram\"}],\"scattergl\":[{\"type\":\"scattergl\",\"marker\":{\"colorbar\":{\"outlinewidth\":0,\"ticks\":\"\"}}}],\"scatter3d\":[{\"type\":\"scatter3d\",\"line\":{\"colorbar\":{\"outlinewidth\":0,\"ticks\":\"\"}},\"marker\":{\"colorbar\":{\"outlinewidth\":0,\"ticks\":\"\"}}}],\"scattermapbox\":[{\"type\":\"scattermapbox\",\"marker\":{\"colorbar\":{\"outlinewidth\":0,\"ticks\":\"\"}}}],\"scatterternary\":[{\"type\":\"scatterternary\",\"marker\":{\"colorbar\":{\"outlinewidth\":0,\"ticks\":\"\"}}}],\"scattercarpet\":[{\"type\":\"scattercarpet\",\"marker\":{\"colorbar\":{\"outlinewidth\":0,\"ticks\":\"\"}}}],\"carpet\":[{\"aaxis\":{\"endlinecolor\":\"#2a3f5f\",\"gridcolor\":\"white\",\"linecolor\":\"white\",\"minorgridcolor\":\"white\",\"startlinecolor\":\"#2a3f5f\"},\"baxis\":{\"endlinecolor\":\"#2a3f5f\",\"gridcolor\":\"white\",\"linecolor\":\"white\",\"minorgridcolor\":\"white\",\"startlinecolor\":\"#2a3f5f\"},\"type\":\"carpet\"}],\"table\":[{\"cells\":{\"fill\":{\"color\":\"#EBF0F8\"},\"line\":{\"color\":\"white\"}},\"header\":{\"fill\":{\"color\":\"#C8D4E3\"},\"line\":{\"color\":\"white\"}},\"type\":\"table\"}],\"barpolar\":[{\"marker\":{\"line\":{\"color\":\"#E5ECF6\",\"width\":0.5},\"pattern\":{\"fillmode\":\"overlay\",\"size\":10,\"solidity\":0.2}},\"type\":\"barpolar\"}],\"pie\":[{\"automargin\":true,\"type\":\"pie\"}]},\"layout\":{\"autotypenumbers\":\"strict\",\"colorway\":[\"#636efa\",\"#EF553B\",\"#00cc96\",\"#ab63fa\",\"#FFA15A\",\"#19d3f3\",\"#FF6692\",\"#B6E880\",\"#FF97FF\",\"#FECB52\"],\"font\":{\"color\":\"#2a3f5f\"},\"hovermode\":\"closest\",\"hoverlabel\":{\"align\":\"left\"},\"paper_bgcolor\":\"white\",\"plot_bgcolor\":\"#E5ECF6\",\"polar\":{\"bgcolor\":\"#E5ECF6\",\"angularaxis\":{\"gridcolor\":\"white\",\"linecolor\":\"white\",\"ticks\":\"\"},\"radialaxis\":{\"gridcolor\":\"white\",\"linecolor\":\"white\",\"ticks\":\"\"}},\"ternary\":{\"bgcolor\":\"#E5ECF6\",\"aaxis\":{\"gridcolor\":\"white\",\"linecolor\":\"white\",\"ticks\":\"\"},\"baxis\":{\"gridcolor\":\"white\",\"linecolor\":\"white\",\"ticks\":\"\"},\"caxis\":{\"gridcolor\":\"white\",\"linecolor\":\"white\",\"ticks\":\"\"}},\"coloraxis\":{\"colorbar\":{\"outlinewidth\":0,\"ticks\":\"\"}},\"colorscale\":{\"sequential\":[[0.0,\"#0d0887\"],[0.1111111111111111,\"#46039f\"],[0.2222222222222222,\"#7201a8\"],[0.3333333333333333,\"#9c179e\"],[0.4444444444444444,\"#bd3786\"],[0.5555555555555556,\"#d8576b\"],[0.6666666666666666,\"#ed7953\"],[0.7777777777777778,\"#fb9f3a\"],[0.8888888888888888,\"#fdca26\"],[1.0,\"#f0f921\"]],\"sequentialminus\":[[0.0,\"#0d0887\"],[0.1111111111111111,\"#46039f\"],[0.2222222222222222,\"#7201a8\"],[0.3333333333333333,\"#9c179e\"],[0.4444444444444444,\"#bd3786\"],[0.5555555555555556,\"#d8576b\"],[0.6666666666666666,\"#ed7953\"],[0.7777777777777778,\"#fb9f3a\"],[0.8888888888888888,\"#fdca26\"],[1.0,\"#f0f921\"]],\"diverging\":[[0,\"#8e0152\"],[0.1,\"#c51b7d\"],[0.2,\"#de77ae\"],[0.3,\"#f1b6da\"],[0.4,\"#fde0ef\"],[0.5,\"#f7f7f7\"],[0.6,\"#e6f5d0\"],[0.7,\"#b8e186\"],[0.8,\"#7fbc41\"],[0.9,\"#4d9221\"],[1,\"#276419\"]]},\"xaxis\":{\"gridcolor\":\"white\",\"linecolor\":\"white\",\"ticks\":\"\",\"title\":{\"standoff\":15},\"zerolinecolor\":\"white\",\"automargin\":true,\"zerolinewidth\":2},\"yaxis\":{\"gridcolor\":\"white\",\"linecolor\":\"white\",\"ticks\":\"\",\"title\":{\"standoff\":15},\"zerolinecolor\":\"white\",\"automargin\":true,\"zerolinewidth\":2},\"scene\":{\"xaxis\":{\"backgroundcolor\":\"#E5ECF6\",\"gridcolor\":\"white\",\"linecolor\":\"white\",\"showbackground\":true,\"ticks\":\"\",\"zerolinecolor\":\"white\",\"gridwidth\":2},\"yaxis\":{\"backgroundcolor\":\"#E5ECF6\",\"gridcolor\":\"white\",\"linecolor\":\"white\",\"showbackground\":true,\"ticks\":\"\",\"zerolinecolor\":\"white\",\"gridwidth\":2},\"zaxis\":{\"backgroundcolor\":\"#E5ECF6\",\"gridcolor\":\"white\",\"linecolor\":\"white\",\"showbackground\":true,\"ticks\":\"\",\"zerolinecolor\":\"white\",\"gridwidth\":2}},\"shapedefaults\":{\"line\":{\"color\":\"#2a3f5f\"}},\"annotationdefaults\":{\"arrowcolor\":\"#2a3f5f\",\"arrowhead\":0,\"arrowwidth\":1},\"geo\":{\"bgcolor\":\"white\",\"landcolor\":\"#E5ECF6\",\"subunitcolor\":\"white\",\"showland\":true,\"showlakes\":true,\"lakecolor\":\"white\"},\"title\":{\"x\":0.05},\"mapbox\":{\"style\":\"light\"}}},\"title\":{\"text\":\"Cas des adjectifs accord\\u00e9s \\u00e0 seruus entre 1100 et 1199\"},\"annotations\":[{\"showarrow\":false,\"text\":\"1100-1149\",\"x\":0.17,\"y\":0.5,\"font\":{\"size\":15}},{\"showarrow\":false,\"text\":\"1150-1199\",\"x\":0.835,\"y\":0.5,\"font\":{\"size\":15}}]},                        {\"responsive\": true}                    ).then(function(){\n",
       "                            \n",
       "var gd = document.getElementById('91ba40b8-92c0-48f0-80a9-7a7388941a0d');\n",
       "var x = new MutationObserver(function (mutations, observer) {{\n",
       "        var display = window.getComputedStyle(gd).display;\n",
       "        if (!display || display === 'none') {{\n",
       "            console.log([gd, 'removed!']);\n",
       "            Plotly.purge(gd);\n",
       "            observer.disconnect();\n",
       "        }}\n",
       "}});\n",
       "\n",
       "// Listen for the removal of the full notebook cells\n",
       "var notebookContainer = gd.closest('#notebook-container');\n",
       "if (notebookContainer) {{\n",
       "    x.observe(notebookContainer, {childList: true});\n",
       "}}\n",
       "\n",
       "// Listen for the clearing of the current output cell\n",
       "var outputEl = gd.closest('.output');\n",
       "if (outputEl) {{\n",
       "    x.observe(outputEl, {childList: true});\n",
       "}}\n",
       "\n",
       "                        })                };                });            </script>        </div>"
      ]
     },
     "metadata": {},
     "output_type": "display_data"
    }
   ],
   "source": [
    "import plotly.graph_objects as go\n",
    "from plotly.subplots import make_subplots\n",
    "\n",
    "#labels=df_final_cas_800['Cas'].tolist()\n",
    "\n",
    "fig = make_subplots(rows=1, cols=2, specs=[[{'type':'domain'}, {'type':'domain'}]])\n",
    "fig.add_trace(go.Pie(labels=df_final_cas_1100[\"Cas\"], values=df_final_cas_1100[\"Occ\"], name=\"1100-1149\"),\n",
    "              1, 1)\n",
    "fig.add_trace(go.Pie(labels=df_final_cas_1150['Cas'], values=df_final_cas_1150['Occ'], name=\"1150-1199\"),\n",
    "              1, 2)\n",
    "\n",
    "\n",
    "\n",
    "\n",
    "fig.update_traces(hole=.4)\n",
    "\n",
    "fig.update_layout(\n",
    "    title_text=\"Cas des adjectifs accordés à seruus entre 1100 et 1199\",\n",
    "    annotations=[dict(text='1100-1149', x=0.17, y=0.5, font_size=15, showarrow=False),\n",
    "                 dict(text='1150-1199', x=0.835, y=0.5, font_size=15, showarrow=False)])\n",
    "    \n",
    "fig.show()"
   ]
  },
  {
   "cell_type": "code",
   "execution_count": 129,
   "id": "5361f755",
   "metadata": {},
   "outputs": [
    {
     "data": {
      "application/vnd.plotly.v1+json": {
       "config": {
        "plotlyServerURL": "https://plot.ly"
       },
       "data": [
        {
         "domain": {
          "x": [
           0,
           0.45
          ],
          "y": [
           0,
           1
          ]
         },
         "hole": 0.4,
         "labels": [
          "acc_pl",
          "acc_sg",
          "gen_pl",
          "nom_sg"
         ],
         "name": "1200-1249",
         "type": "pie",
         "values": [
          41,
          11,
          18,
          50
         ]
        },
        {
         "domain": {
          "x": [
           0.55,
           1
          ],
          "y": [
           0,
           1
          ]
         },
         "hole": 0.4,
         "labels": [
          "acc_pl",
          "acc_sg",
          "gen_pl",
          "nom_sg"
         ],
         "name": "1250-1299",
         "type": "pie",
         "values": [
          23,
          11,
          16,
          39
         ]
        }
       ],
       "layout": {
        "annotations": [
         {
          "font": {
           "size": 15
          },
          "showarrow": false,
          "text": "1200-1249",
          "x": 0.17,
          "y": 0.5
         },
         {
          "font": {
           "size": 15
          },
          "showarrow": false,
          "text": "1250-1299",
          "x": 0.835,
          "y": 0.5
         }
        ],
        "template": {
         "data": {
          "bar": [
           {
            "error_x": {
             "color": "#2a3f5f"
            },
            "error_y": {
             "color": "#2a3f5f"
            },
            "marker": {
             "line": {
              "color": "#E5ECF6",
              "width": 0.5
             },
             "pattern": {
              "fillmode": "overlay",
              "size": 10,
              "solidity": 0.2
             }
            },
            "type": "bar"
           }
          ],
          "barpolar": [
           {
            "marker": {
             "line": {
              "color": "#E5ECF6",
              "width": 0.5
             },
             "pattern": {
              "fillmode": "overlay",
              "size": 10,
              "solidity": 0.2
             }
            },
            "type": "barpolar"
           }
          ],
          "carpet": [
           {
            "aaxis": {
             "endlinecolor": "#2a3f5f",
             "gridcolor": "white",
             "linecolor": "white",
             "minorgridcolor": "white",
             "startlinecolor": "#2a3f5f"
            },
            "baxis": {
             "endlinecolor": "#2a3f5f",
             "gridcolor": "white",
             "linecolor": "white",
             "minorgridcolor": "white",
             "startlinecolor": "#2a3f5f"
            },
            "type": "carpet"
           }
          ],
          "choropleth": [
           {
            "colorbar": {
             "outlinewidth": 0,
             "ticks": ""
            },
            "type": "choropleth"
           }
          ],
          "contour": [
           {
            "colorbar": {
             "outlinewidth": 0,
             "ticks": ""
            },
            "colorscale": [
             [
              0,
              "#0d0887"
             ],
             [
              0.1111111111111111,
              "#46039f"
             ],
             [
              0.2222222222222222,
              "#7201a8"
             ],
             [
              0.3333333333333333,
              "#9c179e"
             ],
             [
              0.4444444444444444,
              "#bd3786"
             ],
             [
              0.5555555555555556,
              "#d8576b"
             ],
             [
              0.6666666666666666,
              "#ed7953"
             ],
             [
              0.7777777777777778,
              "#fb9f3a"
             ],
             [
              0.8888888888888888,
              "#fdca26"
             ],
             [
              1,
              "#f0f921"
             ]
            ],
            "type": "contour"
           }
          ],
          "contourcarpet": [
           {
            "colorbar": {
             "outlinewidth": 0,
             "ticks": ""
            },
            "type": "contourcarpet"
           }
          ],
          "heatmap": [
           {
            "colorbar": {
             "outlinewidth": 0,
             "ticks": ""
            },
            "colorscale": [
             [
              0,
              "#0d0887"
             ],
             [
              0.1111111111111111,
              "#46039f"
             ],
             [
              0.2222222222222222,
              "#7201a8"
             ],
             [
              0.3333333333333333,
              "#9c179e"
             ],
             [
              0.4444444444444444,
              "#bd3786"
             ],
             [
              0.5555555555555556,
              "#d8576b"
             ],
             [
              0.6666666666666666,
              "#ed7953"
             ],
             [
              0.7777777777777778,
              "#fb9f3a"
             ],
             [
              0.8888888888888888,
              "#fdca26"
             ],
             [
              1,
              "#f0f921"
             ]
            ],
            "type": "heatmap"
           }
          ],
          "heatmapgl": [
           {
            "colorbar": {
             "outlinewidth": 0,
             "ticks": ""
            },
            "colorscale": [
             [
              0,
              "#0d0887"
             ],
             [
              0.1111111111111111,
              "#46039f"
             ],
             [
              0.2222222222222222,
              "#7201a8"
             ],
             [
              0.3333333333333333,
              "#9c179e"
             ],
             [
              0.4444444444444444,
              "#bd3786"
             ],
             [
              0.5555555555555556,
              "#d8576b"
             ],
             [
              0.6666666666666666,
              "#ed7953"
             ],
             [
              0.7777777777777778,
              "#fb9f3a"
             ],
             [
              0.8888888888888888,
              "#fdca26"
             ],
             [
              1,
              "#f0f921"
             ]
            ],
            "type": "heatmapgl"
           }
          ],
          "histogram": [
           {
            "marker": {
             "pattern": {
              "fillmode": "overlay",
              "size": 10,
              "solidity": 0.2
             }
            },
            "type": "histogram"
           }
          ],
          "histogram2d": [
           {
            "colorbar": {
             "outlinewidth": 0,
             "ticks": ""
            },
            "colorscale": [
             [
              0,
              "#0d0887"
             ],
             [
              0.1111111111111111,
              "#46039f"
             ],
             [
              0.2222222222222222,
              "#7201a8"
             ],
             [
              0.3333333333333333,
              "#9c179e"
             ],
             [
              0.4444444444444444,
              "#bd3786"
             ],
             [
              0.5555555555555556,
              "#d8576b"
             ],
             [
              0.6666666666666666,
              "#ed7953"
             ],
             [
              0.7777777777777778,
              "#fb9f3a"
             ],
             [
              0.8888888888888888,
              "#fdca26"
             ],
             [
              1,
              "#f0f921"
             ]
            ],
            "type": "histogram2d"
           }
          ],
          "histogram2dcontour": [
           {
            "colorbar": {
             "outlinewidth": 0,
             "ticks": ""
            },
            "colorscale": [
             [
              0,
              "#0d0887"
             ],
             [
              0.1111111111111111,
              "#46039f"
             ],
             [
              0.2222222222222222,
              "#7201a8"
             ],
             [
              0.3333333333333333,
              "#9c179e"
             ],
             [
              0.4444444444444444,
              "#bd3786"
             ],
             [
              0.5555555555555556,
              "#d8576b"
             ],
             [
              0.6666666666666666,
              "#ed7953"
             ],
             [
              0.7777777777777778,
              "#fb9f3a"
             ],
             [
              0.8888888888888888,
              "#fdca26"
             ],
             [
              1,
              "#f0f921"
             ]
            ],
            "type": "histogram2dcontour"
           }
          ],
          "mesh3d": [
           {
            "colorbar": {
             "outlinewidth": 0,
             "ticks": ""
            },
            "type": "mesh3d"
           }
          ],
          "parcoords": [
           {
            "line": {
             "colorbar": {
              "outlinewidth": 0,
              "ticks": ""
             }
            },
            "type": "parcoords"
           }
          ],
          "pie": [
           {
            "automargin": true,
            "type": "pie"
           }
          ],
          "scatter": [
           {
            "fillpattern": {
             "fillmode": "overlay",
             "size": 10,
             "solidity": 0.2
            },
            "type": "scatter"
           }
          ],
          "scatter3d": [
           {
            "line": {
             "colorbar": {
              "outlinewidth": 0,
              "ticks": ""
             }
            },
            "marker": {
             "colorbar": {
              "outlinewidth": 0,
              "ticks": ""
             }
            },
            "type": "scatter3d"
           }
          ],
          "scattercarpet": [
           {
            "marker": {
             "colorbar": {
              "outlinewidth": 0,
              "ticks": ""
             }
            },
            "type": "scattercarpet"
           }
          ],
          "scattergeo": [
           {
            "marker": {
             "colorbar": {
              "outlinewidth": 0,
              "ticks": ""
             }
            },
            "type": "scattergeo"
           }
          ],
          "scattergl": [
           {
            "marker": {
             "colorbar": {
              "outlinewidth": 0,
              "ticks": ""
             }
            },
            "type": "scattergl"
           }
          ],
          "scattermapbox": [
           {
            "marker": {
             "colorbar": {
              "outlinewidth": 0,
              "ticks": ""
             }
            },
            "type": "scattermapbox"
           }
          ],
          "scatterpolar": [
           {
            "marker": {
             "colorbar": {
              "outlinewidth": 0,
              "ticks": ""
             }
            },
            "type": "scatterpolar"
           }
          ],
          "scatterpolargl": [
           {
            "marker": {
             "colorbar": {
              "outlinewidth": 0,
              "ticks": ""
             }
            },
            "type": "scatterpolargl"
           }
          ],
          "scatterternary": [
           {
            "marker": {
             "colorbar": {
              "outlinewidth": 0,
              "ticks": ""
             }
            },
            "type": "scatterternary"
           }
          ],
          "surface": [
           {
            "colorbar": {
             "outlinewidth": 0,
             "ticks": ""
            },
            "colorscale": [
             [
              0,
              "#0d0887"
             ],
             [
              0.1111111111111111,
              "#46039f"
             ],
             [
              0.2222222222222222,
              "#7201a8"
             ],
             [
              0.3333333333333333,
              "#9c179e"
             ],
             [
              0.4444444444444444,
              "#bd3786"
             ],
             [
              0.5555555555555556,
              "#d8576b"
             ],
             [
              0.6666666666666666,
              "#ed7953"
             ],
             [
              0.7777777777777778,
              "#fb9f3a"
             ],
             [
              0.8888888888888888,
              "#fdca26"
             ],
             [
              1,
              "#f0f921"
             ]
            ],
            "type": "surface"
           }
          ],
          "table": [
           {
            "cells": {
             "fill": {
              "color": "#EBF0F8"
             },
             "line": {
              "color": "white"
             }
            },
            "header": {
             "fill": {
              "color": "#C8D4E3"
             },
             "line": {
              "color": "white"
             }
            },
            "type": "table"
           }
          ]
         },
         "layout": {
          "annotationdefaults": {
           "arrowcolor": "#2a3f5f",
           "arrowhead": 0,
           "arrowwidth": 1
          },
          "autotypenumbers": "strict",
          "coloraxis": {
           "colorbar": {
            "outlinewidth": 0,
            "ticks": ""
           }
          },
          "colorscale": {
           "diverging": [
            [
             0,
             "#8e0152"
            ],
            [
             0.1,
             "#c51b7d"
            ],
            [
             0.2,
             "#de77ae"
            ],
            [
             0.3,
             "#f1b6da"
            ],
            [
             0.4,
             "#fde0ef"
            ],
            [
             0.5,
             "#f7f7f7"
            ],
            [
             0.6,
             "#e6f5d0"
            ],
            [
             0.7,
             "#b8e186"
            ],
            [
             0.8,
             "#7fbc41"
            ],
            [
             0.9,
             "#4d9221"
            ],
            [
             1,
             "#276419"
            ]
           ],
           "sequential": [
            [
             0,
             "#0d0887"
            ],
            [
             0.1111111111111111,
             "#46039f"
            ],
            [
             0.2222222222222222,
             "#7201a8"
            ],
            [
             0.3333333333333333,
             "#9c179e"
            ],
            [
             0.4444444444444444,
             "#bd3786"
            ],
            [
             0.5555555555555556,
             "#d8576b"
            ],
            [
             0.6666666666666666,
             "#ed7953"
            ],
            [
             0.7777777777777778,
             "#fb9f3a"
            ],
            [
             0.8888888888888888,
             "#fdca26"
            ],
            [
             1,
             "#f0f921"
            ]
           ],
           "sequentialminus": [
            [
             0,
             "#0d0887"
            ],
            [
             0.1111111111111111,
             "#46039f"
            ],
            [
             0.2222222222222222,
             "#7201a8"
            ],
            [
             0.3333333333333333,
             "#9c179e"
            ],
            [
             0.4444444444444444,
             "#bd3786"
            ],
            [
             0.5555555555555556,
             "#d8576b"
            ],
            [
             0.6666666666666666,
             "#ed7953"
            ],
            [
             0.7777777777777778,
             "#fb9f3a"
            ],
            [
             0.8888888888888888,
             "#fdca26"
            ],
            [
             1,
             "#f0f921"
            ]
           ]
          },
          "colorway": [
           "#636efa",
           "#EF553B",
           "#00cc96",
           "#ab63fa",
           "#FFA15A",
           "#19d3f3",
           "#FF6692",
           "#B6E880",
           "#FF97FF",
           "#FECB52"
          ],
          "font": {
           "color": "#2a3f5f"
          },
          "geo": {
           "bgcolor": "white",
           "lakecolor": "white",
           "landcolor": "#E5ECF6",
           "showlakes": true,
           "showland": true,
           "subunitcolor": "white"
          },
          "hoverlabel": {
           "align": "left"
          },
          "hovermode": "closest",
          "mapbox": {
           "style": "light"
          },
          "paper_bgcolor": "white",
          "plot_bgcolor": "#E5ECF6",
          "polar": {
           "angularaxis": {
            "gridcolor": "white",
            "linecolor": "white",
            "ticks": ""
           },
           "bgcolor": "#E5ECF6",
           "radialaxis": {
            "gridcolor": "white",
            "linecolor": "white",
            "ticks": ""
           }
          },
          "scene": {
           "xaxis": {
            "backgroundcolor": "#E5ECF6",
            "gridcolor": "white",
            "gridwidth": 2,
            "linecolor": "white",
            "showbackground": true,
            "ticks": "",
            "zerolinecolor": "white"
           },
           "yaxis": {
            "backgroundcolor": "#E5ECF6",
            "gridcolor": "white",
            "gridwidth": 2,
            "linecolor": "white",
            "showbackground": true,
            "ticks": "",
            "zerolinecolor": "white"
           },
           "zaxis": {
            "backgroundcolor": "#E5ECF6",
            "gridcolor": "white",
            "gridwidth": 2,
            "linecolor": "white",
            "showbackground": true,
            "ticks": "",
            "zerolinecolor": "white"
           }
          },
          "shapedefaults": {
           "line": {
            "color": "#2a3f5f"
           }
          },
          "ternary": {
           "aaxis": {
            "gridcolor": "white",
            "linecolor": "white",
            "ticks": ""
           },
           "baxis": {
            "gridcolor": "white",
            "linecolor": "white",
            "ticks": ""
           },
           "bgcolor": "#E5ECF6",
           "caxis": {
            "gridcolor": "white",
            "linecolor": "white",
            "ticks": ""
           }
          },
          "title": {
           "x": 0.05
          },
          "xaxis": {
           "automargin": true,
           "gridcolor": "white",
           "linecolor": "white",
           "ticks": "",
           "title": {
            "standoff": 15
           },
           "zerolinecolor": "white",
           "zerolinewidth": 2
          },
          "yaxis": {
           "automargin": true,
           "gridcolor": "white",
           "linecolor": "white",
           "ticks": "",
           "title": {
            "standoff": 15
           },
           "zerolinecolor": "white",
           "zerolinewidth": 2
          }
         }
        },
        "title": {
         "text": "Cas des adjectifs accordés à seruus entre 1200 et 1299"
        }
       }
      },
      "text/html": [
       "<div>                            <div id=\"1590f2e4-9826-4e61-8a44-eebd9372a02b\" class=\"plotly-graph-div\" style=\"height:525px; width:100%;\"></div>            <script type=\"text/javascript\">                require([\"plotly\"], function(Plotly) {                    window.PLOTLYENV=window.PLOTLYENV || {};                                    if (document.getElementById(\"1590f2e4-9826-4e61-8a44-eebd9372a02b\")) {                    Plotly.newPlot(                        \"1590f2e4-9826-4e61-8a44-eebd9372a02b\",                        [{\"labels\":[\"acc_pl\",\"acc_sg\",\"gen_pl\",\"nom_sg\"],\"name\":\"1200-1249\",\"values\":[41,11,18,50],\"type\":\"pie\",\"domain\":{\"x\":[0.0,0.45],\"y\":[0.0,1.0]},\"hole\":0.4},{\"labels\":[\"acc_pl\",\"acc_sg\",\"gen_pl\",\"nom_sg\"],\"name\":\"1250-1299\",\"values\":[23,11,16,39],\"type\":\"pie\",\"domain\":{\"x\":[0.55,1.0],\"y\":[0.0,1.0]},\"hole\":0.4}],                        {\"template\":{\"data\":{\"histogram2dcontour\":[{\"type\":\"histogram2dcontour\",\"colorbar\":{\"outlinewidth\":0,\"ticks\":\"\"},\"colorscale\":[[0.0,\"#0d0887\"],[0.1111111111111111,\"#46039f\"],[0.2222222222222222,\"#7201a8\"],[0.3333333333333333,\"#9c179e\"],[0.4444444444444444,\"#bd3786\"],[0.5555555555555556,\"#d8576b\"],[0.6666666666666666,\"#ed7953\"],[0.7777777777777778,\"#fb9f3a\"],[0.8888888888888888,\"#fdca26\"],[1.0,\"#f0f921\"]]}],\"choropleth\":[{\"type\":\"choropleth\",\"colorbar\":{\"outlinewidth\":0,\"ticks\":\"\"}}],\"histogram2d\":[{\"type\":\"histogram2d\",\"colorbar\":{\"outlinewidth\":0,\"ticks\":\"\"},\"colorscale\":[[0.0,\"#0d0887\"],[0.1111111111111111,\"#46039f\"],[0.2222222222222222,\"#7201a8\"],[0.3333333333333333,\"#9c179e\"],[0.4444444444444444,\"#bd3786\"],[0.5555555555555556,\"#d8576b\"],[0.6666666666666666,\"#ed7953\"],[0.7777777777777778,\"#fb9f3a\"],[0.8888888888888888,\"#fdca26\"],[1.0,\"#f0f921\"]]}],\"heatmap\":[{\"type\":\"heatmap\",\"colorbar\":{\"outlinewidth\":0,\"ticks\":\"\"},\"colorscale\":[[0.0,\"#0d0887\"],[0.1111111111111111,\"#46039f\"],[0.2222222222222222,\"#7201a8\"],[0.3333333333333333,\"#9c179e\"],[0.4444444444444444,\"#bd3786\"],[0.5555555555555556,\"#d8576b\"],[0.6666666666666666,\"#ed7953\"],[0.7777777777777778,\"#fb9f3a\"],[0.8888888888888888,\"#fdca26\"],[1.0,\"#f0f921\"]]}],\"heatmapgl\":[{\"type\":\"heatmapgl\",\"colorbar\":{\"outlinewidth\":0,\"ticks\":\"\"},\"colorscale\":[[0.0,\"#0d0887\"],[0.1111111111111111,\"#46039f\"],[0.2222222222222222,\"#7201a8\"],[0.3333333333333333,\"#9c179e\"],[0.4444444444444444,\"#bd3786\"],[0.5555555555555556,\"#d8576b\"],[0.6666666666666666,\"#ed7953\"],[0.7777777777777778,\"#fb9f3a\"],[0.8888888888888888,\"#fdca26\"],[1.0,\"#f0f921\"]]}],\"contourcarpet\":[{\"type\":\"contourcarpet\",\"colorbar\":{\"outlinewidth\":0,\"ticks\":\"\"}}],\"contour\":[{\"type\":\"contour\",\"colorbar\":{\"outlinewidth\":0,\"ticks\":\"\"},\"colorscale\":[[0.0,\"#0d0887\"],[0.1111111111111111,\"#46039f\"],[0.2222222222222222,\"#7201a8\"],[0.3333333333333333,\"#9c179e\"],[0.4444444444444444,\"#bd3786\"],[0.5555555555555556,\"#d8576b\"],[0.6666666666666666,\"#ed7953\"],[0.7777777777777778,\"#fb9f3a\"],[0.8888888888888888,\"#fdca26\"],[1.0,\"#f0f921\"]]}],\"surface\":[{\"type\":\"surface\",\"colorbar\":{\"outlinewidth\":0,\"ticks\":\"\"},\"colorscale\":[[0.0,\"#0d0887\"],[0.1111111111111111,\"#46039f\"],[0.2222222222222222,\"#7201a8\"],[0.3333333333333333,\"#9c179e\"],[0.4444444444444444,\"#bd3786\"],[0.5555555555555556,\"#d8576b\"],[0.6666666666666666,\"#ed7953\"],[0.7777777777777778,\"#fb9f3a\"],[0.8888888888888888,\"#fdca26\"],[1.0,\"#f0f921\"]]}],\"mesh3d\":[{\"type\":\"mesh3d\",\"colorbar\":{\"outlinewidth\":0,\"ticks\":\"\"}}],\"scatter\":[{\"fillpattern\":{\"fillmode\":\"overlay\",\"size\":10,\"solidity\":0.2},\"type\":\"scatter\"}],\"parcoords\":[{\"type\":\"parcoords\",\"line\":{\"colorbar\":{\"outlinewidth\":0,\"ticks\":\"\"}}}],\"scatterpolargl\":[{\"type\":\"scatterpolargl\",\"marker\":{\"colorbar\":{\"outlinewidth\":0,\"ticks\":\"\"}}}],\"bar\":[{\"error_x\":{\"color\":\"#2a3f5f\"},\"error_y\":{\"color\":\"#2a3f5f\"},\"marker\":{\"line\":{\"color\":\"#E5ECF6\",\"width\":0.5},\"pattern\":{\"fillmode\":\"overlay\",\"size\":10,\"solidity\":0.2}},\"type\":\"bar\"}],\"scattergeo\":[{\"type\":\"scattergeo\",\"marker\":{\"colorbar\":{\"outlinewidth\":0,\"ticks\":\"\"}}}],\"scatterpolar\":[{\"type\":\"scatterpolar\",\"marker\":{\"colorbar\":{\"outlinewidth\":0,\"ticks\":\"\"}}}],\"histogram\":[{\"marker\":{\"pattern\":{\"fillmode\":\"overlay\",\"size\":10,\"solidity\":0.2}},\"type\":\"histogram\"}],\"scattergl\":[{\"type\":\"scattergl\",\"marker\":{\"colorbar\":{\"outlinewidth\":0,\"ticks\":\"\"}}}],\"scatter3d\":[{\"type\":\"scatter3d\",\"line\":{\"colorbar\":{\"outlinewidth\":0,\"ticks\":\"\"}},\"marker\":{\"colorbar\":{\"outlinewidth\":0,\"ticks\":\"\"}}}],\"scattermapbox\":[{\"type\":\"scattermapbox\",\"marker\":{\"colorbar\":{\"outlinewidth\":0,\"ticks\":\"\"}}}],\"scatterternary\":[{\"type\":\"scatterternary\",\"marker\":{\"colorbar\":{\"outlinewidth\":0,\"ticks\":\"\"}}}],\"scattercarpet\":[{\"type\":\"scattercarpet\",\"marker\":{\"colorbar\":{\"outlinewidth\":0,\"ticks\":\"\"}}}],\"carpet\":[{\"aaxis\":{\"endlinecolor\":\"#2a3f5f\",\"gridcolor\":\"white\",\"linecolor\":\"white\",\"minorgridcolor\":\"white\",\"startlinecolor\":\"#2a3f5f\"},\"baxis\":{\"endlinecolor\":\"#2a3f5f\",\"gridcolor\":\"white\",\"linecolor\":\"white\",\"minorgridcolor\":\"white\",\"startlinecolor\":\"#2a3f5f\"},\"type\":\"carpet\"}],\"table\":[{\"cells\":{\"fill\":{\"color\":\"#EBF0F8\"},\"line\":{\"color\":\"white\"}},\"header\":{\"fill\":{\"color\":\"#C8D4E3\"},\"line\":{\"color\":\"white\"}},\"type\":\"table\"}],\"barpolar\":[{\"marker\":{\"line\":{\"color\":\"#E5ECF6\",\"width\":0.5},\"pattern\":{\"fillmode\":\"overlay\",\"size\":10,\"solidity\":0.2}},\"type\":\"barpolar\"}],\"pie\":[{\"automargin\":true,\"type\":\"pie\"}]},\"layout\":{\"autotypenumbers\":\"strict\",\"colorway\":[\"#636efa\",\"#EF553B\",\"#00cc96\",\"#ab63fa\",\"#FFA15A\",\"#19d3f3\",\"#FF6692\",\"#B6E880\",\"#FF97FF\",\"#FECB52\"],\"font\":{\"color\":\"#2a3f5f\"},\"hovermode\":\"closest\",\"hoverlabel\":{\"align\":\"left\"},\"paper_bgcolor\":\"white\",\"plot_bgcolor\":\"#E5ECF6\",\"polar\":{\"bgcolor\":\"#E5ECF6\",\"angularaxis\":{\"gridcolor\":\"white\",\"linecolor\":\"white\",\"ticks\":\"\"},\"radialaxis\":{\"gridcolor\":\"white\",\"linecolor\":\"white\",\"ticks\":\"\"}},\"ternary\":{\"bgcolor\":\"#E5ECF6\",\"aaxis\":{\"gridcolor\":\"white\",\"linecolor\":\"white\",\"ticks\":\"\"},\"baxis\":{\"gridcolor\":\"white\",\"linecolor\":\"white\",\"ticks\":\"\"},\"caxis\":{\"gridcolor\":\"white\",\"linecolor\":\"white\",\"ticks\":\"\"}},\"coloraxis\":{\"colorbar\":{\"outlinewidth\":0,\"ticks\":\"\"}},\"colorscale\":{\"sequential\":[[0.0,\"#0d0887\"],[0.1111111111111111,\"#46039f\"],[0.2222222222222222,\"#7201a8\"],[0.3333333333333333,\"#9c179e\"],[0.4444444444444444,\"#bd3786\"],[0.5555555555555556,\"#d8576b\"],[0.6666666666666666,\"#ed7953\"],[0.7777777777777778,\"#fb9f3a\"],[0.8888888888888888,\"#fdca26\"],[1.0,\"#f0f921\"]],\"sequentialminus\":[[0.0,\"#0d0887\"],[0.1111111111111111,\"#46039f\"],[0.2222222222222222,\"#7201a8\"],[0.3333333333333333,\"#9c179e\"],[0.4444444444444444,\"#bd3786\"],[0.5555555555555556,\"#d8576b\"],[0.6666666666666666,\"#ed7953\"],[0.7777777777777778,\"#fb9f3a\"],[0.8888888888888888,\"#fdca26\"],[1.0,\"#f0f921\"]],\"diverging\":[[0,\"#8e0152\"],[0.1,\"#c51b7d\"],[0.2,\"#de77ae\"],[0.3,\"#f1b6da\"],[0.4,\"#fde0ef\"],[0.5,\"#f7f7f7\"],[0.6,\"#e6f5d0\"],[0.7,\"#b8e186\"],[0.8,\"#7fbc41\"],[0.9,\"#4d9221\"],[1,\"#276419\"]]},\"xaxis\":{\"gridcolor\":\"white\",\"linecolor\":\"white\",\"ticks\":\"\",\"title\":{\"standoff\":15},\"zerolinecolor\":\"white\",\"automargin\":true,\"zerolinewidth\":2},\"yaxis\":{\"gridcolor\":\"white\",\"linecolor\":\"white\",\"ticks\":\"\",\"title\":{\"standoff\":15},\"zerolinecolor\":\"white\",\"automargin\":true,\"zerolinewidth\":2},\"scene\":{\"xaxis\":{\"backgroundcolor\":\"#E5ECF6\",\"gridcolor\":\"white\",\"linecolor\":\"white\",\"showbackground\":true,\"ticks\":\"\",\"zerolinecolor\":\"white\",\"gridwidth\":2},\"yaxis\":{\"backgroundcolor\":\"#E5ECF6\",\"gridcolor\":\"white\",\"linecolor\":\"white\",\"showbackground\":true,\"ticks\":\"\",\"zerolinecolor\":\"white\",\"gridwidth\":2},\"zaxis\":{\"backgroundcolor\":\"#E5ECF6\",\"gridcolor\":\"white\",\"linecolor\":\"white\",\"showbackground\":true,\"ticks\":\"\",\"zerolinecolor\":\"white\",\"gridwidth\":2}},\"shapedefaults\":{\"line\":{\"color\":\"#2a3f5f\"}},\"annotationdefaults\":{\"arrowcolor\":\"#2a3f5f\",\"arrowhead\":0,\"arrowwidth\":1},\"geo\":{\"bgcolor\":\"white\",\"landcolor\":\"#E5ECF6\",\"subunitcolor\":\"white\",\"showland\":true,\"showlakes\":true,\"lakecolor\":\"white\"},\"title\":{\"x\":0.05},\"mapbox\":{\"style\":\"light\"}}},\"title\":{\"text\":\"Cas des adjectifs accord\\u00e9s \\u00e0 seruus entre 1200 et 1299\"},\"annotations\":[{\"showarrow\":false,\"text\":\"1200-1249\",\"x\":0.17,\"y\":0.5,\"font\":{\"size\":15}},{\"showarrow\":false,\"text\":\"1250-1299\",\"x\":0.835,\"y\":0.5,\"font\":{\"size\":15}}]},                        {\"responsive\": true}                    ).then(function(){\n",
       "                            \n",
       "var gd = document.getElementById('1590f2e4-9826-4e61-8a44-eebd9372a02b');\n",
       "var x = new MutationObserver(function (mutations, observer) {{\n",
       "        var display = window.getComputedStyle(gd).display;\n",
       "        if (!display || display === 'none') {{\n",
       "            console.log([gd, 'removed!']);\n",
       "            Plotly.purge(gd);\n",
       "            observer.disconnect();\n",
       "        }}\n",
       "}});\n",
       "\n",
       "// Listen for the removal of the full notebook cells\n",
       "var notebookContainer = gd.closest('#notebook-container');\n",
       "if (notebookContainer) {{\n",
       "    x.observe(notebookContainer, {childList: true});\n",
       "}}\n",
       "\n",
       "// Listen for the clearing of the current output cell\n",
       "var outputEl = gd.closest('.output');\n",
       "if (outputEl) {{\n",
       "    x.observe(outputEl, {childList: true});\n",
       "}}\n",
       "\n",
       "                        })                };                });            </script>        </div>"
      ]
     },
     "metadata": {},
     "output_type": "display_data"
    }
   ],
   "source": [
    "import plotly.graph_objects as go\n",
    "from plotly.subplots import make_subplots\n",
    "\n",
    "#labels=df_final_cas_800['Cas'].tolist()\n",
    "\n",
    "fig = make_subplots(rows=1, cols=2, specs=[[{'type':'domain'}, {'type':'domain'}]])\n",
    "fig.add_trace(go.Pie(labels=df_final_cas_1200[\"Cas\"], values=df_final_cas_1200[\"Occ\"], name=\"1200-1249\"),\n",
    "              1, 1)\n",
    "fig.add_trace(go.Pie(labels=df_final_cas_1250['Cas'], values=df_final_cas_1250['Occ'], name=\"1250-1299\"),\n",
    "              1, 2)\n",
    "\n",
    "\n",
    "\n",
    "\n",
    "fig.update_traces(hole=.4)\n",
    "\n",
    "fig.update_layout(\n",
    "    title_text=\"Cas des adjectifs accordés à seruus entre 1200 et 1299\",\n",
    "    annotations=[dict(text='1200-1249', x=0.17, y=0.5, font_size=15, showarrow=False),\n",
    "                 dict(text='1250-1299', x=0.835, y=0.5, font_size=15, showarrow=False)])\n",
    "    \n",
    "fig.show()"
   ]
  },
  {
   "cell_type": "code",
   "execution_count": 425,
   "id": "4337ecdd",
   "metadata": {},
   "outputs": [
    {
     "name": "stderr",
     "output_type": "stream",
     "text": [
      "/tmp/ipykernel_6101/2863988259.py:8: SettingWithCopyWarning:\n",
      "\n",
      "\n",
      "A value is trying to be set on a copy of a slice from a DataFrame\n",
      "\n",
      "See the caveats in the documentation: https://pandas.pydata.org/pandas-docs/stable/user_guide/indexing.html#returning-a-view-versus-a-copy\n",
      "\n"
     ]
    }
   ],
   "source": [
    "df_test = df_test[['forme','cas']]\n",
    "lol = df_test['forme'].value_counts().rename_axis('forme').to_frame('Occ')\n",
    "lol = lol.reset_index()\n",
    "lol['cas'] = ''\n",
    "for i in range(len(lol)):\n",
    "    for j in range(len(df_test)):\n",
    "        if lol['forme'][i] == df_test['forme'][j]:\n",
    "            lol['cas'][i] = df_test['cas'][j]"
   ]
  },
  {
   "cell_type": "code",
   "execution_count": 426,
   "id": "64836249",
   "metadata": {},
   "outputs": [
    {
     "name": "stderr",
     "output_type": "stream",
     "text": [
      "/tmp/ipykernel_6101/710730148.py:4: SettingWithCopyWarning:\n",
      "\n",
      "\n",
      "A value is trying to be set on a copy of a slice from a DataFrame\n",
      "\n",
      "See the caveats in the documentation: https://pandas.pydata.org/pandas-docs/stable/user_guide/indexing.html#returning-a-view-versus-a-copy\n",
      "\n"
     ]
    }
   ],
   "source": [
    "for i in range(len(lol)):\n",
    "    \n",
    "    if lol['forme'][i].startswith(' '):\n",
    "        lol['forme'][i] = lol['forme'][i][1:]\n",
    "    "
   ]
  },
  {
   "cell_type": "code",
   "execution_count": 427,
   "id": "5940f1a1",
   "metadata": {},
   "outputs": [
    {
     "name": "stderr",
     "output_type": "stream",
     "text": [
      "/tmp/ipykernel_6101/4016943732.py:7: SettingWithCopyWarning:\n",
      "\n",
      "\n",
      "A value is trying to be set on a copy of a slice from a DataFrame\n",
      "\n",
      "See the caveats in the documentation: https://pandas.pydata.org/pandas-docs/stable/user_guide/indexing.html#returning-a-view-versus-a-copy\n",
      "\n",
      "/tmp/ipykernel_6101/4016943732.py:4: SettingWithCopyWarning:\n",
      "\n",
      "\n",
      "A value is trying to be set on a copy of a slice from a DataFrame\n",
      "\n",
      "See the caveats in the documentation: https://pandas.pydata.org/pandas-docs/stable/user_guide/indexing.html#returning-a-view-versus-a-copy\n",
      "\n"
     ]
    }
   ],
   "source": [
    "for i in range(len(lol)):\n",
    "    \n",
    "    if lol['forme'][i].endswith(('orum','ibus')):\n",
    "        lol['forme'][i] = lol['forme'][i][:-4]\n",
    "\n",
    "    elif lol['forme'][i].endswith(('us','er','is','os','um','es')):\n",
    "        lol['forme'][i] = lol['forme'][i][:-2]\n",
    "    elif lol['forme'][i].endswith(('i','o')):\n",
    "        lol['forme'][i] = lol['forme'][i][:-1]\n",
    "\n",
    "      \n"
   ]
  },
  {
   "cell_type": "code",
   "execution_count": 428,
   "id": "251f5fa1",
   "metadata": {},
   "outputs": [
    {
     "name": "stderr",
     "output_type": "stream",
     "text": [
      "/tmp/ipykernel_6101/1746373918.py:3: SettingWithCopyWarning:\n",
      "\n",
      "\n",
      "A value is trying to be set on a copy of a slice from a DataFrame\n",
      "\n",
      "See the caveats in the documentation: https://pandas.pydata.org/pandas-docs/stable/user_guide/indexing.html#returning-a-view-versus-a-copy\n",
      "\n"
     ]
    }
   ],
   "source": [
    "for i in range(len(lol)):\n",
    "    if lol['forme'][i].endswith('r'):\n",
    "        lol['forme'][i] = lol['forme'][i][:-1]"
   ]
  },
  {
   "cell_type": "code",
   "execution_count": 430,
   "id": "0b18a690",
   "metadata": {},
   "outputs": [
    {
     "data": {
      "text/plain": [
       "0      0\n",
       "1      1\n",
       "2      2\n",
       "3      3\n",
       "4      4\n",
       "5      5\n",
       "6      6\n",
       "7      7\n",
       "8      8\n",
       "9      9\n",
       "10    10\n",
       "11    11\n",
       "12    12\n",
       "13    13\n",
       "14    14\n",
       "15    15\n",
       "16    16\n",
       "17    17\n",
       "18    18\n",
       "19    19\n",
       "20    20\n",
       "21    21\n",
       "22    27\n",
       "23    26\n",
       "24    25\n",
       "25    24\n",
       "26    23\n",
       "27    22\n",
       "28    28\n",
       "29    29\n",
       "30    30\n",
       "31    31\n",
       "32    32\n",
       "33    33\n",
       "34    34\n",
       "35    35\n",
       "36    36\n",
       "37    38\n",
       "38    37\n",
       "39    39\n",
       "40    40\n",
       "41    41\n",
       "42    42\n",
       "43    43\n",
       "44    44\n",
       "45    45\n",
       "46    46\n",
       "47    47\n",
       "48    48\n",
       "49    49\n",
       "Name: index, dtype: int64"
      ]
     },
     "execution_count": 430,
     "metadata": {},
     "output_type": "execute_result"
    }
   ],
   "source": [
    "lol = lol.sort_values(by='forme')\n",
    "lol = lol.reset_index()\n",
    "lol.pop('index')"
   ]
  },
  {
   "cell_type": "code",
   "execution_count": 431,
   "id": "725e3edc",
   "metadata": {},
   "outputs": [
    {
     "name": "stderr",
     "output_type": "stream",
     "text": [
      "/tmp/ipykernel_6101/4107684610.py:3: SettingWithCopyWarning:\n",
      "\n",
      "\n",
      "A value is trying to be set on a copy of a slice from a DataFrame\n",
      "\n",
      "See the caveats in the documentation: https://pandas.pydata.org/pandas-docs/stable/user_guide/indexing.html#returning-a-view-versus-a-copy\n",
      "\n"
     ]
    }
   ],
   "source": [
    "for i in range(len(lol)-1):\n",
    "    if lol['forme'][i+1] == lol['forme'][i]:\n",
    "        lol['Occ'][i+1] = lol['Occ'][i+1] + lol['Occ'][i]\n",
    "lol = lol.drop_duplicates(subset ='forme', keep='last')"
   ]
  },
  {
   "cell_type": "code",
   "execution_count": 442,
   "id": "8344833f",
   "metadata": {},
   "outputs": [
    {
     "ename": "ValueError",
     "evalue": "cannot insert level_0, already exists",
     "output_type": "error",
     "traceback": [
      "\u001b[0;31m---------------------------------------------------------------------------\u001b[0m",
      "\u001b[0;31mValueError\u001b[0m                                Traceback (most recent call last)",
      "Input \u001b[0;32mIn [442]\u001b[0m, in \u001b[0;36m<module>\u001b[0;34m\u001b[0m\n\u001b[0;32m----> 1\u001b[0m lol \u001b[38;5;241m=\u001b[39m \u001b[43mlol\u001b[49m\u001b[38;5;241;43m.\u001b[39;49m\u001b[43msort_values\u001b[49m\u001b[43m(\u001b[49m\u001b[43mby\u001b[49m\u001b[38;5;241;43m=\u001b[39;49m\u001b[38;5;124;43m'\u001b[39;49m\u001b[38;5;124;43mOcc\u001b[39;49m\u001b[38;5;124;43m'\u001b[39;49m\u001b[43m,\u001b[49m\u001b[43m \u001b[49m\u001b[43mascending\u001b[49m\u001b[38;5;241;43m=\u001b[39;49m\u001b[38;5;28;43;01mFalse\u001b[39;49;00m\u001b[43m)\u001b[49m\u001b[38;5;241;43m.\u001b[39;49m\u001b[43mreset_index\u001b[49m\u001b[43m(\u001b[49m\u001b[43m)\u001b[49m\n",
      "File \u001b[0;32m~/python/miniconda/lib/python3.9/site-packages/pandas/util/_decorators.py:311\u001b[0m, in \u001b[0;36mdeprecate_nonkeyword_arguments.<locals>.decorate.<locals>.wrapper\u001b[0;34m(*args, **kwargs)\u001b[0m\n\u001b[1;32m    305\u001b[0m \u001b[38;5;28;01mif\u001b[39;00m \u001b[38;5;28mlen\u001b[39m(args) \u001b[38;5;241m>\u001b[39m num_allow_args:\n\u001b[1;32m    306\u001b[0m     warnings\u001b[38;5;241m.\u001b[39mwarn(\n\u001b[1;32m    307\u001b[0m         msg\u001b[38;5;241m.\u001b[39mformat(arguments\u001b[38;5;241m=\u001b[39marguments),\n\u001b[1;32m    308\u001b[0m         \u001b[38;5;167;01mFutureWarning\u001b[39;00m,\n\u001b[1;32m    309\u001b[0m         stacklevel\u001b[38;5;241m=\u001b[39mstacklevel,\n\u001b[1;32m    310\u001b[0m     )\n\u001b[0;32m--> 311\u001b[0m \u001b[38;5;28;01mreturn\u001b[39;00m \u001b[43mfunc\u001b[49m\u001b[43m(\u001b[49m\u001b[38;5;241;43m*\u001b[39;49m\u001b[43margs\u001b[49m\u001b[43m,\u001b[49m\u001b[43m \u001b[49m\u001b[38;5;241;43m*\u001b[39;49m\u001b[38;5;241;43m*\u001b[39;49m\u001b[43mkwargs\u001b[49m\u001b[43m)\u001b[49m\n",
      "File \u001b[0;32m~/python/miniconda/lib/python3.9/site-packages/pandas/core/frame.py:5833\u001b[0m, in \u001b[0;36mDataFrame.reset_index\u001b[0;34m(self, level, drop, inplace, col_level, col_fill)\u001b[0m\n\u001b[1;32m   5827\u001b[0m         \u001b[38;5;28;01mif\u001b[39;00m lab \u001b[38;5;129;01mis\u001b[39;00m \u001b[38;5;129;01mnot\u001b[39;00m \u001b[38;5;28;01mNone\u001b[39;00m:\n\u001b[1;32m   5828\u001b[0m             \u001b[38;5;66;03m# if we have the codes, extract the values with a mask\u001b[39;00m\n\u001b[1;32m   5829\u001b[0m             level_values \u001b[38;5;241m=\u001b[39m algorithms\u001b[38;5;241m.\u001b[39mtake(\n\u001b[1;32m   5830\u001b[0m                 level_values, lab, allow_fill\u001b[38;5;241m=\u001b[39m\u001b[38;5;28;01mTrue\u001b[39;00m, fill_value\u001b[38;5;241m=\u001b[39mlev\u001b[38;5;241m.\u001b[39m_na_value\n\u001b[1;32m   5831\u001b[0m             )\n\u001b[0;32m-> 5833\u001b[0m         \u001b[43mnew_obj\u001b[49m\u001b[38;5;241;43m.\u001b[39;49m\u001b[43minsert\u001b[49m\u001b[43m(\u001b[49m\u001b[38;5;241;43m0\u001b[39;49m\u001b[43m,\u001b[49m\u001b[43m \u001b[49m\u001b[43mname\u001b[49m\u001b[43m,\u001b[49m\u001b[43m \u001b[49m\u001b[43mlevel_values\u001b[49m\u001b[43m)\u001b[49m\n\u001b[1;32m   5835\u001b[0m new_obj\u001b[38;5;241m.\u001b[39mindex \u001b[38;5;241m=\u001b[39m new_index\n\u001b[1;32m   5836\u001b[0m \u001b[38;5;28;01mif\u001b[39;00m \u001b[38;5;129;01mnot\u001b[39;00m inplace:\n",
      "File \u001b[0;32m~/python/miniconda/lib/python3.9/site-packages/pandas/core/frame.py:4434\u001b[0m, in \u001b[0;36mDataFrame.insert\u001b[0;34m(self, loc, column, value, allow_duplicates)\u001b[0m\n\u001b[1;32m   4428\u001b[0m     \u001b[38;5;28;01mraise\u001b[39;00m \u001b[38;5;167;01mValueError\u001b[39;00m(\n\u001b[1;32m   4429\u001b[0m         \u001b[38;5;124m\"\u001b[39m\u001b[38;5;124mCannot specify \u001b[39m\u001b[38;5;124m'\u001b[39m\u001b[38;5;124mallow_duplicates=True\u001b[39m\u001b[38;5;124m'\u001b[39m\u001b[38;5;124m when \u001b[39m\u001b[38;5;124m\"\u001b[39m\n\u001b[1;32m   4430\u001b[0m         \u001b[38;5;124m\"\u001b[39m\u001b[38;5;124m'\u001b[39m\u001b[38;5;124mself.flags.allows_duplicate_labels\u001b[39m\u001b[38;5;124m'\u001b[39m\u001b[38;5;124m is False.\u001b[39m\u001b[38;5;124m\"\u001b[39m\n\u001b[1;32m   4431\u001b[0m     )\n\u001b[1;32m   4432\u001b[0m \u001b[38;5;28;01mif\u001b[39;00m \u001b[38;5;129;01mnot\u001b[39;00m allow_duplicates \u001b[38;5;129;01mand\u001b[39;00m column \u001b[38;5;129;01min\u001b[39;00m \u001b[38;5;28mself\u001b[39m\u001b[38;5;241m.\u001b[39mcolumns:\n\u001b[1;32m   4433\u001b[0m     \u001b[38;5;66;03m# Should this be a different kind of error??\u001b[39;00m\n\u001b[0;32m-> 4434\u001b[0m     \u001b[38;5;28;01mraise\u001b[39;00m \u001b[38;5;167;01mValueError\u001b[39;00m(\u001b[38;5;124mf\u001b[39m\u001b[38;5;124m\"\u001b[39m\u001b[38;5;124mcannot insert \u001b[39m\u001b[38;5;132;01m{\u001b[39;00mcolumn\u001b[38;5;132;01m}\u001b[39;00m\u001b[38;5;124m, already exists\u001b[39m\u001b[38;5;124m\"\u001b[39m)\n\u001b[1;32m   4435\u001b[0m \u001b[38;5;28;01mif\u001b[39;00m \u001b[38;5;129;01mnot\u001b[39;00m \u001b[38;5;28misinstance\u001b[39m(loc, \u001b[38;5;28mint\u001b[39m):\n\u001b[1;32m   4436\u001b[0m     \u001b[38;5;28;01mraise\u001b[39;00m \u001b[38;5;167;01mTypeError\u001b[39;00m(\u001b[38;5;124m\"\u001b[39m\u001b[38;5;124mloc must be int\u001b[39m\u001b[38;5;124m\"\u001b[39m)\n",
      "\u001b[0;31mValueError\u001b[0m: cannot insert level_0, already exists"
     ]
    }
   ],
   "source": [
    "lol = lol.sort_values(by='Occ', ascending=False).reset_index()\n"
   ]
  },
  {
   "cell_type": "code",
   "execution_count": 444,
   "id": "d79c2695",
   "metadata": {},
   "outputs": [
    {
     "data": {
      "text/plain": [
       "0     15\n",
       "1     27\n",
       "2     31\n",
       "3     42\n",
       "4     49\n",
       "5      2\n",
       "6     35\n",
       "7     11\n",
       "8     20\n",
       "9      4\n",
       "10    38\n",
       "11    32\n",
       "12    28\n",
       "13    17\n",
       "14    47\n",
       "15     8\n",
       "16    10\n",
       "17    12\n",
       "18    13\n",
       "19     7\n",
       "20    16\n",
       "21    18\n",
       "22     1\n",
       "23    21\n",
       "24     6\n",
       "25    45\n",
       "26    30\n",
       "27    29\n",
       "28    36\n",
       "29    39\n",
       "30     3\n",
       "31    43\n",
       "32    44\n",
       "33     5\n",
       "34     9\n",
       "35     0\n",
       "Name: index, dtype: int64"
      ]
     },
     "execution_count": 444,
     "metadata": {},
     "output_type": "execute_result"
    }
   ],
   "source": [
    "lol.pop('index')"
   ]
  },
  {
   "cell_type": "code",
   "execution_count": 445,
   "id": "27812cdb",
   "metadata": {},
   "outputs": [
    {
     "data": {
      "text/plain": [
       "0      0\n",
       "1      1\n",
       "2      2\n",
       "3      3\n",
       "4      4\n",
       "5      5\n",
       "6      6\n",
       "7      7\n",
       "8      8\n",
       "9      9\n",
       "10    13\n",
       "11    15\n",
       "12    14\n",
       "13    12\n",
       "14    11\n",
       "15    10\n",
       "16    26\n",
       "17    34\n",
       "18    33\n",
       "19    32\n",
       "20    31\n",
       "21    30\n",
       "22    29\n",
       "23    28\n",
       "24    27\n",
       "25    18\n",
       "26    25\n",
       "27    24\n",
       "28    23\n",
       "29    22\n",
       "30    21\n",
       "31    20\n",
       "32    19\n",
       "33    17\n",
       "34    16\n",
       "35    35\n",
       "Name: level_0, dtype: int64"
      ]
     },
     "execution_count": 445,
     "metadata": {},
     "output_type": "execute_result"
    }
   ],
   "source": [
    "lol.pop('level_0')"
   ]
  },
  {
   "cell_type": "code",
   "execution_count": 462,
   "id": "95d9b204",
   "metadata": {},
   "outputs": [],
   "source": [
    "def liste_qlf(liste1,liste2):\n",
    "    \n",
    "    df_test = pd.DataFrame(liste1,liste2)\n",
    "    df_test = df_test.reset_index()\n",
    "    df_test.columns = ['cas','forme']\n",
    "    df_test['cas'].replace('', np.nan, inplace=True)\n",
    "    df_test = df_test.dropna(subset=['cas'])\n",
    "    df_test = df_test.reset_index()\n",
    "    df_test.pop('index')\n",
    "    \n",
    "    df_test = df_test[['forme','cas']]\n",
    "    lol = df_test['forme'].value_counts().rename_axis('forme').to_frame('Occ')\n",
    "    lol = lol.reset_index()\n",
    "    lol['cas'] = ''\n",
    "    for i in range(len(lol)):\n",
    "        for j in range(len(df_test)):\n",
    "            if lol['forme'][i] == df_test['forme'][j]:\n",
    "                lol['cas'][i] = df_test['cas'][j]\n",
    "    \n",
    "    for i in range(len(lol)):\n",
    "        if lol['forme'][i].startswith(' '):\n",
    "            lol['forme'][i] = lol['forme'][i][1:]\n",
    "    \n",
    "    \n",
    "    for i in range(len(lol)):\n",
    "        if lol['forme'][i].endswith(('orum','ibus')):\n",
    "            lol['forme'][i] = lol['forme'][i][:-4]\n",
    "        elif lol['forme'][i].endswith(('us','er','is','os','um','es')):\n",
    "            lol['forme'][i] = lol['forme'][i][:-2]\n",
    "        elif lol['forme'][i].endswith(('i','o')):\n",
    "            lol['forme'][i] = lol['forme'][i][:-1]\n",
    "            \n",
    "    for i in range(len(lol)):\n",
    "        if lol['forme'][i].endswith('r'):\n",
    "            lol['forme'][i] = lol['forme'][i][:-1]\n",
    "            \n",
    "    lol = lol.sort_values(by='forme')\n",
    "    lol = lol.reset_index()\n",
    "    lol.pop('index')\n",
    "    \n",
    "    for i in range(len(lol)-1):\n",
    "        if lol['forme'][i+1] == lol['forme'][i]:\n",
    "            lol['Occ'][i+1] = lol['Occ'][i+1] + lol['Occ'][i]\n",
    "    lol = lol.drop_duplicates(subset ='forme', keep='last')\n",
    "    \n",
    "    lol = lol.sort_values(by='Occ', ascending=False).reset_index() \n",
    "    \n",
    "    lol.pop('index')\n",
    "\n",
    "    return lol"
   ]
  },
  {
   "cell_type": "code",
   "execution_count": 534,
   "id": "22e2b93c",
   "metadata": {},
   "outputs": [
    {
     "name": "stderr",
     "output_type": "stream",
     "text": [
      "/tmp/ipykernel_6101/4043818953.py:18: SettingWithCopyWarning:\n",
      "\n",
      "\n",
      "A value is trying to be set on a copy of a slice from a DataFrame\n",
      "\n",
      "See the caveats in the documentation: https://pandas.pydata.org/pandas-docs/stable/user_guide/indexing.html#returning-a-view-versus-a-copy\n",
      "\n",
      "/tmp/ipykernel_6101/4043818953.py:22: SettingWithCopyWarning:\n",
      "\n",
      "\n",
      "A value is trying to be set on a copy of a slice from a DataFrame\n",
      "\n",
      "See the caveats in the documentation: https://pandas.pydata.org/pandas-docs/stable/user_guide/indexing.html#returning-a-view-versus-a-copy\n",
      "\n",
      "/tmp/ipykernel_6101/4043818953.py:29: SettingWithCopyWarning:\n",
      "\n",
      "\n",
      "A value is trying to be set on a copy of a slice from a DataFrame\n",
      "\n",
      "See the caveats in the documentation: https://pandas.pydata.org/pandas-docs/stable/user_guide/indexing.html#returning-a-view-versus-a-copy\n",
      "\n",
      "/tmp/ipykernel_6101/4043818953.py:27: SettingWithCopyWarning:\n",
      "\n",
      "\n",
      "A value is trying to be set on a copy of a slice from a DataFrame\n",
      "\n",
      "See the caveats in the documentation: https://pandas.pydata.org/pandas-docs/stable/user_guide/indexing.html#returning-a-view-versus-a-copy\n",
      "\n",
      "/tmp/ipykernel_6101/4043818953.py:35: SettingWithCopyWarning:\n",
      "\n",
      "\n",
      "A value is trying to be set on a copy of a slice from a DataFrame\n",
      "\n",
      "See the caveats in the documentation: https://pandas.pydata.org/pandas-docs/stable/user_guide/indexing.html#returning-a-view-versus-a-copy\n",
      "\n",
      "/tmp/ipykernel_6101/4043818953.py:43: SettingWithCopyWarning:\n",
      "\n",
      "\n",
      "A value is trying to be set on a copy of a slice from a DataFrame\n",
      "\n",
      "See the caveats in the documentation: https://pandas.pydata.org/pandas-docs/stable/user_guide/indexing.html#returning-a-view-versus-a-copy\n",
      "\n"
     ]
    }
   ],
   "source": [
    "Ang = liste_qlf(liste_res_Ang,liste_cas_Ang)"
   ]
  },
  {
   "cell_type": "code",
   "execution_count": 535,
   "id": "4197aac1",
   "metadata": {},
   "outputs": [
    {
     "name": "stderr",
     "output_type": "stream",
     "text": [
      "/tmp/ipykernel_6101/4043818953.py:18: SettingWithCopyWarning:\n",
      "\n",
      "\n",
      "A value is trying to be set on a copy of a slice from a DataFrame\n",
      "\n",
      "See the caveats in the documentation: https://pandas.pydata.org/pandas-docs/stable/user_guide/indexing.html#returning-a-view-versus-a-copy\n",
      "\n",
      "/tmp/ipykernel_6101/4043818953.py:22: SettingWithCopyWarning:\n",
      "\n",
      "\n",
      "A value is trying to be set on a copy of a slice from a DataFrame\n",
      "\n",
      "See the caveats in the documentation: https://pandas.pydata.org/pandas-docs/stable/user_guide/indexing.html#returning-a-view-versus-a-copy\n",
      "\n",
      "/tmp/ipykernel_6101/4043818953.py:29: SettingWithCopyWarning:\n",
      "\n",
      "\n",
      "A value is trying to be set on a copy of a slice from a DataFrame\n",
      "\n",
      "See the caveats in the documentation: https://pandas.pydata.org/pandas-docs/stable/user_guide/indexing.html#returning-a-view-versus-a-copy\n",
      "\n"
     ]
    }
   ],
   "source": [
    "Esp = liste_qlf(liste_res_Esp,liste_cas_Esp)"
   ]
  },
  {
   "cell_type": "code",
   "execution_count": 536,
   "id": "61a728fe",
   "metadata": {},
   "outputs": [
    {
     "name": "stderr",
     "output_type": "stream",
     "text": [
      "/tmp/ipykernel_6101/4043818953.py:18: SettingWithCopyWarning:\n",
      "\n",
      "\n",
      "A value is trying to be set on a copy of a slice from a DataFrame\n",
      "\n",
      "See the caveats in the documentation: https://pandas.pydata.org/pandas-docs/stable/user_guide/indexing.html#returning-a-view-versus-a-copy\n",
      "\n",
      "/tmp/ipykernel_6101/4043818953.py:22: SettingWithCopyWarning:\n",
      "\n",
      "\n",
      "A value is trying to be set on a copy of a slice from a DataFrame\n",
      "\n",
      "See the caveats in the documentation: https://pandas.pydata.org/pandas-docs/stable/user_guide/indexing.html#returning-a-view-versus-a-copy\n",
      "\n",
      "/tmp/ipykernel_6101/4043818953.py:29: SettingWithCopyWarning:\n",
      "\n",
      "\n",
      "A value is trying to be set on a copy of a slice from a DataFrame\n",
      "\n",
      "See the caveats in the documentation: https://pandas.pydata.org/pandas-docs/stable/user_guide/indexing.html#returning-a-view-versus-a-copy\n",
      "\n",
      "/tmp/ipykernel_6101/4043818953.py:43: SettingWithCopyWarning:\n",
      "\n",
      "\n",
      "A value is trying to be set on a copy of a slice from a DataFrame\n",
      "\n",
      "See the caveats in the documentation: https://pandas.pydata.org/pandas-docs/stable/user_guide/indexing.html#returning-a-view-versus-a-copy\n",
      "\n"
     ]
    }
   ],
   "source": [
    "Ita = liste_qlf(liste_res_Ita,liste_cas_Ita)"
   ]
  },
  {
   "cell_type": "code",
   "execution_count": 488,
   "id": "aaaa4989",
   "metadata": {},
   "outputs": [
    {
     "name": "stderr",
     "output_type": "stream",
     "text": [
      "/tmp/ipykernel_6101/4043818953.py:18: SettingWithCopyWarning:\n",
      "\n",
      "\n",
      "A value is trying to be set on a copy of a slice from a DataFrame\n",
      "\n",
      "See the caveats in the documentation: https://pandas.pydata.org/pandas-docs/stable/user_guide/indexing.html#returning-a-view-versus-a-copy\n",
      "\n",
      "/tmp/ipykernel_6101/4043818953.py:22: SettingWithCopyWarning:\n",
      "\n",
      "\n",
      "A value is trying to be set on a copy of a slice from a DataFrame\n",
      "\n",
      "See the caveats in the documentation: https://pandas.pydata.org/pandas-docs/stable/user_guide/indexing.html#returning-a-view-versus-a-copy\n",
      "\n",
      "/tmp/ipykernel_6101/4043818953.py:29: SettingWithCopyWarning:\n",
      "\n",
      "\n",
      "A value is trying to be set on a copy of a slice from a DataFrame\n",
      "\n",
      "See the caveats in the documentation: https://pandas.pydata.org/pandas-docs/stable/user_guide/indexing.html#returning-a-view-versus-a-copy\n",
      "\n",
      "/tmp/ipykernel_6101/4043818953.py:27: SettingWithCopyWarning:\n",
      "\n",
      "\n",
      "A value is trying to be set on a copy of a slice from a DataFrame\n",
      "\n",
      "See the caveats in the documentation: https://pandas.pydata.org/pandas-docs/stable/user_guide/indexing.html#returning-a-view-versus-a-copy\n",
      "\n",
      "/tmp/ipykernel_6101/4043818953.py:35: SettingWithCopyWarning:\n",
      "\n",
      "\n",
      "A value is trying to be set on a copy of a slice from a DataFrame\n",
      "\n",
      "See the caveats in the documentation: https://pandas.pydata.org/pandas-docs/stable/user_guide/indexing.html#returning-a-view-versus-a-copy\n",
      "\n"
     ]
    },
    {
     "data": {
      "text/html": [
       "<div>\n",
       "<style scoped>\n",
       "    .dataframe tbody tr th:only-of-type {\n",
       "        vertical-align: middle;\n",
       "    }\n",
       "\n",
       "    .dataframe tbody tr th {\n",
       "        vertical-align: top;\n",
       "    }\n",
       "\n",
       "    .dataframe thead th {\n",
       "        text-align: right;\n",
       "    }\n",
       "</style>\n",
       "<table border=\"1\" class=\"dataframe\">\n",
       "  <thead>\n",
       "    <tr style=\"text-align: right;\">\n",
       "      <th></th>\n",
       "      <th>forme</th>\n",
       "      <th>Occ</th>\n",
       "      <th>cas</th>\n",
       "    </tr>\n",
       "  </thead>\n",
       "  <tbody>\n",
       "    <tr>\n",
       "      <th>0</th>\n",
       "      <td>nost</td>\n",
       "      <td>1</td>\n",
       "      <td>acc_sg</td>\n",
       "    </tr>\n",
       "    <tr>\n",
       "      <th>1</th>\n",
       "      <td>su</td>\n",
       "      <td>1</td>\n",
       "      <td>gen_pl</td>\n",
       "    </tr>\n",
       "  </tbody>\n",
       "</table>\n",
       "</div>"
      ],
      "text/plain": [
       "  forme  Occ     cas\n",
       "0  nost    1  acc_sg\n",
       "1    su    1  gen_pl"
      ]
     },
     "execution_count": 488,
     "metadata": {},
     "output_type": "execute_result"
    }
   ],
   "source": [
    "liste_qlf(liste_res_Pol,liste_cas_Pol)"
   ]
  },
  {
   "cell_type": "code",
   "execution_count": 537,
   "id": "b9a34110",
   "metadata": {},
   "outputs": [
    {
     "name": "stderr",
     "output_type": "stream",
     "text": [
      "/tmp/ipykernel_6101/4043818953.py:18: SettingWithCopyWarning:\n",
      "\n",
      "\n",
      "A value is trying to be set on a copy of a slice from a DataFrame\n",
      "\n",
      "See the caveats in the documentation: https://pandas.pydata.org/pandas-docs/stable/user_guide/indexing.html#returning-a-view-versus-a-copy\n",
      "\n",
      "/tmp/ipykernel_6101/4043818953.py:22: SettingWithCopyWarning:\n",
      "\n",
      "\n",
      "A value is trying to be set on a copy of a slice from a DataFrame\n",
      "\n",
      "See the caveats in the documentation: https://pandas.pydata.org/pandas-docs/stable/user_guide/indexing.html#returning-a-view-versus-a-copy\n",
      "\n",
      "/tmp/ipykernel_6101/4043818953.py:29: SettingWithCopyWarning:\n",
      "\n",
      "\n",
      "A value is trying to be set on a copy of a slice from a DataFrame\n",
      "\n",
      "See the caveats in the documentation: https://pandas.pydata.org/pandas-docs/stable/user_guide/indexing.html#returning-a-view-versus-a-copy\n",
      "\n",
      "/tmp/ipykernel_6101/4043818953.py:27: SettingWithCopyWarning:\n",
      "\n",
      "\n",
      "A value is trying to be set on a copy of a slice from a DataFrame\n",
      "\n",
      "See the caveats in the documentation: https://pandas.pydata.org/pandas-docs/stable/user_guide/indexing.html#returning-a-view-versus-a-copy\n",
      "\n",
      "/tmp/ipykernel_6101/4043818953.py:35: SettingWithCopyWarning:\n",
      "\n",
      "\n",
      "A value is trying to be set on a copy of a slice from a DataFrame\n",
      "\n",
      "See the caveats in the documentation: https://pandas.pydata.org/pandas-docs/stable/user_guide/indexing.html#returning-a-view-versus-a-copy\n",
      "\n",
      "/tmp/ipykernel_6101/4043818953.py:43: SettingWithCopyWarning:\n",
      "\n",
      "\n",
      "A value is trying to be set on a copy of a slice from a DataFrame\n",
      "\n",
      "See the caveats in the documentation: https://pandas.pydata.org/pandas-docs/stable/user_guide/indexing.html#returning-a-view-versus-a-copy\n",
      "\n"
     ]
    }
   ],
   "source": [
    "Ang_tot = liste_qlf(liste_res_Ang_tot,liste_cas_Ang_tot)"
   ]
  },
  {
   "cell_type": "code",
   "execution_count": 538,
   "id": "c54d04db",
   "metadata": {},
   "outputs": [
    {
     "name": "stderr",
     "output_type": "stream",
     "text": [
      "/tmp/ipykernel_6101/4043818953.py:18: SettingWithCopyWarning:\n",
      "\n",
      "\n",
      "A value is trying to be set on a copy of a slice from a DataFrame\n",
      "\n",
      "See the caveats in the documentation: https://pandas.pydata.org/pandas-docs/stable/user_guide/indexing.html#returning-a-view-versus-a-copy\n",
      "\n",
      "/tmp/ipykernel_6101/4043818953.py:22: SettingWithCopyWarning:\n",
      "\n",
      "\n",
      "A value is trying to be set on a copy of a slice from a DataFrame\n",
      "\n",
      "See the caveats in the documentation: https://pandas.pydata.org/pandas-docs/stable/user_guide/indexing.html#returning-a-view-versus-a-copy\n",
      "\n",
      "/tmp/ipykernel_6101/4043818953.py:29: SettingWithCopyWarning:\n",
      "\n",
      "\n",
      "A value is trying to be set on a copy of a slice from a DataFrame\n",
      "\n",
      "See the caveats in the documentation: https://pandas.pydata.org/pandas-docs/stable/user_guide/indexing.html#returning-a-view-versus-a-copy\n",
      "\n",
      "/tmp/ipykernel_6101/4043818953.py:27: SettingWithCopyWarning:\n",
      "\n",
      "\n",
      "A value is trying to be set on a copy of a slice from a DataFrame\n",
      "\n",
      "See the caveats in the documentation: https://pandas.pydata.org/pandas-docs/stable/user_guide/indexing.html#returning-a-view-versus-a-copy\n",
      "\n",
      "/tmp/ipykernel_6101/4043818953.py:35: SettingWithCopyWarning:\n",
      "\n",
      "\n",
      "A value is trying to be set on a copy of a slice from a DataFrame\n",
      "\n",
      "See the caveats in the documentation: https://pandas.pydata.org/pandas-docs/stable/user_guide/indexing.html#returning-a-view-versus-a-copy\n",
      "\n",
      "/tmp/ipykernel_6101/4043818953.py:43: SettingWithCopyWarning:\n",
      "\n",
      "\n",
      "A value is trying to be set on a copy of a slice from a DataFrame\n",
      "\n",
      "See the caveats in the documentation: https://pandas.pydata.org/pandas-docs/stable/user_guide/indexing.html#returning-a-view-versus-a-copy\n",
      "\n"
     ]
    }
   ],
   "source": [
    "Esp_tot = liste_qlf(liste_res_Esp_tot,liste_cas_Esp_tot)"
   ]
  },
  {
   "cell_type": "code",
   "execution_count": 571,
   "id": "1abb6609",
   "metadata": {},
   "outputs": [
    {
     "name": "stderr",
     "output_type": "stream",
     "text": [
      "/tmp/ipykernel_6101/4043818953.py:18: SettingWithCopyWarning:\n",
      "\n",
      "\n",
      "A value is trying to be set on a copy of a slice from a DataFrame\n",
      "\n",
      "See the caveats in the documentation: https://pandas.pydata.org/pandas-docs/stable/user_guide/indexing.html#returning-a-view-versus-a-copy\n",
      "\n",
      "/tmp/ipykernel_6101/4043818953.py:22: SettingWithCopyWarning:\n",
      "\n",
      "\n",
      "A value is trying to be set on a copy of a slice from a DataFrame\n",
      "\n",
      "See the caveats in the documentation: https://pandas.pydata.org/pandas-docs/stable/user_guide/indexing.html#returning-a-view-versus-a-copy\n",
      "\n",
      "/tmp/ipykernel_6101/4043818953.py:29: SettingWithCopyWarning:\n",
      "\n",
      "\n",
      "A value is trying to be set on a copy of a slice from a DataFrame\n",
      "\n",
      "See the caveats in the documentation: https://pandas.pydata.org/pandas-docs/stable/user_guide/indexing.html#returning-a-view-versus-a-copy\n",
      "\n",
      "/tmp/ipykernel_6101/4043818953.py:27: SettingWithCopyWarning:\n",
      "\n",
      "\n",
      "A value is trying to be set on a copy of a slice from a DataFrame\n",
      "\n",
      "See the caveats in the documentation: https://pandas.pydata.org/pandas-docs/stable/user_guide/indexing.html#returning-a-view-versus-a-copy\n",
      "\n",
      "/tmp/ipykernel_6101/4043818953.py:35: SettingWithCopyWarning:\n",
      "\n",
      "\n",
      "A value is trying to be set on a copy of a slice from a DataFrame\n",
      "\n",
      "See the caveats in the documentation: https://pandas.pydata.org/pandas-docs/stable/user_guide/indexing.html#returning-a-view-versus-a-copy\n",
      "\n",
      "/tmp/ipykernel_6101/4043818953.py:43: SettingWithCopyWarning:\n",
      "\n",
      "\n",
      "A value is trying to be set on a copy of a slice from a DataFrame\n",
      "\n",
      "See the caveats in the documentation: https://pandas.pydata.org/pandas-docs/stable/user_guide/indexing.html#returning-a-view-versus-a-copy\n",
      "\n"
     ]
    }
   ],
   "source": [
    "CEMA = liste_qlf(liste_res_CEMA, liste_cas_CEMA)"
   ]
  },
  {
   "cell_type": "code",
   "execution_count": 539,
   "id": "c83f81a3",
   "metadata": {},
   "outputs": [
    {
     "name": "stderr",
     "output_type": "stream",
     "text": [
      "/tmp/ipykernel_6101/4043818953.py:18: SettingWithCopyWarning:\n",
      "\n",
      "\n",
      "A value is trying to be set on a copy of a slice from a DataFrame\n",
      "\n",
      "See the caveats in the documentation: https://pandas.pydata.org/pandas-docs/stable/user_guide/indexing.html#returning-a-view-versus-a-copy\n",
      "\n",
      "/tmp/ipykernel_6101/4043818953.py:22: SettingWithCopyWarning:\n",
      "\n",
      "\n",
      "A value is trying to be set on a copy of a slice from a DataFrame\n",
      "\n",
      "See the caveats in the documentation: https://pandas.pydata.org/pandas-docs/stable/user_guide/indexing.html#returning-a-view-versus-a-copy\n",
      "\n",
      "/tmp/ipykernel_6101/4043818953.py:29: SettingWithCopyWarning:\n",
      "\n",
      "\n",
      "A value is trying to be set on a copy of a slice from a DataFrame\n",
      "\n",
      "See the caveats in the documentation: https://pandas.pydata.org/pandas-docs/stable/user_guide/indexing.html#returning-a-view-versus-a-copy\n",
      "\n",
      "/tmp/ipykernel_6101/4043818953.py:27: SettingWithCopyWarning:\n",
      "\n",
      "\n",
      "A value is trying to be set on a copy of a slice from a DataFrame\n",
      "\n",
      "See the caveats in the documentation: https://pandas.pydata.org/pandas-docs/stable/user_guide/indexing.html#returning-a-view-versus-a-copy\n",
      "\n",
      "/tmp/ipykernel_6101/4043818953.py:35: SettingWithCopyWarning:\n",
      "\n",
      "\n",
      "A value is trying to be set on a copy of a slice from a DataFrame\n",
      "\n",
      "See the caveats in the documentation: https://pandas.pydata.org/pandas-docs/stable/user_guide/indexing.html#returning-a-view-versus-a-copy\n",
      "\n",
      "/tmp/ipykernel_6101/4043818953.py:43: SettingWithCopyWarning:\n",
      "\n",
      "\n",
      "A value is trying to be set on a copy of a slice from a DataFrame\n",
      "\n",
      "See the caveats in the documentation: https://pandas.pydata.org/pandas-docs/stable/user_guide/indexing.html#returning-a-view-versus-a-copy\n",
      "\n"
     ]
    }
   ],
   "source": [
    "Ita_tot = liste_qlf(liste_res_Ita_tot,liste_cas_Ita_tot)"
   ]
  },
  {
   "cell_type": "code",
   "execution_count": 540,
   "id": "8f029077",
   "metadata": {},
   "outputs": [
    {
     "name": "stderr",
     "output_type": "stream",
     "text": [
      "/tmp/ipykernel_6101/4043818953.py:18: SettingWithCopyWarning:\n",
      "\n",
      "\n",
      "A value is trying to be set on a copy of a slice from a DataFrame\n",
      "\n",
      "See the caveats in the documentation: https://pandas.pydata.org/pandas-docs/stable/user_guide/indexing.html#returning-a-view-versus-a-copy\n",
      "\n",
      "/tmp/ipykernel_6101/4043818953.py:22: SettingWithCopyWarning:\n",
      "\n",
      "\n",
      "A value is trying to be set on a copy of a slice from a DataFrame\n",
      "\n",
      "See the caveats in the documentation: https://pandas.pydata.org/pandas-docs/stable/user_guide/indexing.html#returning-a-view-versus-a-copy\n",
      "\n",
      "/tmp/ipykernel_6101/4043818953.py:29: SettingWithCopyWarning:\n",
      "\n",
      "\n",
      "A value is trying to be set on a copy of a slice from a DataFrame\n",
      "\n",
      "See the caveats in the documentation: https://pandas.pydata.org/pandas-docs/stable/user_guide/indexing.html#returning-a-view-versus-a-copy\n",
      "\n",
      "/tmp/ipykernel_6101/4043818953.py:27: SettingWithCopyWarning:\n",
      "\n",
      "\n",
      "A value is trying to be set on a copy of a slice from a DataFrame\n",
      "\n",
      "See the caveats in the documentation: https://pandas.pydata.org/pandas-docs/stable/user_guide/indexing.html#returning-a-view-versus-a-copy\n",
      "\n",
      "/tmp/ipykernel_6101/4043818953.py:35: SettingWithCopyWarning:\n",
      "\n",
      "\n",
      "A value is trying to be set on a copy of a slice from a DataFrame\n",
      "\n",
      "See the caveats in the documentation: https://pandas.pydata.org/pandas-docs/stable/user_guide/indexing.html#returning-a-view-versus-a-copy\n",
      "\n",
      "/tmp/ipykernel_6101/4043818953.py:43: SettingWithCopyWarning:\n",
      "\n",
      "\n",
      "A value is trying to be set on a copy of a slice from a DataFrame\n",
      "\n",
      "See the caveats in the documentation: https://pandas.pydata.org/pandas-docs/stable/user_guide/indexing.html#returning-a-view-versus-a-copy\n",
      "\n"
     ]
    }
   ],
   "source": [
    "CEMA_tot = liste_qlf(liste_res_CEMA_tot,liste_cas_CEMA_tot)"
   ]
  },
  {
   "cell_type": "code",
   "execution_count": 576,
   "id": "ea222a18",
   "metadata": {},
   "outputs": [
    {
     "data": {
      "text/html": [
       "<div>\n",
       "<style scoped>\n",
       "    .dataframe tbody tr th:only-of-type {\n",
       "        vertical-align: middle;\n",
       "    }\n",
       "\n",
       "    .dataframe tbody tr th {\n",
       "        vertical-align: top;\n",
       "    }\n",
       "\n",
       "    .dataframe thead th {\n",
       "        text-align: right;\n",
       "    }\n",
       "</style>\n",
       "<table border=\"1\" class=\"dataframe\">\n",
       "  <thead>\n",
       "    <tr style=\"text-align: right;\">\n",
       "      <th></th>\n",
       "      <th>forme_CEMA</th>\n",
       "      <th>occ_CEMA</th>\n",
       "      <th>forme_ang</th>\n",
       "      <th>occ_ang</th>\n",
       "      <th>forme_esp</th>\n",
       "      <th>occ_esp</th>\n",
       "      <th>forme_ita</th>\n",
       "      <th>occ_ita</th>\n",
       "    </tr>\n",
       "  </thead>\n",
       "  <tbody>\n",
       "    <tr>\n",
       "      <th>0</th>\n",
       "      <td>ingenu</td>\n",
       "      <td>446</td>\n",
       "      <td>deuot</td>\n",
       "      <td>13.0</td>\n",
       "      <td>uest</td>\n",
       "      <td>27.0</td>\n",
       "      <td>me</td>\n",
       "      <td>14.0</td>\n",
       "    </tr>\n",
       "    <tr>\n",
       "      <th>1</th>\n",
       "      <td>su</td>\n",
       "      <td>198</td>\n",
       "      <td>omn</td>\n",
       "      <td>11.0</td>\n",
       "      <td>omni</td>\n",
       "      <td>22.0</td>\n",
       "      <td>libe</td>\n",
       "      <td>13.0</td>\n",
       "    </tr>\n",
       "    <tr>\n",
       "      <th>2</th>\n",
       "      <td>nost</td>\n",
       "      <td>156</td>\n",
       "      <td>su</td>\n",
       "      <td>8.0</td>\n",
       "      <td>exigu</td>\n",
       "      <td>18.0</td>\n",
       "      <td>cartulat</td>\n",
       "      <td>11.0</td>\n",
       "    </tr>\n",
       "    <tr>\n",
       "      <th>3</th>\n",
       "      <td>omn</td>\n",
       "      <td>95</td>\n",
       "      <td>uest</td>\n",
       "      <td>6.0</td>\n",
       "      <td>indign</td>\n",
       "      <td>13.0</td>\n",
       "      <td>omn</td>\n",
       "      <td>10.0</td>\n",
       "    </tr>\n",
       "    <tr>\n",
       "      <th>4</th>\n",
       "      <td>me</td>\n",
       "      <td>82</td>\n",
       "      <td>uniuers</td>\n",
       "      <td>4.0</td>\n",
       "      <td>humillim</td>\n",
       "      <td>8.0</td>\n",
       "      <td>uest</td>\n",
       "      <td>7.0</td>\n",
       "    </tr>\n",
       "    <tr>\n",
       "      <th>5</th>\n",
       "      <td>colon</td>\n",
       "      <td>67</td>\n",
       "      <td>dict</td>\n",
       "      <td>4.0</td>\n",
       "      <td>pusill</td>\n",
       "      <td>6.0</td>\n",
       "      <td>colon</td>\n",
       "      <td>6.0</td>\n",
       "    </tr>\n",
       "    <tr>\n",
       "      <th>6</th>\n",
       "      <td>uest</td>\n",
       "      <td>60</td>\n",
       "      <td>cunct</td>\n",
       "      <td>3.0</td>\n",
       "      <td>ali</td>\n",
       "      <td>6.0</td>\n",
       "      <td>predict</td>\n",
       "      <td>5.0</td>\n",
       "    </tr>\n",
       "    <tr>\n",
       "      <th>7</th>\n",
       "      <td>paupe</td>\n",
       "      <td>54</td>\n",
       "      <td>libe</td>\n",
       "      <td>2.0</td>\n",
       "      <td>nost</td>\n",
       "      <td>4.0</td>\n",
       "      <td>nost</td>\n",
       "      <td>5.0</td>\n",
       "    </tr>\n",
       "    <tr>\n",
       "      <th>8</th>\n",
       "      <td>omni</td>\n",
       "      <td>50</td>\n",
       "      <td>sempitern</td>\n",
       "      <td>2.0</td>\n",
       "      <td>sanct</td>\n",
       "      <td>4.0</td>\n",
       "      <td>su</td>\n",
       "      <td>5.0</td>\n",
       "    </tr>\n",
       "    <tr>\n",
       "      <th>9</th>\n",
       "      <td>humil</td>\n",
       "      <td>48</td>\n",
       "      <td>religios</td>\n",
       "      <td>2.0</td>\n",
       "      <td>humil</td>\n",
       "      <td>4.0</td>\n",
       "      <td>ecclesiastic</td>\n",
       "      <td>4.0</td>\n",
       "    </tr>\n",
       "  </tbody>\n",
       "</table>\n",
       "</div>"
      ],
      "text/plain": [
       "  forme_CEMA  occ_CEMA  forme_ang  occ_ang forme_esp  occ_esp     forme_ita  \\\n",
       "0     ingenu       446      deuot     13.0      uest     27.0            me   \n",
       "1         su       198        omn     11.0      omni     22.0          libe   \n",
       "2       nost       156         su      8.0     exigu     18.0      cartulat   \n",
       "3        omn        95       uest      6.0    indign     13.0           omn   \n",
       "4         me        82    uniuers      4.0  humillim      8.0          uest   \n",
       "5      colon        67       dict      4.0    pusill      6.0         colon   \n",
       "6       uest        60      cunct      3.0       ali      6.0       predict   \n",
       "7      paupe        54       libe      2.0      nost      4.0          nost   \n",
       "8       omni        50  sempitern      2.0     sanct      4.0            su   \n",
       "9      humil        48   religios      2.0     humil      4.0  ecclesiastic   \n",
       "\n",
       "   occ_ita  \n",
       "0     14.0  \n",
       "1     13.0  \n",
       "2     11.0  \n",
       "3     10.0  \n",
       "4      7.0  \n",
       "5      6.0  \n",
       "6      5.0  \n",
       "7      5.0  \n",
       "8      5.0  \n",
       "9      4.0  "
      ]
     },
     "execution_count": 576,
     "metadata": {},
     "output_type": "execute_result"
    }
   ],
   "source": [
    "Ang = Ang[['forme','Occ']]\n",
    "Esp = Esp[['forme','Occ']]\n",
    "Ita = Ita[['forme','Occ']]\n",
    "CEMA = CEMA[['forme','Occ']]\n",
    "\n",
    "Ang_tot = Ang_tot[['forme','Occ']]\n",
    "Esp_tot = Esp_tot[['forme','Occ']]\n",
    "Ita_tot = Ita_tot[['forme','Occ']]\n",
    "CEMA_tot = CEMA_tot[['forme','Occ']]\n",
    "dff = pd.concat([CEMA_tot,Ang_tot,Esp_tot,Ita_tot], axis=1)\n",
    "dff2 = pd.concat([CEMA,Ang,Esp,Ita], axis=1)\n",
    "dff.columns = ['forme_CEMA','occ_CEMA','forme_ang','occ_ang','forme_esp','occ_esp','forme_ita','occ_ita']\n",
    "dff2.columns = ['forme_CEMA','occ_CEMA','forme_ang','occ_ang','forme_esp','occ_esp','forme_ita','occ_ita']\n",
    "\n",
    "dff[:10]"
   ]
  }
 ],
 "metadata": {
  "kernelspec": {
   "display_name": "Python 3 (ipykernel)",
   "language": "python",
   "name": "python3"
  },
  "language_info": {
   "codemirror_mode": {
    "name": "ipython",
    "version": 3
   },
   "file_extension": ".py",
   "mimetype": "text/x-python",
   "name": "python",
   "nbconvert_exporter": "python",
   "pygments_lexer": "ipython3",
   "version": "3.9.7"
  }
 },
 "nbformat": 4,
 "nbformat_minor": 5
}
