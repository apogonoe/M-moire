{
 "cells": [
  {
   "cell_type": "code",
   "execution_count": 1,
   "id": "c4e09549",
   "metadata": {},
   "outputs": [],
   "source": [
    "import numpy as np\n",
    "import pandas as pd\n",
    "import matplotlib.pyplot as plt\n",
    "%matplotlib inline\n"
   ]
  },
  {
   "cell_type": "code",
   "execution_count": 3,
   "id": "21d8e153",
   "metadata": {},
   "outputs": [],
   "source": [
    "def clean_csv(path):\n",
    "    \n",
    "    df = pd.read_csv(path,sep=\",\", header = 4, encoding = \"UTF-8\")\n",
    "    df.columns = [\"indice\",\"pre\",\"lemme\",\"post\"]\n",
    "    \n",
    "    df_final = df['lemme'].str.lower().value_counts()\n",
    "    \n",
    "    return (df_final)"
   ]
  },
  {
   "cell_type": "markdown",
   "id": "ee7065e6",
   "metadata": {},
   "source": [
    "# Tableau Numéro 1 : Sans prise en compte du biais de la formule \"Seruus seruorum dei\""
   ]
  },
  {
   "cell_type": "code",
   "execution_count": null,
   "id": "39bea836",
   "metadata": {},
   "outputs": [],
   "source": []
  },
  {
   "cell_type": "code",
   "execution_count": 10,
   "id": "53ad5b0a",
   "metadata": {},
   "outputs": [],
   "source": [
    "dfA = clean_csv('/home/noe/Documents/Master_2/Mémoire/SketchEngineExport/lemmes_servitude/Ancilla/Word/Ancilla_complet.csv')\n",
    "dfC = clean_csv('/home/noe/Documents/Master_2/Mémoire/SketchEngineExport/lemmes_servitude/Colonus/Colonus_complet.csv')\n",
    "dfF = clean_csv('/home/noe/Documents/Master_2/Mémoire/SketchEngineExport/lemmes_servitude/Famulus/Word/Famulus_complet.csv')\n",
    "dfM = clean_csv('/home/noe/Documents/Master_2/Mémoire/SketchEngineExport/lemmes_servitude/Mancipium/Word/Mancipium_complet.csv')\n",
    "dfSerua = clean_csv('/home/noe/Documents/Master_2/Mémoire/SketchEngineExport/lemmes_servitude/Serua/Word/Serua_complet.csv')\n",
    "dfSeruus = clean_csv('/home/noe/Documents/Master_2/Mémoire/SketchEngineExport/lemmes_servitude/seruus_complet.csv')\n",
    "dfSC = clean_csv('/home/noe/Documents/Master_2/Mémoire/SketchEngineExport/lemmes_servitude/Sclauus/Sclauus_complet.csv')"
   ]
  },
  {
   "cell_type": "code",
   "execution_count": 15,
   "id": "308f851d",
   "metadata": {},
   "outputs": [
    {
     "data": {
      "text/plain": [
       "sclauorum    79\n",
       "sclaui       70\n",
       "sclauo       45\n",
       "sclauis      31\n",
       "sclauos      26\n",
       "sclauus      25\n",
       "sclauum       4\n",
       "sclaue        2\n",
       "Name: lemme, dtype: int64"
      ]
     },
     "execution_count": 15,
     "metadata": {},
     "output_type": "execute_result"
    }
   ],
   "source": [
    "dfSC"
   ]
  },
  {
   "cell_type": "code",
   "execution_count": 17,
   "id": "e7e9a78f",
   "metadata": {},
   "outputs": [],
   "source": [
    "dfA.index = ['Dat/Abl pl','Acc pl','Nom/Abl sg','Gén pl','Acc sg','Gén sg']\n",
    "dfC.index = ['Gén sg','Nom sg','Acc pl','Dat/Abl sg','Acc sg','Gén pl']\n",
    "dfF.index = ['Nom sg','Gén sg','Dat/Abl sg','Acc pl','Gén pl','Acc sg']\n",
    "dfM.index = ['Dat/Abl pl','Nom/Acc pl','Gén pl','Nom/Acc sg','Dat/Abl sg','Gén sg']\n",
    "dfSC.index = ['Gén pl','Gén sg','Dat/Abl sg','Dat/Abl pl','Acc pl','Nom sg','Acc sg','Voc sg']\n",
    "#dfSC = dfSC.drop('error')\n",
    "dfSerua.index = ['Dat/Abl pl','Acc sg','Nom sg']\n",
    "dfSeruus.index = ['Gén pl','Nom sg','Acc pl','Gén sg','Acc sg','Dat/Abl sg','Voc sg']"
   ]
  },
  {
   "cell_type": "code",
   "execution_count": 18,
   "id": "0ee01382",
   "metadata": {},
   "outputs": [
    {
     "data": {
      "text/plain": [
       "Gén pl        15433\n",
       "Nom sg        14645\n",
       "Acc pl         1865\n",
       "Gén sg          927\n",
       "Acc sg          725\n",
       "Dat/Abl sg      586\n",
       "Voc sg           53\n",
       "Name: lemme, dtype: int64"
      ]
     },
     "execution_count": 18,
     "metadata": {},
     "output_type": "execute_result"
    }
   ],
   "source": [
    "dfSeruus"
   ]
  },
  {
   "cell_type": "code",
   "execution_count": 23,
   "id": "dbd097ac",
   "metadata": {},
   "outputs": [],
   "source": [
    "dfA = dfA/dfA.sum()\n",
    "dfC = dfC/dfC.sum()\n",
    "dfM = dfM/dfM.sum()\n",
    "dfF = dfF/dfF.sum()\n",
    "dfSC = dfSC/dfSC.sum()\n",
    "dfSerua = dfSerua/dfSerua.sum()\n",
    "dfSeruus = dfSeruus/dfSeruus.sum()\n",
    "dfA = dfA.to_frame()"
   ]
  },
  {
   "cell_type": "code",
   "execution_count": 27,
   "id": "81afe900",
   "metadata": {},
   "outputs": [
    {
     "name": "stderr",
     "output_type": "stream",
     "text": [
      "/tmp/ipykernel_67930/58323894.py:3: FutureWarning: Passing 'suffixes' which cause duplicate columns {'lemme_x'} in the result is deprecated and will raise a MergeError in a future version.\n",
      "  df_outer = df_outer.merge(dfSC,how='outer', left_index=True, right_index=True)\n",
      "/tmp/ipykernel_67930/58323894.py:5: FutureWarning: Passing 'suffixes' which cause duplicate columns {'lemme_x'} in the result is deprecated and will raise a MergeError in a future version.\n",
      "  df_outer = df_outer.merge(dfSeruus,how='outer', left_index=True, right_index=True)\n"
     ]
    }
   ],
   "source": [
    "df_outer = dfA.merge(dfM, how='outer', left_index=True, right_index=True)\n",
    "df_outer = df_outer.merge(dfC,how='outer', left_index=True, right_index=True)\n",
    "df_outer = df_outer.merge(dfSC,how='outer', left_index=True, right_index=True)\n",
    "df_outer = df_outer.merge(dfSerua,how='outer', left_index=True, right_index=True)\n",
    "df_outer = df_outer.merge(dfSeruus,how='outer', left_index=True, right_index=True)\n",
    "df_outer = df_outer.merge(dfF,how='outer', left_index=True, right_index=True)"
   ]
  },
  {
   "cell_type": "code",
   "execution_count": 28,
   "id": "1b7991fc",
   "metadata": {},
   "outputs": [],
   "source": [
    "df_outer.columns = ['Ancilla','Mancipium','Colonus','Sclauus','Serua','Seruus','Famulus']"
   ]
  },
  {
   "cell_type": "code",
   "execution_count": 29,
   "id": "b147e20d",
   "metadata": {},
   "outputs": [
    {
     "data": {
      "image/png": "[encoded data removed]",
      "text/plain": [
       "<Figure size 720x576 with 2 Axes>"
      ]
     },
     "metadata": {
      "needs_background": "light"
     },
     "output_type": "display_data"
    }
   ],
   "source": [
    "import numpy as np\n",
    "import seaborn as sns\n",
    "plt.figure(figsize=(10,8))\n",
    "ax = sns.heatmap(df_outer,vmin = 0, vmax = 1,annot=True,linewidths = .5,\n",
    "               cmap='summer_r' )\n",
    "\n",
    "results_path = 'results.png'\n",
    "plt.savefig(results_path, dpi=400)"
   ]
  },
  {
   "cell_type": "markdown",
   "id": "39bd1747",
   "metadata": {},
   "source": [
    "# Tableau numéro 2 : Prise en considération de la formule"
   ]
  },
  {
   "cell_type": "code",
   "execution_count": 75,
   "id": "e0d81c9e",
   "metadata": {},
   "outputs": [],
   "source": [
    "dfSeruus = pd.read_csv('/home/noe/Documents/Master_2/Mémoire/SketchEngineExport/seruus_word_clean.csv', sep =',',header=4)\n",
    "dfSeruus.columns = ['texte','pre','lemma','post']\n",
    "dfSeruus['new'] = dfSeruus['pre'] + (' ') + dfSeruus['lemma']+ (' ') + dfSeruus['post']\n",
    "dfSeruus['new'] = dfSeruus['new'].str.lower()\n",
    "dfSeruus['drop'] = dfSeruus['new'].str.find('seruus seruorum dei')\n",
    "dfSeruus = dfSeruus[dfSeruus['drop'] == -1]\n",
    "dfSeruus = dfSeruus.drop('texte',axis=1)\n",
    "dfSEruus = dfSeruus.drop(\"drop\", axis=1)\n",
    "dfSeruus = pd.DataFrame(dfSeruus['lemma'].str.lower().value_counts())"
   ]
  },
  {
   "cell_type": "code",
   "execution_count": 74,
   "id": "67f185c5",
   "metadata": {},
   "outputs": [],
   "source": [
    "dfA = clean_csv('/home/noe/Documents/Master_2/Mémoire/SketchEngineExport/lemmes_servitude/Ancilla/Ancilla_complet.csv')\n",
    "dfC = clean_csv('/home/noe/Documents/Master_2/Mémoire/SketchEngineExport/lemmes_servitude/Colonus/Colonus_complet.csv')\n",
    "dfF = clean_csv('/home/noe/Documents/Master_2/Mémoire/SketchEngineExport/lemmes_servitude/Famulus/Famulus_complet.csv')\n",
    "dfM = clean_csv('/home/noe/Documents/Master_2/Mémoire/SketchEngineExport/lemmes_servitude/Mancipium/Mancipium_complet.csv')\n",
    "dfSerua = clean_csv('/home/noe/Documents/Master_2/Mémoire/SketchEngineExport/lemmes_servitude/Serua/Serua_complet.csv')\n",
    "dfSC = clean_csv('/home/noe/Documents/Master_2/Mémoire/SketchEngineExport/lemmes_servitude/Sclauus/Sclauus_complet.csv')"
   ]
  },
  {
   "cell_type": "code",
   "execution_count": 29,
   "id": "d9c72f07",
   "metadata": {},
   "outputs": [],
   "source": [
    "dfSeruus = pd.read_csv('/home/noe/Documents/Master_2/Mémoire/SketchEngineExport/seruus_nettoye.csv', sep=\",\",header = 4,encoding = 'UTF-8')\n",
    "dfSeruus.columns = ['numero','1','lemma','pos']\n",
    "df2 = dfSeruus['pos'].str.split((' '))\n",
    "df3 = dfSeruus['lemma']\n",
    "\n",
    "for i in range(len(dfSeruus)):\n",
    "    string = df2[i][0]\n",
    "    lemma = df3[i]\n",
    "    if lemma == \"seruus\" or lemma == \"Seruus\":\n",
    "        if string == \"seruorum\" or string == \"Seruorum\":\n",
    "            dfSeruus = dfSeruus.drop(i, axis = 0)\n",
    "\n",
    "dfSeruus = dfSeruus.drop([\"1\",'pos'],axis = 1)\n",
    "dfSeruus = dfSeruus.set_index(\"numero\")\n",
    "dfSeruus = dfSeruus.sort_values(\"lemma\", axis=0, ascending=True)\n",
    "dfSeruus = pd.DataFrame(dfSeruus['lemma'].str.lower().value_counts())"
   ]
  },
  {
   "cell_type": "code",
   "execution_count": 7,
   "id": "190d7e04",
   "metadata": {},
   "outputs": [],
   "source": [
    "def without_SSD(path):\n",
    "    \n",
    "    df = pd.read_csv(path,sep=\",\", header = 4, encoding = \"UTF-8\")\n",
    "    df.columns = [\"indice\",\"pre\",\"lemme\",\"post\"]\n",
    "    df2 = df['post'].str.split((' '))\n",
    "    df3 = df['lemme']\n",
    "    \n",
    "    for i in range(len(df)):\n",
    "        string = df2[i][0]\n",
    "        lemma = df3[i]\n",
    "        if lemma == \"seruus\" or lemma == \"Seruus\":\n",
    "            if string == \"seruorum\" or string == \"Seruorum\":\n",
    "                df = df.drop(i, axis = 0)\n",
    "    \n",
    "    return df\n",
    "    \n",
    "    "
   ]
  },
  {
   "cell_type": "code",
   "execution_count": 8,
   "id": "0cdba50e",
   "metadata": {},
   "outputs": [
    {
     "ename": "KeyboardInterrupt",
     "evalue": "",
     "output_type": "error",
     "traceback": [
      "\u001b[0;31m---------------------------------------------------------------------------\u001b[0m",
      "\u001b[0;31mKeyboardInterrupt\u001b[0m                         Traceback (most recent call last)",
      "Input \u001b[0;32mIn [8]\u001b[0m, in \u001b[0;36m<module>\u001b[0;34m\u001b[0m\n\u001b[0;32m----> 1\u001b[0m \u001b[43mwithout_SSD\u001b[49m\u001b[43m(\u001b[49m\u001b[38;5;124;43m'\u001b[39;49m\u001b[38;5;124;43m/home/noe/Documents/Master_2/Mémoire/seruus_brut.csv\u001b[39;49m\u001b[38;5;124;43m'\u001b[39;49m\u001b[43m)\u001b[49m\n",
      "Input \u001b[0;32mIn [7]\u001b[0m, in \u001b[0;36mwithout_SSD\u001b[0;34m(path)\u001b[0m\n\u001b[1;32m     11\u001b[0m     \u001b[38;5;28;01mif\u001b[39;00m lemma \u001b[38;5;241m==\u001b[39m \u001b[38;5;124m\"\u001b[39m\u001b[38;5;124mseruus\u001b[39m\u001b[38;5;124m\"\u001b[39m \u001b[38;5;129;01mor\u001b[39;00m lemma \u001b[38;5;241m==\u001b[39m \u001b[38;5;124m\"\u001b[39m\u001b[38;5;124mSeruus\u001b[39m\u001b[38;5;124m\"\u001b[39m:\n\u001b[1;32m     12\u001b[0m         \u001b[38;5;28;01mif\u001b[39;00m string \u001b[38;5;241m==\u001b[39m \u001b[38;5;124m\"\u001b[39m\u001b[38;5;124mseruorum\u001b[39m\u001b[38;5;124m\"\u001b[39m \u001b[38;5;129;01mor\u001b[39;00m string \u001b[38;5;241m==\u001b[39m \u001b[38;5;124m\"\u001b[39m\u001b[38;5;124mSeruorum\u001b[39m\u001b[38;5;124m\"\u001b[39m:\n\u001b[0;32m---> 13\u001b[0m             df \u001b[38;5;241m=\u001b[39m \u001b[43mdf\u001b[49m\u001b[38;5;241;43m.\u001b[39;49m\u001b[43mdrop\u001b[49m\u001b[43m(\u001b[49m\u001b[43mi\u001b[49m\u001b[43m,\u001b[49m\u001b[43m \u001b[49m\u001b[43maxis\u001b[49m\u001b[43m \u001b[49m\u001b[38;5;241;43m=\u001b[39;49m\u001b[43m \u001b[49m\u001b[38;5;241;43m0\u001b[39;49m\u001b[43m)\u001b[49m\n\u001b[1;32m     15\u001b[0m \u001b[38;5;28;01mreturn\u001b[39;00m df\n",
      "File \u001b[0;32m~/python/miniconda/lib/python3.9/site-packages/pandas/util/_decorators.py:311\u001b[0m, in \u001b[0;36mdeprecate_nonkeyword_arguments.<locals>.decorate.<locals>.wrapper\u001b[0;34m(*args, **kwargs)\u001b[0m\n\u001b[1;32m    305\u001b[0m \u001b[38;5;28;01mif\u001b[39;00m \u001b[38;5;28mlen\u001b[39m(args) \u001b[38;5;241m>\u001b[39m num_allow_args:\n\u001b[1;32m    306\u001b[0m     warnings\u001b[38;5;241m.\u001b[39mwarn(\n\u001b[1;32m    307\u001b[0m         msg\u001b[38;5;241m.\u001b[39mformat(arguments\u001b[38;5;241m=\u001b[39marguments),\n\u001b[1;32m    308\u001b[0m         \u001b[38;5;167;01mFutureWarning\u001b[39;00m,\n\u001b[1;32m    309\u001b[0m         stacklevel\u001b[38;5;241m=\u001b[39mstacklevel,\n\u001b[1;32m    310\u001b[0m     )\n\u001b[0;32m--> 311\u001b[0m \u001b[38;5;28;01mreturn\u001b[39;00m \u001b[43mfunc\u001b[49m\u001b[43m(\u001b[49m\u001b[38;5;241;43m*\u001b[39;49m\u001b[43margs\u001b[49m\u001b[43m,\u001b[49m\u001b[43m \u001b[49m\u001b[38;5;241;43m*\u001b[39;49m\u001b[38;5;241;43m*\u001b[39;49m\u001b[43mkwargs\u001b[49m\u001b[43m)\u001b[49m\n",
      "File \u001b[0;32m~/python/miniconda/lib/python3.9/site-packages/pandas/core/frame.py:4948\u001b[0m, in \u001b[0;36mDataFrame.drop\u001b[0;34m(self, labels, axis, index, columns, level, inplace, errors)\u001b[0m\n\u001b[1;32m   4800\u001b[0m \u001b[38;5;129m@deprecate_nonkeyword_arguments\u001b[39m(version\u001b[38;5;241m=\u001b[39m\u001b[38;5;28;01mNone\u001b[39;00m, allowed_args\u001b[38;5;241m=\u001b[39m[\u001b[38;5;124m\"\u001b[39m\u001b[38;5;124mself\u001b[39m\u001b[38;5;124m\"\u001b[39m, \u001b[38;5;124m\"\u001b[39m\u001b[38;5;124mlabels\u001b[39m\u001b[38;5;124m\"\u001b[39m])\n\u001b[1;32m   4801\u001b[0m \u001b[38;5;28;01mdef\u001b[39;00m \u001b[38;5;21mdrop\u001b[39m(\n\u001b[1;32m   4802\u001b[0m     \u001b[38;5;28mself\u001b[39m,\n\u001b[0;32m   (...)\u001b[0m\n\u001b[1;32m   4809\u001b[0m     errors: \u001b[38;5;28mstr\u001b[39m \u001b[38;5;241m=\u001b[39m \u001b[38;5;124m\"\u001b[39m\u001b[38;5;124mraise\u001b[39m\u001b[38;5;124m\"\u001b[39m,\n\u001b[1;32m   4810\u001b[0m ):\n\u001b[1;32m   4811\u001b[0m     \u001b[38;5;124;03m\"\"\"\u001b[39;00m\n\u001b[1;32m   4812\u001b[0m \u001b[38;5;124;03m    Drop specified labels from rows or columns.\u001b[39;00m\n\u001b[1;32m   4813\u001b[0m \n\u001b[0;32m   (...)\u001b[0m\n\u001b[1;32m   4946\u001b[0m \u001b[38;5;124;03m            weight  1.0     0.8\u001b[39;00m\n\u001b[1;32m   4947\u001b[0m \u001b[38;5;124;03m    \"\"\"\u001b[39;00m\n\u001b[0;32m-> 4948\u001b[0m     \u001b[38;5;28;01mreturn\u001b[39;00m \u001b[38;5;28;43msuper\u001b[39;49m\u001b[43m(\u001b[49m\u001b[43m)\u001b[49m\u001b[38;5;241;43m.\u001b[39;49m\u001b[43mdrop\u001b[49m\u001b[43m(\u001b[49m\n\u001b[1;32m   4949\u001b[0m \u001b[43m        \u001b[49m\u001b[43mlabels\u001b[49m\u001b[38;5;241;43m=\u001b[39;49m\u001b[43mlabels\u001b[49m\u001b[43m,\u001b[49m\n\u001b[1;32m   4950\u001b[0m \u001b[43m        \u001b[49m\u001b[43maxis\u001b[49m\u001b[38;5;241;43m=\u001b[39;49m\u001b[43maxis\u001b[49m\u001b[43m,\u001b[49m\n\u001b[1;32m   4951\u001b[0m \u001b[43m        \u001b[49m\u001b[43mindex\u001b[49m\u001b[38;5;241;43m=\u001b[39;49m\u001b[43mindex\u001b[49m\u001b[43m,\u001b[49m\n\u001b[1;32m   4952\u001b[0m \u001b[43m        \u001b[49m\u001b[43mcolumns\u001b[49m\u001b[38;5;241;43m=\u001b[39;49m\u001b[43mcolumns\u001b[49m\u001b[43m,\u001b[49m\n\u001b[1;32m   4953\u001b[0m \u001b[43m        \u001b[49m\u001b[43mlevel\u001b[49m\u001b[38;5;241;43m=\u001b[39;49m\u001b[43mlevel\u001b[49m\u001b[43m,\u001b[49m\n\u001b[1;32m   4954\u001b[0m \u001b[43m        \u001b[49m\u001b[43minplace\u001b[49m\u001b[38;5;241;43m=\u001b[39;49m\u001b[43minplace\u001b[49m\u001b[43m,\u001b[49m\n\u001b[1;32m   4955\u001b[0m \u001b[43m        \u001b[49m\u001b[43merrors\u001b[49m\u001b[38;5;241;43m=\u001b[39;49m\u001b[43merrors\u001b[49m\u001b[43m,\u001b[49m\n\u001b[1;32m   4956\u001b[0m \u001b[43m    \u001b[49m\u001b[43m)\u001b[49m\n",
      "File \u001b[0;32m~/python/miniconda/lib/python3.9/site-packages/pandas/core/generic.py:4279\u001b[0m, in \u001b[0;36mNDFrame.drop\u001b[0;34m(self, labels, axis, index, columns, level, inplace, errors)\u001b[0m\n\u001b[1;32m   4277\u001b[0m \u001b[38;5;28;01mfor\u001b[39;00m axis, labels \u001b[38;5;129;01min\u001b[39;00m axes\u001b[38;5;241m.\u001b[39mitems():\n\u001b[1;32m   4278\u001b[0m     \u001b[38;5;28;01mif\u001b[39;00m labels \u001b[38;5;129;01mis\u001b[39;00m \u001b[38;5;129;01mnot\u001b[39;00m \u001b[38;5;28;01mNone\u001b[39;00m:\n\u001b[0;32m-> 4279\u001b[0m         obj \u001b[38;5;241m=\u001b[39m \u001b[43mobj\u001b[49m\u001b[38;5;241;43m.\u001b[39;49m\u001b[43m_drop_axis\u001b[49m\u001b[43m(\u001b[49m\u001b[43mlabels\u001b[49m\u001b[43m,\u001b[49m\u001b[43m \u001b[49m\u001b[43maxis\u001b[49m\u001b[43m,\u001b[49m\u001b[43m \u001b[49m\u001b[43mlevel\u001b[49m\u001b[38;5;241;43m=\u001b[39;49m\u001b[43mlevel\u001b[49m\u001b[43m,\u001b[49m\u001b[43m \u001b[49m\u001b[43merrors\u001b[49m\u001b[38;5;241;43m=\u001b[39;49m\u001b[43merrors\u001b[49m\u001b[43m)\u001b[49m\n\u001b[1;32m   4281\u001b[0m \u001b[38;5;28;01mif\u001b[39;00m inplace:\n\u001b[1;32m   4282\u001b[0m     \u001b[38;5;28mself\u001b[39m\u001b[38;5;241m.\u001b[39m_update_inplace(obj)\n",
      "File \u001b[0;32m~/python/miniconda/lib/python3.9/site-packages/pandas/core/generic.py:4324\u001b[0m, in \u001b[0;36mNDFrame._drop_axis\u001b[0;34m(self, labels, axis, level, errors, consolidate, only_slice)\u001b[0m\n\u001b[1;32m   4322\u001b[0m     \u001b[38;5;28;01melse\u001b[39;00m:\n\u001b[1;32m   4323\u001b[0m         new_axis \u001b[38;5;241m=\u001b[39m axis\u001b[38;5;241m.\u001b[39mdrop(labels, errors\u001b[38;5;241m=\u001b[39merrors)\n\u001b[0;32m-> 4324\u001b[0m     indexer \u001b[38;5;241m=\u001b[39m \u001b[43maxis\u001b[49m\u001b[38;5;241;43m.\u001b[39;49m\u001b[43mget_indexer\u001b[49m\u001b[43m(\u001b[49m\u001b[43mnew_axis\u001b[49m\u001b[43m)\u001b[49m\n\u001b[1;32m   4326\u001b[0m \u001b[38;5;66;03m# Case for non-unique axis\u001b[39;00m\n\u001b[1;32m   4327\u001b[0m \u001b[38;5;28;01melse\u001b[39;00m:\n\u001b[1;32m   4328\u001b[0m     is_tuple_labels \u001b[38;5;241m=\u001b[39m is_nested_list_like(labels) \u001b[38;5;129;01mor\u001b[39;00m \u001b[38;5;28misinstance\u001b[39m(labels, \u001b[38;5;28mtuple\u001b[39m)\n",
      "File \u001b[0;32m~/python/miniconda/lib/python3.9/site-packages/pandas/core/indexes/base.py:3784\u001b[0m, in \u001b[0;36mIndex.get_indexer\u001b[0;34m(self, target, method, limit, tolerance)\u001b[0m\n\u001b[1;32m   3779\u001b[0m     target \u001b[38;5;241m=\u001b[39m target\u001b[38;5;241m.\u001b[39mastype(dtype, copy\u001b[38;5;241m=\u001b[39m\u001b[38;5;28;01mFalse\u001b[39;00m)\n\u001b[1;32m   3780\u001b[0m     \u001b[38;5;28;01mreturn\u001b[39;00m this\u001b[38;5;241m.\u001b[39m_get_indexer(\n\u001b[1;32m   3781\u001b[0m         target, method\u001b[38;5;241m=\u001b[39mmethod, limit\u001b[38;5;241m=\u001b[39mlimit, tolerance\u001b[38;5;241m=\u001b[39mtolerance\n\u001b[1;32m   3782\u001b[0m     )\n\u001b[0;32m-> 3784\u001b[0m \u001b[38;5;28;01mreturn\u001b[39;00m \u001b[38;5;28;43mself\u001b[39;49m\u001b[38;5;241;43m.\u001b[39;49m\u001b[43m_get_indexer\u001b[49m\u001b[43m(\u001b[49m\u001b[43mtarget\u001b[49m\u001b[43m,\u001b[49m\u001b[43m \u001b[49m\u001b[43mmethod\u001b[49m\u001b[43m,\u001b[49m\u001b[43m \u001b[49m\u001b[43mlimit\u001b[49m\u001b[43m,\u001b[49m\u001b[43m \u001b[49m\u001b[43mtolerance\u001b[49m\u001b[43m)\u001b[49m\n",
      "File \u001b[0;32m~/python/miniconda/lib/python3.9/site-packages/pandas/core/indexes/base.py:3809\u001b[0m, in \u001b[0;36mIndex._get_indexer\u001b[0;34m(self, target, method, limit, tolerance)\u001b[0m\n\u001b[1;32m   3804\u001b[0m         \u001b[38;5;66;03m# error: \"IndexEngine\" has no attribute \"_extract_level_codes\"\u001b[39;00m\n\u001b[1;32m   3805\u001b[0m         tgt_values \u001b[38;5;241m=\u001b[39m engine\u001b[38;5;241m.\u001b[39m_extract_level_codes(  \u001b[38;5;66;03m# type: ignore[attr-defined]\u001b[39;00m\n\u001b[1;32m   3806\u001b[0m             target\n\u001b[1;32m   3807\u001b[0m         )\n\u001b[0;32m-> 3809\u001b[0m     indexer \u001b[38;5;241m=\u001b[39m \u001b[38;5;28;43mself\u001b[39;49m\u001b[38;5;241;43m.\u001b[39;49m\u001b[43m_engine\u001b[49m\u001b[38;5;241;43m.\u001b[39;49m\u001b[43mget_indexer\u001b[49m\u001b[43m(\u001b[49m\u001b[43mtgt_values\u001b[49m\u001b[43m)\u001b[49m\n\u001b[1;32m   3811\u001b[0m \u001b[38;5;28;01mreturn\u001b[39;00m ensure_platform_int(indexer)\n",
      "\u001b[0;31mKeyboardInterrupt\u001b[0m: "
     ]
    }
   ],
   "source": [
    "without_SSD('/home/noe/Documents/Master_2/Mémoire/seruus_brut.csv')"
   ]
  },
  {
   "cell_type": "code",
   "execution_count": 77,
   "id": "9d91dcbb",
   "metadata": {},
   "outputs": [
    {
     "data": {
      "text/html": [
       "<div>\n",
       "<style scoped>\n",
       "    .dataframe tbody tr th:only-of-type {\n",
       "        vertical-align: middle;\n",
       "    }\n",
       "\n",
       "    .dataframe tbody tr th {\n",
       "        vertical-align: top;\n",
       "    }\n",
       "\n",
       "    .dataframe thead th {\n",
       "        text-align: right;\n",
       "    }\n",
       "</style>\n",
       "<table border=\"1\" class=\"dataframe\">\n",
       "  <thead>\n",
       "    <tr style=\"text-align: right;\">\n",
       "      <th></th>\n",
       "      <th>lemma</th>\n",
       "    </tr>\n",
       "  </thead>\n",
       "  <tbody>\n",
       "    <tr>\n",
       "      <th>seruorum</th>\n",
       "      <td>1947</td>\n",
       "    </tr>\n",
       "    <tr>\n",
       "      <th>seruos</th>\n",
       "      <td>1865</td>\n",
       "    </tr>\n",
       "    <tr>\n",
       "      <th>seruus</th>\n",
       "      <td>1157</td>\n",
       "    </tr>\n",
       "    <tr>\n",
       "      <th>serui</th>\n",
       "      <td>926</td>\n",
       "    </tr>\n",
       "    <tr>\n",
       "      <th>seruum</th>\n",
       "      <td>723</td>\n",
       "    </tr>\n",
       "    <tr>\n",
       "      <th>seruo</th>\n",
       "      <td>584</td>\n",
       "    </tr>\n",
       "    <tr>\n",
       "      <th>serue</th>\n",
       "      <td>52</td>\n",
       "    </tr>\n",
       "  </tbody>\n",
       "</table>\n",
       "</div>"
      ],
      "text/plain": [
       "          lemma\n",
       "seruorum   1947\n",
       "seruos     1865\n",
       "seruus     1157\n",
       "serui       926\n",
       "seruum      723\n",
       "seruo       584\n",
       "serue        52"
      ]
     },
     "execution_count": 77,
     "metadata": {},
     "output_type": "execute_result"
    }
   ],
   "source": [
    "dfSeruus['lemma'].sum()"
   ]
  },
  {
   "cell_type": "code",
   "execution_count": 79,
   "id": "5881c040",
   "metadata": {},
   "outputs": [
    {
     "data": {
      "text/html": [
       "<div>\n",
       "<style scoped>\n",
       "    .dataframe tbody tr th:only-of-type {\n",
       "        vertical-align: middle;\n",
       "    }\n",
       "\n",
       "    .dataframe tbody tr th {\n",
       "        vertical-align: top;\n",
       "    }\n",
       "\n",
       "    .dataframe thead th {\n",
       "        text-align: right;\n",
       "    }\n",
       "</style>\n",
       "<table border=\"1\" class=\"dataframe\">\n",
       "  <thead>\n",
       "    <tr style=\"text-align: right;\">\n",
       "      <th></th>\n",
       "      <th>lemme</th>\n",
       "    </tr>\n",
       "  </thead>\n",
       "  <tbody>\n",
       "    <tr>\n",
       "      <th>sclauorum</th>\n",
       "      <td>79</td>\n",
       "    </tr>\n",
       "    <tr>\n",
       "      <th>sclaui</th>\n",
       "      <td>70</td>\n",
       "    </tr>\n",
       "    <tr>\n",
       "      <th>sclauo</th>\n",
       "      <td>45</td>\n",
       "    </tr>\n",
       "    <tr>\n",
       "      <th>sclauis</th>\n",
       "      <td>31</td>\n",
       "    </tr>\n",
       "    <tr>\n",
       "      <th>sclauos</th>\n",
       "      <td>26</td>\n",
       "    </tr>\n",
       "    <tr>\n",
       "      <th>sclauus</th>\n",
       "      <td>25</td>\n",
       "    </tr>\n",
       "    <tr>\n",
       "      <th>sclauum</th>\n",
       "      <td>4</td>\n",
       "    </tr>\n",
       "    <tr>\n",
       "      <th>sclaue</th>\n",
       "      <td>2</td>\n",
       "    </tr>\n",
       "  </tbody>\n",
       "</table>\n",
       "</div>"
      ],
      "text/plain": [
       "           lemme\n",
       "sclauorum     79\n",
       "sclaui        70\n",
       "sclauo        45\n",
       "sclauis       31\n",
       "sclauos       26\n",
       "sclauus       25\n",
       "sclauum        4\n",
       "sclaue         2"
      ]
     },
     "execution_count": 79,
     "metadata": {},
     "output_type": "execute_result"
    }
   ],
   "source": [
    "dfSC"
   ]
  },
  {
   "cell_type": "code",
   "execution_count": 82,
   "id": "a352d18d",
   "metadata": {},
   "outputs": [],
   "source": [
    "dfA.index = ['Dat/Abl pl','Acc pl','Nom/Abl sg','Gén pl','Acc sg','Gén sg']\n",
    "dfC2.index = ['Gén sg','Nom sg','Acc pl','Dat/Abl sg','Acc sg','Gén pl']\n",
    "dfF2.index = ['Nom sg','Gén sg','Dat/Abl sg','Acc pl','Gén pl','Acc sg']\n",
    "#dfF2 = dfF2.drop(\"error\")\n",
    "dfM.index = ['Dat/Abl pl','Nom/Acc pl','Gén pl','Nom/Acc sg','Dat/Abl sg','Gén sg']\n",
    "dfSC.index = ['Gén pl','Gén sg','Dat/Abl sg','Dat/Abl pl','Acc pl','Nom sg','Acc sg','Voc sg']\n",
    "#dfSC = dfSC.drop('error')\n",
    "dfSerua.index = ['Dat/Abl pl','Acc sg','Nom sg']\n",
    "dfSeruus.index = ['Gén pl','Acc pl','Nom sg','Gén sg','Acc sg','Dat/Abl sg','Voc sg']"
   ]
  },
  {
   "cell_type": "code",
   "execution_count": 83,
   "id": "a581c6ce",
   "metadata": {},
   "outputs": [],
   "source": [
    "dfA = dfA/dfA.sum()\n",
    "dfC2 = dfC2/dfC2.sum()\n",
    "dfM = dfM/dfM.sum()\n",
    "dfF2 = dfF2/dfF2.sum()\n",
    "dfSC = dfSC/dfSC.sum()\n",
    "dfSerua = dfSerua/dfSerua.sum()\n",
    "dfSeruus = dfSeruus/dfSeruus.sum()"
   ]
  },
  {
   "cell_type": "code",
   "execution_count": 84,
   "id": "4403ebac",
   "metadata": {},
   "outputs": [
    {
     "name": "stderr",
     "output_type": "stream",
     "text": [
      "/tmp/ipykernel_11810/2512149515.py:3: FutureWarning: Passing 'suffixes' which cause duplicate columns {'lemme_x'} in the result is deprecated and will raise a MergeError in a future version.\n",
      "  df_outer = df_outer.merge(dfSC,how='outer', left_index=True, right_index=True)\n",
      "/tmp/ipykernel_11810/2512149515.py:6: FutureWarning: Passing 'suffixes' which cause duplicate columns {'lemme_x'} in the result is deprecated and will raise a MergeError in a future version.\n",
      "  df_outer = df_outer.merge(dfF2,how='outer', left_index=True, right_index=True)\n"
     ]
    }
   ],
   "source": [
    "df_outer = dfA.merge(dfM, how='outer', left_index=True, right_index=True)\n",
    "df_outer = df_outer.merge(dfC2,how='outer', left_index=True, right_index=True)\n",
    "df_outer = df_outer.merge(dfSC,how='outer', left_index=True, right_index=True)\n",
    "df_outer = df_outer.merge(dfSerua,how='outer', left_index=True, right_index=True)\n",
    "df_outer = df_outer.merge(dfSeruus,how='outer', left_index=True, right_index=True)\n",
    "df_outer = df_outer.merge(dfF2,how='outer', left_index=True, right_index=True)"
   ]
  },
  {
   "cell_type": "code",
   "execution_count": 85,
   "id": "78e63330",
   "metadata": {},
   "outputs": [],
   "source": [
    "df_outer.columns = ['Ancilla','Mancipium','Colonus','Sclauus','Serua','Seruus','Famulus']"
   ]
  },
  {
   "cell_type": "code",
   "execution_count": 87,
   "id": "c283a96f",
   "metadata": {},
   "outputs": [
    {
     "data": {
      "image/png": "[encoded data removed]",
      "text/plain": [
       "<Figure size 720x576 with 2 Axes>"
      ]
     },
     "metadata": {
      "needs_background": "light"
     },
     "output_type": "display_data"
    }
   ],
   "source": [
    "import numpy as np\n",
    "import seaborn as sns\n",
    "plt.figure(figsize=(10,8))\n",
    "ax = sns.heatmap(df_outer,vmin = 0, vmax = 1,annot=True,linewidths = 1,\n",
    "               cmap='summer_r' )\n",
    "\n",
    "results_path = 'results2.png'\n",
    "plt.savefig(results_path, dpi=400)"
   ]
  },
  {
   "cell_type": "code",
   "execution_count": null,
   "id": "b523af53",
   "metadata": {},
   "outputs": [],
   "source": []
  },
  {
   "cell_type": "code",
   "execution_count": null,
   "id": "2255ca2f",
   "metadata": {},
   "outputs": [],
   "source": []
  },
  {
   "cell_type": "code",
   "execution_count": null,
   "id": "adfe6b0c",
   "metadata": {},
   "outputs": [],
   "source": []
  }
 ],
 "metadata": {
  "kernelspec": {
   "display_name": "Python 3 (ipykernel)",
   "language": "python",
   "name": "python3"
  },
  "language_info": {
   "codemirror_mode": {
    "name": "ipython",
    "version": 3
   },
   "file_extension": ".py",
   "mimetype": "text/x-python",
   "name": "python",
   "nbconvert_exporter": "python",
   "pygments_lexer": "ipython3",
   "version": "3.9.7"
  }
 },
 "nbformat": 4,
 "nbformat_minor": 5
}
