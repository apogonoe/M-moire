{
 "cells": [
  {
   "cell_type": "code",
   "execution_count": 2,
   "id": "1d796b57",
   "metadata": {},
   "outputs": [],
   "source": [
    "import numpy as np\n",
    "import matplotlib.pyplot as plt\n",
    "import pandas as pd\n",
    "import distance\n",
    "\n",
    "%matplotlib inline"
   ]
  },
  {
   "cell_type": "code",
   "execution_count": 3,
   "id": "530a5489",
   "metadata": {},
   "outputs": [],
   "source": [
    "df = pd.read_csv('/home/noe/Téléchargements/concordance_CEMA_20220329144201.csv', sep=\",\", encoding=\"UTF-8\", header=None)"
   ]
  },
  {
   "cell_type": "code",
   "execution_count": 4,
   "id": "df704fe1",
   "metadata": {},
   "outputs": [
    {
     "data": {
      "text/html": [
       "<div>\n",
       "<style scoped>\n",
       "    .dataframe tbody tr th:only-of-type {\n",
       "        vertical-align: middle;\n",
       "    }\n",
       "\n",
       "    .dataframe tbody tr th {\n",
       "        vertical-align: top;\n",
       "    }\n",
       "\n",
       "    .dataframe thead th {\n",
       "        text-align: right;\n",
       "    }\n",
       "</style>\n",
       "<table border=\"1\" class=\"dataframe\">\n",
       "  <thead>\n",
       "    <tr style=\"text-align: right;\">\n",
       "      <th></th>\n",
       "      <th>0</th>\n",
       "      <th>1</th>\n",
       "      <th>2</th>\n",
       "      <th>3</th>\n",
       "    </tr>\n",
       "  </thead>\n",
       "  <tbody>\n",
       "    <tr>\n",
       "      <th>0</th>\n",
       "      <td>0800_mgh-dd-kar-i_216516</td>\n",
       "      <td>Francorum et Langobardorum ac patricius Romano...</td>\n",
       "      <td>seruorum</td>\n",
       "      <td>dei concedimus uel confirmamus hoc nobis procu...</td>\n",
       "    </tr>\n",
       "    <tr>\n",
       "      <th>1</th>\n",
       "      <td>0800_passau_224441</td>\n",
       "      <td>mea aliquid deo conferre &lt;/s&gt;&lt;s&gt; Trado itaque ...</td>\n",
       "      <td>seruo</td>\n",
       "      <td>ancillas pratas rures campos siluas aquarum qu...</td>\n",
       "    </tr>\n",
       "    <tr>\n",
       "      <th>2</th>\n",
       "      <td>0800_pflugk-harttung_236150</td>\n",
       "      <td>autem hec in uilla puplica nuncupante Battaues...</td>\n",
       "      <td>seruus</td>\n",
       "      <td>seruorum Dei omnibus archiepiscopis et episcop...</td>\n",
       "    </tr>\n",
       "    <tr>\n",
       "      <th>3</th>\n",
       "      <td>0800_pflugk-harttung_236150</td>\n",
       "      <td>in uilla puplica nuncupante Battaues regnante ...</td>\n",
       "      <td>seruorum</td>\n",
       "      <td>Dei omnibus archiepiscopis et episcopis per to...</td>\n",
       "    </tr>\n",
       "    <tr>\n",
       "      <th>4</th>\n",
       "      <td>0800_pflugk-harttung_236150</td>\n",
       "      <td>apostolice auctoritatis priuilegio fretus omni...</td>\n",
       "      <td>seruorum</td>\n",
       "      <td>ancillarum uillarum redituum possederit uel De...</td>\n",
       "    </tr>\n",
       "    <tr>\n",
       "      <th>...</th>\n",
       "      <td>...</td>\n",
       "      <td>...</td>\n",
       "      <td>...</td>\n",
       "      <td>...</td>\n",
       "    </tr>\n",
       "    <tr>\n",
       "      <th>34230</th>\n",
       "      <td>9999_marmoutiermanceau_255656</td>\n",
       "      <td>in uinea illa erat dedimus ei et suo heredi ad...</td>\n",
       "      <td>seruus</td>\n",
       "      <td>uel colibertus nullus habebit &lt;/s&gt;&lt;s&gt; Fecimus ...</td>\n",
       "    </tr>\n",
       "    <tr>\n",
       "      <th>34231</th>\n",
       "      <td>9999_marmoutiervendomois_256306</td>\n",
       "      <td>nostri Maioris scilicet huius habitatores Mona...</td>\n",
       "      <td>serui</td>\n",
       "      <td>quondam et forestarii comitis Fulconis calumni...</td>\n",
       "    </tr>\n",
       "    <tr>\n",
       "      <th>34232</th>\n",
       "      <td>9999_marmoutiervendomois_256373</td>\n",
       "      <td>Rainaldus presbyter de Sancto Leobino Morandus...</td>\n",
       "      <td>seruus</td>\n",
       "      <td>Fulcherii Fulcradus Bastardus &lt;/s&gt;&lt;s&gt; Noticia ...</td>\n",
       "    </tr>\n",
       "    <tr>\n",
       "      <th>34233</th>\n",
       "      <td>9999_montcassin_233318</td>\n",
       "      <td>secundi pape archiepiscopis episcopis et abbat...</td>\n",
       "      <td>seruus</td>\n",
       "      <td>seruorum Dei omnibus episcopis et reliquis Chr...</td>\n",
       "    </tr>\n",
       "    <tr>\n",
       "      <th>34234</th>\n",
       "      <td>9999_montcassin_233318</td>\n",
       "      <td>pape archiepiscopis episcopis et abbatibus pro...</td>\n",
       "      <td>seruorum</td>\n",
       "      <td>Dei omnibus episcopis et reliquis Christi sace...</td>\n",
       "    </tr>\n",
       "  </tbody>\n",
       "</table>\n",
       "<p>34235 rows × 4 columns</p>\n",
       "</div>"
      ],
      "text/plain": [
       "                                     0  \\\n",
       "0             0800_mgh-dd-kar-i_216516   \n",
       "1                   0800_passau_224441   \n",
       "2          0800_pflugk-harttung_236150   \n",
       "3          0800_pflugk-harttung_236150   \n",
       "4          0800_pflugk-harttung_236150   \n",
       "...                                ...   \n",
       "34230    9999_marmoutiermanceau_255656   \n",
       "34231  9999_marmoutiervendomois_256306   \n",
       "34232  9999_marmoutiervendomois_256373   \n",
       "34233           9999_montcassin_233318   \n",
       "34234           9999_montcassin_233318   \n",
       "\n",
       "                                                       1         2  \\\n",
       "0      Francorum et Langobardorum ac patricius Romano...  seruorum   \n",
       "1      mea aliquid deo conferre </s><s> Trado itaque ...     seruo   \n",
       "2      autem hec in uilla puplica nuncupante Battaues...    seruus   \n",
       "3      in uilla puplica nuncupante Battaues regnante ...  seruorum   \n",
       "4      apostolice auctoritatis priuilegio fretus omni...  seruorum   \n",
       "...                                                  ...       ...   \n",
       "34230  in uinea illa erat dedimus ei et suo heredi ad...    seruus   \n",
       "34231  nostri Maioris scilicet huius habitatores Mona...     serui   \n",
       "34232  Rainaldus presbyter de Sancto Leobino Morandus...    seruus   \n",
       "34233  secundi pape archiepiscopis episcopis et abbat...    seruus   \n",
       "34234  pape archiepiscopis episcopis et abbatibus pro...  seruorum   \n",
       "\n",
       "                                                       3  \n",
       "0      dei concedimus uel confirmamus hoc nobis procu...  \n",
       "1      ancillas pratas rures campos siluas aquarum qu...  \n",
       "2      seruorum Dei omnibus archiepiscopis et episcop...  \n",
       "3      Dei omnibus archiepiscopis et episcopis per to...  \n",
       "4      ancillarum uillarum redituum possederit uel De...  \n",
       "...                                                  ...  \n",
       "34230  uel colibertus nullus habebit </s><s> Fecimus ...  \n",
       "34231  quondam et forestarii comitis Fulconis calumni...  \n",
       "34232  Fulcherii Fulcradus Bastardus </s><s> Noticia ...  \n",
       "34233  seruorum Dei omnibus episcopis et reliquis Chr...  \n",
       "34234  Dei omnibus episcopis et reliquis Christi sace...  \n",
       "\n",
       "[34235 rows x 4 columns]"
      ]
     },
     "execution_count": 4,
     "metadata": {},
     "output_type": "execute_result"
    }
   ],
   "source": [
    "df"
   ]
  },
  {
   "cell_type": "code",
   "execution_count": 6,
   "id": "000a0de6",
   "metadata": {},
   "outputs": [],
   "source": [
    "df = df.drop(1, axis=1)\n",
    "df = df.drop(3, axis=1)"
   ]
  },
  {
   "cell_type": "code",
   "execution_count": null,
   "id": "7f39c9fd",
   "metadata": {},
   "outputs": [],
   "source": []
  },
  {
   "cell_type": "code",
   "execution_count": 7,
   "id": "d23db3e8",
   "metadata": {},
   "outputs": [],
   "source": [
    "df.columns= [\"indice\",\"lemme\"]"
   ]
  },
  {
   "cell_type": "code",
   "execution_count": 8,
   "id": "f9665529",
   "metadata": {},
   "outputs": [],
   "source": [
    "df = df.set_index(\"indice\")"
   ]
  },
  {
   "cell_type": "code",
   "execution_count": 9,
   "id": "26e851fb",
   "metadata": {},
   "outputs": [
    {
     "data": {
      "text/html": [
       "<div>\n",
       "<style scoped>\n",
       "    .dataframe tbody tr th:only-of-type {\n",
       "        vertical-align: middle;\n",
       "    }\n",
       "\n",
       "    .dataframe tbody tr th {\n",
       "        vertical-align: top;\n",
       "    }\n",
       "\n",
       "    .dataframe thead th {\n",
       "        text-align: right;\n",
       "    }\n",
       "</style>\n",
       "<table border=\"1\" class=\"dataframe\">\n",
       "  <thead>\n",
       "    <tr style=\"text-align: right;\">\n",
       "      <th></th>\n",
       "      <th>lemme</th>\n",
       "    </tr>\n",
       "    <tr>\n",
       "      <th>indice</th>\n",
       "      <th></th>\n",
       "    </tr>\n",
       "  </thead>\n",
       "  <tbody>\n",
       "    <tr>\n",
       "      <th>0996_cugat_152620</th>\n",
       "      <td>Serue</td>\n",
       "    </tr>\n",
       "    <tr>\n",
       "      <th>0987_cugat_152506</th>\n",
       "      <td>Serue</td>\n",
       "    </tr>\n",
       "    <tr>\n",
       "      <th>1186_marmoutierserfs_256266</th>\n",
       "      <td>Serue</td>\n",
       "    </tr>\n",
       "    <tr>\n",
       "      <th>0897_plpape_238792</th>\n",
       "      <td>Serue</td>\n",
       "    </tr>\n",
       "    <tr>\n",
       "      <th>1000_besalu_200875</th>\n",
       "      <td>Serue</td>\n",
       "    </tr>\n",
       "    <tr>\n",
       "      <th>...</th>\n",
       "      <td>...</td>\n",
       "    </tr>\n",
       "    <tr>\n",
       "      <th>1176_morienval_143746</th>\n",
       "      <td>seruus</td>\n",
       "    </tr>\n",
       "    <tr>\n",
       "      <th>1176_montcassin_233252</th>\n",
       "      <td>seruus</td>\n",
       "    </tr>\n",
       "    <tr>\n",
       "      <th>1093_plpape_239829</th>\n",
       "      <td>seruus</td>\n",
       "    </tr>\n",
       "    <tr>\n",
       "      <th>1093_plpape_239825</th>\n",
       "      <td>seruus</td>\n",
       "    </tr>\n",
       "    <tr>\n",
       "      <th>1156_plpape_242398</th>\n",
       "      <td>seruus</td>\n",
       "    </tr>\n",
       "  </tbody>\n",
       "</table>\n",
       "<p>34235 rows × 1 columns</p>\n",
       "</div>"
      ],
      "text/plain": [
       "                              lemme\n",
       "indice                             \n",
       "0996_cugat_152620             Serue\n",
       "0987_cugat_152506             Serue\n",
       "1186_marmoutierserfs_256266   Serue\n",
       "0897_plpape_238792            Serue\n",
       "1000_besalu_200875            Serue\n",
       "...                             ...\n",
       "1176_morienval_143746        seruus\n",
       "1176_montcassin_233252       seruus\n",
       "1093_plpape_239829           seruus\n",
       "1093_plpape_239825           seruus\n",
       "1156_plpape_242398           seruus\n",
       "\n",
       "[34235 rows x 1 columns]"
      ]
     },
     "execution_count": 9,
     "metadata": {},
     "output_type": "execute_result"
    }
   ],
   "source": [
    "df.sort_values(\"lemme\", axis=0, ascending=True)"
   ]
  },
  {
   "cell_type": "code",
   "execution_count": 10,
   "id": "480e073e",
   "metadata": {},
   "outputs": [
    {
     "ename": "NameError",
     "evalue": "name 'df_final' is not defined",
     "output_type": "error",
     "traceback": [
      "\u001b[0;31m---------------------------------------------------------------------------\u001b[0m",
      "\u001b[0;31mNameError\u001b[0m                                 Traceback (most recent call last)",
      "Input \u001b[0;32mIn [10]\u001b[0m, in \u001b[0;36m<module>\u001b[0;34m\u001b[0m\n\u001b[1;32m      1\u001b[0m plt\u001b[38;5;241m.\u001b[39mfigure(figsize\u001b[38;5;241m=\u001b[39m(\u001b[38;5;241m15\u001b[39m,\u001b[38;5;241m10\u001b[39m), dpi\u001b[38;5;241m=\u001b[39m\u001b[38;5;241m300\u001b[39m)\n\u001b[0;32m----> 2\u001b[0m \u001b[43mdf_final\u001b[49m\u001b[38;5;241m.\u001b[39mplot\u001b[38;5;241m.\u001b[39mbar()\n\u001b[1;32m      3\u001b[0m plt\u001b[38;5;241m.\u001b[39mxlabel(\u001b[38;5;124m\"\u001b[39m\u001b[38;5;124mTermes\u001b[39m\u001b[38;5;124m\"\u001b[39m)\n\u001b[1;32m      4\u001b[0m plt\u001b[38;5;241m.\u001b[39mylabel(\u001b[38;5;124m\"\u001b[39m\u001b[38;5;124mNombre d\u001b[39m\u001b[38;5;124m'\u001b[39m\u001b[38;5;124moccurrences\u001b[39m\u001b[38;5;124m\"\u001b[39m)\n",
      "\u001b[0;31mNameError\u001b[0m: name 'df_final' is not defined"
     ]
    },
    {
     "data": {
      "text/plain": [
       "<Figure size 4500x3000 with 0 Axes>"
      ]
     },
     "metadata": {},
     "output_type": "display_data"
    }
   ],
   "source": [
    "plt.figure(figsize=(15,10), dpi=300)\n",
    "df_final.plot.bar()\n",
    "plt.xlabel(\"Termes\")\n",
    "plt.ylabel(\"Nombre d'occurrences\")\n",
    "plt.title(\"Occurrences du lemme seruus\")\n",
    "plt.savefig(\"Occurrences_seruus_corpus.png\")"
   ]
  },
  {
   "cell_type": "code",
   "execution_count": 5,
   "id": "79d85384",
   "metadata": {},
   "outputs": [],
   "source": [
    "liste_dates = [\"300 - 349\",\"350 - 399\",\"400 – 450\",\"450 - 499\",\"500 - 549\",\"550 – 599\", \"600 – 649\",\"650 – 699\", \"700 – 749\", \"750 – 799\",\"800 – 849\",\n",
    "              \"850 – 899\",\"900 – 949\",\"950 – 999\",\"1000 – 1049\",\"1050 – 1099\",\"1100 – 1149\",\"1150 – 1199\",\"1200 – 1249\",\n",
    "               \"1250 – 1299\",\"1300 – 1349\",\"1350 – 1399\",\"1400 – 1449\",\"1450 – 1499\",\n",
    "               \"1500 – 1549\",\"1550 – 1559\",\"1600 – 1649\",\"1650 – 1699\",\"1700 – 1749\",\n",
    "               \"1750 – 1799\"]\n",
    "liste_valeurs = [0,0,0,5,118,82,90,143,108,490,713,\n",
    "                1462,654,1163,1340,3105,7672,10258,4199,3669,\n",
    "                1816,920,488,148,46,12,9,2,2,2]"
   ]
  },
  {
   "cell_type": "code",
   "execution_count": 6,
   "id": "e0164656",
   "metadata": {},
   "outputs": [],
   "source": [
    "df_occurrences = pd.DataFrame(list(zip(liste_dates,liste_valeurs)))"
   ]
  },
  {
   "cell_type": "code",
   "execution_count": 7,
   "id": "3c22b622",
   "metadata": {},
   "outputs": [
    {
     "data": {
      "text/html": [
       "<div>\n",
       "<style scoped>\n",
       "    .dataframe tbody tr th:only-of-type {\n",
       "        vertical-align: middle;\n",
       "    }\n",
       "\n",
       "    .dataframe tbody tr th {\n",
       "        vertical-align: top;\n",
       "    }\n",
       "\n",
       "    .dataframe thead th {\n",
       "        text-align: right;\n",
       "    }\n",
       "</style>\n",
       "<table border=\"1\" class=\"dataframe\">\n",
       "  <thead>\n",
       "    <tr style=\"text-align: right;\">\n",
       "      <th></th>\n",
       "      <th>Occurrences</th>\n",
       "    </tr>\n",
       "    <tr>\n",
       "      <th>Dates</th>\n",
       "      <th></th>\n",
       "    </tr>\n",
       "  </thead>\n",
       "  <tbody>\n",
       "    <tr>\n",
       "      <th>300 - 349</th>\n",
       "      <td>0</td>\n",
       "    </tr>\n",
       "    <tr>\n",
       "      <th>350 - 399</th>\n",
       "      <td>0</td>\n",
       "    </tr>\n",
       "    <tr>\n",
       "      <th>400 – 450</th>\n",
       "      <td>0</td>\n",
       "    </tr>\n",
       "    <tr>\n",
       "      <th>450 - 499</th>\n",
       "      <td>5</td>\n",
       "    </tr>\n",
       "    <tr>\n",
       "      <th>500 - 549</th>\n",
       "      <td>118</td>\n",
       "    </tr>\n",
       "    <tr>\n",
       "      <th>550 – 599</th>\n",
       "      <td>82</td>\n",
       "    </tr>\n",
       "    <tr>\n",
       "      <th>600 – 649</th>\n",
       "      <td>90</td>\n",
       "    </tr>\n",
       "    <tr>\n",
       "      <th>650 – 699</th>\n",
       "      <td>143</td>\n",
       "    </tr>\n",
       "    <tr>\n",
       "      <th>700 – 749</th>\n",
       "      <td>108</td>\n",
       "    </tr>\n",
       "    <tr>\n",
       "      <th>750 – 799</th>\n",
       "      <td>490</td>\n",
       "    </tr>\n",
       "    <tr>\n",
       "      <th>800 – 849</th>\n",
       "      <td>713</td>\n",
       "    </tr>\n",
       "    <tr>\n",
       "      <th>850 – 899</th>\n",
       "      <td>1462</td>\n",
       "    </tr>\n",
       "    <tr>\n",
       "      <th>900 – 949</th>\n",
       "      <td>654</td>\n",
       "    </tr>\n",
       "    <tr>\n",
       "      <th>950 – 999</th>\n",
       "      <td>1163</td>\n",
       "    </tr>\n",
       "    <tr>\n",
       "      <th>1000 – 1049</th>\n",
       "      <td>1340</td>\n",
       "    </tr>\n",
       "    <tr>\n",
       "      <th>1050 – 1099</th>\n",
       "      <td>3105</td>\n",
       "    </tr>\n",
       "    <tr>\n",
       "      <th>1100 – 1149</th>\n",
       "      <td>7672</td>\n",
       "    </tr>\n",
       "    <tr>\n",
       "      <th>1150 – 1199</th>\n",
       "      <td>10258</td>\n",
       "    </tr>\n",
       "    <tr>\n",
       "      <th>1200 – 1249</th>\n",
       "      <td>4199</td>\n",
       "    </tr>\n",
       "    <tr>\n",
       "      <th>1250 – 1299</th>\n",
       "      <td>3669</td>\n",
       "    </tr>\n",
       "    <tr>\n",
       "      <th>1300 – 1349</th>\n",
       "      <td>1816</td>\n",
       "    </tr>\n",
       "    <tr>\n",
       "      <th>1350 – 1399</th>\n",
       "      <td>920</td>\n",
       "    </tr>\n",
       "    <tr>\n",
       "      <th>1400 – 1449</th>\n",
       "      <td>488</td>\n",
       "    </tr>\n",
       "    <tr>\n",
       "      <th>1450 – 1499</th>\n",
       "      <td>148</td>\n",
       "    </tr>\n",
       "    <tr>\n",
       "      <th>1500 – 1549</th>\n",
       "      <td>46</td>\n",
       "    </tr>\n",
       "    <tr>\n",
       "      <th>1550 – 1559</th>\n",
       "      <td>12</td>\n",
       "    </tr>\n",
       "    <tr>\n",
       "      <th>1600 – 1649</th>\n",
       "      <td>9</td>\n",
       "    </tr>\n",
       "    <tr>\n",
       "      <th>1650 – 1699</th>\n",
       "      <td>2</td>\n",
       "    </tr>\n",
       "    <tr>\n",
       "      <th>1700 – 1749</th>\n",
       "      <td>2</td>\n",
       "    </tr>\n",
       "    <tr>\n",
       "      <th>1750 – 1799</th>\n",
       "      <td>2</td>\n",
       "    </tr>\n",
       "  </tbody>\n",
       "</table>\n",
       "</div>"
      ],
      "text/plain": [
       "             Occurrences\n",
       "Dates                   \n",
       "300 - 349              0\n",
       "350 - 399              0\n",
       "400 – 450              0\n",
       "450 - 499              5\n",
       "500 - 549            118\n",
       "550 – 599             82\n",
       "600 – 649             90\n",
       "650 – 699            143\n",
       "700 – 749            108\n",
       "750 – 799            490\n",
       "800 – 849            713\n",
       "850 – 899           1462\n",
       "900 – 949            654\n",
       "950 – 999           1163\n",
       "1000 – 1049         1340\n",
       "1050 – 1099         3105\n",
       "1100 – 1149         7672\n",
       "1150 – 1199        10258\n",
       "1200 – 1249         4199\n",
       "1250 – 1299         3669\n",
       "1300 – 1349         1816\n",
       "1350 – 1399          920\n",
       "1400 – 1449          488\n",
       "1450 – 1499          148\n",
       "1500 – 1549           46\n",
       "1550 – 1559           12\n",
       "1600 – 1649            9\n",
       "1650 – 1699            2\n",
       "1700 – 1749            2\n",
       "1750 – 1799            2"
      ]
     },
     "execution_count": 7,
     "metadata": {},
     "output_type": "execute_result"
    }
   ],
   "source": [
    "df_occurrences.columns = [\"Dates\",\"Occurrences\"]\n",
    "df_occurrences.set_index(\"Dates\")"
   ]
  },
  {
   "cell_type": "code",
   "execution_count": 15,
   "id": "827d421a",
   "metadata": {},
   "outputs": [
    {
     "data": {
      "image/png": "[encoded data removed]",
      "text/plain": [
       "<Figure size 1440x720 with 1 Axes>"
      ]
     },
     "metadata": {
      "needs_background": "light"
     },
     "output_type": "display_data"
    }
   ],
   "source": [
    "x = df_occurrences[\"Dates\"]\n",
    "y = df_occurrences[\"Occurrences\"]\n",
    "tickvalues = df_occurrences.index\n",
    "plt.figure(figsize=(20,10))\n",
    "plt.xticks(ticks = tickvalues, rotation ='vertical')\n",
    "plt.xlabel(\"Demi-siècles\")\n",
    "plt.ylabel(\"Occurrences\")\n",
    "plt.title(\"Evolution du nombre d'occurrences par demi-siècle\")\n",
    "plt.bar(x,y)\n",
    "plt.savefig(\"Evolution_occurrences_demi_siècle.png\", dpi=300)"
   ]
  },
  {
   "cell_type": "code",
   "execution_count": 13,
   "id": "20fe89dd",
   "metadata": {},
   "outputs": [],
   "source": [
    "def csv_tograph(path):\n",
    "    \n",
    "    startindex = 0\n",
    "    endindex = 0\n",
    "    num = 0\n",
    "    for i in path:\n",
    "        num += 1\n",
    "        if i == \"/\":\n",
    "            startindex = num\n",
    "        elif i == \".\":\n",
    "            endindex = num-1\n",
    "    var = path[startindex:endindex]\n",
    "    \n",
    "    df = pd.read_csv(path,sep=\",\", header = 4, encoding = \"UTF-8\")\n",
    "    df.columns = [\"indice\",\"1\",\"lemme\",\"2\"]\n",
    "    df = df.drop(\"1\", axis=1)\n",
    "    df = df.drop(\"2\", axis=1)\n",
    "    df = df.set_index(\"indice\")\n",
    "    df.sort_values(\"lemme\", axis=0, ascending=True)\n",
    "    df_final = pd.DataFrame(df['lemme'].str.lower().value_counts())\n",
    "    \n",
    "    \n",
    "    plt.figure(figsize=(15,10), dpi=300)\n",
    "    df_final.plot.bar()\n",
    "    plt.xlabel(\"Termes\")\n",
    "    plt.ylabel(\"Nombre d'occurrences\")\n",
    "    plt.title(f\"Occurrences du lemme {var}\")\n",
    "    plt.savefig(f\"Occurrences_{var}.png\")\n",
    "    "
   ]
  },
  {
   "cell_type": "code",
   "execution_count": 1,
   "id": "8dca64ec",
   "metadata": {},
   "outputs": [],
   "source": [
    "def clean_csv(path):\n",
    "    \n",
    "    df = pd.read_csv(path,sep=\",\", header = 4, encoding = \"UTF-8\")\n",
    "    df.columns = [\"indice\",\"1\",\"lemme\",\"2\"]\n",
    "    df = df.drop(\"1\", axis=1)\n",
    "    df = df.drop(\"2\", axis=1)\n",
    "    df = df.drop(\"indice\", axis=1)\n",
    "    \n",
    "    df_final = pd.DataFrame(df['lemme'].str.lower().value_counts())\n",
    "    \n",
    "    return (df_final)"
   ]
  },
  {
   "cell_type": "code",
   "execution_count": 4,
   "id": "bb48b7d6",
   "metadata": {},
   "outputs": [
    {
     "ename": "FileNotFoundError",
     "evalue": "[Errno 2] No such file or directory: '/home/noe/Documents/Master_2/Mémoire/SketchEngineExport/Ancilla.csv'",
     "output_type": "error",
     "traceback": [
      "\u001b[0;31m---------------------------------------------------------------------------\u001b[0m",
      "\u001b[0;31mFileNotFoundError\u001b[0m                         Traceback (most recent call last)",
      "Input \u001b[0;32mIn [4]\u001b[0m, in \u001b[0;36m<module>\u001b[0;34m\u001b[0m\n\u001b[0;32m----> 1\u001b[0m dfA \u001b[38;5;241m=\u001b[39m \u001b[43mclean_csv\u001b[49m\u001b[43m(\u001b[49m\u001b[38;5;124;43m'\u001b[39;49m\u001b[38;5;124;43m/home/noe/Documents/Master_2/Mémoire/SketchEngineExport/Ancilla.csv\u001b[39;49m\u001b[38;5;124;43m'\u001b[39;49m\u001b[43m)\u001b[49m\n\u001b[1;32m      2\u001b[0m dfC1 \u001b[38;5;241m=\u001b[39m clean_csv(\u001b[38;5;124m'\u001b[39m\u001b[38;5;124m/home/noe/Documents/Master_2/Mémoire/SketchEngineExport/Colonus_1.csv\u001b[39m\u001b[38;5;124m'\u001b[39m)\n\u001b[1;32m      3\u001b[0m dfC2 \u001b[38;5;241m=\u001b[39m clean_csv(\u001b[38;5;124m'\u001b[39m\u001b[38;5;124m/home/noe/Documents/Master_2/Mémoire/SketchEngineExport/Colonus_2.csv\u001b[39m\u001b[38;5;124m'\u001b[39m)\n",
      "Input \u001b[0;32mIn [1]\u001b[0m, in \u001b[0;36mclean_csv\u001b[0;34m(path)\u001b[0m\n\u001b[1;32m      1\u001b[0m \u001b[38;5;28;01mdef\u001b[39;00m \u001b[38;5;21mclean_csv\u001b[39m(path):\n\u001b[0;32m----> 3\u001b[0m     df \u001b[38;5;241m=\u001b[39m \u001b[43mpd\u001b[49m\u001b[38;5;241;43m.\u001b[39;49m\u001b[43mread_csv\u001b[49m\u001b[43m(\u001b[49m\u001b[43mpath\u001b[49m\u001b[43m,\u001b[49m\u001b[43msep\u001b[49m\u001b[38;5;241;43m=\u001b[39;49m\u001b[38;5;124;43m\"\u001b[39;49m\u001b[38;5;124;43m,\u001b[39;49m\u001b[38;5;124;43m\"\u001b[39;49m\u001b[43m,\u001b[49m\u001b[43m \u001b[49m\u001b[43mheader\u001b[49m\u001b[43m \u001b[49m\u001b[38;5;241;43m=\u001b[39;49m\u001b[43m \u001b[49m\u001b[38;5;241;43m4\u001b[39;49m\u001b[43m,\u001b[49m\u001b[43m \u001b[49m\u001b[43mencoding\u001b[49m\u001b[43m \u001b[49m\u001b[38;5;241;43m=\u001b[39;49m\u001b[43m \u001b[49m\u001b[38;5;124;43m\"\u001b[39;49m\u001b[38;5;124;43mUTF-8\u001b[39;49m\u001b[38;5;124;43m\"\u001b[39;49m\u001b[43m)\u001b[49m\n\u001b[1;32m      4\u001b[0m     df\u001b[38;5;241m.\u001b[39mcolumns \u001b[38;5;241m=\u001b[39m [\u001b[38;5;124m\"\u001b[39m\u001b[38;5;124mindice\u001b[39m\u001b[38;5;124m\"\u001b[39m,\u001b[38;5;124m\"\u001b[39m\u001b[38;5;124m1\u001b[39m\u001b[38;5;124m\"\u001b[39m,\u001b[38;5;124m\"\u001b[39m\u001b[38;5;124mlemme\u001b[39m\u001b[38;5;124m\"\u001b[39m,\u001b[38;5;124m\"\u001b[39m\u001b[38;5;124m2\u001b[39m\u001b[38;5;124m\"\u001b[39m]\n\u001b[1;32m      5\u001b[0m     df \u001b[38;5;241m=\u001b[39m df\u001b[38;5;241m.\u001b[39mdrop(\u001b[38;5;124m\"\u001b[39m\u001b[38;5;124m1\u001b[39m\u001b[38;5;124m\"\u001b[39m, axis\u001b[38;5;241m=\u001b[39m\u001b[38;5;241m1\u001b[39m)\n",
      "File \u001b[0;32m~/python/miniconda/lib/python3.9/site-packages/pandas/util/_decorators.py:311\u001b[0m, in \u001b[0;36mdeprecate_nonkeyword_arguments.<locals>.decorate.<locals>.wrapper\u001b[0;34m(*args, **kwargs)\u001b[0m\n\u001b[1;32m    305\u001b[0m \u001b[38;5;28;01mif\u001b[39;00m \u001b[38;5;28mlen\u001b[39m(args) \u001b[38;5;241m>\u001b[39m num_allow_args:\n\u001b[1;32m    306\u001b[0m     warnings\u001b[38;5;241m.\u001b[39mwarn(\n\u001b[1;32m    307\u001b[0m         msg\u001b[38;5;241m.\u001b[39mformat(arguments\u001b[38;5;241m=\u001b[39marguments),\n\u001b[1;32m    308\u001b[0m         \u001b[38;5;167;01mFutureWarning\u001b[39;00m,\n\u001b[1;32m    309\u001b[0m         stacklevel\u001b[38;5;241m=\u001b[39mstacklevel,\n\u001b[1;32m    310\u001b[0m     )\n\u001b[0;32m--> 311\u001b[0m \u001b[38;5;28;01mreturn\u001b[39;00m \u001b[43mfunc\u001b[49m\u001b[43m(\u001b[49m\u001b[38;5;241;43m*\u001b[39;49m\u001b[43margs\u001b[49m\u001b[43m,\u001b[49m\u001b[43m \u001b[49m\u001b[38;5;241;43m*\u001b[39;49m\u001b[38;5;241;43m*\u001b[39;49m\u001b[43mkwargs\u001b[49m\u001b[43m)\u001b[49m\n",
      "File \u001b[0;32m~/python/miniconda/lib/python3.9/site-packages/pandas/io/parsers/readers.py:680\u001b[0m, in \u001b[0;36mread_csv\u001b[0;34m(filepath_or_buffer, sep, delimiter, header, names, index_col, usecols, squeeze, prefix, mangle_dupe_cols, dtype, engine, converters, true_values, false_values, skipinitialspace, skiprows, skipfooter, nrows, na_values, keep_default_na, na_filter, verbose, skip_blank_lines, parse_dates, infer_datetime_format, keep_date_col, date_parser, dayfirst, cache_dates, iterator, chunksize, compression, thousands, decimal, lineterminator, quotechar, quoting, doublequote, escapechar, comment, encoding, encoding_errors, dialect, error_bad_lines, warn_bad_lines, on_bad_lines, delim_whitespace, low_memory, memory_map, float_precision, storage_options)\u001b[0m\n\u001b[1;32m    665\u001b[0m kwds_defaults \u001b[38;5;241m=\u001b[39m _refine_defaults_read(\n\u001b[1;32m    666\u001b[0m     dialect,\n\u001b[1;32m    667\u001b[0m     delimiter,\n\u001b[0;32m   (...)\u001b[0m\n\u001b[1;32m    676\u001b[0m     defaults\u001b[38;5;241m=\u001b[39m{\u001b[38;5;124m\"\u001b[39m\u001b[38;5;124mdelimiter\u001b[39m\u001b[38;5;124m\"\u001b[39m: \u001b[38;5;124m\"\u001b[39m\u001b[38;5;124m,\u001b[39m\u001b[38;5;124m\"\u001b[39m},\n\u001b[1;32m    677\u001b[0m )\n\u001b[1;32m    678\u001b[0m kwds\u001b[38;5;241m.\u001b[39mupdate(kwds_defaults)\n\u001b[0;32m--> 680\u001b[0m \u001b[38;5;28;01mreturn\u001b[39;00m \u001b[43m_read\u001b[49m\u001b[43m(\u001b[49m\u001b[43mfilepath_or_buffer\u001b[49m\u001b[43m,\u001b[49m\u001b[43m \u001b[49m\u001b[43mkwds\u001b[49m\u001b[43m)\u001b[49m\n",
      "File \u001b[0;32m~/python/miniconda/lib/python3.9/site-packages/pandas/io/parsers/readers.py:575\u001b[0m, in \u001b[0;36m_read\u001b[0;34m(filepath_or_buffer, kwds)\u001b[0m\n\u001b[1;32m    572\u001b[0m _validate_names(kwds\u001b[38;5;241m.\u001b[39mget(\u001b[38;5;124m\"\u001b[39m\u001b[38;5;124mnames\u001b[39m\u001b[38;5;124m\"\u001b[39m, \u001b[38;5;28;01mNone\u001b[39;00m))\n\u001b[1;32m    574\u001b[0m \u001b[38;5;66;03m# Create the parser.\u001b[39;00m\n\u001b[0;32m--> 575\u001b[0m parser \u001b[38;5;241m=\u001b[39m \u001b[43mTextFileReader\u001b[49m\u001b[43m(\u001b[49m\u001b[43mfilepath_or_buffer\u001b[49m\u001b[43m,\u001b[49m\u001b[43m \u001b[49m\u001b[38;5;241;43m*\u001b[39;49m\u001b[38;5;241;43m*\u001b[39;49m\u001b[43mkwds\u001b[49m\u001b[43m)\u001b[49m\n\u001b[1;32m    577\u001b[0m \u001b[38;5;28;01mif\u001b[39;00m chunksize \u001b[38;5;129;01mor\u001b[39;00m iterator:\n\u001b[1;32m    578\u001b[0m     \u001b[38;5;28;01mreturn\u001b[39;00m parser\n",
      "File \u001b[0;32m~/python/miniconda/lib/python3.9/site-packages/pandas/io/parsers/readers.py:933\u001b[0m, in \u001b[0;36mTextFileReader.__init__\u001b[0;34m(self, f, engine, **kwds)\u001b[0m\n\u001b[1;32m    930\u001b[0m     \u001b[38;5;28mself\u001b[39m\u001b[38;5;241m.\u001b[39moptions[\u001b[38;5;124m\"\u001b[39m\u001b[38;5;124mhas_index_names\u001b[39m\u001b[38;5;124m\"\u001b[39m] \u001b[38;5;241m=\u001b[39m kwds[\u001b[38;5;124m\"\u001b[39m\u001b[38;5;124mhas_index_names\u001b[39m\u001b[38;5;124m\"\u001b[39m]\n\u001b[1;32m    932\u001b[0m \u001b[38;5;28mself\u001b[39m\u001b[38;5;241m.\u001b[39mhandles: IOHandles \u001b[38;5;241m|\u001b[39m \u001b[38;5;28;01mNone\u001b[39;00m \u001b[38;5;241m=\u001b[39m \u001b[38;5;28;01mNone\u001b[39;00m\n\u001b[0;32m--> 933\u001b[0m \u001b[38;5;28mself\u001b[39m\u001b[38;5;241m.\u001b[39m_engine \u001b[38;5;241m=\u001b[39m \u001b[38;5;28;43mself\u001b[39;49m\u001b[38;5;241;43m.\u001b[39;49m\u001b[43m_make_engine\u001b[49m\u001b[43m(\u001b[49m\u001b[43mf\u001b[49m\u001b[43m,\u001b[49m\u001b[43m \u001b[49m\u001b[38;5;28;43mself\u001b[39;49m\u001b[38;5;241;43m.\u001b[39;49m\u001b[43mengine\u001b[49m\u001b[43m)\u001b[49m\n",
      "File \u001b[0;32m~/python/miniconda/lib/python3.9/site-packages/pandas/io/parsers/readers.py:1217\u001b[0m, in \u001b[0;36mTextFileReader._make_engine\u001b[0;34m(self, f, engine)\u001b[0m\n\u001b[1;32m   1213\u001b[0m     mode \u001b[38;5;241m=\u001b[39m \u001b[38;5;124m\"\u001b[39m\u001b[38;5;124mrb\u001b[39m\u001b[38;5;124m\"\u001b[39m\n\u001b[1;32m   1214\u001b[0m \u001b[38;5;66;03m# error: No overload variant of \"get_handle\" matches argument types\u001b[39;00m\n\u001b[1;32m   1215\u001b[0m \u001b[38;5;66;03m# \"Union[str, PathLike[str], ReadCsvBuffer[bytes], ReadCsvBuffer[str]]\"\u001b[39;00m\n\u001b[1;32m   1216\u001b[0m \u001b[38;5;66;03m# , \"str\", \"bool\", \"Any\", \"Any\", \"Any\", \"Any\", \"Any\"\u001b[39;00m\n\u001b[0;32m-> 1217\u001b[0m \u001b[38;5;28mself\u001b[39m\u001b[38;5;241m.\u001b[39mhandles \u001b[38;5;241m=\u001b[39m \u001b[43mget_handle\u001b[49m\u001b[43m(\u001b[49m\u001b[43m  \u001b[49m\u001b[38;5;66;43;03m# type: ignore[call-overload]\u001b[39;49;00m\n\u001b[1;32m   1218\u001b[0m \u001b[43m    \u001b[49m\u001b[43mf\u001b[49m\u001b[43m,\u001b[49m\n\u001b[1;32m   1219\u001b[0m \u001b[43m    \u001b[49m\u001b[43mmode\u001b[49m\u001b[43m,\u001b[49m\n\u001b[1;32m   1220\u001b[0m \u001b[43m    \u001b[49m\u001b[43mencoding\u001b[49m\u001b[38;5;241;43m=\u001b[39;49m\u001b[38;5;28;43mself\u001b[39;49m\u001b[38;5;241;43m.\u001b[39;49m\u001b[43moptions\u001b[49m\u001b[38;5;241;43m.\u001b[39;49m\u001b[43mget\u001b[49m\u001b[43m(\u001b[49m\u001b[38;5;124;43m\"\u001b[39;49m\u001b[38;5;124;43mencoding\u001b[39;49m\u001b[38;5;124;43m\"\u001b[39;49m\u001b[43m,\u001b[49m\u001b[43m \u001b[49m\u001b[38;5;28;43;01mNone\u001b[39;49;00m\u001b[43m)\u001b[49m\u001b[43m,\u001b[49m\n\u001b[1;32m   1221\u001b[0m \u001b[43m    \u001b[49m\u001b[43mcompression\u001b[49m\u001b[38;5;241;43m=\u001b[39;49m\u001b[38;5;28;43mself\u001b[39;49m\u001b[38;5;241;43m.\u001b[39;49m\u001b[43moptions\u001b[49m\u001b[38;5;241;43m.\u001b[39;49m\u001b[43mget\u001b[49m\u001b[43m(\u001b[49m\u001b[38;5;124;43m\"\u001b[39;49m\u001b[38;5;124;43mcompression\u001b[39;49m\u001b[38;5;124;43m\"\u001b[39;49m\u001b[43m,\u001b[49m\u001b[43m \u001b[49m\u001b[38;5;28;43;01mNone\u001b[39;49;00m\u001b[43m)\u001b[49m\u001b[43m,\u001b[49m\n\u001b[1;32m   1222\u001b[0m \u001b[43m    \u001b[49m\u001b[43mmemory_map\u001b[49m\u001b[38;5;241;43m=\u001b[39;49m\u001b[38;5;28;43mself\u001b[39;49m\u001b[38;5;241;43m.\u001b[39;49m\u001b[43moptions\u001b[49m\u001b[38;5;241;43m.\u001b[39;49m\u001b[43mget\u001b[49m\u001b[43m(\u001b[49m\u001b[38;5;124;43m\"\u001b[39;49m\u001b[38;5;124;43mmemory_map\u001b[39;49m\u001b[38;5;124;43m\"\u001b[39;49m\u001b[43m,\u001b[49m\u001b[43m \u001b[49m\u001b[38;5;28;43;01mFalse\u001b[39;49;00m\u001b[43m)\u001b[49m\u001b[43m,\u001b[49m\n\u001b[1;32m   1223\u001b[0m \u001b[43m    \u001b[49m\u001b[43mis_text\u001b[49m\u001b[38;5;241;43m=\u001b[39;49m\u001b[43mis_text\u001b[49m\u001b[43m,\u001b[49m\n\u001b[1;32m   1224\u001b[0m \u001b[43m    \u001b[49m\u001b[43merrors\u001b[49m\u001b[38;5;241;43m=\u001b[39;49m\u001b[38;5;28;43mself\u001b[39;49m\u001b[38;5;241;43m.\u001b[39;49m\u001b[43moptions\u001b[49m\u001b[38;5;241;43m.\u001b[39;49m\u001b[43mget\u001b[49m\u001b[43m(\u001b[49m\u001b[38;5;124;43m\"\u001b[39;49m\u001b[38;5;124;43mencoding_errors\u001b[39;49m\u001b[38;5;124;43m\"\u001b[39;49m\u001b[43m,\u001b[49m\u001b[43m \u001b[49m\u001b[38;5;124;43m\"\u001b[39;49m\u001b[38;5;124;43mstrict\u001b[39;49m\u001b[38;5;124;43m\"\u001b[39;49m\u001b[43m)\u001b[49m\u001b[43m,\u001b[49m\n\u001b[1;32m   1225\u001b[0m \u001b[43m    \u001b[49m\u001b[43mstorage_options\u001b[49m\u001b[38;5;241;43m=\u001b[39;49m\u001b[38;5;28;43mself\u001b[39;49m\u001b[38;5;241;43m.\u001b[39;49m\u001b[43moptions\u001b[49m\u001b[38;5;241;43m.\u001b[39;49m\u001b[43mget\u001b[49m\u001b[43m(\u001b[49m\u001b[38;5;124;43m\"\u001b[39;49m\u001b[38;5;124;43mstorage_options\u001b[39;49m\u001b[38;5;124;43m\"\u001b[39;49m\u001b[43m,\u001b[49m\u001b[43m \u001b[49m\u001b[38;5;28;43;01mNone\u001b[39;49;00m\u001b[43m)\u001b[49m\u001b[43m,\u001b[49m\n\u001b[1;32m   1226\u001b[0m \u001b[43m\u001b[49m\u001b[43m)\u001b[49m\n\u001b[1;32m   1227\u001b[0m \u001b[38;5;28;01massert\u001b[39;00m \u001b[38;5;28mself\u001b[39m\u001b[38;5;241m.\u001b[39mhandles \u001b[38;5;129;01mis\u001b[39;00m \u001b[38;5;129;01mnot\u001b[39;00m \u001b[38;5;28;01mNone\u001b[39;00m\n\u001b[1;32m   1228\u001b[0m f \u001b[38;5;241m=\u001b[39m \u001b[38;5;28mself\u001b[39m\u001b[38;5;241m.\u001b[39mhandles\u001b[38;5;241m.\u001b[39mhandle\n",
      "File \u001b[0;32m~/python/miniconda/lib/python3.9/site-packages/pandas/io/common.py:789\u001b[0m, in \u001b[0;36mget_handle\u001b[0;34m(path_or_buf, mode, encoding, compression, memory_map, is_text, errors, storage_options)\u001b[0m\n\u001b[1;32m    784\u001b[0m \u001b[38;5;28;01melif\u001b[39;00m \u001b[38;5;28misinstance\u001b[39m(handle, \u001b[38;5;28mstr\u001b[39m):\n\u001b[1;32m    785\u001b[0m     \u001b[38;5;66;03m# Check whether the filename is to be opened in binary mode.\u001b[39;00m\n\u001b[1;32m    786\u001b[0m     \u001b[38;5;66;03m# Binary mode does not support 'encoding' and 'newline'.\u001b[39;00m\n\u001b[1;32m    787\u001b[0m     \u001b[38;5;28;01mif\u001b[39;00m ioargs\u001b[38;5;241m.\u001b[39mencoding \u001b[38;5;129;01mand\u001b[39;00m \u001b[38;5;124m\"\u001b[39m\u001b[38;5;124mb\u001b[39m\u001b[38;5;124m\"\u001b[39m \u001b[38;5;129;01mnot\u001b[39;00m \u001b[38;5;129;01min\u001b[39;00m ioargs\u001b[38;5;241m.\u001b[39mmode:\n\u001b[1;32m    788\u001b[0m         \u001b[38;5;66;03m# Encoding\u001b[39;00m\n\u001b[0;32m--> 789\u001b[0m         handle \u001b[38;5;241m=\u001b[39m \u001b[38;5;28;43mopen\u001b[39;49m\u001b[43m(\u001b[49m\n\u001b[1;32m    790\u001b[0m \u001b[43m            \u001b[49m\u001b[43mhandle\u001b[49m\u001b[43m,\u001b[49m\n\u001b[1;32m    791\u001b[0m \u001b[43m            \u001b[49m\u001b[43mioargs\u001b[49m\u001b[38;5;241;43m.\u001b[39;49m\u001b[43mmode\u001b[49m\u001b[43m,\u001b[49m\n\u001b[1;32m    792\u001b[0m \u001b[43m            \u001b[49m\u001b[43mencoding\u001b[49m\u001b[38;5;241;43m=\u001b[39;49m\u001b[43mioargs\u001b[49m\u001b[38;5;241;43m.\u001b[39;49m\u001b[43mencoding\u001b[49m\u001b[43m,\u001b[49m\n\u001b[1;32m    793\u001b[0m \u001b[43m            \u001b[49m\u001b[43merrors\u001b[49m\u001b[38;5;241;43m=\u001b[39;49m\u001b[43merrors\u001b[49m\u001b[43m,\u001b[49m\n\u001b[1;32m    794\u001b[0m \u001b[43m            \u001b[49m\u001b[43mnewline\u001b[49m\u001b[38;5;241;43m=\u001b[39;49m\u001b[38;5;124;43m\"\u001b[39;49m\u001b[38;5;124;43m\"\u001b[39;49m\u001b[43m,\u001b[49m\n\u001b[1;32m    795\u001b[0m \u001b[43m        \u001b[49m\u001b[43m)\u001b[49m\n\u001b[1;32m    796\u001b[0m     \u001b[38;5;28;01melse\u001b[39;00m:\n\u001b[1;32m    797\u001b[0m         \u001b[38;5;66;03m# Binary mode\u001b[39;00m\n\u001b[1;32m    798\u001b[0m         handle \u001b[38;5;241m=\u001b[39m \u001b[38;5;28mopen\u001b[39m(handle, ioargs\u001b[38;5;241m.\u001b[39mmode)\n",
      "\u001b[0;31mFileNotFoundError\u001b[0m: [Errno 2] No such file or directory: '/home/noe/Documents/Master_2/Mémoire/SketchEngineExport/Ancilla.csv'"
     ]
    }
   ],
   "source": [
    "dfA = clean_csv('/home/noe/Documents/Master_2/Mémoire/SketchEngineExport/Ancilla.csv')\n",
    "dfC1 = clean_csv('/home/noe/Documents/Master_2/Mémoire/SketchEngineExport/Colonus_1.csv')\n",
    "dfC2 = clean_csv('/home/noe/Documents/Master_2/Mémoire/SketchEngineExport/Colonus_2.csv')\n",
    "dfF1 = clean_csv('/home/noe/Documents/Master_2/Mémoire/SketchEngineExport/Famulus_1.csv')\n",
    "dfF2 = clean_csv('/home/noe/Documents/Master_2/Mémoire/SketchEngineExport/Famulus_2.csv')\n",
    "dfM = clean_csv('/home/noe/Documents/Master_2/Mémoire/SketchEngineExport/Mancipium.csv')\n",
    "dfSerua = clean_csv('/home/noe/Documents/Master_2/Mémoire/SketchEngineExport/Serua.csv')\n",
    "dfSeruus = clean_csv('/home/noe/Documents/Master_2/Mémoire/SketchEngineExport/Seruus.csv')\n",
    "dfSC = clean_csv('/home/noe/Documents/Master_2/Mémoire/SketchEngineExport/Sclauus.csv')"
   ]
  },
  {
   "cell_type": "code",
   "execution_count": null,
   "id": "01eea547",
   "metadata": {},
   "outputs": [],
   "source": []
  },
  {
   "cell_type": "code",
   "execution_count": 16,
   "id": "fa1b92da",
   "metadata": {},
   "outputs": [
    {
     "data": {
      "text/html": [
       "<div>\n",
       "<style scoped>\n",
       "    .dataframe tbody tr th:only-of-type {\n",
       "        vertical-align: middle;\n",
       "    }\n",
       "\n",
       "    .dataframe tbody tr th {\n",
       "        vertical-align: top;\n",
       "    }\n",
       "\n",
       "    .dataframe thead th {\n",
       "        text-align: right;\n",
       "    }\n",
       "</style>\n",
       "<table border=\"1\" class=\"dataframe\">\n",
       "  <thead>\n",
       "    <tr style=\"text-align: right;\">\n",
       "      <th></th>\n",
       "      <th>lemme</th>\n",
       "    </tr>\n",
       "  </thead>\n",
       "  <tbody>\n",
       "    <tr>\n",
       "      <th>sclauorum</th>\n",
       "      <td>276</td>\n",
       "    </tr>\n",
       "    <tr>\n",
       "      <th>sclaui</th>\n",
       "      <td>75</td>\n",
       "    </tr>\n",
       "    <tr>\n",
       "      <th>sclauo</th>\n",
       "      <td>45</td>\n",
       "    </tr>\n",
       "    <tr>\n",
       "      <th>sclauis</th>\n",
       "      <td>39</td>\n",
       "    </tr>\n",
       "    <tr>\n",
       "      <th>sclauos</th>\n",
       "      <td>36</td>\n",
       "    </tr>\n",
       "    <tr>\n",
       "      <th>sclauus</th>\n",
       "      <td>25</td>\n",
       "    </tr>\n",
       "    <tr>\n",
       "      <th>sclauum</th>\n",
       "      <td>4</td>\n",
       "    </tr>\n",
       "    <tr>\n",
       "      <th>sclaue</th>\n",
       "      <td>2</td>\n",
       "    </tr>\n",
       "  </tbody>\n",
       "</table>\n",
       "</div>"
      ],
      "text/plain": [
       "           lemme\n",
       "sclauorum    276\n",
       "sclaui        75\n",
       "sclauo        45\n",
       "sclauis       39\n",
       "sclauos       36\n",
       "sclauus       25\n",
       "sclauum        4\n",
       "sclaue         2"
      ]
     },
     "execution_count": 16,
     "metadata": {},
     "output_type": "execute_result"
    }
   ],
   "source": [
    "dfSC2 = clean_csv('/home/noe/Documents/Master_2/Mémoire/SketchEngineExport/Sclauus.csv')\n",
    "dfSC2"
   ]
  },
  {
   "cell_type": "code",
   "execution_count": 96,
   "id": "233b482c",
   "metadata": {
    "scrolled": true
   },
   "outputs": [],
   "source": [
    "dfA.index = ['Dat/Abl pl','Acc pl','Nom/Abl sg','Gén pl','Acc sg','Gén sg']\n",
    "dfC2.index = ['Gén sg','Nom sg','Acc pl','Dat/Abl sg','Acc sg','Gén pl']\n",
    "dfF2.index = ['Nom sg','Gén sg','Dat/Abl sg','Acc pl','Gén pl','Acc sg','error']\n",
    "dfF2 = dfF2.drop(\"error\")\n",
    "dfM.index = ['Dat/Abl pl','Nom/Acc pl','Gén pl','Nom/Acc sg','Dat/Abl sg','Gén sg']\n",
    "dfSC.index = ['Gén pl','Gén sg','Dat/Abl sg','Dat/Abl pl','Acc pl','Nom sg','Acc sg','error']\n",
    "dfSC = dfSC.drop('error')\n",
    "dfSerua.index = ['Dat/Abl pl','Acc sg','Nom sg']\n",
    "dfSeruus.index = ['Gén pl','Nom sg','Acc pl','Gén sg','Acc sg','Dat/Abl sg','Voc sg']"
   ]
  },
  {
   "cell_type": "code",
   "execution_count": 97,
   "id": "73f7c729",
   "metadata": {},
   "outputs": [
    {
     "data": {
      "text/html": [
       "<div>\n",
       "<style scoped>\n",
       "    .dataframe tbody tr th:only-of-type {\n",
       "        vertical-align: middle;\n",
       "    }\n",
       "\n",
       "    .dataframe tbody tr th {\n",
       "        vertical-align: top;\n",
       "    }\n",
       "\n",
       "    .dataframe thead th {\n",
       "        text-align: right;\n",
       "    }\n",
       "</style>\n",
       "<table border=\"1\" class=\"dataframe\">\n",
       "  <thead>\n",
       "    <tr style=\"text-align: right;\">\n",
       "      <th></th>\n",
       "      <th>lemme</th>\n",
       "    </tr>\n",
       "  </thead>\n",
       "  <tbody>\n",
       "    <tr>\n",
       "      <th>Gén pl</th>\n",
       "      <td>276</td>\n",
       "    </tr>\n",
       "    <tr>\n",
       "      <th>Gén sg</th>\n",
       "      <td>75</td>\n",
       "    </tr>\n",
       "    <tr>\n",
       "      <th>Dat/Abl sg</th>\n",
       "      <td>45</td>\n",
       "    </tr>\n",
       "    <tr>\n",
       "      <th>Dat/Abl pl</th>\n",
       "      <td>39</td>\n",
       "    </tr>\n",
       "    <tr>\n",
       "      <th>Acc pl</th>\n",
       "      <td>36</td>\n",
       "    </tr>\n",
       "    <tr>\n",
       "      <th>Nom sg</th>\n",
       "      <td>25</td>\n",
       "    </tr>\n",
       "    <tr>\n",
       "      <th>Acc sg</th>\n",
       "      <td>4</td>\n",
       "    </tr>\n",
       "  </tbody>\n",
       "</table>\n",
       "</div>"
      ],
      "text/plain": [
       "            lemme\n",
       "Gén pl        276\n",
       "Gén sg         75\n",
       "Dat/Abl sg     45\n",
       "Dat/Abl pl     39\n",
       "Acc pl         36\n",
       "Nom sg         25\n",
       "Acc sg          4"
      ]
     },
     "execution_count": 97,
     "metadata": {},
     "output_type": "execute_result"
    }
   ],
   "source": [
    "dfSC"
   ]
  },
  {
   "cell_type": "code",
   "execution_count": 98,
   "id": "885158ef",
   "metadata": {},
   "outputs": [],
   "source": [
    "dfA = dfA/dfA.sum()\n",
    "dfC2 = dfC2/dfC2.sum()\n",
    "dfM = dfM/dfM.sum()\n",
    "dfF2 = dfF2/dfF2.sum()\n",
    "dfSC = dfSC/dfSC.sum()\n",
    "dfSerua = dfSerua/dfSerua.sum()\n",
    "dfSeruus = dfSeruus/dfSeruus.sum()\n",
    "\n"
   ]
  },
  {
   "cell_type": "code",
   "execution_count": 99,
   "id": "700e141c",
   "metadata": {},
   "outputs": [
    {
     "name": "stderr",
     "output_type": "stream",
     "text": [
      "/tmp/ipykernel_3279/2512149515.py:3: FutureWarning: Passing 'suffixes' which cause duplicate columns {'lemme_x'} in the result is deprecated and will raise a MergeError in a future version.\n",
      "  df_outer = df_outer.merge(dfSC,how='outer', left_index=True, right_index=True)\n",
      "/tmp/ipykernel_3279/2512149515.py:5: FutureWarning: Passing 'suffixes' which cause duplicate columns {'lemme_x'} in the result is deprecated and will raise a MergeError in a future version.\n",
      "  df_outer = df_outer.merge(dfSeruus,how='outer', left_index=True, right_index=True)\n"
     ]
    }
   ],
   "source": [
    "df_outer = dfA.merge(dfM, how='outer', left_index=True, right_index=True)\n",
    "df_outer = df_outer.merge(dfC2,how='outer', left_index=True, right_index=True)\n",
    "df_outer = df_outer.merge(dfSC,how='outer', left_index=True, right_index=True)\n",
    "df_outer = df_outer.merge(dfSerua,how='outer', left_index=True, right_index=True)\n",
    "df_outer = df_outer.merge(dfSeruus,how='outer', left_index=True, right_index=True)\n",
    "df_outer = df_outer.merge(dfF2,how='outer', left_index=True, right_index=True)"
   ]
  },
  {
   "cell_type": "code",
   "execution_count": 100,
   "id": "12d41efd",
   "metadata": {},
   "outputs": [],
   "source": [
    "df_outer.columns = ['Ancilla','Mancipium','Colonus','Sclauus','Serua','Seruus','Famulus']\n"
   ]
  },
  {
   "cell_type": "code",
   "execution_count": 119,
   "id": "2e4b4c43",
   "metadata": {},
   "outputs": [
    {
     "data": {
      "text/plain": [
       "<AxesSubplot:>"
      ]
     },
     "execution_count": 119,
     "metadata": {},
     "output_type": "execute_result"
    },
    {
     "data": {
      "image/png": "[encoded data removed]",
      "text/plain": [
       "<Figure size 432x288 with 1 Axes>"
      ]
     },
     "metadata": {
      "needs_background": "light"
     },
     "output_type": "display_data"
    }
   ],
   "source": [
    "dfSC['lemme'].hist()"
   ]
  },
  {
   "cell_type": "code",
   "execution_count": 102,
   "id": "308f9b3e",
   "metadata": {},
   "outputs": [
    {
     "data": {
      "image/png": "[encoded data removed]",
      "text/plain": [
       "<Figure size 720x576 with 2 Axes>"
      ]
     },
     "metadata": {
      "needs_background": "light"
     },
     "output_type": "display_data"
    }
   ],
   "source": [
    "import numpy as np\n",
    "import seaborn as sns\n",
    "plt.figure(figsize=(10,8))\n",
    "ax = sns.heatmap(df_outer,vmin = 0, vmax = 1,annot=True,linewidths = .5,\n",
    "               cmap='summer_r' )\n",
    "\n",
    "results_path = 'results.png'\n",
    "plt.savefig(results_path, dpi=400)\n"
   ]
  },
  {
   "cell_type": "code",
   "execution_count": 103,
   "id": "b24b33b3",
   "metadata": {},
   "outputs": [],
   "source": [
    "def open_csv(path):\n",
    "    df = pd.read_csv(path,sep=\",\", header = 4, encoding = \"UTF-8\")\n",
    "    df.columns = [\"indice\",\"1\",\"lemme\",\"2\"]\n",
    "    df = df.drop(\"1\", axis=1)\n",
    "    df = df.drop(\"2\", axis=1)\n",
    "    df = df.drop(\"indice\", axis=1)\n",
    "    \n",
    "    return df"
   ]
  },
  {
   "cell_type": "code",
   "execution_count": 104,
   "id": "63d89eb9",
   "metadata": {},
   "outputs": [],
   "source": [
    "df = pd.read_csv('/home/noe/Documents/Master_2/Mémoire/SketchEngineExport/Cooccurrences_Seruus.csv', sep=\",\", header = 4, nrows = 100)\n",
    "df.columns = ['lemme','occurrence','apparitions_totales','2','3','4']\n",
    "df[['lemme','occurrence','apparitions_totales']]\n",
    "df['pourcentage'] = df.apply(lambda row: row.occurrence/row.apparitions_totales, axis = 1)"
   ]
  },
  {
   "cell_type": "code",
   "execution_count": 105,
   "id": "6d0757eb",
   "metadata": {},
   "outputs": [],
   "source": [
    "df = df[[\"lemme\",\"occurrence\"]]\n",
    "dictionnaire_seruus = pd.Series(df.occurrence.values,index=df.lemme).to_dict()"
   ]
  },
  {
   "cell_type": "code",
   "execution_count": 1,
   "id": "72a56ffe",
   "metadata": {},
   "outputs": [],
   "source": [
    "def csv_tosim(path1,path2):\n",
    "    \n",
    "    \n",
    "    df = pd.read_csv(path1, sep=\",\", header = 4, nrows = 100)\n",
    "    df.columns = ['lemme','occurrence','apparitions_totales','2','3','4']\n",
    "    #df[['lemme','occurrence','apparitions_totales']]\n",
    "    \n",
    "    df = df[[\"lemme\",\"occurrence\"]]\n",
    "    dictionnaire1 = pd.Series(df.occurrence.values,index=df.lemme).to_dict()\n",
    "    \n",
    "    df2 = pd.read_csv(path2, sep=\",\", header = 1, nrows = 100)\n",
    "    df2.columns = ['lemme','occurrence']\n",
    "    #df2[['lemme','occurrence','apparitions_totales']]\n",
    "    \n",
    "    dictionnaire2 = pd.Series(df2.occurrence.values,index=df2.lemme).to_dict()\n",
    "    \n",
    "    indice_de_similarite = indice_similarite(dictionnaire1,dictionnaire2)\n",
    "    \n",
    "    return indice_de_similarite\n",
    "    "
   ]
  },
  {
   "cell_type": "code",
   "execution_count": 7,
   "id": "8630376a",
   "metadata": {},
   "outputs": [
    {
     "ename": "IsADirectoryError",
     "evalue": "[Errno 21] Is a directory: '/home/noe/Documents/Master_2/Mémoire/SketchEngineExport/'",
     "output_type": "error",
     "traceback": [
      "\u001b[0;31m---------------------------------------------------------------------------\u001b[0m",
      "\u001b[0;31mIsADirectoryError\u001b[0m                         Traceback (most recent call last)",
      "Input \u001b[0;32mIn [7]\u001b[0m, in \u001b[0;36m<module>\u001b[0;34m\u001b[0m\n\u001b[0;32m----> 1\u001b[0m neuvieme_siecle1 \u001b[38;5;241m=\u001b[39m \u001b[43mcsv_tosim\u001b[49m\u001b[43m(\u001b[49m\u001b[38;5;124;43m'\u001b[39;49m\u001b[38;5;124;43m/home/noe/Documents/Master_2/Mémoire/SketchEngineExport/mancipium_cooccurrents/800-849.csv\u001b[39;49m\u001b[38;5;124;43m'\u001b[39;49m\u001b[43m,\u001b[49m\u001b[38;5;124;43m'\u001b[39;49m\u001b[38;5;124;43m/home/noe/Documents/Master_2/Mémoire/SketchEngineExport/\u001b[39;49m\u001b[38;5;124;43m'\u001b[39;49m\u001b[43m)\u001b[49m\n\u001b[1;32m      2\u001b[0m neuvieme_siecle2 \u001b[38;5;241m=\u001b[39m csv_tosim(\u001b[38;5;124m'\u001b[39m\u001b[38;5;124m/home/noe/Documents/Master_2/Mémoire/SketchEngineExport/mancipium_cooccurrents/850-899.csv\u001b[39m\u001b[38;5;124m'\u001b[39m,\u001b[38;5;124m'\u001b[39m\u001b[38;5;124m/home/noe/Documents/Master_2/Mémoire/SketchEngineExport/seruus_cooccurrents/850-899.csv\u001b[39m\u001b[38;5;124m'\u001b[39m)\n\u001b[1;32m      3\u001b[0m dixieme_siecle1 \u001b[38;5;241m=\u001b[39m csv_tosim(\u001b[38;5;124m'\u001b[39m\u001b[38;5;124m/home/noe/Documents/Master_2/Mémoire/SketchEngineExport/mancipium_cooccurrents/900-949.csv\u001b[39m\u001b[38;5;124m'\u001b[39m,\u001b[38;5;124m'\u001b[39m\u001b[38;5;124m/home/noe/Documents/Master_2/Mémoire/SketchEngineExport/seruus_cooccurrents/900-949.csv\u001b[39m\u001b[38;5;124m'\u001b[39m)\n",
      "Input \u001b[0;32mIn [1]\u001b[0m, in \u001b[0;36mcsv_tosim\u001b[0;34m(path1, path2)\u001b[0m\n\u001b[1;32m      8\u001b[0m df \u001b[38;5;241m=\u001b[39m df[[\u001b[38;5;124m\"\u001b[39m\u001b[38;5;124mlemme\u001b[39m\u001b[38;5;124m\"\u001b[39m,\u001b[38;5;124m\"\u001b[39m\u001b[38;5;124moccurrence\u001b[39m\u001b[38;5;124m\"\u001b[39m]]\n\u001b[1;32m      9\u001b[0m dictionnaire1 \u001b[38;5;241m=\u001b[39m pd\u001b[38;5;241m.\u001b[39mSeries(df\u001b[38;5;241m.\u001b[39moccurrence\u001b[38;5;241m.\u001b[39mvalues,index\u001b[38;5;241m=\u001b[39mdf\u001b[38;5;241m.\u001b[39mlemme)\u001b[38;5;241m.\u001b[39mto_dict()\n\u001b[0;32m---> 11\u001b[0m df2 \u001b[38;5;241m=\u001b[39m \u001b[43mpd\u001b[49m\u001b[38;5;241;43m.\u001b[39;49m\u001b[43mread_csv\u001b[49m\u001b[43m(\u001b[49m\u001b[43mpath2\u001b[49m\u001b[43m,\u001b[49m\u001b[43m \u001b[49m\u001b[43msep\u001b[49m\u001b[38;5;241;43m=\u001b[39;49m\u001b[38;5;124;43m\"\u001b[39;49m\u001b[38;5;124;43m,\u001b[39;49m\u001b[38;5;124;43m\"\u001b[39;49m\u001b[43m,\u001b[49m\u001b[43m \u001b[49m\u001b[43mheader\u001b[49m\u001b[43m \u001b[49m\u001b[38;5;241;43m=\u001b[39;49m\u001b[43m \u001b[49m\u001b[38;5;241;43m1\u001b[39;49m\u001b[43m,\u001b[49m\u001b[43m \u001b[49m\u001b[43mnrows\u001b[49m\u001b[43m \u001b[49m\u001b[38;5;241;43m=\u001b[39;49m\u001b[43m \u001b[49m\u001b[38;5;241;43m100\u001b[39;49m\u001b[43m)\u001b[49m\n\u001b[1;32m     12\u001b[0m df2\u001b[38;5;241m.\u001b[39mcolumns \u001b[38;5;241m=\u001b[39m [\u001b[38;5;124m'\u001b[39m\u001b[38;5;124mlemme\u001b[39m\u001b[38;5;124m'\u001b[39m,\u001b[38;5;124m'\u001b[39m\u001b[38;5;124moccurrence\u001b[39m\u001b[38;5;124m'\u001b[39m]\n\u001b[1;32m     13\u001b[0m \u001b[38;5;66;03m#df2[['lemme','occurrence','apparitions_totales']]\u001b[39;00m\n",
      "File \u001b[0;32m~/python/miniconda/lib/python3.9/site-packages/pandas/util/_decorators.py:311\u001b[0m, in \u001b[0;36mdeprecate_nonkeyword_arguments.<locals>.decorate.<locals>.wrapper\u001b[0;34m(*args, **kwargs)\u001b[0m\n\u001b[1;32m    305\u001b[0m \u001b[38;5;28;01mif\u001b[39;00m \u001b[38;5;28mlen\u001b[39m(args) \u001b[38;5;241m>\u001b[39m num_allow_args:\n\u001b[1;32m    306\u001b[0m     warnings\u001b[38;5;241m.\u001b[39mwarn(\n\u001b[1;32m    307\u001b[0m         msg\u001b[38;5;241m.\u001b[39mformat(arguments\u001b[38;5;241m=\u001b[39marguments),\n\u001b[1;32m    308\u001b[0m         \u001b[38;5;167;01mFutureWarning\u001b[39;00m,\n\u001b[1;32m    309\u001b[0m         stacklevel\u001b[38;5;241m=\u001b[39mstacklevel,\n\u001b[1;32m    310\u001b[0m     )\n\u001b[0;32m--> 311\u001b[0m \u001b[38;5;28;01mreturn\u001b[39;00m \u001b[43mfunc\u001b[49m\u001b[43m(\u001b[49m\u001b[38;5;241;43m*\u001b[39;49m\u001b[43margs\u001b[49m\u001b[43m,\u001b[49m\u001b[43m \u001b[49m\u001b[38;5;241;43m*\u001b[39;49m\u001b[38;5;241;43m*\u001b[39;49m\u001b[43mkwargs\u001b[49m\u001b[43m)\u001b[49m\n",
      "File \u001b[0;32m~/python/miniconda/lib/python3.9/site-packages/pandas/io/parsers/readers.py:680\u001b[0m, in \u001b[0;36mread_csv\u001b[0;34m(filepath_or_buffer, sep, delimiter, header, names, index_col, usecols, squeeze, prefix, mangle_dupe_cols, dtype, engine, converters, true_values, false_values, skipinitialspace, skiprows, skipfooter, nrows, na_values, keep_default_na, na_filter, verbose, skip_blank_lines, parse_dates, infer_datetime_format, keep_date_col, date_parser, dayfirst, cache_dates, iterator, chunksize, compression, thousands, decimal, lineterminator, quotechar, quoting, doublequote, escapechar, comment, encoding, encoding_errors, dialect, error_bad_lines, warn_bad_lines, on_bad_lines, delim_whitespace, low_memory, memory_map, float_precision, storage_options)\u001b[0m\n\u001b[1;32m    665\u001b[0m kwds_defaults \u001b[38;5;241m=\u001b[39m _refine_defaults_read(\n\u001b[1;32m    666\u001b[0m     dialect,\n\u001b[1;32m    667\u001b[0m     delimiter,\n\u001b[0;32m   (...)\u001b[0m\n\u001b[1;32m    676\u001b[0m     defaults\u001b[38;5;241m=\u001b[39m{\u001b[38;5;124m\"\u001b[39m\u001b[38;5;124mdelimiter\u001b[39m\u001b[38;5;124m\"\u001b[39m: \u001b[38;5;124m\"\u001b[39m\u001b[38;5;124m,\u001b[39m\u001b[38;5;124m\"\u001b[39m},\n\u001b[1;32m    677\u001b[0m )\n\u001b[1;32m    678\u001b[0m kwds\u001b[38;5;241m.\u001b[39mupdate(kwds_defaults)\n\u001b[0;32m--> 680\u001b[0m \u001b[38;5;28;01mreturn\u001b[39;00m \u001b[43m_read\u001b[49m\u001b[43m(\u001b[49m\u001b[43mfilepath_or_buffer\u001b[49m\u001b[43m,\u001b[49m\u001b[43m \u001b[49m\u001b[43mkwds\u001b[49m\u001b[43m)\u001b[49m\n",
      "File \u001b[0;32m~/python/miniconda/lib/python3.9/site-packages/pandas/io/parsers/readers.py:575\u001b[0m, in \u001b[0;36m_read\u001b[0;34m(filepath_or_buffer, kwds)\u001b[0m\n\u001b[1;32m    572\u001b[0m _validate_names(kwds\u001b[38;5;241m.\u001b[39mget(\u001b[38;5;124m\"\u001b[39m\u001b[38;5;124mnames\u001b[39m\u001b[38;5;124m\"\u001b[39m, \u001b[38;5;28;01mNone\u001b[39;00m))\n\u001b[1;32m    574\u001b[0m \u001b[38;5;66;03m# Create the parser.\u001b[39;00m\n\u001b[0;32m--> 575\u001b[0m parser \u001b[38;5;241m=\u001b[39m \u001b[43mTextFileReader\u001b[49m\u001b[43m(\u001b[49m\u001b[43mfilepath_or_buffer\u001b[49m\u001b[43m,\u001b[49m\u001b[43m \u001b[49m\u001b[38;5;241;43m*\u001b[39;49m\u001b[38;5;241;43m*\u001b[39;49m\u001b[43mkwds\u001b[49m\u001b[43m)\u001b[49m\n\u001b[1;32m    577\u001b[0m \u001b[38;5;28;01mif\u001b[39;00m chunksize \u001b[38;5;129;01mor\u001b[39;00m iterator:\n\u001b[1;32m    578\u001b[0m     \u001b[38;5;28;01mreturn\u001b[39;00m parser\n",
      "File \u001b[0;32m~/python/miniconda/lib/python3.9/site-packages/pandas/io/parsers/readers.py:933\u001b[0m, in \u001b[0;36mTextFileReader.__init__\u001b[0;34m(self, f, engine, **kwds)\u001b[0m\n\u001b[1;32m    930\u001b[0m     \u001b[38;5;28mself\u001b[39m\u001b[38;5;241m.\u001b[39moptions[\u001b[38;5;124m\"\u001b[39m\u001b[38;5;124mhas_index_names\u001b[39m\u001b[38;5;124m\"\u001b[39m] \u001b[38;5;241m=\u001b[39m kwds[\u001b[38;5;124m\"\u001b[39m\u001b[38;5;124mhas_index_names\u001b[39m\u001b[38;5;124m\"\u001b[39m]\n\u001b[1;32m    932\u001b[0m \u001b[38;5;28mself\u001b[39m\u001b[38;5;241m.\u001b[39mhandles: IOHandles \u001b[38;5;241m|\u001b[39m \u001b[38;5;28;01mNone\u001b[39;00m \u001b[38;5;241m=\u001b[39m \u001b[38;5;28;01mNone\u001b[39;00m\n\u001b[0;32m--> 933\u001b[0m \u001b[38;5;28mself\u001b[39m\u001b[38;5;241m.\u001b[39m_engine \u001b[38;5;241m=\u001b[39m \u001b[38;5;28;43mself\u001b[39;49m\u001b[38;5;241;43m.\u001b[39;49m\u001b[43m_make_engine\u001b[49m\u001b[43m(\u001b[49m\u001b[43mf\u001b[49m\u001b[43m,\u001b[49m\u001b[43m \u001b[49m\u001b[38;5;28;43mself\u001b[39;49m\u001b[38;5;241;43m.\u001b[39;49m\u001b[43mengine\u001b[49m\u001b[43m)\u001b[49m\n",
      "File \u001b[0;32m~/python/miniconda/lib/python3.9/site-packages/pandas/io/parsers/readers.py:1217\u001b[0m, in \u001b[0;36mTextFileReader._make_engine\u001b[0;34m(self, f, engine)\u001b[0m\n\u001b[1;32m   1213\u001b[0m     mode \u001b[38;5;241m=\u001b[39m \u001b[38;5;124m\"\u001b[39m\u001b[38;5;124mrb\u001b[39m\u001b[38;5;124m\"\u001b[39m\n\u001b[1;32m   1214\u001b[0m \u001b[38;5;66;03m# error: No overload variant of \"get_handle\" matches argument types\u001b[39;00m\n\u001b[1;32m   1215\u001b[0m \u001b[38;5;66;03m# \"Union[str, PathLike[str], ReadCsvBuffer[bytes], ReadCsvBuffer[str]]\"\u001b[39;00m\n\u001b[1;32m   1216\u001b[0m \u001b[38;5;66;03m# , \"str\", \"bool\", \"Any\", \"Any\", \"Any\", \"Any\", \"Any\"\u001b[39;00m\n\u001b[0;32m-> 1217\u001b[0m \u001b[38;5;28mself\u001b[39m\u001b[38;5;241m.\u001b[39mhandles \u001b[38;5;241m=\u001b[39m \u001b[43mget_handle\u001b[49m\u001b[43m(\u001b[49m\u001b[43m  \u001b[49m\u001b[38;5;66;43;03m# type: ignore[call-overload]\u001b[39;49;00m\n\u001b[1;32m   1218\u001b[0m \u001b[43m    \u001b[49m\u001b[43mf\u001b[49m\u001b[43m,\u001b[49m\n\u001b[1;32m   1219\u001b[0m \u001b[43m    \u001b[49m\u001b[43mmode\u001b[49m\u001b[43m,\u001b[49m\n\u001b[1;32m   1220\u001b[0m \u001b[43m    \u001b[49m\u001b[43mencoding\u001b[49m\u001b[38;5;241;43m=\u001b[39;49m\u001b[38;5;28;43mself\u001b[39;49m\u001b[38;5;241;43m.\u001b[39;49m\u001b[43moptions\u001b[49m\u001b[38;5;241;43m.\u001b[39;49m\u001b[43mget\u001b[49m\u001b[43m(\u001b[49m\u001b[38;5;124;43m\"\u001b[39;49m\u001b[38;5;124;43mencoding\u001b[39;49m\u001b[38;5;124;43m\"\u001b[39;49m\u001b[43m,\u001b[49m\u001b[43m \u001b[49m\u001b[38;5;28;43;01mNone\u001b[39;49;00m\u001b[43m)\u001b[49m\u001b[43m,\u001b[49m\n\u001b[1;32m   1221\u001b[0m \u001b[43m    \u001b[49m\u001b[43mcompression\u001b[49m\u001b[38;5;241;43m=\u001b[39;49m\u001b[38;5;28;43mself\u001b[39;49m\u001b[38;5;241;43m.\u001b[39;49m\u001b[43moptions\u001b[49m\u001b[38;5;241;43m.\u001b[39;49m\u001b[43mget\u001b[49m\u001b[43m(\u001b[49m\u001b[38;5;124;43m\"\u001b[39;49m\u001b[38;5;124;43mcompression\u001b[39;49m\u001b[38;5;124;43m\"\u001b[39;49m\u001b[43m,\u001b[49m\u001b[43m \u001b[49m\u001b[38;5;28;43;01mNone\u001b[39;49;00m\u001b[43m)\u001b[49m\u001b[43m,\u001b[49m\n\u001b[1;32m   1222\u001b[0m \u001b[43m    \u001b[49m\u001b[43mmemory_map\u001b[49m\u001b[38;5;241;43m=\u001b[39;49m\u001b[38;5;28;43mself\u001b[39;49m\u001b[38;5;241;43m.\u001b[39;49m\u001b[43moptions\u001b[49m\u001b[38;5;241;43m.\u001b[39;49m\u001b[43mget\u001b[49m\u001b[43m(\u001b[49m\u001b[38;5;124;43m\"\u001b[39;49m\u001b[38;5;124;43mmemory_map\u001b[39;49m\u001b[38;5;124;43m\"\u001b[39;49m\u001b[43m,\u001b[49m\u001b[43m \u001b[49m\u001b[38;5;28;43;01mFalse\u001b[39;49;00m\u001b[43m)\u001b[49m\u001b[43m,\u001b[49m\n\u001b[1;32m   1223\u001b[0m \u001b[43m    \u001b[49m\u001b[43mis_text\u001b[49m\u001b[38;5;241;43m=\u001b[39;49m\u001b[43mis_text\u001b[49m\u001b[43m,\u001b[49m\n\u001b[1;32m   1224\u001b[0m \u001b[43m    \u001b[49m\u001b[43merrors\u001b[49m\u001b[38;5;241;43m=\u001b[39;49m\u001b[38;5;28;43mself\u001b[39;49m\u001b[38;5;241;43m.\u001b[39;49m\u001b[43moptions\u001b[49m\u001b[38;5;241;43m.\u001b[39;49m\u001b[43mget\u001b[49m\u001b[43m(\u001b[49m\u001b[38;5;124;43m\"\u001b[39;49m\u001b[38;5;124;43mencoding_errors\u001b[39;49m\u001b[38;5;124;43m\"\u001b[39;49m\u001b[43m,\u001b[49m\u001b[43m \u001b[49m\u001b[38;5;124;43m\"\u001b[39;49m\u001b[38;5;124;43mstrict\u001b[39;49m\u001b[38;5;124;43m\"\u001b[39;49m\u001b[43m)\u001b[49m\u001b[43m,\u001b[49m\n\u001b[1;32m   1225\u001b[0m \u001b[43m    \u001b[49m\u001b[43mstorage_options\u001b[49m\u001b[38;5;241;43m=\u001b[39;49m\u001b[38;5;28;43mself\u001b[39;49m\u001b[38;5;241;43m.\u001b[39;49m\u001b[43moptions\u001b[49m\u001b[38;5;241;43m.\u001b[39;49m\u001b[43mget\u001b[49m\u001b[43m(\u001b[49m\u001b[38;5;124;43m\"\u001b[39;49m\u001b[38;5;124;43mstorage_options\u001b[39;49m\u001b[38;5;124;43m\"\u001b[39;49m\u001b[43m,\u001b[49m\u001b[43m \u001b[49m\u001b[38;5;28;43;01mNone\u001b[39;49;00m\u001b[43m)\u001b[49m\u001b[43m,\u001b[49m\n\u001b[1;32m   1226\u001b[0m \u001b[43m\u001b[49m\u001b[43m)\u001b[49m\n\u001b[1;32m   1227\u001b[0m \u001b[38;5;28;01massert\u001b[39;00m \u001b[38;5;28mself\u001b[39m\u001b[38;5;241m.\u001b[39mhandles \u001b[38;5;129;01mis\u001b[39;00m \u001b[38;5;129;01mnot\u001b[39;00m \u001b[38;5;28;01mNone\u001b[39;00m\n\u001b[1;32m   1228\u001b[0m f \u001b[38;5;241m=\u001b[39m \u001b[38;5;28mself\u001b[39m\u001b[38;5;241m.\u001b[39mhandles\u001b[38;5;241m.\u001b[39mhandle\n",
      "File \u001b[0;32m~/python/miniconda/lib/python3.9/site-packages/pandas/io/common.py:789\u001b[0m, in \u001b[0;36mget_handle\u001b[0;34m(path_or_buf, mode, encoding, compression, memory_map, is_text, errors, storage_options)\u001b[0m\n\u001b[1;32m    784\u001b[0m \u001b[38;5;28;01melif\u001b[39;00m \u001b[38;5;28misinstance\u001b[39m(handle, \u001b[38;5;28mstr\u001b[39m):\n\u001b[1;32m    785\u001b[0m     \u001b[38;5;66;03m# Check whether the filename is to be opened in binary mode.\u001b[39;00m\n\u001b[1;32m    786\u001b[0m     \u001b[38;5;66;03m# Binary mode does not support 'encoding' and 'newline'.\u001b[39;00m\n\u001b[1;32m    787\u001b[0m     \u001b[38;5;28;01mif\u001b[39;00m ioargs\u001b[38;5;241m.\u001b[39mencoding \u001b[38;5;129;01mand\u001b[39;00m \u001b[38;5;124m\"\u001b[39m\u001b[38;5;124mb\u001b[39m\u001b[38;5;124m\"\u001b[39m \u001b[38;5;129;01mnot\u001b[39;00m \u001b[38;5;129;01min\u001b[39;00m ioargs\u001b[38;5;241m.\u001b[39mmode:\n\u001b[1;32m    788\u001b[0m         \u001b[38;5;66;03m# Encoding\u001b[39;00m\n\u001b[0;32m--> 789\u001b[0m         handle \u001b[38;5;241m=\u001b[39m \u001b[38;5;28;43mopen\u001b[39;49m\u001b[43m(\u001b[49m\n\u001b[1;32m    790\u001b[0m \u001b[43m            \u001b[49m\u001b[43mhandle\u001b[49m\u001b[43m,\u001b[49m\n\u001b[1;32m    791\u001b[0m \u001b[43m            \u001b[49m\u001b[43mioargs\u001b[49m\u001b[38;5;241;43m.\u001b[39;49m\u001b[43mmode\u001b[49m\u001b[43m,\u001b[49m\n\u001b[1;32m    792\u001b[0m \u001b[43m            \u001b[49m\u001b[43mencoding\u001b[49m\u001b[38;5;241;43m=\u001b[39;49m\u001b[43mioargs\u001b[49m\u001b[38;5;241;43m.\u001b[39;49m\u001b[43mencoding\u001b[49m\u001b[43m,\u001b[49m\n\u001b[1;32m    793\u001b[0m \u001b[43m            \u001b[49m\u001b[43merrors\u001b[49m\u001b[38;5;241;43m=\u001b[39;49m\u001b[43merrors\u001b[49m\u001b[43m,\u001b[49m\n\u001b[1;32m    794\u001b[0m \u001b[43m            \u001b[49m\u001b[43mnewline\u001b[49m\u001b[38;5;241;43m=\u001b[39;49m\u001b[38;5;124;43m\"\u001b[39;49m\u001b[38;5;124;43m\"\u001b[39;49m\u001b[43m,\u001b[49m\n\u001b[1;32m    795\u001b[0m \u001b[43m        \u001b[49m\u001b[43m)\u001b[49m\n\u001b[1;32m    796\u001b[0m     \u001b[38;5;28;01melse\u001b[39;00m:\n\u001b[1;32m    797\u001b[0m         \u001b[38;5;66;03m# Binary mode\u001b[39;00m\n\u001b[1;32m    798\u001b[0m         handle \u001b[38;5;241m=\u001b[39m \u001b[38;5;28mopen\u001b[39m(handle, ioargs\u001b[38;5;241m.\u001b[39mmode)\n",
      "\u001b[0;31mIsADirectoryError\u001b[0m: [Errno 21] Is a directory: '/home/noe/Documents/Master_2/Mémoire/SketchEngineExport/'"
     ]
    }
   ],
   "source": [
    "neuvieme_siecle1 = csv_tosim('/home/noe/Documents/Master_2/Mémoire/SketchEngineExport/mancipium_cooccurrents/800-849.csv','/home/noe/Documents/Master_2/Mémoire/SketchEngineExport/')\n",
    "neuvieme_siecle2 = csv_tosim('/home/noe/Documents/Master_2/Mémoire/SketchEngineExport/mancipium_cooccurrents/850-899.csv','/home/noe/Documents/Master_2/Mémoire/SketchEngineExport/seruus_cooccurrents/850-899.csv')\n",
    "dixieme_siecle1 = csv_tosim('/home/noe/Documents/Master_2/Mémoire/SketchEngineExport/mancipium_cooccurrents/900-949.csv','/home/noe/Documents/Master_2/Mémoire/SketchEngineExport/seruus_cooccurrents/900-949.csv')\n",
    "dixieme_siecle2 = csv_tosim('/home/noe/Documents/Master_2/Mémoire/SketchEngineExport/mancipium_cooccurrents/950-999.csv','/home/noe/Documents/Master_2/Mémoire/SketchEngineExport/seruus_cooccurrents/950-999.csv')\n",
    "onzieme_siecle1 = csv_tosim('/home/noe/Documents/Master_2/Mémoire/SketchEngineExport/mancipium_cooccurrents/1000-1049.csv','/home/noe/Documents/Master_2/Mémoire/SketchEngineExport/seruus_cooccurrents/1000-1049.csv')\n",
    "onzieme_siecle2 = csv_tosim('/home/noe/Documents/Master_2/Mémoire/SketchEngineExport/mancipium_cooccurrents/1050-1099.csv','/home/noe/Documents/Master_2/Mémoire/SketchEngineExport/seruus_cooccurrents/1050-1099.csv')\n",
    "douzieme_siecle1 = csv_tosim('/home/noe/Documents/Master_2/Mémoire/SketchEngineExport/mancipium_cooccurrents/1100-1149.csv','/home/noe/Documents/Master_2/Mémoire/SketchEngineExport/seruus_cooccurrents/1100-1149.csv')\n",
    "douzieme_siecle2 = csv_tosim('/home/noe/Documents/Master_2/Mémoire/SketchEngineExport/mancipium_cooccurrents/1150-1199.csv','/home/noe/Documents/Master_2/Mémoire/SketchEngineExport/seruus_cooccurrents/1150-1199.csv')\n",
    "treizieme_siecle1 = csv_tosim('/home/noe/Documents/Master_2/Mémoire/SketchEngineExport/mancipium_cooccurrents/1200-1249.csv','/home/noe/Documents/Master_2/Mémoire/SketchEngineExport/seruus_cooccurrents/1200-1249.csv')\n",
    "treizieme_siecle2 = csv_tosim('/home/noe/Documents/Master_2/Mémoire/SketchEngineExport/mancipium_cooccurrents/1250-1299.csv','/home/noe/Documents/Master_2/Mémoire/SketchEngineExport/seruus_cooccurrents/1250-1299.csv')"
   ]
  },
  {
   "cell_type": "code",
   "execution_count": 6,
   "id": "aa95b9fd",
   "metadata": {},
   "outputs": [
    {
     "ename": "NameError",
     "evalue": "name 'neuvieme_siecle1' is not defined",
     "output_type": "error",
     "traceback": [
      "\u001b[0;31m---------------------------------------------------------------------------\u001b[0m",
      "\u001b[0;31mNameError\u001b[0m                                 Traceback (most recent call last)",
      "Input \u001b[0;32mIn [6]\u001b[0m, in \u001b[0;36m<module>\u001b[0;34m\u001b[0m\n\u001b[0;32m----> 1\u001b[0m liste_indices \u001b[38;5;241m=\u001b[39m [\u001b[43mneuvieme_siecle1\u001b[49m,neuvieme_siecle2,dixieme_siecle1,dixieme_siecle2,onzieme_siecle1,onzieme_siecle2,douzieme_siecle1,\n\u001b[1;32m      2\u001b[0m                 douzieme_siecle2, treizieme_siecle1,treizieme_siecle2]\n\u001b[1;32m      3\u001b[0m liste_dates_cooccurrences \u001b[38;5;241m=\u001b[39m [\u001b[38;5;124m\"\u001b[39m\u001b[38;5;124m800 – 849\u001b[39m\u001b[38;5;124m\"\u001b[39m,\u001b[38;5;124m\"\u001b[39m\u001b[38;5;124m850 – 899\u001b[39m\u001b[38;5;124m\"\u001b[39m,\u001b[38;5;124m\"\u001b[39m\u001b[38;5;124m900 – 949\u001b[39m\u001b[38;5;124m\"\u001b[39m,\u001b[38;5;124m\"\u001b[39m\u001b[38;5;124m950 – 999\u001b[39m\u001b[38;5;124m\"\u001b[39m,\u001b[38;5;124m\"\u001b[39m\u001b[38;5;124m1000 – 1049\u001b[39m\u001b[38;5;124m\"\u001b[39m,\n\u001b[1;32m      4\u001b[0m                              \u001b[38;5;124m\"\u001b[39m\u001b[38;5;124m1050 – 1099\u001b[39m\u001b[38;5;124m\"\u001b[39m,\u001b[38;5;124m\"\u001b[39m\u001b[38;5;124m1100 – 1149\u001b[39m\u001b[38;5;124m\"\u001b[39m,\u001b[38;5;124m\"\u001b[39m\u001b[38;5;124m1150 – 1199\u001b[39m\u001b[38;5;124m\"\u001b[39m,\u001b[38;5;124m\"\u001b[39m\u001b[38;5;124m1200 – 1249\u001b[39m\u001b[38;5;124m\"\u001b[39m,\u001b[38;5;124m\"\u001b[39m\u001b[38;5;124m1250 – 1299\u001b[39m\u001b[38;5;124m\"\u001b[39m]\n\u001b[1;32m      6\u001b[0m plt\u001b[38;5;241m.\u001b[39mfigure(figsize\u001b[38;5;241m=\u001b[39m(\u001b[38;5;241m15\u001b[39m,\u001b[38;5;241m10\u001b[39m), dpi\u001b[38;5;241m=\u001b[39m\u001b[38;5;241m300\u001b[39m)\n",
      "\u001b[0;31mNameError\u001b[0m: name 'neuvieme_siecle1' is not defined"
     ]
    }
   ],
   "source": [
    "liste_indices = [neuvieme_siecle1,neuvieme_siecle2,dixieme_siecle1,dixieme_siecle2,onzieme_siecle1,onzieme_siecle2,douzieme_siecle1,\n",
    "                douzieme_siecle2, treizieme_siecle1,treizieme_siecle2]\n",
    "liste_dates_cooccurrences = [\"800 – 849\",\"850 – 899\",\"900 – 949\",\"950 – 999\",\"1000 – 1049\",\n",
    "                             \"1050 – 1099\",\"1100 – 1149\",\"1150 – 1199\",\"1200 – 1249\",\"1250 – 1299\"]\n",
    "\n",
    "plt.figure(figsize=(15,10), dpi=300)\n",
    "plt.bar(liste_dates_cooccurrences,liste_indices)\n",
    "plt.savefig(\"Indices de similarité_mancipium_seruus.png\")"
   ]
  },
  {
   "cell_type": "code",
   "execution_count": null,
   "id": "e7fef206",
   "metadata": {},
   "outputs": [],
   "source": [
    "from Fonctions import indice_similarite"
   ]
  },
  {
   "cell_type": "code",
   "execution_count": 128,
   "id": "a634cb6f",
   "metadata": {},
   "outputs": [],
   "source": [
    "liste = [\"Noé\",\"Vivien\",\"Tristan\",\"Leah\"]\n",
    "liste2 = [\"Noé\",\"Timothée\",\"Vivien\",\"Leah\"]"
   ]
  },
  {
   "cell_type": "code",
   "execution_count": 110,
   "id": "2ac46278",
   "metadata": {},
   "outputs": [],
   "source": [
    "def distance_jaccard(liste1,liste2):\n",
    "    s1 = set(liste1)\n",
    "    s2 = set(liste2)\n",
    "    return len(s1.intersection(s2))/len(s1.union(s2))"
   ]
  },
  {
   "cell_type": "code",
   "execution_count": 149,
   "id": "f6d987da",
   "metadata": {},
   "outputs": [
    {
     "data": {
      "text/plain": [
       "0.28205128205128205"
      ]
     },
     "execution_count": 149,
     "metadata": {},
     "output_type": "execute_result"
    }
   ],
   "source": [
    "distance_jaccard(liste,liste2)"
   ]
  },
  {
   "cell_type": "code",
   "execution_count": 135,
   "id": "803862d9",
   "metadata": {},
   "outputs": [
    {
     "name": "stdout",
     "output_type": "stream",
     "text": [
      "['--', 'cum1', 'qui2', 'res', 'domus', 'edificium', 'omnis', 'sum', 'terra', 'silua', 'pratum', 'in', 'hic3', 'uel', 'nomen', 'is2', 'sexus', 'uterque', 'ad', 'aqua', 'pascua', 'nam', 'idem2', 'uinea', 'de', 'suus', 'campus', 'pertineo', 'ibidem', 'ipse2', 'atque', 'ecclesia', 'habeo', 'quam', 'uilla', 'cultus1', 'decursus', 'tam', 'se', 'ut', 'monasterium', 'alius', 'aspicio', 'predictus', 'per', 'noster', 'unus', 'ceterus', 'quisquis1', 'mansus', 'uia', 'siue', 'dico2', 'commaneo', 'sanctus1', 'incultus1', 'memoro', 'uideo', 'locus', 'regressus', 'etas', 'uero1', 'quidam', 'meus', 'appendicia', 'integritas', 'ex', 'ue2', 'sicut', 'uidelicet', 'facio', 'desuper1', 'prefatus', 'ille2', 'nec', 'non', 'exitus', 'tempus', 'auctoritas', 'cum2', 'quattuor', 'charta', 'curtis', 'duo', 'uxor', 'ius', 'pars', 'commuto', '-', 'trado', 'homo', 'maneo', 'do', 'concedo', 'adiacentia', 'casa', '4', 'a', 'instrumentum', 'molendinum']\n",
      "['et', '--', 'ipse2', 'qui2', 'tam', 'ingenuus1', 'petitio', 'quam', 'terra', 'in', 'super', 'iustus', 'si', 'seruus2', 'commanens', 'cum1', 'monasterium', 'imperator', 'ad', 'noster', 'famulo', 'ibidem', 'episcopus', 'sum', 'diuinus', 'rationabilis', 'ecclesia', 'distringo', 'pro', 'atque', 'is2', 'quatenus', 'idem2', 'rex', '-', 'dominus', 'abbas', 'uel', 'omnis', 'prouidentia', 'iniustus', 'augustus1', 'suus', 'nos', 'sacerdos', 'sanctus1', 'habeo', 'gratia2', 'nomen', 'auris', 'ut', 'de', 'homo', 'unus', 'locus', 'hic3', 'stipendium', 'leo', 'aut', 'eligo', 'pauper', 'quisque', 'ullus', 'necessitas', 'proficio', 'clementia', 'res', 'siue', 'concedo', 'inibi', 'debeo', 'utilitas', 'ancilla', 'non', 'tempus', 'augmentum', 'redhibitio', 'a', 'opportunitas', 'meus', 'uester', 'census', 'libenter', 'amor', 'ecclesiasticus1', 'ex', 'filius', 'nec', 'commaneo', 'alimonia', 'similiter', 'pars', 'resideo', 'accommodo', 'quidam', 'enim', 'fidelis', 'trado', 'possideo', 'ille2']\n"
     ]
    }
   ],
   "source": [
    "df = pd.read_csv('/home/noe/Documents/Master_2/Mémoire/SketchEngineExport/mancipium_cooccurrents/800-849.csv', sep=\",\", header = 4, nrows = 100)\n",
    "df.columns = ['lemme','occurrence','apparitions_totales','2','3','4']\n",
    "df = df[['lemme']]\n",
    "liste = list(df['lemme'])\n",
    "\n",
    "\n",
    "df2 = pd.read_csv('/home/noe/Documents/Master_2/Mémoire/SketchEngineExport/seruus_cooccurrents/800-849.csv', sep=\",\", header = 4, nrows = 100)\n",
    "df2.columns = ['lemme','occurrence','apparitions_totales','2','3','4']\n",
    "df2 = df2[[\"lemme\"]]\n",
    "liste2 = list(df2[\"lemme\"])\n",
    "\n",
    "print(liste)\n",
    "print(liste2)\n",
    "\n"
   ]
  },
  {
   "cell_type": "code",
   "execution_count": 3,
   "id": "ee0a6f85",
   "metadata": {},
   "outputs": [],
   "source": [
    "def csv_tojaccard(path1,path2):\n",
    "    \n",
    "    df = pd.read_csv(path1, sep=\",\", header = 4, nrows = 100)\n",
    "    df.columns = ['lemme','occurrence','apparitions_totales','2','3','4']\n",
    "    df[['lemme']]\n",
    "    liste1 = list(df[\"lemme\"])\n",
    "    \n",
    "    df2 = pd.read_csv(path2, sep=\",\", header = 4, nrows = 100)\n",
    "    df2.columns = ['lemme','occurrence','apparitions_totales','2','3','4']\n",
    "    df2[['lemme']]\n",
    "    liste2 = list(df2[\"lemme\"])\n",
    "    \n",
    "    jaccard = distance.jaccard(liste1,liste2)\n",
    "    \n",
    "    return 1 - jaccard"
   ]
  },
  {
   "cell_type": "code",
   "execution_count": 4,
   "id": "4bef639b",
   "metadata": {},
   "outputs": [
    {
     "ename": "NameError",
     "evalue": "name 'pd' is not defined",
     "output_type": "error",
     "traceback": [
      "\u001b[0;31m---------------------------------------------------------------------------\u001b[0m",
      "\u001b[0;31mNameError\u001b[0m                                 Traceback (most recent call last)",
      "Input \u001b[0;32mIn [4]\u001b[0m, in \u001b[0;36m<module>\u001b[0;34m\u001b[0m\n\u001b[0;32m----> 1\u001b[0m \u001b[43mcsv_tojaccard\u001b[49m\u001b[43m(\u001b[49m\u001b[38;5;124;43m'\u001b[39;49m\u001b[38;5;124;43m/home/noe/Documents/Master_2/Mémoire/SketchEngineExport/mancipium_cooccurrents/800-849.csv\u001b[39;49m\u001b[38;5;124;43m'\u001b[39;49m\u001b[43m,\u001b[49m\u001b[38;5;124;43m'\u001b[39;49m\u001b[38;5;124;43m/home/noe/Documents/Master_2/Mémoire/SketchEngineExport/seruus_cooccurrents/800-849.csv\u001b[39;49m\u001b[38;5;124;43m'\u001b[39;49m\u001b[43m)\u001b[49m\n",
      "Input \u001b[0;32mIn [3]\u001b[0m, in \u001b[0;36mcsv_tojaccard\u001b[0;34m(path1, path2)\u001b[0m\n\u001b[1;32m      1\u001b[0m \u001b[38;5;28;01mdef\u001b[39;00m \u001b[38;5;21mcsv_tojaccard\u001b[39m(path1,path2):\n\u001b[0;32m----> 3\u001b[0m     df \u001b[38;5;241m=\u001b[39m \u001b[43mpd\u001b[49m\u001b[38;5;241m.\u001b[39mread_csv(path1, sep\u001b[38;5;241m=\u001b[39m\u001b[38;5;124m\"\u001b[39m\u001b[38;5;124m,\u001b[39m\u001b[38;5;124m\"\u001b[39m, header \u001b[38;5;241m=\u001b[39m \u001b[38;5;241m4\u001b[39m, nrows \u001b[38;5;241m=\u001b[39m \u001b[38;5;241m100\u001b[39m)\n\u001b[1;32m      4\u001b[0m     df\u001b[38;5;241m.\u001b[39mcolumns \u001b[38;5;241m=\u001b[39m [\u001b[38;5;124m'\u001b[39m\u001b[38;5;124mlemme\u001b[39m\u001b[38;5;124m'\u001b[39m,\u001b[38;5;124m'\u001b[39m\u001b[38;5;124moccurrence\u001b[39m\u001b[38;5;124m'\u001b[39m,\u001b[38;5;124m'\u001b[39m\u001b[38;5;124mapparitions_totales\u001b[39m\u001b[38;5;124m'\u001b[39m,\u001b[38;5;124m'\u001b[39m\u001b[38;5;124m2\u001b[39m\u001b[38;5;124m'\u001b[39m,\u001b[38;5;124m'\u001b[39m\u001b[38;5;124m3\u001b[39m\u001b[38;5;124m'\u001b[39m,\u001b[38;5;124m'\u001b[39m\u001b[38;5;124m4\u001b[39m\u001b[38;5;124m'\u001b[39m]\n\u001b[1;32m      5\u001b[0m     df[[\u001b[38;5;124m'\u001b[39m\u001b[38;5;124mlemme\u001b[39m\u001b[38;5;124m'\u001b[39m]]\n",
      "\u001b[0;31mNameError\u001b[0m: name 'pd' is not defined"
     ]
    }
   ],
   "source": [
    "csv_tojaccard('/home/noe/Documents/Master_2/Mémoire/SketchEngineExport/mancipium_cooccurrents/800-849.csv','/home/noe/Documents/Master_2/Mémoire/SketchEngineExport/seruus_cooccurrents/800-849.csv')"
   ]
  },
  {
   "cell_type": "code",
   "execution_count": 154,
   "id": "ec9edd11",
   "metadata": {},
   "outputs": [],
   "source": [
    "neuvieme_siecle1 = csv_tojaccard('/home/noe/Documents/Master_2/Mémoire/SketchEngineExport/mancipium_cooccurrents/800-849.csv','/home/noe/Documents/Master_2/Mémoire/SketchEngineExport/seruus_cooccurrents/800-849.csv')\n",
    "neuvieme_siecle2 = csv_tojaccard('/home/noe/Documents/Master_2/Mémoire/SketchEngineExport/mancipium_cooccurrents/850-899.csv','/home/noe/Documents/Master_2/Mémoire/SketchEngineExport/seruus_cooccurrents/850-899.csv')\n",
    "dixieme_siecle1 = csv_tojaccard('/home/noe/Documents/Master_2/Mémoire/SketchEngineExport/mancipium_cooccurrents/900-949.csv','/home/noe/Documents/Master_2/Mémoire/SketchEngineExport/seruus_cooccurrents/900-949.csv')\n",
    "dixieme_siecle2 = csv_tojaccard('/home/noe/Documents/Master_2/Mémoire/SketchEngineExport/mancipium_cooccurrents/950-999.csv','/home/noe/Documents/Master_2/Mémoire/SketchEngineExport/seruus_cooccurrents/950-999.csv')\n",
    "onzieme_siecle1 = csv_tojaccard('/home/noe/Documents/Master_2/Mémoire/SketchEngineExport/mancipium_cooccurrents/1000-1049.csv','/home/noe/Documents/Master_2/Mémoire/SketchEngineExport/seruus_cooccurrents/1000-1049.csv')\n",
    "onzieme_siecle2 = csv_tojaccard('/home/noe/Documents/Master_2/Mémoire/SketchEngineExport/mancipium_cooccurrents/1050-1099.csv','/home/noe/Documents/Master_2/Mémoire/SketchEngineExport/seruus_cooccurrents/1050-1099.csv')\n",
    "douzieme_siecle1 = csv_tojaccard('/home/noe/Documents/Master_2/Mémoire/SketchEngineExport/mancipium_cooccurrents/1100-1149.csv','/home/noe/Documents/Master_2/Mémoire/SketchEngineExport/seruus_cooccurrents/1100-1149.csv')\n",
    "douzieme_siecle2 = csv_tojaccard('/home/noe/Documents/Master_2/Mémoire/SketchEngineExport/mancipium_cooccurrents/1150-1199.csv','/home/noe/Documents/Master_2/Mémoire/SketchEngineExport/seruus_cooccurrents/1150-1199.csv')\n",
    "treizieme_siecle1 = csv_tojaccard('/home/noe/Documents/Master_2/Mémoire/SketchEngineExport/mancipium_cooccurrents/1200-1249.csv','/home/noe/Documents/Master_2/Mémoire/SketchEngineExport/seruus_cooccurrents/1200-1249.csv')\n",
    "treizieme_siecle2 = csv_tojaccard('/home/noe/Documents/Master_2/Mémoire/SketchEngineExport/mancipium_cooccurrents/1250-1299.csv','/home/noe/Documents/Master_2/Mémoire/SketchEngineExport/seruus_cooccurrents/1250-1299.csv')"
   ]
  },
  {
   "cell_type": "code",
   "execution_count": null,
   "id": "900f3a56",
   "metadata": {},
   "outputs": [],
   "source": []
  },
  {
   "cell_type": "code",
   "execution_count": 156,
   "id": "18a4c419",
   "metadata": {},
   "outputs": [
    {
     "data": {
      "image/png": "[encoded data removed]",
      "text/plain": [
       "<Figure size 4500x3000 with 1 Axes>"
      ]
     },
     "metadata": {
      "needs_background": "light"
     },
     "output_type": "display_data"
    }
   ],
   "source": [
    "liste_indices = [neuvieme_siecle1,neuvieme_siecle2,dixieme_siecle1,dixieme_siecle2,onzieme_siecle1,onzieme_siecle2,douzieme_siecle1,\n",
    "                douzieme_siecle2, treizieme_siecle1,treizieme_siecle2]\n",
    "liste_dates_cooccurrences = [\"800 – 849\",\"850 – 899\",\"900 – 949\",\"950 – 999\",\"1000 – 1049\",\n",
    "                             \"1050 – 1099\",\"1100 – 1149\",\"1150 – 1199\",\"1200 – 1249\",\"1250 – 1299\"]\n",
    "\n",
    "plt.figure(figsize=(15,10), dpi=300)\n",
    "plt.bar(liste_dates_cooccurrences,liste_indices)\n",
    "plt.savefig(\"Indices de jaccard_mancipium_seruus.png\")"
   ]
  },
  {
   "cell_type": "code",
   "execution_count": 1,
   "id": "3f22e876",
   "metadata": {},
   "outputs": [],
   "source": [
    "def csv_toeuclidean(path1,path2):\n",
    "    \n",
    "    df = pd.read_csv(path1, sep=\",\", header = 4, nrows = 100)\n",
    "    df.columns = ['lemme','occurrence','apparitions_totales','2','3','4']\n",
    "    df[['lemme']]\n",
    "    liste1 = list(df[\"lemme\"])\n",
    "    \n",
    "    df2 = pd.read_csv(path2, sep=\",\", header = 4, nrows = 100)\n",
    "    df2.columns = ['lemme','occurrence','apparitions_totales','2','3','4']\n",
    "    df2[['lemme']]\n",
    "    liste2 = list(df2[\"lemme\"])\n",
    "    \n",
    "    euclidean = distance.euclidean(liste1,liste2)\n",
    "    \n",
    "    return euclidean"
   ]
  },
  {
   "cell_type": "code",
   "execution_count": 162,
   "id": "8a842d4c",
   "metadata": {},
   "outputs": [],
   "source": [
    "from scipy.spatial import distance"
   ]
  },
  {
   "cell_type": "code",
   "execution_count": 4,
   "id": "c90d80f4",
   "metadata": {},
   "outputs": [
    {
     "ename": "FileNotFoundError",
     "evalue": "[Errno 2] No such file or directory: '/home/noe/Documents/Master_2/Mémoire/SketchEngineExport/seruus_cooccurrents/800-849.csv'",
     "output_type": "error",
     "traceback": [
      "\u001b[0;31m---------------------------------------------------------------------------\u001b[0m",
      "\u001b[0;31mFileNotFoundError\u001b[0m                         Traceback (most recent call last)",
      "Input \u001b[0;32mIn [4]\u001b[0m, in \u001b[0;36m<module>\u001b[0;34m\u001b[0m\n\u001b[0;32m----> 1\u001b[0m neuvieme_siecle1 \u001b[38;5;241m=\u001b[39m \u001b[43mcsv_toeuclidean\u001b[49m\u001b[43m(\u001b[49m\u001b[38;5;124;43m'\u001b[39;49m\u001b[38;5;124;43m/home/noe/Documents/Master_2/Mémoire/SketchEngineExport/mancipium_cooccurrents/800-849.csv\u001b[39;49m\u001b[38;5;124;43m'\u001b[39;49m\u001b[43m,\u001b[49m\u001b[38;5;124;43m'\u001b[39;49m\u001b[38;5;124;43m/home/noe/Documents/Master_2/Mémoire/SketchEngineExport/seruus_cooccurrents/800-849.csv\u001b[39;49m\u001b[38;5;124;43m'\u001b[39;49m\u001b[43m)\u001b[49m\n",
      "Input \u001b[0;32mIn [1]\u001b[0m, in \u001b[0;36mcsv_toeuclidean\u001b[0;34m(path1, path2)\u001b[0m\n\u001b[1;32m      5\u001b[0m df[[\u001b[38;5;124m'\u001b[39m\u001b[38;5;124mlemme\u001b[39m\u001b[38;5;124m'\u001b[39m]]\n\u001b[1;32m      6\u001b[0m liste1 \u001b[38;5;241m=\u001b[39m \u001b[38;5;28mlist\u001b[39m(df[\u001b[38;5;124m\"\u001b[39m\u001b[38;5;124mlemme\u001b[39m\u001b[38;5;124m\"\u001b[39m])\n\u001b[0;32m----> 8\u001b[0m df2 \u001b[38;5;241m=\u001b[39m \u001b[43mpd\u001b[49m\u001b[38;5;241;43m.\u001b[39;49m\u001b[43mread_csv\u001b[49m\u001b[43m(\u001b[49m\u001b[43mpath2\u001b[49m\u001b[43m,\u001b[49m\u001b[43m \u001b[49m\u001b[43msep\u001b[49m\u001b[38;5;241;43m=\u001b[39;49m\u001b[38;5;124;43m\"\u001b[39;49m\u001b[38;5;124;43m,\u001b[39;49m\u001b[38;5;124;43m\"\u001b[39;49m\u001b[43m,\u001b[49m\u001b[43m \u001b[49m\u001b[43mheader\u001b[49m\u001b[43m \u001b[49m\u001b[38;5;241;43m=\u001b[39;49m\u001b[43m \u001b[49m\u001b[38;5;241;43m4\u001b[39;49m\u001b[43m,\u001b[49m\u001b[43m \u001b[49m\u001b[43mnrows\u001b[49m\u001b[43m \u001b[49m\u001b[38;5;241;43m=\u001b[39;49m\u001b[43m \u001b[49m\u001b[38;5;241;43m100\u001b[39;49m\u001b[43m)\u001b[49m\n\u001b[1;32m      9\u001b[0m df2\u001b[38;5;241m.\u001b[39mcolumns \u001b[38;5;241m=\u001b[39m [\u001b[38;5;124m'\u001b[39m\u001b[38;5;124mlemme\u001b[39m\u001b[38;5;124m'\u001b[39m,\u001b[38;5;124m'\u001b[39m\u001b[38;5;124moccurrence\u001b[39m\u001b[38;5;124m'\u001b[39m,\u001b[38;5;124m'\u001b[39m\u001b[38;5;124mapparitions_totales\u001b[39m\u001b[38;5;124m'\u001b[39m,\u001b[38;5;124m'\u001b[39m\u001b[38;5;124m2\u001b[39m\u001b[38;5;124m'\u001b[39m,\u001b[38;5;124m'\u001b[39m\u001b[38;5;124m3\u001b[39m\u001b[38;5;124m'\u001b[39m,\u001b[38;5;124m'\u001b[39m\u001b[38;5;124m4\u001b[39m\u001b[38;5;124m'\u001b[39m]\n\u001b[1;32m     10\u001b[0m df2[[\u001b[38;5;124m'\u001b[39m\u001b[38;5;124mlemme\u001b[39m\u001b[38;5;124m'\u001b[39m]]\n",
      "File \u001b[0;32m~/python/miniconda/lib/python3.9/site-packages/pandas/util/_decorators.py:311\u001b[0m, in \u001b[0;36mdeprecate_nonkeyword_arguments.<locals>.decorate.<locals>.wrapper\u001b[0;34m(*args, **kwargs)\u001b[0m\n\u001b[1;32m    305\u001b[0m \u001b[38;5;28;01mif\u001b[39;00m \u001b[38;5;28mlen\u001b[39m(args) \u001b[38;5;241m>\u001b[39m num_allow_args:\n\u001b[1;32m    306\u001b[0m     warnings\u001b[38;5;241m.\u001b[39mwarn(\n\u001b[1;32m    307\u001b[0m         msg\u001b[38;5;241m.\u001b[39mformat(arguments\u001b[38;5;241m=\u001b[39marguments),\n\u001b[1;32m    308\u001b[0m         \u001b[38;5;167;01mFutureWarning\u001b[39;00m,\n\u001b[1;32m    309\u001b[0m         stacklevel\u001b[38;5;241m=\u001b[39mstacklevel,\n\u001b[1;32m    310\u001b[0m     )\n\u001b[0;32m--> 311\u001b[0m \u001b[38;5;28;01mreturn\u001b[39;00m \u001b[43mfunc\u001b[49m\u001b[43m(\u001b[49m\u001b[38;5;241;43m*\u001b[39;49m\u001b[43margs\u001b[49m\u001b[43m,\u001b[49m\u001b[43m \u001b[49m\u001b[38;5;241;43m*\u001b[39;49m\u001b[38;5;241;43m*\u001b[39;49m\u001b[43mkwargs\u001b[49m\u001b[43m)\u001b[49m\n",
      "File \u001b[0;32m~/python/miniconda/lib/python3.9/site-packages/pandas/io/parsers/readers.py:680\u001b[0m, in \u001b[0;36mread_csv\u001b[0;34m(filepath_or_buffer, sep, delimiter, header, names, index_col, usecols, squeeze, prefix, mangle_dupe_cols, dtype, engine, converters, true_values, false_values, skipinitialspace, skiprows, skipfooter, nrows, na_values, keep_default_na, na_filter, verbose, skip_blank_lines, parse_dates, infer_datetime_format, keep_date_col, date_parser, dayfirst, cache_dates, iterator, chunksize, compression, thousands, decimal, lineterminator, quotechar, quoting, doublequote, escapechar, comment, encoding, encoding_errors, dialect, error_bad_lines, warn_bad_lines, on_bad_lines, delim_whitespace, low_memory, memory_map, float_precision, storage_options)\u001b[0m\n\u001b[1;32m    665\u001b[0m kwds_defaults \u001b[38;5;241m=\u001b[39m _refine_defaults_read(\n\u001b[1;32m    666\u001b[0m     dialect,\n\u001b[1;32m    667\u001b[0m     delimiter,\n\u001b[0;32m   (...)\u001b[0m\n\u001b[1;32m    676\u001b[0m     defaults\u001b[38;5;241m=\u001b[39m{\u001b[38;5;124m\"\u001b[39m\u001b[38;5;124mdelimiter\u001b[39m\u001b[38;5;124m\"\u001b[39m: \u001b[38;5;124m\"\u001b[39m\u001b[38;5;124m,\u001b[39m\u001b[38;5;124m\"\u001b[39m},\n\u001b[1;32m    677\u001b[0m )\n\u001b[1;32m    678\u001b[0m kwds\u001b[38;5;241m.\u001b[39mupdate(kwds_defaults)\n\u001b[0;32m--> 680\u001b[0m \u001b[38;5;28;01mreturn\u001b[39;00m \u001b[43m_read\u001b[49m\u001b[43m(\u001b[49m\u001b[43mfilepath_or_buffer\u001b[49m\u001b[43m,\u001b[49m\u001b[43m \u001b[49m\u001b[43mkwds\u001b[49m\u001b[43m)\u001b[49m\n",
      "File \u001b[0;32m~/python/miniconda/lib/python3.9/site-packages/pandas/io/parsers/readers.py:575\u001b[0m, in \u001b[0;36m_read\u001b[0;34m(filepath_or_buffer, kwds)\u001b[0m\n\u001b[1;32m    572\u001b[0m _validate_names(kwds\u001b[38;5;241m.\u001b[39mget(\u001b[38;5;124m\"\u001b[39m\u001b[38;5;124mnames\u001b[39m\u001b[38;5;124m\"\u001b[39m, \u001b[38;5;28;01mNone\u001b[39;00m))\n\u001b[1;32m    574\u001b[0m \u001b[38;5;66;03m# Create the parser.\u001b[39;00m\n\u001b[0;32m--> 575\u001b[0m parser \u001b[38;5;241m=\u001b[39m \u001b[43mTextFileReader\u001b[49m\u001b[43m(\u001b[49m\u001b[43mfilepath_or_buffer\u001b[49m\u001b[43m,\u001b[49m\u001b[43m \u001b[49m\u001b[38;5;241;43m*\u001b[39;49m\u001b[38;5;241;43m*\u001b[39;49m\u001b[43mkwds\u001b[49m\u001b[43m)\u001b[49m\n\u001b[1;32m    577\u001b[0m \u001b[38;5;28;01mif\u001b[39;00m chunksize \u001b[38;5;129;01mor\u001b[39;00m iterator:\n\u001b[1;32m    578\u001b[0m     \u001b[38;5;28;01mreturn\u001b[39;00m parser\n",
      "File \u001b[0;32m~/python/miniconda/lib/python3.9/site-packages/pandas/io/parsers/readers.py:933\u001b[0m, in \u001b[0;36mTextFileReader.__init__\u001b[0;34m(self, f, engine, **kwds)\u001b[0m\n\u001b[1;32m    930\u001b[0m     \u001b[38;5;28mself\u001b[39m\u001b[38;5;241m.\u001b[39moptions[\u001b[38;5;124m\"\u001b[39m\u001b[38;5;124mhas_index_names\u001b[39m\u001b[38;5;124m\"\u001b[39m] \u001b[38;5;241m=\u001b[39m kwds[\u001b[38;5;124m\"\u001b[39m\u001b[38;5;124mhas_index_names\u001b[39m\u001b[38;5;124m\"\u001b[39m]\n\u001b[1;32m    932\u001b[0m \u001b[38;5;28mself\u001b[39m\u001b[38;5;241m.\u001b[39mhandles: IOHandles \u001b[38;5;241m|\u001b[39m \u001b[38;5;28;01mNone\u001b[39;00m \u001b[38;5;241m=\u001b[39m \u001b[38;5;28;01mNone\u001b[39;00m\n\u001b[0;32m--> 933\u001b[0m \u001b[38;5;28mself\u001b[39m\u001b[38;5;241m.\u001b[39m_engine \u001b[38;5;241m=\u001b[39m \u001b[38;5;28;43mself\u001b[39;49m\u001b[38;5;241;43m.\u001b[39;49m\u001b[43m_make_engine\u001b[49m\u001b[43m(\u001b[49m\u001b[43mf\u001b[49m\u001b[43m,\u001b[49m\u001b[43m \u001b[49m\u001b[38;5;28;43mself\u001b[39;49m\u001b[38;5;241;43m.\u001b[39;49m\u001b[43mengine\u001b[49m\u001b[43m)\u001b[49m\n",
      "File \u001b[0;32m~/python/miniconda/lib/python3.9/site-packages/pandas/io/parsers/readers.py:1217\u001b[0m, in \u001b[0;36mTextFileReader._make_engine\u001b[0;34m(self, f, engine)\u001b[0m\n\u001b[1;32m   1213\u001b[0m     mode \u001b[38;5;241m=\u001b[39m \u001b[38;5;124m\"\u001b[39m\u001b[38;5;124mrb\u001b[39m\u001b[38;5;124m\"\u001b[39m\n\u001b[1;32m   1214\u001b[0m \u001b[38;5;66;03m# error: No overload variant of \"get_handle\" matches argument types\u001b[39;00m\n\u001b[1;32m   1215\u001b[0m \u001b[38;5;66;03m# \"Union[str, PathLike[str], ReadCsvBuffer[bytes], ReadCsvBuffer[str]]\"\u001b[39;00m\n\u001b[1;32m   1216\u001b[0m \u001b[38;5;66;03m# , \"str\", \"bool\", \"Any\", \"Any\", \"Any\", \"Any\", \"Any\"\u001b[39;00m\n\u001b[0;32m-> 1217\u001b[0m \u001b[38;5;28mself\u001b[39m\u001b[38;5;241m.\u001b[39mhandles \u001b[38;5;241m=\u001b[39m \u001b[43mget_handle\u001b[49m\u001b[43m(\u001b[49m\u001b[43m  \u001b[49m\u001b[38;5;66;43;03m# type: ignore[call-overload]\u001b[39;49;00m\n\u001b[1;32m   1218\u001b[0m \u001b[43m    \u001b[49m\u001b[43mf\u001b[49m\u001b[43m,\u001b[49m\n\u001b[1;32m   1219\u001b[0m \u001b[43m    \u001b[49m\u001b[43mmode\u001b[49m\u001b[43m,\u001b[49m\n\u001b[1;32m   1220\u001b[0m \u001b[43m    \u001b[49m\u001b[43mencoding\u001b[49m\u001b[38;5;241;43m=\u001b[39;49m\u001b[38;5;28;43mself\u001b[39;49m\u001b[38;5;241;43m.\u001b[39;49m\u001b[43moptions\u001b[49m\u001b[38;5;241;43m.\u001b[39;49m\u001b[43mget\u001b[49m\u001b[43m(\u001b[49m\u001b[38;5;124;43m\"\u001b[39;49m\u001b[38;5;124;43mencoding\u001b[39;49m\u001b[38;5;124;43m\"\u001b[39;49m\u001b[43m,\u001b[49m\u001b[43m \u001b[49m\u001b[38;5;28;43;01mNone\u001b[39;49;00m\u001b[43m)\u001b[49m\u001b[43m,\u001b[49m\n\u001b[1;32m   1221\u001b[0m \u001b[43m    \u001b[49m\u001b[43mcompression\u001b[49m\u001b[38;5;241;43m=\u001b[39;49m\u001b[38;5;28;43mself\u001b[39;49m\u001b[38;5;241;43m.\u001b[39;49m\u001b[43moptions\u001b[49m\u001b[38;5;241;43m.\u001b[39;49m\u001b[43mget\u001b[49m\u001b[43m(\u001b[49m\u001b[38;5;124;43m\"\u001b[39;49m\u001b[38;5;124;43mcompression\u001b[39;49m\u001b[38;5;124;43m\"\u001b[39;49m\u001b[43m,\u001b[49m\u001b[43m \u001b[49m\u001b[38;5;28;43;01mNone\u001b[39;49;00m\u001b[43m)\u001b[49m\u001b[43m,\u001b[49m\n\u001b[1;32m   1222\u001b[0m \u001b[43m    \u001b[49m\u001b[43mmemory_map\u001b[49m\u001b[38;5;241;43m=\u001b[39;49m\u001b[38;5;28;43mself\u001b[39;49m\u001b[38;5;241;43m.\u001b[39;49m\u001b[43moptions\u001b[49m\u001b[38;5;241;43m.\u001b[39;49m\u001b[43mget\u001b[49m\u001b[43m(\u001b[49m\u001b[38;5;124;43m\"\u001b[39;49m\u001b[38;5;124;43mmemory_map\u001b[39;49m\u001b[38;5;124;43m\"\u001b[39;49m\u001b[43m,\u001b[49m\u001b[43m \u001b[49m\u001b[38;5;28;43;01mFalse\u001b[39;49;00m\u001b[43m)\u001b[49m\u001b[43m,\u001b[49m\n\u001b[1;32m   1223\u001b[0m \u001b[43m    \u001b[49m\u001b[43mis_text\u001b[49m\u001b[38;5;241;43m=\u001b[39;49m\u001b[43mis_text\u001b[49m\u001b[43m,\u001b[49m\n\u001b[1;32m   1224\u001b[0m \u001b[43m    \u001b[49m\u001b[43merrors\u001b[49m\u001b[38;5;241;43m=\u001b[39;49m\u001b[38;5;28;43mself\u001b[39;49m\u001b[38;5;241;43m.\u001b[39;49m\u001b[43moptions\u001b[49m\u001b[38;5;241;43m.\u001b[39;49m\u001b[43mget\u001b[49m\u001b[43m(\u001b[49m\u001b[38;5;124;43m\"\u001b[39;49m\u001b[38;5;124;43mencoding_errors\u001b[39;49m\u001b[38;5;124;43m\"\u001b[39;49m\u001b[43m,\u001b[49m\u001b[43m \u001b[49m\u001b[38;5;124;43m\"\u001b[39;49m\u001b[38;5;124;43mstrict\u001b[39;49m\u001b[38;5;124;43m\"\u001b[39;49m\u001b[43m)\u001b[49m\u001b[43m,\u001b[49m\n\u001b[1;32m   1225\u001b[0m \u001b[43m    \u001b[49m\u001b[43mstorage_options\u001b[49m\u001b[38;5;241;43m=\u001b[39;49m\u001b[38;5;28;43mself\u001b[39;49m\u001b[38;5;241;43m.\u001b[39;49m\u001b[43moptions\u001b[49m\u001b[38;5;241;43m.\u001b[39;49m\u001b[43mget\u001b[49m\u001b[43m(\u001b[49m\u001b[38;5;124;43m\"\u001b[39;49m\u001b[38;5;124;43mstorage_options\u001b[39;49m\u001b[38;5;124;43m\"\u001b[39;49m\u001b[43m,\u001b[49m\u001b[43m \u001b[49m\u001b[38;5;28;43;01mNone\u001b[39;49;00m\u001b[43m)\u001b[49m\u001b[43m,\u001b[49m\n\u001b[1;32m   1226\u001b[0m \u001b[43m\u001b[49m\u001b[43m)\u001b[49m\n\u001b[1;32m   1227\u001b[0m \u001b[38;5;28;01massert\u001b[39;00m \u001b[38;5;28mself\u001b[39m\u001b[38;5;241m.\u001b[39mhandles \u001b[38;5;129;01mis\u001b[39;00m \u001b[38;5;129;01mnot\u001b[39;00m \u001b[38;5;28;01mNone\u001b[39;00m\n\u001b[1;32m   1228\u001b[0m f \u001b[38;5;241m=\u001b[39m \u001b[38;5;28mself\u001b[39m\u001b[38;5;241m.\u001b[39mhandles\u001b[38;5;241m.\u001b[39mhandle\n",
      "File \u001b[0;32m~/python/miniconda/lib/python3.9/site-packages/pandas/io/common.py:789\u001b[0m, in \u001b[0;36mget_handle\u001b[0;34m(path_or_buf, mode, encoding, compression, memory_map, is_text, errors, storage_options)\u001b[0m\n\u001b[1;32m    784\u001b[0m \u001b[38;5;28;01melif\u001b[39;00m \u001b[38;5;28misinstance\u001b[39m(handle, \u001b[38;5;28mstr\u001b[39m):\n\u001b[1;32m    785\u001b[0m     \u001b[38;5;66;03m# Check whether the filename is to be opened in binary mode.\u001b[39;00m\n\u001b[1;32m    786\u001b[0m     \u001b[38;5;66;03m# Binary mode does not support 'encoding' and 'newline'.\u001b[39;00m\n\u001b[1;32m    787\u001b[0m     \u001b[38;5;28;01mif\u001b[39;00m ioargs\u001b[38;5;241m.\u001b[39mencoding \u001b[38;5;129;01mand\u001b[39;00m \u001b[38;5;124m\"\u001b[39m\u001b[38;5;124mb\u001b[39m\u001b[38;5;124m\"\u001b[39m \u001b[38;5;129;01mnot\u001b[39;00m \u001b[38;5;129;01min\u001b[39;00m ioargs\u001b[38;5;241m.\u001b[39mmode:\n\u001b[1;32m    788\u001b[0m         \u001b[38;5;66;03m# Encoding\u001b[39;00m\n\u001b[0;32m--> 789\u001b[0m         handle \u001b[38;5;241m=\u001b[39m \u001b[38;5;28;43mopen\u001b[39;49m\u001b[43m(\u001b[49m\n\u001b[1;32m    790\u001b[0m \u001b[43m            \u001b[49m\u001b[43mhandle\u001b[49m\u001b[43m,\u001b[49m\n\u001b[1;32m    791\u001b[0m \u001b[43m            \u001b[49m\u001b[43mioargs\u001b[49m\u001b[38;5;241;43m.\u001b[39;49m\u001b[43mmode\u001b[49m\u001b[43m,\u001b[49m\n\u001b[1;32m    792\u001b[0m \u001b[43m            \u001b[49m\u001b[43mencoding\u001b[49m\u001b[38;5;241;43m=\u001b[39;49m\u001b[43mioargs\u001b[49m\u001b[38;5;241;43m.\u001b[39;49m\u001b[43mencoding\u001b[49m\u001b[43m,\u001b[49m\n\u001b[1;32m    793\u001b[0m \u001b[43m            \u001b[49m\u001b[43merrors\u001b[49m\u001b[38;5;241;43m=\u001b[39;49m\u001b[43merrors\u001b[49m\u001b[43m,\u001b[49m\n\u001b[1;32m    794\u001b[0m \u001b[43m            \u001b[49m\u001b[43mnewline\u001b[49m\u001b[38;5;241;43m=\u001b[39;49m\u001b[38;5;124;43m\"\u001b[39;49m\u001b[38;5;124;43m\"\u001b[39;49m\u001b[43m,\u001b[49m\n\u001b[1;32m    795\u001b[0m \u001b[43m        \u001b[49m\u001b[43m)\u001b[49m\n\u001b[1;32m    796\u001b[0m     \u001b[38;5;28;01melse\u001b[39;00m:\n\u001b[1;32m    797\u001b[0m         \u001b[38;5;66;03m# Binary mode\u001b[39;00m\n\u001b[1;32m    798\u001b[0m         handle \u001b[38;5;241m=\u001b[39m \u001b[38;5;28mopen\u001b[39m(handle, ioargs\u001b[38;5;241m.\u001b[39mmode)\n",
      "\u001b[0;31mFileNotFoundError\u001b[0m: [Errno 2] No such file or directory: '/home/noe/Documents/Master_2/Mémoire/SketchEngineExport/seruus_cooccurrents/800-849.csv'"
     ]
    }
   ],
   "source": [
    "neuvieme_siecle1 = csv_toeuclidean('/home/noe/Documents/Master_2/Mémoire/SketchEngineExport/mancipium_cooccurrents/800-849.csv','/home/noe/Documents/Master_2/Mémoire/SketchEngineExport/seruus_cooccurrents/800-849.csv')"
   ]
  },
  {
   "cell_type": "code",
   "execution_count": 18,
   "id": "4d7e1082",
   "metadata": {},
   "outputs": [],
   "source": []
  },
  {
   "cell_type": "code",
   "execution_count": null,
   "id": "a04274e4",
   "metadata": {},
   "outputs": [],
   "source": []
  },
  {
   "cell_type": "code",
   "execution_count": null,
   "id": "08ecba76",
   "metadata": {},
   "outputs": [],
   "source": []
  },
  {
   "cell_type": "code",
   "execution_count": null,
   "id": "f8672a69",
   "metadata": {},
   "outputs": [],
   "source": []
  },
  {
   "cell_type": "code",
   "execution_count": null,
   "id": "4492614c",
   "metadata": {},
   "outputs": [],
   "source": []
  },
  {
   "cell_type": "code",
   "execution_count": null,
   "id": "a9960fbc",
   "metadata": {},
   "outputs": [],
   "source": []
  },
  {
   "cell_type": "code",
   "execution_count": null,
   "id": "627b80aa",
   "metadata": {},
   "outputs": [],
   "source": []
  },
  {
   "cell_type": "code",
   "execution_count": null,
   "id": "e87124b1",
   "metadata": {},
   "outputs": [],
   "source": []
  },
  {
   "cell_type": "code",
   "execution_count": null,
   "id": "a286c443",
   "metadata": {},
   "outputs": [],
   "source": []
  },
  {
   "cell_type": "code",
   "execution_count": null,
   "id": "2ec28709",
   "metadata": {},
   "outputs": [],
   "source": []
  },
  {
   "cell_type": "code",
   "execution_count": null,
   "id": "ffe53891",
   "metadata": {},
   "outputs": [],
   "source": []
  },
  {
   "cell_type": "code",
   "execution_count": null,
   "id": "6c18eadb",
   "metadata": {},
   "outputs": [],
   "source": []
  },
  {
   "cell_type": "code",
   "execution_count": null,
   "id": "85a3d7ff",
   "metadata": {},
   "outputs": [],
   "source": []
  },
  {
   "cell_type": "code",
   "execution_count": null,
   "id": "c6494aaf",
   "metadata": {},
   "outputs": [],
   "source": []
  },
  {
   "cell_type": "code",
   "execution_count": null,
   "id": "051f0376",
   "metadata": {},
   "outputs": [],
   "source": []
  },
  {
   "cell_type": "code",
   "execution_count": null,
   "id": "267b1caf",
   "metadata": {},
   "outputs": [],
   "source": []
  },
  {
   "cell_type": "code",
   "execution_count": null,
   "id": "4483feb1",
   "metadata": {},
   "outputs": [],
   "source": []
  },
  {
   "cell_type": "code",
   "execution_count": null,
   "id": "e34515eb",
   "metadata": {},
   "outputs": [],
   "source": []
  },
  {
   "cell_type": "code",
   "execution_count": null,
   "id": "0c4a3ca4",
   "metadata": {},
   "outputs": [],
   "source": []
  },
  {
   "cell_type": "code",
   "execution_count": null,
   "id": "5b253f5f",
   "metadata": {},
   "outputs": [],
   "source": []
  },
  {
   "cell_type": "code",
   "execution_count": null,
   "id": "b0fc8020",
   "metadata": {},
   "outputs": [],
   "source": []
  },
  {
   "cell_type": "code",
   "execution_count": null,
   "id": "82e35dcc",
   "metadata": {},
   "outputs": [],
   "source": []
  }
 ],
 "metadata": {
  "kernelspec": {
   "display_name": "Python 3 (ipykernel)",
   "language": "python",
   "name": "python3"
  },
  "language_info": {
   "codemirror_mode": {
    "name": "ipython",
    "version": 3
   },
   "file_extension": ".py",
   "mimetype": "text/x-python",
   "name": "python",
   "nbconvert_exporter": "python",
   "pygments_lexer": "ipython3",
   "version": "3.9.7"
  }
 },
 "nbformat": 4,
 "nbformat_minor": 5
}
