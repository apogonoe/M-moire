{
 "cells": [
  {
   "cell_type": "code",
   "execution_count": 1,
   "id": "ca5390bb",
   "metadata": {},
   "outputs": [],
   "source": [
    "import pandas as pd\n",
    "import numpy as np\n",
    "import math\n",
    "import distance\n",
    "import matplotlib.pyplot as plt\n",
    "import seaborn as sns\n",
    "import locale\n",
    "from collections import Counter\n",
    "%matplotlib inline"
   ]
  },
  {
   "cell_type": "code",
   "execution_count": 2,
   "id": "c3d36853",
   "metadata": {},
   "outputs": [],
   "source": [
    "def liste_qlf(liste1,liste2):\n",
    "    \n",
    "    df_test = pd.DataFrame(liste_res,liste_cas)\n",
    "    df_test = df_test.reset_index()\n",
    "    df_test.columns = ['cas','forme']\n",
    "    df_test['cas'].replace('', np.nan, inplace=True)\n",
    "    df_test = df_test.dropna(subset=['cas'])\n",
    "    df_test = df_test.reset_index()\n",
    "    df_test.pop('index')\n",
    "    \n",
    "    df_test = df_test[['forme','cas']]\n",
    "    lol = df_test['forme'].value_counts().rename_axis('forme').to_frame('Occ')\n",
    "    lol = lol.reset_index()\n",
    "    lol['cas'] = ''\n",
    "    for i in range(len(lol)):\n",
    "        for j in range(len(df_test)):\n",
    "            if lol['forme'][i] == df_test['forme'][j]:\n",
    "                lol['cas'][i] = df_test['cas'][j]\n",
    "    \n",
    "    for i in range(len(lol)):\n",
    "        if lol['forme'][i].startswith(' '):\n",
    "            lol['forme'][i] = lol['forme'][i][1:]\n",
    "    \n",
    "    \n",
    "    for i in range(len(lol)):\n",
    "        if lol['forme'][i].endswith(('orum','ibus')):\n",
    "            lol['forme'][i] = lol['forme'][i][:-4]\n",
    "        elif lol['forme'][i].endswith(('us','er','is','os','um','es')):\n",
    "            lol['forme'][i] = lol['forme'][i][:-2]\n",
    "        elif lol['forme'][i].endswith(('i','o')):\n",
    "            lol['forme'][i] = lol['forme'][i][:-1]\n",
    "            \n",
    "    for i in range(len(lol)):\n",
    "        if lol['forme'][i].endswith('r'):\n",
    "            lol['forme'][i] = lol['forme'][i][:-1]\n",
    "            \n",
    "    lol = lol.sort_values(by='forme')\n",
    "    lol = lol.reset_index()\n",
    "    lol.pop('index')\n",
    "    \n",
    "    for i in range(len(lol)-1):\n",
    "        if lol['forme'][i+1] == lol['forme'][i]:\n",
    "            lol['Occ'][i+1] = lol['Occ'][i+1] + lol['Occ'][i]\n",
    "    lol = lol.drop_duplicates(subset ='forme', keep='last')\n",
    "    \n",
    "    lol = lol.sort_values(by='Occ', ascending=False).reset_index() \n",
    "    \n",
    "    lol.pop('index')\n",
    "    \n",
    "    lol.pop('level_0')\n",
    "    \n",
    "    return lol"
   ]
  },
  {
   "cell_type": "code",
   "execution_count": null,
   "id": "71a78555",
   "metadata": {},
   "outputs": [],
   "source": []
  }
 ],
 "metadata": {
  "kernelspec": {
   "display_name": "Python 3 (ipykernel)",
   "language": "python",
   "name": "python3"
  },
  "language_info": {
   "codemirror_mode": {
    "name": "ipython",
    "version": 3
   },
   "file_extension": ".py",
   "mimetype": "text/x-python",
   "name": "python",
   "nbconvert_exporter": "python",
   "pygments_lexer": "ipython3",
   "version": "3.9.7"
  }
 },
 "nbformat": 4,
 "nbformat_minor": 5
}
